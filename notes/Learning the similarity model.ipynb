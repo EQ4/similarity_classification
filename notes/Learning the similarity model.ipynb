{
 "cells": [
  {
   "cell_type": "code",
   "execution_count": 1,
   "metadata": {
    "collapsed": true
   },
   "outputs": [],
   "source": [
    "import numpy as np\n",
    "import matplotlib.pyplot as plt\n",
    "import seaborn\n",
    "seaborn.set()\n",
    "seaborn.set_style('dark')\n",
    "np.set_printoptions(precision=3)\n",
    "\n",
    "%matplotlib inline"
   ]
  },
  {
   "cell_type": "code",
   "execution_count": 2,
   "metadata": {
    "collapsed": true
   },
   "outputs": [],
   "source": [
    "import sklearn\n",
    "import sklearn.metrics\n",
    "import sklearn.grid_search\n",
    "import sklearn.linear_model\n",
    "import sklearn.cross_validation\n",
    "import sklearn.preprocessing\n",
    "import sklearn.pipeline\n",
    "import pescador"
   ]
  },
  {
   "cell_type": "code",
   "execution_count": 3,
   "metadata": {
    "collapsed": true
   },
   "outputs": [],
   "source": [
    "import glob"
   ]
  },
  {
   "cell_type": "code",
   "execution_count": 4,
   "metadata": {
    "collapsed": true
   },
   "outputs": [],
   "source": [
    "def load_file(filename, n_pos=32, n_neg=32):\n",
    "    \n",
    "    data = np.load(filename)\n",
    "    \n",
    "    d = data['X'].shape[1]\n",
    "    \n",
    "    if n_pos is None:\n",
    "        return data['X'], data['Y']\n",
    "    \n",
    "    \n",
    "    positives = np.flatnonzero(data['Y'])\n",
    "    negatives = np.flatnonzero(1-data['Y'])\n",
    "    n_pos = min(n_pos, len(positives))\n",
    "    n_neg = min(n_neg, len(negatives))\n",
    "    \n",
    "    X = np.empty((n_pos + n_neg, d), dtype=np.float32)\n",
    "    Y = np.zeros((n_pos + n_neg), dtype=np.int32)\n",
    "    \n",
    "    if n_pos > 0:\n",
    "        idx_pos = np.random.choice(positives, size=n_pos, replace=False)\n",
    "    \n",
    "        X[:n_pos] = np.take(data['X'], idx_pos, axis=0)\n",
    "        Y[:n_pos] = 1\n",
    "    \n",
    "    if n_neg > 0:\n",
    "        idx_neg = np.random.choice(negatives, size=n_neg, replace=False)\n",
    "        X[n_pos:] = np.take(data['X'], idx_neg, axis=0)\n",
    "    \n",
    "    return X, Y"
   ]
  },
  {
   "cell_type": "code",
   "execution_count": 5,
   "metadata": {
    "collapsed": true
   },
   "outputs": [],
   "source": [
    "def load_batch(files, n_pos=32, n_neg=32):\n",
    "    \n",
    "    X = []\n",
    "    Y = []\n",
    "    \n",
    "    for fn in files:\n",
    "        _x, _y = load_file(fn, n_pos=n_pos, n_neg=n_neg)\n",
    "        X.append(_x)\n",
    "        Y.append(_y)\n",
    "        \n",
    "    X = np.concatenate(X, axis=0)\n",
    "    Y = np.concatenate(Y, axis=0)\n",
    "    \n",
    "    return X, Y"
   ]
  },
  {
   "cell_type": "code",
   "execution_count": 106,
   "metadata": {
    "collapsed": false
   },
   "outputs": [],
   "source": [
    "#files = sorted(glob.glob('../data/labeled_features/SALAMI_*_beats.npz'))\n",
    "files = sorted(glob.glob('../data/labeled_features/Isophonics_*_beats.npz'))"
   ]
  },
  {
   "cell_type": "code",
   "execution_count": 107,
   "metadata": {
    "collapsed": true
   },
   "outputs": [],
   "source": [
    "filesplitter = sklearn.cross_validation.ShuffleSplit(len(files), n_iter=1, test_size=0.10, random_state=5)\n",
    "_files = np.asarray(files)"
   ]
  },
  {
   "cell_type": "code",
   "execution_count": 108,
   "metadata": {
    "collapsed": false
   },
   "outputs": [
    {
     "data": {
      "text/plain": [
       "LogisticRegression(C=1.0, class_weight=None, dual=False, fit_intercept=True,\n",
       "          intercept_scaling=1, max_iter=100, multi_class='ovr',\n",
       "          penalty='l2', random_state=None, solver='liblinear', tol=0.0001,\n",
       "          verbose=0)"
      ]
     },
     "execution_count": 108,
     "metadata": {},
     "output_type": "execute_result"
    }
   ],
   "source": [
    "sklearn.linear_model.LogisticRegression()"
   ]
  },
  {
   "cell_type": "code",
   "execution_count": 109,
   "metadata": {
    "collapsed": false
   },
   "outputs": [
    {
     "name": "stdout",
     "output_type": "stream",
     "text": [
      "Loading training data...\n",
      "Fitting 3 folds for each of 18 candidates, totalling 54 fits\n"
     ]
    },
    {
     "name": "stderr",
     "output_type": "stream",
     "text": [
      "[Parallel(n_jobs=3)]: Done   1 jobs       | elapsed:    2.0s\n",
      "[Parallel(n_jobs=3)]: Done  50 out of  54 | elapsed:   30.2s remaining:    2.4s\n",
      "[Parallel(n_jobs=3)]: Done  54 out of  54 | elapsed:   32.6s finished\n"
     ]
    },
    {
     "name": "stdout",
     "output_type": "stream",
     "text": [
      "-- Epoch 1\n",
      "Norm: 0.08, NNZs: 420, Bias: 0.102871, T: 47793, Avg. loss: 0.653042-- Epoch 1\n",
      "-- Epoch 1\n",
      "-- Epoch 1\n",
      "Norm: 287.10, NNZs: 39, Bias: 0.131093, T: 31861, Avg. loss: 19.279693Norm: 285.48, NNZs: 28, Bias: 0.284356, T: 31862, Avg. loss: 15.370307Norm: 278.75, NNZs: 32, Bias: 0.480939, T: 31863, Avg. loss: 15.491918\n",
      "\n",
      "\n",
      "Total training time: 0.19 seconds.\n",
      "Total training time: 0.24 seconds.\n",
      "Total training time: 0.17 seconds.\n",
      "-- Epoch 2\n",
      "-- Epoch 2\n",
      "-- Epoch 2\n",
      "Norm: 289.59, NNZs: 43, Bias: 0.081790, T: 63722, Avg. loss: 9.992410Norm: 288.02, NNZs: 39, Bias: 0.055435, T: 63724, Avg. loss: 8.033962Norm: 281.20, NNZs: 46, Bias: 0.184391, T: 63726, Avg. loss: 8.093118\n",
      "\n",
      "\n",
      "Total training time: 0.39 seconds.\n",
      "Total training time: 0.47 seconds.\n",
      "Total training time: 0.41 seconds.\n",
      "-- Epoch 3\n",
      "-- Epoch 3\n",
      "-- Epoch 3\n",
      "Norm: 290.37, NNZs: 55, Bias: 0.092359, T: 95583, Avg. loss: 6.886954Norm: 288.81, NNZs: 58, Bias: 0.298495, T: 95586, Avg. loss: 5.581769Norm: 281.97, NNZs: 56, Bias: 0.230000, T: 95589, Avg. loss: 5.619572\n",
      "\n",
      "\n",
      "Total training time: 0.55 seconds.\n",
      "Total training time: 0.70 seconds.\n",
      "Total training time: 0.65 seconds.\n",
      "-- Epoch 4\n",
      "-- Epoch 4\n",
      "-- Epoch 4\n",
      "Norm: 290.74, NNZs: 65, Bias: 0.310095, T: 127444, Avg. loss: 5.332370Norm: 289.19, NNZs: 58, Bias: 0.232927, T: 127448, Avg. loss: 4.354068Norm: 282.34, NNZs: 67, Bias: 0.258969, T: 127452, Avg. loss: 4.381368\n",
      "\n",
      "\n",
      "Total training time: 0.73 seconds.\n",
      "Total training time: 0.93 seconds.\n",
      "Total training time: 0.82 seconds.\n",
      "-- Epoch 5\n",
      "-- Epoch 5\n",
      "-- Epoch 5\n",
      "Norm: 290.96, NNZs: 66, Bias: 0.115135, T: 159305, Avg. loss: 4.398623Norm: 289.41, NNZs: 76, Bias: 0.248566, T: 159310, Avg. loss: 3.616525Norm: 282.56, NNZs: 79, Bias: 0.141805, T: 159315, Avg. loss: 3.637872\n",
      "\n",
      "\n",
      "Total training time: 0.99 seconds.\n",
      "Total training time: 1.18 seconds.\n",
      "Total training time: 1.06 seconds.\n",
      "-- Epoch 1-- Epoch 1-- Epoch 1\n",
      "\n",
      "\n",
      "Norm: 7.68, NNZs: 420, Bias: 0.984753, T: 31861, Avg. loss: 12.382961Norm: 7.29, NNZs: 420, Bias: 0.312147, T: 31862, Avg. loss: 13.104845Norm: 49.76, NNZs: 121, Bias: 0.586206, T: 31861, Avg. loss: 11.051298\n",
      "\n",
      "\n",
      "Total training time: 0.09 seconds.\n",
      "Total training time: 0.06 seconds.\n",
      "Total training time: 0.18 seconds.\n",
      "-- Epoch 2\n",
      "-- Epoch 2\n",
      "-- Epoch 2\n",
      "Norm: 3.81, NNZs: 420, Bias: 0.199000, T: 63722, Avg. loss: 7.131955Norm: 3.42, NNZs: 420, Bias: 0.236520, T: 63724, Avg. loss: 7.508092Norm: 39.03, NNZs: 96, Bias: 0.216922, T: 63722, Avg. loss: 5.940578\n",
      "\n",
      "\n",
      "Total training time: 0.17 seconds.\n",
      "Total training time: 0.14 seconds.\n",
      "Total training time: 0.36 seconds.\n",
      "-- Epoch 3\n",
      "-- Epoch 3\n",
      "-- Epoch 3\n",
      "Norm: 2.57, NNZs: 420, Bias: 0.144211, T: 95583, Avg. loss: 5.171315Norm: 2.43, NNZs: 420, Bias: -0.104169, T: 95586, Avg. loss: 5.419846Norm: 32.51, NNZs: 111, Bias: 0.175901, T: 95583, Avg. loss: 4.205217\n",
      "\n",
      "\n",
      "Total training time: 0.26 seconds.\n",
      "Total training time: 0.23 seconds.\n",
      "Total training time: 0.57 seconds.\n",
      "-- Epoch 4\n",
      "-- Epoch 4\n",
      "-- Epoch 4\n",
      "Norm: 2.01, NNZs: 420, Bias: 0.180310, T: 127444, Avg. loss: 4.131026Norm: 1.95, NNZs: 420, Bias: 0.002068, T: 127448, Avg. loss: 4.323241Norm: 28.23, NNZs: 144, Bias: 0.184976, T: 127444, Avg. loss: 3.330439\n",
      "\n",
      "\n",
      "Total training time: 0.34 seconds.\n",
      "Total training time: 0.32 seconds.\n",
      "Total training time: 0.83 seconds.\n",
      "-- Epoch 5\n",
      "-- Epoch 5\n",
      "-- Epoch 5\n",
      "Norm: 1.63, NNZs: 420, Bias: 0.002187, T: 159305, Avg. loss: 3.485100Norm: 1.58, NNZs: 420, Bias: 0.138205, T: 159310, Avg. loss: 3.640308Norm: 25.16, NNZs: 139, Bias: 0.037790, T: 159305, Avg. loss: 2.803954\n",
      "\n",
      "\n",
      "Total training time: 0.43 seconds.\n",
      "Total training time: 0.42 seconds.\n",
      "Total training time: 1.09 seconds.\n",
      "-- Epoch 1-- Epoch 1-- Epoch 1\n",
      "\n",
      "\n",
      "Norm: 7.17, NNZs: 420, Bias: -0.600195, T: 31863, Avg. loss: 13.082127Norm: 50.21, NNZs: 95, Bias: -0.283619, T: 31862, Avg. loss: 10.349152Norm: 140.83, NNZs: 19, Bias: 0.185750, T: 31861, Avg. loss: 3.120865\n",
      "\n",
      "\n",
      "Total training time: 0.06 seconds.\n",
      "Total training time: 0.26 seconds.\n",
      "Total training time: 0.22 seconds.\n",
      "-- Epoch 2\n",
      "-- Epoch 2\n",
      "-- Epoch 2\n",
      "Norm: 3.53, NNZs: 420, Bias: -0.022232, T: 63726, Avg. loss: 7.475071Norm: 39.33, NNZs: 76, Bias: 0.090545, T: 63724, Avg. loss: 5.578214Norm: 140.88, NNZs: 23, Bias: 0.209186, T: 63722, Avg. loss: 1.883933\n",
      "\n",
      "\n",
      "Total training time: 0.11 seconds.\n",
      "Total training time: 0.52 seconds.\n",
      "Total training time: 0.44 seconds.\n",
      "-- Epoch 3\n",
      "-- Epoch 3\n",
      "-- Epoch 3\n",
      "Norm: 2.52, NNZs: 420, Bias: 0.021113, T: 95589, Avg. loss: 5.381913Norm: 32.77, NNZs: 115, Bias: 0.292592, T: 95586, Avg. loss: 3.963537Norm: 140.90, NNZs: 27, Bias: 0.202165, T: 95583, Avg. loss: 1.471251\n",
      "\n",
      "\n",
      "Total training time: 0.18 seconds.\n",
      "Total training time: 0.77 seconds.\n",
      "Total training time: 0.67 seconds.\n",
      "-- Epoch 4\n",
      "-- Epoch 4\n",
      "-- Epoch 4\n",
      "Norm: 1.90, NNZs: 420, Bias: 0.070661, T: 127452, Avg. loss: 4.287688Norm: 28.49, NNZs: 122, Bias: 0.078757, T: 127448, Avg. loss: 3.150207Norm: 140.91, NNZs: 30, Bias: 0.233658, T: 127444, Avg. loss: 1.264697\n",
      "\n",
      "\n",
      "Total training time: 0.28 seconds.\n",
      "Total training time: 1.06 seconds.\n",
      "Total training time: 0.90 seconds.\n",
      "-- Epoch 5\n",
      "-- Epoch 5\n",
      "-- Epoch 5\n",
      "Norm: 1.72, NNZs: 420, Bias: 0.073155, T: 159315, Avg. loss: 3.608136Norm: 25.43, NNZs: 148, Bias: 0.237874, T: 159310, Avg. loss: 2.660100Norm: 140.92, NNZs: 32, Bias: 0.206624, T: 159305, Avg. loss: 1.140795\n",
      "\n",
      "\n",
      "Total training time: 0.37 seconds.\n",
      "Total training time: 1.30 seconds.\n",
      "Total training time: 1.13 seconds.\n",
      "-- Epoch 1-- Epoch 1-- Epoch 1\n",
      "\n",
      "\n",
      "Norm: 49.06, NNZs: 116, Bias: -0.016936, T: 31863, Avg. loss: 11.274472Norm: 132.44, NNZs: 13, Bias: 0.273875, T: 31862, Avg. loss: 2.417685Norm: 1.02, NNZs: 420, Bias: 0.093041, T: 31861, Avg. loss: 1.850642\n",
      "\n",
      "\n",
      "Total training time: 0.21 seconds.\n",
      "Total training time: 0.18 seconds.\n",
      "Total training time: 0.06 seconds.\n",
      "-- Epoch 2\n",
      "-- Epoch 2\n",
      "-- Epoch 2\n",
      "Norm: 38.51, NNZs: 94, Bias: 0.112480, T: 63726, Avg. loss: 6.041354Norm: 132.49, NNZs: 20, Bias: 0.232366, T: 63724, Avg. loss: 1.533390Norm: 0.75, NNZs: 420, Bias: 0.180266, T: 63722, Avg. loss: 1.270820\n",
      "\n",
      "\n",
      "Total training time: 0.48 seconds.\n",
      "Total training time: 0.45 seconds.\n",
      "Total training time: 0.12 seconds.\n",
      "-- Epoch 3\n",
      "-- Epoch 3\n",
      "-- Epoch 3\n",
      "Norm: 32.15, NNZs: 104, Bias: 0.027560, T: 95589, Avg. loss: 4.266873Norm: 132.51, NNZs: 27, Bias: 0.190431, T: 95586, Avg. loss: 1.238195Norm: 0.65, NNZs: 420, Bias: 0.200005, T: 95583, Avg. loss: 1.068224\n",
      "\n",
      "\n",
      "Total training time: 0.75 seconds.\n",
      "Total training time: 0.62 seconds.\n",
      "Total training time: 0.18 seconds.\n",
      "-- Epoch 4\n",
      "-- Epoch 4\n",
      "-- Epoch 4\n",
      "Norm: 27.94, NNZs: 113, Bias: 0.144468, T: 127452, Avg. loss: 3.374646Norm: 132.52, NNZs: 25, Bias: 0.182455, T: 127448, Avg. loss: 1.090543Norm: 0.62, NNZs: 420, Bias: 0.186126, T: 127444, Avg. loss: 0.964454\n",
      "\n",
      "\n",
      "Total training time: 0.97 seconds.\n",
      "Total training time: 0.79 seconds.\n",
      "Total training time: 0.26 seconds.\n",
      "-- Epoch 5\n",
      "-- Epoch 5\n",
      "-- Epoch 5\n",
      "Norm: 24.95, NNZs: 143, Bias: 0.233430, T: 159315, Avg. loss: 2.837823Norm: 132.53, NNZs: 26, Bias: 0.200983, T: 159310, Avg. loss: 1.001849Norm: 0.59, NNZs: 420, Bias: 0.212521, T: 159305, Avg. loss: 0.901112\n",
      "\n",
      "\n",
      "Total training time: 1.22 seconds.\n",
      "Total training time: 1.04 seconds.\n",
      "Total training time: 0.35 seconds.\n",
      "-- Epoch 1-- Epoch 1-- Epoch 1\n",
      "\n",
      "\n",
      "Norm: 131.27, NNZs: 18, Bias: 0.101925, T: 31863, Avg. loss: 2.146686\n",
      "Total training time: 0.06 seconds.\n",
      "-- Epoch 2\n",
      "Norm: 0.08, NNZs: 420, Bias: 0.117660, T: 95586, Avg. loss: 0.649159Norm: 0.96, NNZs: 420, Bias: 0.121248, T: 31862, Avg. loss: 1.814016Norm: 1.01, NNZs: 420, Bias: 0.077502, T: 31863, Avg. loss: 1.838617\n",
      "\n",
      "\n",
      "Total training time: 0.23 seconds.\n",
      "Total training time: 0.06 seconds.\n",
      "Total training time: 0.06 seconds.\n",
      "-- Epoch 2\n",
      "-- Epoch 2\n",
      "-- Epoch 2\n",
      "Norm: 131.33, NNZs: 30, Bias: 0.212541, T: 63726, Avg. loss: 1.396767Norm: 0.71, NNZs: 420, Bias: 0.180269, T: 63724, Avg. loss: 1.255262Norm: 0.74, NNZs: 420, Bias: 0.204866, T: 63726, Avg. loss: 1.265068\n",
      "\n",
      "\n",
      "Total training time: 0.45 seconds.\n",
      "Total training time: 0.11 seconds.\n",
      "Total training time: 0.12 seconds.\n",
      "-- Epoch 3\n",
      "-- Epoch 3\n",
      "-- Epoch 3\n",
      "Norm: 131.35, NNZs: 33, Bias: 0.201695, T: 95589, Avg. loss: 1.146316Norm: 0.64, NNZs: 420, Bias: 0.179447, T: 95586, Avg. loss: 1.059398Norm: 0.62, NNZs: 420, Bias: 0.186702, T: 95589, Avg. loss: 1.064632\n",
      "\n",
      "\n",
      "Total training time: 0.67 seconds.\n",
      "Total training time: 0.17 seconds.\n",
      "Total training time: 0.18 seconds.\n",
      "-- Epoch 4\n",
      "-- Epoch 4\n",
      "-- Epoch 4\n",
      "Norm: 131.36, NNZs: 30, Bias: 0.219199, T: 127452, Avg. loss: 1.020891Norm: 0.59, NNZs: 420, Bias: 0.176684, T: 127448, Avg. loss: 0.958754Norm: 0.58, NNZs: 420, Bias: 0.211374, T: 127452, Avg. loss: 0.961831\n",
      "\n",
      "\n",
      "Total training time: 0.88 seconds.\n",
      "Total training time: 0.23 seconds.\n",
      "Total training time: 0.24 seconds.\n",
      "-- Epoch 5\n",
      "-- Epoch 5\n",
      "-- Epoch 5\n",
      "Norm: 131.36, NNZs: 32, Bias: 0.210820, T: 159315, Avg. loss: 0.945611Norm: 0.56, NNZs: 420, Bias: 0.181699, T: 159310, Avg. loss: 0.897231Norm: 0.56, NNZs: 420, Bias: 0.209928, T: 159315, Avg. loss: 0.899140\n",
      "\n",
      "\n",
      "Total training time: 1.11 seconds.\n",
      "Total training time: 0.29 seconds.\n",
      "Total training time: 0.30 seconds.\n",
      "-- Epoch 1-- Epoch 1-- Epoch 1\n",
      "\n",
      "\n",
      "Norm: 6.00, NNZs: 47, Bias: 0.246061, T: 31861, Avg. loss: 1.376953Norm: 5.95, NNZs: 43, Bias: 0.246515, T: 31862, Avg. loss: 1.500265Norm: 5.83, NNZs: 44, Bias: 0.155415, T: 31863, Avg. loss: 1.356923\n",
      "\n",
      "\n",
      "Total training time: 0.18 seconds.\n",
      "Total training time: 0.24 seconds.\n",
      "Total training time: 0.18 seconds.\n",
      "-- Epoch 2\n",
      "-- Epoch 2\n",
      "-- Epoch 2\n",
      "Norm: 4.24, NNZs: 73, Bias: 0.195315, T: 63722, Avg. loss: 1.010668Norm: 4.22, NNZs: 66, Bias: 0.195345, T: 63724, Avg. loss: 1.074078Norm: 4.15, NNZs: 73, Bias: 0.186298, T: 63726, Avg. loss: 1.000504\n",
      "\n",
      "\n",
      "Total training time: 0.39 seconds.\n",
      "Total training time: 0.49 seconds.\n",
      "Total training time: 0.42 seconds.\n",
      "-- Epoch 3\n",
      "-- Epoch 3\n",
      "-- Epoch 3\n",
      "Norm: 3.46, NNZs: 87, Bias: 0.181235, T: 95583, Avg. loss: 0.887628Norm: 3.45, NNZs: 95, Bias: 0.191282, T: 95586, Avg. loss: 0.931245Norm: 3.38, NNZs: 89, Bias: 0.211005, T: 95589, Avg. loss: 0.881028\n",
      "\n",
      "\n",
      "Total training time: 0.63 seconds.\n",
      "Total training time: 0.73 seconds.\n",
      "Total training time: 0.66 seconds.\n",
      "-- Epoch 4\n",
      "-- Epoch 4\n",
      "-- Epoch 4\n",
      "Norm: 3.00, NNZs: 97, Bias: 0.228154, T: 127444, Avg. loss: 0.825586Norm: 2.98, NNZs: 101, Bias: 0.177959, T: 127448, Avg. loss: 0.859381Norm: 2.94, NNZs: 100, Bias: 0.207754, T: 127452, Avg. loss: 0.820958\n",
      "\n",
      "\n",
      "Total training time: 0.84 seconds.\n",
      "Total training time: 0.96 seconds.\n",
      "Total training time: 0.90 seconds.\n",
      "-- Epoch 5\n",
      "-- Epoch 5\n",
      "-- Epoch 5\n",
      "Norm: 2.68, NNZs: 105, Bias: 0.214128, T: 159305, Avg. loss: 0.788371Norm: 2.68, NNZs: 111, Bias: 0.204642, T: 159310, Avg. loss: 0.816042Norm: 2.63, NNZs: 105, Bias: 0.206846, T: 159315, Avg. loss: 0.784682\n",
      "\n",
      "\n",
      "Total training time: 1.08 seconds.\n",
      "Total training time: 1.21 seconds.\n",
      "Total training time: 1.14 seconds.\n",
      "-- Epoch 1-- Epoch 1-- Epoch 1\n",
      "\n",
      "\n",
      "Norm: 48.86, NNZs: 0, Bias: 0.214374, T: 31861, Avg. loss: 0.713428Norm: 60.82, NNZs: 0, Bias: 0.207735, T: 31862, Avg. loss: 0.789431Norm: 40.06, NNZs: 0, Bias: 0.225440, T: 31863, Avg. loss: 0.695804\n",
      "\n",
      "\n",
      "Total training time: 0.18 seconds.\n",
      "Total training time: 0.26 seconds.\n",
      "Total training time: 0.22 seconds.\n",
      "-- Epoch 2\n",
      "-- Epoch 2\n",
      "-- Epoch 2\n",
      "Norm: 48.86, NNZs: 0, Bias: 0.219013, T: 63722, Avg. loss: 0.700384Norm: 60.82, NNZs: 0, Bias: 0.216912, T: 63724, Avg. loss: 0.738389Norm: 40.07, NNZs: 0, Bias: 0.215961, T: 63726, Avg. loss: 0.691574\n",
      "\n",
      "\n",
      "Total training time: 0.41 seconds.\n",
      "Total training time: 0.50 seconds.\n",
      "Total training time: 0.44 seconds.\n",
      "-- Epoch 3\n",
      "-- Epoch 3\n",
      "-- Epoch 3\n",
      "Norm: 48.86, NNZs: 0, Bias: 0.216263, T: 95583, Avg. loss: 0.696034Norm: 60.82, NNZs: 0, Bias: 0.217777, T: 95586, Avg. loss: 0.721371Norm: 40.07, NNZs: 0, Bias: 0.214282, T: 95589, Avg. loss: 0.690160\n",
      "\n",
      "\n",
      "Total training time: 0.64 seconds.\n",
      "Total training time: 0.69 seconds.\n",
      "Total training time: 0.66 seconds.\n",
      "-- Epoch 4\n",
      "-- Epoch 4\n",
      "-- Epoch 4\n",
      "Norm: 48.86, NNZs: 0, Bias: 0.217529, T: 127444, Avg. loss: 0.693857Norm: 60.82, NNZs: 0, Bias: 0.216405, T: 127448, Avg. loss: 0.712861Norm: 40.07, NNZs: 0, Bias: 0.216042, T: 127452, Avg. loss: 0.689452\n",
      "\n",
      "\n",
      "Total training time: 0.88 seconds.\n",
      "Total training time: 0.89 seconds.\n",
      "Total training time: 0.88 seconds.\n",
      "-- Epoch 5\n",
      "-- Epoch 5\n",
      "-- Epoch 5\n",
      "Norm: 48.86, NNZs: 0, Bias: 0.217404, T: 159305, Avg. loss: 0.692551Norm: 60.82, NNZs: 0, Bias: 0.216552, T: 159310, Avg. loss: 0.707755Norm: 40.07, NNZs: 0, Bias: 0.216281, T: 159315, Avg. loss: 0.689027\n",
      "\n",
      "\n",
      "Total training time: 1.13 seconds.\n",
      "Total training time: 1.13 seconds.\n",
      "Total training time: 1.10 seconds.\n",
      "-- Epoch 1-- Epoch 1-- Epoch 1\n",
      "\n",
      "\n",
      "Norm: 0.31, NNZs: 420, Bias: 0.195377, T: 31861, Avg. loss: 0.728546Norm: 0.30, NNZs: 420, Bias: 0.169121, T: 31862, Avg. loss: 0.714313Norm: 0.74, NNZs: 35, Bias: 0.213756, T: 31861, Avg. loss: 0.689576\n",
      "\n",
      "\n",
      "Total training time: 0.08 seconds.\n",
      "Total training time: 0.06 seconds.\n",
      "Total training time: 0.16 seconds.\n",
      "-- Epoch 2\n",
      "-- Epoch 2\n",
      "-- Epoch 2\n",
      "Norm: 0.28, NNZs: 420, Bias: 0.203549, T: 63722, Avg. loss: 0.683585Norm: 0.28, NNZs: 420, Bias: 0.191604, T: 63724, Avg. loss: 0.678267Norm: 0.60, NNZs: 38, Bias: 0.217268, T: 63722, Avg. loss: 0.667459\n",
      "\n",
      "\n",
      "Total training time: 0.14 seconds.\n",
      "Total training time: 0.11 seconds.\n",
      "Total training time: 0.33 seconds.\n",
      "-- Epoch 3\n",
      "-- Epoch 3\n",
      "-- Epoch 3\n",
      "Norm: 0.28, NNZs: 420, Bias: 0.205938, T: 95583, Avg. loss: 0.667830Norm: 0.27, NNZs: 420, Bias: 0.197651, T: 95586, Avg. loss: 0.665461Norm: 0.54, NNZs: 40, Bias: 0.217502, T: 95583, Avg. loss: 0.659932\n",
      "\n",
      "\n",
      "Total training time: 0.20 seconds.\n",
      "Total training time: 0.17 seconds.\n",
      "Total training time: 0.50 seconds.\n",
      "-- Epoch 4\n",
      "-- Epoch 4\n",
      "-- Epoch 4\n",
      "Norm: 0.28, NNZs: 420, Bias: 0.206932, T: 127444, Avg. loss: 0.659667Norm: 0.28, NNZs: 420, Bias: 0.198356, T: 127448, Avg. loss: 0.658779Norm: 0.51, NNZs: 40, Bias: 0.216989, T: 127444, Avg. loss: 0.656111\n",
      "\n",
      "\n",
      "Total training time: 0.30 seconds.\n",
      "Total training time: 0.24 seconds.\n",
      "Total training time: 0.67 seconds.\n",
      "-- Epoch 5\n",
      "-- Epoch 5\n",
      "-- Epoch 5\n",
      "Norm: 0.28, NNZs: 420, Bias: 0.206405, T: 159305, Avg. loss: 0.654685Norm: 0.27, NNZs: 420, Bias: 0.199552, T: 159310, Avg. loss: 0.654617Norm: 0.50, NNZs: 41, Bias: 0.216712, T: 159305, Avg. loss: 0.653847\n",
      "\n",
      "\n",
      "Total training time: 0.39 seconds.\n",
      "Total training time: 0.30 seconds.\n",
      "Total training time: 0.87 seconds.\n",
      "-- Epoch 1-- Epoch 1-- Epoch 1\n",
      "\n",
      "\n",
      "Norm: 0.29, NNZs: 420, Bias: 0.202227, T: 31863, Avg. loss: 0.718677Norm: 0.74, NNZs: 39, Bias: 0.206042, T: 31862, Avg. loss: 0.674679Norm: 8.86, NNZs: 0, Bias: 0.150194, T: 31861, Avg. loss: 0.688523\n",
      "\n",
      "\n",
      "Total training time: 0.14 seconds.\n",
      "-- Epoch 3\n",
      "Norm: 0.08, NNZs: 420, Bias: 0.125206, T: 143379, Avg. loss: 0.647731\n",
      "Total training time: 0.07 seconds.\n",
      "Total training time: 0.23 seconds.\n",
      "Total training time: 0.18 seconds.\n",
      "-- Epoch 2\n",
      "-- Epoch 2\n",
      "-- Epoch 2\n",
      "Norm: 0.27, NNZs: 420, Bias: 0.206704, T: 63726, Avg. loss: 0.679153Norm: 0.59, NNZs: 41, Bias: 0.207451, T: 63724, Avg. loss: 0.661406Norm: 8.86, NNZs: 0, Bias: 0.160951, T: 63722, Avg. loss: 0.688147\n",
      "\n",
      "\n",
      "Total training time: 0.13 seconds.\n",
      "Total training time: 0.46 seconds.\n",
      "Total training time: 0.40 seconds.\n",
      "-- Epoch 3\n",
      "-- Epoch 3\n",
      "-- Epoch 3\n",
      "Norm: 0.28, NNZs: 420, Bias: 0.208345, T: 95589, Avg. loss: 0.665100Norm: 0.54, NNZs: 42, Bias: 0.207215, T: 95586, Avg. loss: 0.656991Norm: 8.86, NNZs: 0, Bias: 0.166297, T: 95583, Avg. loss: 0.687986\n",
      "\n",
      "\n",
      "Total training time: 0.20 seconds.\n",
      "Total training time: 0.69 seconds.\n",
      "Total training time: 0.63 seconds.\n",
      "-- Epoch 4\n",
      "-- Epoch 4\n",
      "-- Epoch 4\n",
      "Norm: 0.27, NNZs: 420, Bias: 0.208618, T: 127452, Avg. loss: 0.657828Norm: 0.51, NNZs: 42, Bias: 0.206853, T: 127448, Avg. loss: 0.654687Norm: 8.86, NNZs: 0, Bias: 0.169716, T: 127444, Avg. loss: 0.687892\n",
      "\n",
      "\n",
      "Total training time: 0.26 seconds.\n",
      "Total training time: 0.89 seconds.\n",
      "Total training time: 0.86 seconds.\n",
      "-- Epoch 5\n",
      "-- Epoch 5\n",
      "-- Epoch 5\n",
      "Norm: 0.28, NNZs: 420, Bias: 0.207852, T: 159315, Avg. loss: 0.653373Norm: 0.49, NNZs: 42, Bias: 0.207516, T: 159310, Avg. loss: 0.653302Norm: 8.86, NNZs: 0, Bias: 0.172225, T: 159305, Avg. loss: 0.687829\n",
      "\n",
      "\n",
      "Total training time: 0.32 seconds.\n",
      "Total training time: 1.12 seconds.\n",
      "Total training time: 1.10 seconds.\n",
      "-- Epoch 1-- Epoch 1-- Epoch 1\n",
      "\n",
      "\n",
      "Norm: 0.74, NNZs: 40, Bias: 0.220274, T: 31863, Avg. loss: 0.728437Norm: 9.30, NNZs: 0, Bias: 0.125453, T: 31862, Avg. loss: 0.689184Norm: 0.09, NNZs: 420, Bias: 0.065244, T: 31861, Avg. loss: 0.653076\n",
      "\n",
      "\n",
      "Total training time: 0.17 seconds.\n",
      "Total training time: 0.22 seconds.\n",
      "Total training time: 0.07 seconds.\n",
      "-- Epoch 2\n",
      "-- Epoch 2\n",
      "-- Epoch 2\n",
      "Norm: 0.60, NNZs: 43, Bias: 0.209894, T: 63726, Avg. loss: 0.687555Norm: 9.30, NNZs: 0, Bias: 0.140022, T: 63724, Avg. loss: 0.688679Norm: 0.08, NNZs: 420, Bias: 0.086044, T: 63722, Avg. loss: 0.648603\n",
      "\n",
      "\n",
      "Total training time: 0.40 seconds.\n",
      "Total training time: 0.45 seconds.\n",
      "Total training time: 0.16 seconds.\n",
      "-- Epoch 3\n",
      "-- Epoch 3\n",
      "-- Epoch 3\n",
      "Norm: 0.54, NNZs: 49, Bias: 0.209589, T: 95589, Avg. loss: 0.673778Norm: 9.30, NNZs: 0, Bias: 0.147456, T: 95586, Avg. loss: 0.688444Norm: 0.08, NNZs: 420, Bias: 0.096874, T: 95583, Avg. loss: 0.646878\n",
      "\n",
      "\n",
      "Total training time: 0.66 seconds.\n",
      "Total training time: 0.65 seconds.\n",
      "Total training time: 0.25 seconds.\n",
      "-- Epoch 4\n",
      "-- Epoch 4\n",
      "-- Epoch 4\n",
      "Norm: 0.51, NNZs: 49, Bias: 0.211295, T: 127452, Avg. loss: 0.666774Norm: 9.30, NNZs: 0, Bias: 0.152183, T: 127448, Avg. loss: 0.688301Norm: 0.08, NNZs: 420, Bias: 0.104039, T: 127444, Avg. loss: 0.645938\n",
      "\n",
      "\n",
      "Total training time: 0.86 seconds.\n",
      "Total training time: 0.85 seconds.\n",
      "Total training time: 0.34 seconds.\n",
      "-- Epoch 5\n",
      "-- Epoch 5\n",
      "-- Epoch 5\n",
      "Norm: 0.50, NNZs: 50, Bias: 0.211114, T: 159315, Avg. loss: 0.662604Norm: 9.30, NNZs: 0, Bias: 0.155577, T: 159310, Avg. loss: 0.688202Norm: 0.08, NNZs: 420, Bias: 0.109232, T: 159305, Avg. loss: 0.645342\n",
      "\n",
      "\n",
      "Total training time: 1.10 seconds.\n",
      "Total training time: 1.07 seconds.\n",
      "Total training time: 0.43 seconds.\n",
      "-- Epoch 1-- Epoch 1-- Epoch 1\n",
      "\n",
      "\n",
      "Norm: 9.83, NNZs: 0, Bias: 0.254546, T: 31863, Avg. loss: 0.687724Norm: 0.08, NNZs: 420, Bias: 0.036895, T: 31862, Avg. loss: 0.657677Norm: 0.08, NNZs: 420, Bias: 0.243844, T: 31863, Avg. loss: 0.649023\n",
      "\n",
      "\n",
      "Total training time: 0.19 seconds.\n",
      "Total training time: 0.06 seconds.\n",
      "Total training time: 0.06 seconds.\n",
      "-- Epoch 2\n",
      "-- Epoch 2\n",
      "-- Epoch 2\n",
      "Norm: 9.83, NNZs: 0, Bias: 0.248954, T: 63726, Avg. loss: 0.687598Norm: 0.08, NNZs: 420, Bias: 0.060450, T: 63724, Avg. loss: 0.652683Norm: 0.08, NNZs: 420, Bias: 0.238472, T: 63726, Avg. loss: 0.645789\n",
      "\n",
      "\n",
      "Total training time: 0.41 seconds.\n",
      "Total training time: 0.12 seconds.\n",
      "Total training time: 0.12 seconds.\n",
      "-- Epoch 3\n",
      "-- Epoch 3\n",
      "-- Epoch 3\n",
      "Norm: 9.83, NNZs: 0, Bias: 0.245959, T: 95589, Avg. loss: 0.687544Norm: 0.08, NNZs: 420, Bias: 0.072588, T: 95586, Avg. loss: 0.650761Norm: 0.08, NNZs: 420, Bias: 0.235636, T: 95589, Avg. loss: 0.644635\n",
      "\n",
      "\n",
      "Total training time: 0.65 seconds.\n",
      "Total training time: 0.18 seconds.\n",
      "Total training time: 0.20 seconds.\n",
      "-- Epoch 4\n",
      "-- Epoch 4\n",
      "-- Epoch 4\n",
      "Norm: 9.83, NNZs: 0, Bias: 0.243979, T: 127452, Avg. loss: 0.687513Norm: 0.08, NNZs: 420, Bias: 0.080655, T: 127448, Avg. loss: 0.649691Norm: 0.08, NNZs: 420, Bias: 0.233663, T: 127452, Avg. loss: 0.644027\n",
      "\n",
      "\n",
      "Total training time: 0.84 seconds.\n",
      "Total training time: 0.24 seconds.\n",
      "Total training time: 0.29 seconds.\n",
      "-- Epoch 5\n",
      "-- Epoch 5\n",
      "-- Epoch 5\n",
      "Norm: 9.83, NNZs: 0, Bias: 0.242519, T: 159315, Avg. loss: 0.687491Norm: 0.08, NNZs: 420, Bias: 0.086502, T: 159310, Avg. loss: 0.648998Norm: 0.09, NNZs: 420, Bias: 0.232259, T: 159315, Avg. loss: 0.643644\n",
      "\n",
      "\n",
      "Total training time: 1.06 seconds.\n",
      "Total training time: 0.31 seconds.\n",
      "Total training time: 0.38 seconds.\n",
      "-- Epoch 1-- Epoch 1-- Epoch 1\n",
      "\n",
      "\n",
      "Norm: 0.07, NNZs: 0, Bias: 0.174599, T: 31861, Avg. loss: 0.687796Norm: 0.07, NNZs: 0, Bias: 0.213431, T: 31862, Avg. loss: 0.687612Norm: 0.07, NNZs: 0, Bias: 0.075959, T: 31863, Avg. loss: 0.691919\n",
      "\n",
      "\n",
      "Total training time: 0.16 seconds.\n",
      "Total training time: 0.16 seconds.\n",
      "Total training time: 0.25 seconds.\n",
      "-- Epoch 2\n",
      "-- Epoch 2\n",
      "-- Epoch 2\n",
      "Norm: 0.05, NNZs: 0, Bias: 0.180971, T: 63722, Avg. loss: 0.687649Norm: 0.05, NNZs: 0, Bias: 0.213883, T: 63724, Avg. loss: 0.687468Norm: 0.05, NNZs: 0, Bias: 0.097997, T: 63726, Avg. loss: 0.690638\n",
      "\n",
      "\n",
      "Total training time: 0.32 seconds.\n",
      "Total training time: 0.38 seconds.\n",
      "Total training time: 0.50 seconds.\n",
      "-- Epoch 3\n",
      "-- Epoch 3\n",
      "-- Epoch 3\n",
      "Norm: 0.04, NNZs: 0, Bias: 0.184463, T: 95583, Avg. loss: 0.687586Norm: 0.04, NNZs: 0, Bias: 0.214149, T: 95586, Avg. loss: 0.687420Norm: 0.04, NNZs: 0, Bias: 0.109362, T: 95589, Avg. loss: 0.690055\n",
      "\n",
      "\n",
      "Total training time: 0.49 seconds.\n",
      "Total training time: 0.59 seconds.\n",
      "Total training time: 0.70 seconds.\n",
      "-- Epoch 4\n",
      "-- Epoch 4\n",
      "-- Epoch 4\n",
      "Norm: 0.04, NNZs: 0, Bias: 0.186707, T: 127444, Avg. loss: 0.687549Norm: 0.04, NNZs: 0, Bias: 0.214415, T: 127448, Avg. loss: 0.687396Norm: 0.03, NNZs: 0, Bias: 0.116744, T: 127452, Avg. loss: 0.689702\n",
      "\n",
      "\n",
      "Total training time: 0.67 seconds.\n",
      "Total training time: 0.84 seconds.\n",
      "Total training time: 0.95 seconds.\n",
      "-- Epoch 5\n",
      "-- Epoch 5\n",
      "-- Epoch 5\n",
      "Norm: 0.03, NNZs: 0, Bias: 0.188300, T: 159305, Avg. loss: 0.687524Norm: 0.03, NNZs: 0, Bias: 0.214448, T: 159310, Avg. loss: 0.687381Norm: 0.03, NNZs: 0, Bias: 0.122101, T: 159315, Avg. loss: 0.689459\n",
      "\n",
      "\n",
      "Total training time: 0.88 seconds.\n",
      "Total training time: 1.09 seconds.\n",
      "Total training time: 1.19 seconds.\n",
      "-- Epoch 1-- Epoch 1-- Epoch 1\n",
      "\n",
      "\n",
      "Norm: 4.01, NNZs: 0, Bias: 0.208935, T: 31861, Avg. loss: 0.687335Norm: 4.06, NNZs: 0, Bias: -0.159082, T: 31862, Avg. loss: 0.705804Norm: 6.35, NNZs: 0, Bias: 0.293944, T: 31863, Avg. loss: 0.688108\n",
      "\n",
      "\n",
      "Total training time: 0.18 seconds.\n",
      "Total training time: 0.19 seconds.\n",
      "Total training time: 0.23 seconds.\n",
      "\n",
      "Total training time: 0.20 seconds.\n",
      "-- Epoch 4\n",
      "Norm: 0.08, NNZs: 420, Bias: 0.130071, T: 191172, Avg. loss: 0.646955-- Epoch 2\n",
      "-- Epoch 2\n",
      "-- Epoch 2\n",
      "Norm: 4.01, NNZs: 0, Bias: 0.209075, T: 63722, Avg. loss: 0.687330Norm: 4.06, NNZs: 0, Bias: -0.152634, T: 63724, Avg. loss: 0.705177Norm: 6.35, NNZs: 0, Bias: 0.292650, T: 63726, Avg. loss: 0.688075\n",
      "\n",
      "\n",
      "Total training time: 0.40 seconds.\n",
      "Total training time: 0.40 seconds.\n",
      "Total training time: 0.46 seconds.\n",
      "-- Epoch 3\n",
      "-- Epoch 3\n",
      "-- Epoch 3\n",
      "Norm: 4.01, NNZs: 0, Bias: 0.209153, T: 95583, Avg. loss: 0.687328Norm: 4.06, NNZs: 0, Bias: -0.148927, T: 95586, Avg. loss: 0.704819Norm: 6.35, NNZs: 0, Bias: 0.291891, T: 95589, Avg. loss: 0.688058\n",
      "\n",
      "\n",
      "Total training time: 0.63 seconds.\n",
      "Total training time: 0.62 seconds.\n",
      "Total training time: 0.66 seconds.\n",
      "-- Epoch 4\n",
      "-- Epoch 4\n",
      "-- Epoch 4\n",
      "Norm: 4.01, NNZs: 0, Bias: 0.209208, T: 127444, Avg. loss: 0.687327Norm: 4.06, NNZs: 0, Bias: -0.146313, T: 127448, Avg. loss: 0.704570Norm: 6.35, NNZs: 0, Bias: 0.291353, T: 127452, Avg. loss: 0.688046\n",
      "\n",
      "\n",
      "Total training time: 0.84 seconds.\n",
      "Total training time: 0.84 seconds.\n",
      "Total training time: 0.85 seconds.\n",
      "-- Epoch 5\n",
      "-- Epoch 5\n",
      "-- Epoch 5\n",
      "Norm: 4.01, NNZs: 0, Bias: 0.209247, T: 159305, Avg. loss: 0.687327Norm: 4.06, NNZs: 0, Bias: -0.144304, T: 159310, Avg. loss: 0.704379Norm: 6.35, NNZs: 0, Bias: 0.290940, T: 159315, Avg. loss: 0.688038\n",
      "\n",
      "\n",
      "Total training time: 1.07 seconds.\n",
      "Total training time: 1.08 seconds.\n",
      "Total training time: 1.10 seconds.\n",
      "-- Epoch 1-- Epoch 1-- Epoch 1\n",
      "\n",
      "\n",
      "Norm: 0.04, NNZs: 420, Bias: 0.217876, T: 31861, Avg. loss: 0.649136Norm: 0.04, NNZs: 420, Bias: 0.221599, T: 31862, Avg. loss: 0.652824Norm: 0.01, NNZs: 0, Bias: 0.218431, T: 31861, Avg. loss: 0.687328\n",
      "\n",
      "\n",
      "Total training time: 0.07 seconds.\n",
      "Total training time: 0.06 seconds.\n",
      "Total training time: 0.16 seconds.\n",
      "-- Epoch 2\n",
      "-- Epoch 2\n",
      "-- Epoch 2\n",
      "Norm: 0.04, NNZs: 420, Bias: 0.217878, T: 63722, Avg. loss: 0.649090Norm: 0.04, NNZs: 420, Bias: 0.221393, T: 63724, Avg. loss: 0.652291Norm: 0.01, NNZs: 0, Bias: 0.218401, T: 63722, Avg. loss: 0.687323\n",
      "\n",
      "\n",
      "Total training time: 0.12 seconds.\n",
      "Total training time: 0.12 seconds.\n",
      "Total training time: 0.39 seconds.\n",
      "-- Epoch 3\n",
      "-- Epoch 3\n",
      "-- Epoch 3\n",
      "Norm: 0.04, NNZs: 420, Bias: 0.217891, T: 95583, Avg. loss: 0.648930Norm: 0.04, NNZs: 420, Bias: 0.221252, T: 95586, Avg. loss: 0.652087Norm: 0.00, NNZs: 0, Bias: 0.218396, T: 95583, Avg. loss: 0.687321\n",
      "\n",
      "\n",
      "Total training time: 0.22 seconds.\n",
      "Total training time: 0.18 seconds.\n",
      "Total training time: 0.61 seconds.\n",
      "-- Epoch 4\n",
      "-- Epoch 4\n",
      "-- Epoch 4\n",
      "Norm: 0.04, NNZs: 420, Bias: 0.217886, T: 127444, Avg. loss: 0.648923Norm: 0.04, NNZs: 420, Bias: 0.221160, T: 127448, Avg. loss: 0.652000Norm: 0.00, NNZs: 0, Bias: 0.218381, T: 127444, Avg. loss: 0.687320\n",
      "\n",
      "\n",
      "Total training time: 0.31 seconds.\n",
      "Total training time: 0.25 seconds.\n",
      "Total training time: 0.86 seconds.\n",
      "-- Epoch 5\n",
      "-- Epoch 5\n",
      "-- Epoch 5\n",
      "Norm: 0.04, NNZs: 420, Bias: 0.217886, T: 159305, Avg. loss: 0.648903Norm: 0.04, NNZs: 420, Bias: 0.221088, T: 159310, Avg. loss: 0.651969Norm: 0.00, NNZs: 0, Bias: 0.218371, T: 159305, Avg. loss: 0.687320\n",
      "\n",
      "\n",
      "Total training time: 0.41 seconds.\n",
      "Total training time: 0.31 seconds.\n",
      "Total training time: 1.11 seconds.\n",
      "-- Epoch 1-- Epoch 1-- Epoch 1\n",
      "\n",
      "\n",
      "Norm: 0.04, NNZs: 420, Bias: -0.206295, T: 31863, Avg. loss: 0.669674Norm: 0.01, NNZs: 0, Bias: -0.120332, T: 31862, Avg. loss: 0.702197Norm: 2.07, NNZs: 0, Bias: 0.158628, T: 31861, Avg. loss: 0.687739\n",
      "\n",
      "\n",
      "Total training time: 0.07 seconds.\n",
      "Total training time: 0.16 seconds.\n",
      "Total training time: 0.19 seconds.\n",
      "-- Epoch 2\n",
      "-- Epoch 2\n",
      "-- Epoch 2\n",
      "Norm: 0.04, NNZs: 420, Bias: -0.199461, T: 63726, Avg. loss: 0.669333Norm: 0.00, NNZs: 0, Bias: -0.114602, T: 63724, Avg. loss: 0.701687Norm: 2.07, NNZs: 0, Bias: 0.158732, T: 63722, Avg. loss: 0.687735\n",
      "\n",
      "\n",
      "Total training time: 0.13 seconds.\n",
      "Total training time: 0.41 seconds.\n",
      "Total training time: 0.41 seconds.\n",
      "-- Epoch 3\n",
      "-- Epoch 3\n",
      "-- Epoch 3\n",
      "Norm: 0.04, NNZs: 420, Bias: -0.195522, T: 95589, Avg. loss: 0.668886Norm: 0.00, NNZs: 0, Bias: -0.111295, T: 95586, Avg. loss: 0.701399Norm: 2.07, NNZs: 0, Bias: 0.158790, T: 95583, Avg. loss: 0.687734\n",
      "\n",
      "\n",
      "Total training time: 0.19 seconds.\n",
      "Total training time: 0.66 seconds.\n",
      "Total training time: 0.62 seconds.\n",
      "-- Epoch 4\n",
      "-- Epoch 4\n",
      "-- Epoch 4\n",
      "Norm: 0.04, NNZs: 420, Bias: -0.192771, T: 127452, Avg. loss: 0.668553Norm: 0.00, NNZs: 0, Bias: -0.108941, T: 127448, Avg. loss: 0.701198Norm: 2.07, NNZs: 0, Bias: 0.158830, T: 127444, Avg. loss: 0.687733\n",
      "\n",
      "\n",
      "Total training time: 0.25 seconds.\n",
      "Total training time: 0.89 seconds.\n",
      "Total training time: 0.78 seconds.\n",
      "-- Epoch 5\n",
      "-- Epoch 5\n",
      "-- Epoch 5\n",
      "Norm: 0.04, NNZs: 420, Bias: -0.190638, T: 159315, Avg. loss: 0.668339Norm: 0.00, NNZs: 0, Bias: -0.107138, T: 159310, Avg. loss: 0.701044Norm: 2.07, NNZs: 0, Bias: 0.158862, T: 159305, Avg. loss: 0.687733\n",
      "\n",
      "\n",
      "Total training time: 0.34 seconds.\n",
      "Total training time: 1.12 seconds.\n",
      "Total training time: 1.01 seconds.\n",
      "-- Epoch 1-- Epoch 1-- Epoch 1\n",
      "\n",
      "\n",
      "Norm: 0.01, NNZs: 0, Bias: 0.226627, T: 31863, Avg. loss: 0.687340Norm: 2.28, NNZs: 0, Bias: 0.149463, T: 31862, Avg. loss: 0.687884Norm: 0.01, NNZs: 420, Bias: -0.150435, T: 31861, Avg. loss: 0.686945\n",
      "\n",
      "\n",
      "Total training time: 0.20 seconds.\n",
      "Total training time: 0.22 seconds.\n",
      "Total training time: 0.06 seconds.\n",
      "-- Epoch 2\n",
      "-- Epoch 2\n",
      "-- Epoch 2\n",
      "Norm: 0.00, NNZs: 0, Bias: 0.226453, T: 63726, Avg. loss: 0.687335Norm: 2.28, NNZs: 0, Bias: 0.149574, T: 63724, Avg. loss: 0.687881Norm: 0.01, NNZs: 420, Bias: -0.149798, T: 63722, Avg. loss: 0.686889\n",
      "\n",
      "\n",
      "Total training time: 0.42 seconds.\n",
      "Total training time: 0.44 seconds.\n",
      "Total training time: 0.12 seconds.\n",
      "-- Epoch 3\n",
      "-- Epoch 3\n",
      "-- Epoch 3\n",
      "Norm: 0.00, NNZs: 0, Bias: 0.226370, T: 95589, Avg. loss: 0.687334Norm: 2.28, NNZs: 0, Bias: 0.149641, T: 95586, Avg. loss: 0.687879Norm: 0.01, NNZs: 420, Bias: -0.149428, T: 95583, Avg. loss: 0.686867\n",
      "\n",
      "\n",
      "Total training time: 0.65 seconds.\n",
      "Total training time: 0.66 seconds.\n",
      "Total training time: 0.18 seconds.\n",
      "-- Epoch 4\n",
      "-- Epoch 4\n",
      "-- Epoch 4\n",
      "Norm: 0.00, NNZs: 0, Bias: 0.226294, T: 127452, Avg. loss: 0.687333Norm: 2.28, NNZs: 0, Bias: 0.149689, T: 127448, Avg. loss: 0.687878Norm: 0.01, NNZs: 420, Bias: -0.149166, T: 127444, Avg. loss: 0.686823\n",
      "\n",
      "\n",
      "Total training time: 0.88 seconds.\n",
      "Total training time: 0.85 seconds.\n",
      "Total training time: 0.27 seconds.\n",
      "-- Epoch 5\n",
      "-- Epoch 5\n",
      "-- Epoch 5\n",
      "Norm: 0.00, NNZs: 0, Bias: 0.226246, T: 159315, Avg. loss: 0.687332Norm: 2.28, NNZs: 0, Bias: 0.149725, T: 159310, Avg. loss: 0.687877Norm: 0.01, NNZs: 420, Bias: -0.148962, T: 159305, Avg. loss: 0.686804\n",
      "\n",
      "\n",
      "Total training time: 1.11 seconds.\n",
      "Total training time: 1.08 seconds.\n",
      "Total training time: 0.36 seconds.\n",
      "-- Epoch 1-- Epoch 1-- Epoch 1\n",
      "\n",
      "\n",
      "Norm: 2.72, NNZs: 0, Bias: 0.158938, T: 31863, Avg. loss: 0.687734Norm: 0.01, NNZs: 420, Bias: -0.137562, T: 31862, Avg. loss: 0.689576Norm: 0.01, NNZs: 420, Bias: 0.157221, T: 31863, Avg. loss: 0.671638\n",
      "\n",
      "\n",
      "Total training time: 0.17 seconds.\n",
      "Total training time: 0.06 seconds.\n",
      "Total training time: 0.06 seconds.\n",
      "-- Epoch 2\n",
      "-- Epoch 2\n",
      "-- Epoch 2\n",
      "Norm: 2.72, NNZs: 0, Bias: 0.159034, T: 63726, Avg. loss: 0.687732\n",
      "Total training time: 0.27 seconds.\n",
      "-- Epoch 5\n",
      "Norm: 0.08, NNZs: 420, Bias: 0.133679, T: 238965, Avg. loss: 0.646481Norm: 0.01, NNZs: 420, Bias: -0.136954, T: 63724, Avg. loss: 0.688241Norm: 0.01, NNZs: 420, Bias: 0.157319, T: 63726, Avg. loss: 0.671644\n",
      "\n",
      "\n",
      "Total training time: 0.39 seconds.\n",
      "Total training time: 0.12 seconds.\n",
      "Total training time: 0.12 seconds.\n",
      "-- Epoch 3\n",
      "-- Epoch 3\n",
      "-- Epoch 3\n",
      "Norm: 2.72, NNZs: 0, Bias: 0.159093, T: 95589, Avg. loss: 0.687730Norm: 0.01, NNZs: 420, Bias: -0.136600, T: 95586, Avg. loss: 0.687752Norm: 0.01, NNZs: 420, Bias: 0.157380, T: 95589, Avg. loss: 0.671627\n",
      "\n",
      "\n",
      "Total training time: 0.61 seconds.\n",
      "Total training time: 0.20 seconds.\n",
      "Total training time: 0.17 seconds.\n",
      "-- Epoch 4\n",
      "-- Epoch 4\n",
      "-- Epoch 4\n",
      "Norm: 2.72, NNZs: 0, Bias: 0.159135, T: 127452, Avg. loss: 0.687729Norm: 0.01, NNZs: 420, Bias: -0.136348, T: 127448, Avg. loss: 0.687524Norm: 0.01, NNZs: 420, Bias: 0.157423, T: 127452, Avg. loss: 0.671598\n",
      "\n",
      "\n",
      "Total training time: 0.82 seconds.\n",
      "Total training time: 0.29 seconds.\n",
      "Total training time: 0.23 seconds.\n",
      "-- Epoch 5\n",
      "-- Epoch 5\n",
      "-- Epoch 5\n",
      "Norm: 2.72, NNZs: 0, Bias: 0.159166, T: 159315, Avg. loss: 0.687729Norm: 0.01, NNZs: 420, Bias: -0.136153, T: 159310, Avg. loss: 0.687383Norm: 0.01, NNZs: 420, Bias: 0.157455, T: 159315, Avg. loss: 0.671591\n",
      "\n",
      "\n",
      "Total training time: 1.04 seconds.\n",
      "Total training time: 0.38 seconds.\n",
      "Total training time: 0.29 seconds.\n",
      "-- Epoch 1-- Epoch 1-- Epoch 1\n",
      "\n",
      "\n",
      "Norm: 0.00, NNZs: 0, Bias: -0.139174, T: 31861, Avg. loss: 0.703159Norm: 0.00, NNZs: 0, Bias: -0.150939, T: 31862, Avg. loss: 0.704216Norm: 0.00, NNZs: 0, Bias: -0.149437, T: 31863, Avg. loss: 0.704085\n",
      "\n",
      "\n",
      "Total training time: 0.18 seconds.\n",
      "Total training time: 0.24 seconds.\n",
      "Total training time: 0.16 seconds.\n",
      "-- Epoch 2\n",
      "-- Epoch 2\n",
      "-- Epoch 2\n",
      "Norm: 0.00, NNZs: 0, Bias: -0.138558, T: 63722, Avg. loss: 0.703101Norm: 0.00, NNZs: 0, Bias: -0.150304, T: 63724, Avg. loss: 0.704157Norm: 0.00, NNZs: 0, Bias: -0.148803, T: 63726, Avg. loss: 0.704024\n",
      "\n",
      "\n",
      "Total training time: 0.39 seconds.\n",
      "Total training time: 0.50 seconds.\n",
      "Total training time: 0.32 seconds.\n",
      "-- Epoch 3\n",
      "-- Epoch 3\n",
      "-- Epoch 3\n",
      "Norm: 0.00, NNZs: 0, Bias: -0.138199, T: 95583, Avg. loss: 0.703068Norm: 0.00, NNZs: 0, Bias: -0.149936, T: 95586, Avg. loss: 0.704123Norm: 0.00, NNZs: 0, Bias: -0.148435, T: 95589, Avg. loss: 0.703990\n",
      "\n",
      "\n",
      "Total training time: 0.62 seconds.\n",
      "Total training time: 0.68 seconds.\n",
      "Total training time: 0.47 seconds.\n",
      "-- Epoch 4\n",
      "-- Epoch 4\n",
      "-- Epoch 4\n",
      "Norm: 0.00, NNZs: 0, Bias: -0.137945, T: 127444, Avg. loss: 0.703045Norm: 0.00, NNZs: 0, Bias: -0.149673, T: 127448, Avg. loss: 0.704099Norm: 0.00, NNZs: 0, Bias: -0.148173, T: 127452, Avg. loss: 0.703965\n",
      "\n",
      "\n",
      "Total training time: 0.86 seconds.\n",
      "Total training time: 0.83 seconds.\n",
      "Total training time: 0.63 seconds.\n",
      "-- Epoch 5\n",
      "-- Epoch 5\n",
      "-- Epoch 5\n",
      "Norm: 0.00, NNZs: 0, Bias: -0.137748, T: 159305, Avg. loss: 0.703027Norm: 0.00, NNZs: 0, Bias: -0.149469, T: 159310, Avg. loss: 0.704080Norm: 0.00, NNZs: 0, Bias: -0.147971, T: 159315, Avg. loss: 0.703946\n",
      "\n",
      "\n",
      "Total training time: 1.11 seconds.\n",
      "Total training time: 0.99 seconds.\n",
      "Total training time: 0.76 seconds.\n",
      "\n",
      "Total training time: 0.34 seconds.\n",
      "Loading testing data...\n"
     ]
    }
   ],
   "source": [
    "for trainf, testf in filesplitter:\n",
    "    \n",
    "    print 'Loading training data...'\n",
    "    X_train, Y_train = load_batch([_files[_] for _ in trainf],\n",
    "                                 n_pos=100,\n",
    "                                 n_neg=100)\n",
    "    \n",
    "    estimator = sklearn.linear_model.SGDClassifier(loss='log', verbose=1)\n",
    "    \n",
    "    _model = sklearn.grid_search.GridSearchCV(estimator,\n",
    "                                             {'alpha': np.logspace(-3, 3, num=6, endpoint=False),\n",
    "                                             'penalty': ['l1', 'l2', 'elasticnet']},\n",
    "                                             n_jobs=3, verbose=1)\n",
    "    \n",
    "    feature = sklearn.preprocessing.StandardScaler()\n",
    "    model = sklearn.pipeline.Pipeline([('scaler', feature), ('predictor', _model)])\n",
    "    \n",
    "    model.fit(X_train, Y_train)\n",
    "    \n",
    "    print 'Loading testing data...'\n",
    "    X_test, Y_test = load_batch([_files[_] for _ in testf],\n",
    "                                n_pos=None,\n",
    "                                n_neg=None)"
   ]
  },
  {
   "cell_type": "code",
   "execution_count": 110,
   "metadata": {
    "collapsed": false
   },
   "outputs": [],
   "source": [
    "M = model.steps[1][1]"
   ]
  },
  {
   "cell_type": "code",
   "execution_count": 111,
   "metadata": {
    "collapsed": false
   },
   "outputs": [
    {
     "data": {
      "text/plain": [
       "{'alpha': 1.0, 'penalty': 'l2'}"
      ]
     },
     "execution_count": 111,
     "metadata": {},
     "output_type": "execute_result"
    }
   ],
   "source": [
    "M.best_params_"
   ]
  },
  {
   "cell_type": "code",
   "execution_count": 112,
   "metadata": {
    "collapsed": false
   },
   "outputs": [],
   "source": [
    "w = model.steps[1][1].best_estimator_.coef_[0]"
   ]
  },
  {
   "cell_type": "code",
   "execution_count": 113,
   "metadata": {
    "collapsed": false
   },
   "outputs": [],
   "source": [
    "w = w.reshape((-1, 84))"
   ]
  },
  {
   "cell_type": "code",
   "execution_count": 114,
   "metadata": {
    "collapsed": false
   },
   "outputs": [
    {
     "data": {
      "text/plain": [
       "<matplotlib.colorbar.Colorbar instance at 0x7fe28ae99128>"
      ]
     },
     "execution_count": 114,
     "metadata": {},
     "output_type": "execute_result"
    },
    {
     "data": {
      "image/png": "[encoded data removed]",
      "text/plain": [
       "<matplotlib.figure.Figure at 0x7fe28827f4d0>"
      ]
     },
     "metadata": {},
     "output_type": "display_data"
    }
   ],
   "source": [
    "plt.imshow(w.T, aspect='auto', interpolation='none', cmap='coolwarm', origin='lower')\n",
    "plt.ylabel('CQT bin')\n",
    "plt.xlabel('Context position')\n",
    "plt.title('$w$')\n",
    "plt.xticks(np.arange(5), np.arange(-2, 3))\n",
    "plt.colorbar()"
   ]
  },
  {
   "cell_type": "code",
   "execution_count": 115,
   "metadata": {
    "collapsed": false
   },
   "outputs": [
    {
     "name": "stdout",
     "output_type": "stream",
     "text": [
      "             precision    recall  f1-score   support\n",
      "\n",
      "          0       0.65      0.39      0.48     21319\n",
      "          1       0.63      0.83      0.71     26474\n",
      "\n",
      "avg / total       0.64      0.63      0.61     47793\n",
      "\n"
     ]
    }
   ],
   "source": [
    "print sklearn.metrics.classification_report(Y_train, model.predict(X_train))"
   ]
  },
  {
   "cell_type": "code",
   "execution_count": 116,
   "metadata": {
    "collapsed": false
   },
   "outputs": [
    {
     "data": {
      "text/plain": [
       "0.63228924737932335"
      ]
     },
     "execution_count": 116,
     "metadata": {},
     "output_type": "execute_result"
    }
   ],
   "source": [
    "sklearn.metrics.accuracy_score(Y_train, model.predict(X_train))"
   ]
  },
  {
   "cell_type": "code",
   "execution_count": 117,
   "metadata": {
    "collapsed": false
   },
   "outputs": [],
   "source": [
    "Y_pred = [model.predict(xt) for xt in X_test]"
   ]
  },
  {
   "cell_type": "code",
   "execution_count": 118,
   "metadata": {
    "collapsed": true
   },
   "outputs": [],
   "source": [
    "Y_pred_proba = np.concatenate([model.predict_proba(xt) for xt in X_test], axis=0)"
   ]
  },
  {
   "cell_type": "code",
   "execution_count": 119,
   "metadata": {
    "collapsed": false
   },
   "outputs": [],
   "source": [
    "Y_pred = np.concatenate(Y_pred, axis=0)"
   ]
  },
  {
   "cell_type": "code",
   "execution_count": 120,
   "metadata": {
    "collapsed": false
   },
   "outputs": [
    {
     "name": "stdout",
     "output_type": "stream",
     "text": [
      "             precision    recall  f1-score   support\n",
      "\n",
      "          0       0.60      0.39      0.47     11875\n",
      "          1       0.63      0.80      0.70     15427\n",
      "\n",
      "avg / total       0.62      0.62      0.60     27302\n",
      "\n"
     ]
    }
   ],
   "source": [
    "print sklearn.metrics.classification_report(Y_test, Y_pred)"
   ]
  },
  {
   "cell_type": "code",
   "execution_count": 121,
   "metadata": {
    "collapsed": false
   },
   "outputs": [
    {
     "data": {
      "text/plain": [
       "0.6213464215075819"
      ]
     },
     "execution_count": 121,
     "metadata": {},
     "output_type": "execute_result"
    }
   ],
   "source": [
    "sklearn.metrics.accuracy_score(Y_test, Y_pred)"
   ]
  },
  {
   "cell_type": "markdown",
   "metadata": {},
   "source": [
    "---"
   ]
  },
  {
   "cell_type": "code",
   "execution_count": 122,
   "metadata": {
    "collapsed": true
   },
   "outputs": [],
   "source": [
    "import cPickle as pickle"
   ]
  },
  {
   "cell_type": "code",
   "execution_count": 105,
   "metadata": {
    "collapsed": false
   },
   "outputs": [],
   "source": [
    "#pickle.dump({'model': model, 'dataset': 'salami_beat'},\n",
    "            #open('../data/similarity_model_salami_beat.pickle', 'w'))\n",
    "pickle.dump({'model': model, 'dataset': 'isophonics_beat'},\n",
    "            open('../data/similarity_model_isophonics_beat.pickle', 'w'))"
   ]
  },
  {
   "cell_type": "markdown",
   "metadata": {},
   "source": [
    "---"
   ]
  },
  {
   "cell_type": "code",
   "execution_count": 98,
   "metadata": {
    "collapsed": true
   },
   "outputs": [],
   "source": [
    "Xtrains2 = np.mean(X_train**2, axis=1, keepdims=True)"
   ]
  },
  {
   "cell_type": "code",
   "execution_count": 99,
   "metadata": {
    "collapsed": true
   },
   "outputs": [],
   "source": [
    "Xtests2 = np.mean(X_test**2, axis=1, keepdims=True)"
   ]
  },
  {
   "cell_type": "code",
   "execution_count": 100,
   "metadata": {
    "collapsed": true
   },
   "outputs": [],
   "source": [
    "seaborn.set_style('darkgrid')"
   ]
  },
  {
   "cell_type": "code",
   "execution_count": 101,
   "metadata": {
    "collapsed": true
   },
   "outputs": [],
   "source": [
    "import sklearn.neighbors"
   ]
  },
  {
   "cell_type": "code",
   "execution_count": 102,
   "metadata": {
    "collapsed": false
   },
   "outputs": [
    {
     "name": "stdout",
     "output_type": "stream",
     "text": [
      "Fitting 5 folds for each of 5 candidates, totalling 25 fits\n"
     ]
    },
    {
     "name": "stderr",
     "output_type": "stream",
     "text": [
      "[Parallel(n_jobs=3)]: Done   1 jobs       | elapsed:   11.5s\n",
      "[Parallel(n_jobs=3)]: Done  21 out of  25 | elapsed:  1.5min remaining:   17.3s\n",
      "[Parallel(n_jobs=3)]: Done  25 out of  25 | elapsed:  1.7min finished\n"
     ]
    },
    {
     "data": {
      "text/plain": [
       "GridSearchCV(cv=5, error_score='raise',\n",
       "       estimator=KernelDensity(algorithm='auto', atol=0, bandwidth=1.0, breadth_first=True,\n",
       "       kernel='gaussian', leaf_size=40, metric='euclidean',\n",
       "       metric_params=None, rtol=0),\n",
       "       fit_params={}, iid=True, loss_func=None, n_jobs=3,\n",
       "       param_grid={'bandwidth': array([ 0.1  ,  0.325,  0.55 ,  0.775,  1.   ])},\n",
       "       pre_dispatch='2*n_jobs', refit=True, score_func=None, scoring=None,\n",
       "       verbose=1)"
      ]
     },
     "execution_count": 102,
     "metadata": {},
     "output_type": "execute_result"
    }
   ],
   "source": [
    "KDE_pos = sklearn.grid_search.GridSearchCV(sklearn.neighbors.KernelDensity(),\n",
    "                                           {'bandwidth': np.linspace(0.1, 1.0, 5)},\n",
    "                                           verbose=1,\n",
    "                                           n_jobs=3,\n",
    "                                           cv=5)\n",
    "KDE_pos.fit(Xtrains2[Y_train > 0])"
   ]
  },
  {
   "cell_type": "code",
   "execution_count": 103,
   "metadata": {
    "collapsed": false
   },
   "outputs": [
    {
     "name": "stdout",
     "output_type": "stream",
     "text": [
      "Fitting 5 folds for each of 3 candidates, totalling 15 fits\n"
     ]
    },
    {
     "name": "stderr",
     "output_type": "stream",
     "text": [
      "[Parallel(n_jobs=3)]: Done   1 jobs       | elapsed:   14.5s\n",
      "[Parallel(n_jobs=3)]: Done  11 out of  15 | elapsed:  1.2min remaining:   25.4s\n",
      "[Parallel(n_jobs=3)]: Done  15 out of  15 | elapsed:  1.4min finished\n"
     ]
    },
    {
     "data": {
      "text/plain": [
       "GridSearchCV(cv=5, error_score='raise',\n",
       "       estimator=KernelDensity(algorithm='auto', atol=0, bandwidth=1.0, breadth_first=True,\n",
       "       kernel='gaussian', leaf_size=40, metric='euclidean',\n",
       "       metric_params=None, rtol=0),\n",
       "       fit_params={}, iid=True, loss_func=None, n_jobs=3,\n",
       "       param_grid={'bandwidth': array([ 0.1 ,  0.55,  1.  ])},\n",
       "       pre_dispatch='2*n_jobs', refit=True, score_func=None, scoring=None,\n",
       "       verbose=1)"
      ]
     },
     "execution_count": 103,
     "metadata": {},
     "output_type": "execute_result"
    }
   ],
   "source": [
    "KDE_neg = sklearn.grid_search.GridSearchCV(sklearn.neighbors.KernelDensity(),\n",
    "                                           {'bandwidth': np.linspace(0.1, 1.0, 3)},\n",
    "                                           verbose=1,\n",
    "                                           n_jobs=3,\n",
    "                                           cv=5)\n",
    "KDE_neg.fit(Xtrains2[Y_train < 1])"
   ]
  },
  {
   "cell_type": "code",
   "execution_count": 104,
   "metadata": {
    "collapsed": false
   },
   "outputs": [],
   "source": [
    "Y_pred_kde = (KDE_pos.best_estimator_.score_samples(Xtests2) >\n",
    "              KDE_neg.best_estimator_.score_samples(Xtests2))"
   ]
  },
  {
   "cell_type": "code",
   "execution_count": 105,
   "metadata": {
    "collapsed": false
   },
   "outputs": [
    {
     "name": "stdout",
     "output_type": "stream",
     "text": [
      "             precision    recall  f1-score   support\n",
      "\n",
      "          0       0.66      0.68      0.67    143276\n",
      "          1       0.58      0.56      0.57    114243\n",
      "\n",
      "avg / total       0.62      0.62      0.62    257519\n",
      "\n"
     ]
    }
   ],
   "source": [
    "print sklearn.metrics.classification_report(Y_test[:len(Y_pred_kde)], Y_pred_kde)"
   ]
  },
  {
   "cell_type": "code",
   "execution_count": 106,
   "metadata": {
    "collapsed": false
   },
   "outputs": [
    {
     "ename": "ValueError",
     "evalue": "need more than 1 value to unpack",
     "output_type": "error",
     "traceback": [
      "\u001b[1;31m---------------------------------------------------------------------------\u001b[0m",
      "\u001b[1;31mValueError\u001b[0m                                Traceback (most recent call last)",
      "\u001b[1;32m<ipython-input-106-d8507f42514d>\u001b[0m in \u001b[0;36m<module>\u001b[1;34m()\u001b[0m\n\u001b[1;32m----> 1\u001b[1;33m \u001b[0mseaborn\u001b[0m\u001b[1;33m.\u001b[0m\u001b[0mkdeplot\u001b[0m\u001b[1;33m(\u001b[0m\u001b[0mnp\u001b[0m\u001b[1;33m.\u001b[0m\u001b[0mlog\u001b[0m\u001b[1;33m(\u001b[0m\u001b[0mXtrains2\u001b[0m\u001b[1;33m[\u001b[0m\u001b[0mY_train\u001b[0m \u001b[1;33m>\u001b[0m \u001b[1;36m0\u001b[0m\u001b[1;33m]\u001b[0m\u001b[1;33m)\u001b[0m\u001b[1;33m,\u001b[0m \u001b[0mshade\u001b[0m\u001b[1;33m=\u001b[0m\u001b[0mTrue\u001b[0m\u001b[1;33m,\u001b[0m \u001b[0mlabel\u001b[0m\u001b[1;33m=\u001b[0m\u001b[1;34m'Positive'\u001b[0m\u001b[1;33m)\u001b[0m\u001b[1;33m\u001b[0m\u001b[0m\n\u001b[0m\u001b[0;32m      2\u001b[0m \u001b[0mseaborn\u001b[0m\u001b[1;33m.\u001b[0m\u001b[0mkdeplot\u001b[0m\u001b[1;33m(\u001b[0m\u001b[0mnp\u001b[0m\u001b[1;33m.\u001b[0m\u001b[0mlog\u001b[0m\u001b[1;33m(\u001b[0m\u001b[0mXtrains2\u001b[0m\u001b[1;33m[\u001b[0m\u001b[0mY_train\u001b[0m \u001b[1;33m<\u001b[0m \u001b[1;36m1\u001b[0m\u001b[1;33m]\u001b[0m\u001b[1;33m)\u001b[0m\u001b[1;33m,\u001b[0m \u001b[0mshade\u001b[0m\u001b[1;33m=\u001b[0m\u001b[0mTrue\u001b[0m\u001b[1;33m,\u001b[0m \u001b[0mlabel\u001b[0m\u001b[1;33m=\u001b[0m\u001b[1;34m'Negative'\u001b[0m\u001b[1;33m)\u001b[0m\u001b[1;33m\u001b[0m\u001b[0m\n\u001b[0;32m      3\u001b[0m \u001b[0mplt\u001b[0m\u001b[1;33m.\u001b[0m\u001b[0mlegend\u001b[0m\u001b[1;33m(\u001b[0m\u001b[0mloc\u001b[0m\u001b[1;33m=\u001b[0m\u001b[1;34m'best'\u001b[0m\u001b[1;33m)\u001b[0m\u001b[1;33m\u001b[0m\u001b[0m\n",
      "\u001b[1;32m/usr/local/lib/python2.7/dist-packages/seaborn/distributions.pyc\u001b[0m in \u001b[0;36mkdeplot\u001b[1;34m(data, data2, shade, vertical, kernel, bw, gridsize, cut, clip, legend, ax, cumulative, **kwargs)\u001b[0m\n\u001b[0;32m    845\u001b[0m     \u001b[1;32mif\u001b[0m \u001b[0misinstance\u001b[0m\u001b[1;33m(\u001b[0m\u001b[0mdata\u001b[0m\u001b[1;33m,\u001b[0m \u001b[0mnp\u001b[0m\u001b[1;33m.\u001b[0m\u001b[0mndarray\u001b[0m\u001b[1;33m)\u001b[0m \u001b[1;32mand\u001b[0m \u001b[0mnp\u001b[0m\u001b[1;33m.\u001b[0m\u001b[0mndim\u001b[0m\u001b[1;33m(\u001b[0m\u001b[0mdata\u001b[0m\u001b[1;33m)\u001b[0m \u001b[1;33m>\u001b[0m \u001b[1;36m1\u001b[0m\u001b[1;33m:\u001b[0m\u001b[1;33m\u001b[0m\u001b[0m\n\u001b[0;32m    846\u001b[0m         \u001b[0mbivariate\u001b[0m \u001b[1;33m=\u001b[0m \u001b[0mTrue\u001b[0m\u001b[1;33m\u001b[0m\u001b[0m\n\u001b[1;32m--> 847\u001b[1;33m         \u001b[0mx\u001b[0m\u001b[1;33m,\u001b[0m \u001b[0my\u001b[0m \u001b[1;33m=\u001b[0m \u001b[0mdata\u001b[0m\u001b[1;33m.\u001b[0m\u001b[0mT\u001b[0m\u001b[1;33m\u001b[0m\u001b[0m\n\u001b[0m\u001b[0;32m    848\u001b[0m     \u001b[1;32melif\u001b[0m \u001b[0misinstance\u001b[0m\u001b[1;33m(\u001b[0m\u001b[0mdata\u001b[0m\u001b[1;33m,\u001b[0m \u001b[0mpd\u001b[0m\u001b[1;33m.\u001b[0m\u001b[0mDataFrame\u001b[0m\u001b[1;33m)\u001b[0m \u001b[1;32mand\u001b[0m \u001b[0mnp\u001b[0m\u001b[1;33m.\u001b[0m\u001b[0mndim\u001b[0m\u001b[1;33m(\u001b[0m\u001b[0mdata\u001b[0m\u001b[1;33m)\u001b[0m \u001b[1;33m>\u001b[0m \u001b[1;36m1\u001b[0m\u001b[1;33m:\u001b[0m\u001b[1;33m\u001b[0m\u001b[0m\n\u001b[0;32m    849\u001b[0m         \u001b[0mbivariate\u001b[0m \u001b[1;33m=\u001b[0m \u001b[0mTrue\u001b[0m\u001b[1;33m\u001b[0m\u001b[0m\n",
      "\u001b[1;31mValueError\u001b[0m: need more than 1 value to unpack"
     ]
    },
    {
     "data": {
      "image/png": "[encoded data removed]",
      "text/plain": [
       "<matplotlib.figure.Figure at 0x7f4338b12fd0>"
      ]
     },
     "metadata": {},
     "output_type": "display_data"
    }
   ],
   "source": [
    "seaborn.kdeplot(np.log(Xtrains2[Y_train > 0]), shade=True, label='Positive')\n",
    "seaborn.kdeplot(np.log(Xtrains2[Y_train < 1]), shade=True, label='Negative')\n",
    "plt.legend(loc='best')"
   ]
  }
 ],
 "metadata": {
  "kernelspec": {
   "display_name": "Python 2",
   "language": "python",
   "name": "python2"
  },
  "language_info": {
   "codemirror_mode": {
    "name": "ipython",
    "version": 2
   },
   "file_extension": ".py",
   "mimetype": "text/x-python",
   "name": "python",
   "nbconvert_exporter": "python",
   "pygments_lexer": "ipython2",
   "version": "2.7.8"
  }
 },
 "nbformat": 4,
 "nbformat_minor": 0
}
