{
 "cells": [
  {
   "cell_type": "code",
   "execution_count": 1,
   "metadata": {
    "collapsed": true
   },
   "outputs": [],
   "source": [
    "import numpy as np\n",
    "import matplotlib.pyplot as plt\n",
    "import seaborn\n",
    "seaborn.set()\n",
    "seaborn.set_style('dark')\n",
    "np.set_printoptions(precision=3)\n",
    "\n",
    "%matplotlib inline"
   ]
  },
  {
   "cell_type": "code",
   "execution_count": 2,
   "metadata": {
    "collapsed": true
   },
   "outputs": [],
   "source": [
    "import sklearn\n",
    "import sklearn.metrics\n",
    "import sklearn.grid_search\n",
    "import sklearn.linear_model\n",
    "import sklearn.cross_validation\n",
    "import sklearn.preprocessing\n",
    "import sklearn.pipeline\n",
    "import pescador"
   ]
  },
  {
   "cell_type": "code",
   "execution_count": 3,
   "metadata": {
    "collapsed": true
   },
   "outputs": [],
   "source": [
    "import glob"
   ]
  },
  {
   "cell_type": "code",
   "execution_count": 4,
   "metadata": {
    "collapsed": true
   },
   "outputs": [],
   "source": [
    "def load_file(filename, n_pos=32, n_neg=32):\n",
    "    \n",
    "    data = np.load(filename)\n",
    "    \n",
    "    d = data['X'].shape[1]\n",
    "    \n",
    "    if n_pos is None:\n",
    "        return data['X'], data['Y']\n",
    "    \n",
    "    \n",
    "    positives = np.flatnonzero(data['Y'])\n",
    "    negatives = np.flatnonzero(1-data['Y'])\n",
    "    n_pos = min(n_pos, len(positives))\n",
    "    n_neg = min(n_neg, len(negatives))\n",
    "    \n",
    "    X = np.empty((n_pos + n_neg, d), dtype=np.float32)\n",
    "    Y = np.zeros((n_pos + n_neg), dtype=np.int32)\n",
    "    \n",
    "    if n_pos > 0:\n",
    "        idx_pos = np.random.choice(positives, size=n_pos, replace=False)\n",
    "    \n",
    "        X[:n_pos] = np.take(data['X'], idx_pos, axis=0)\n",
    "        Y[:n_pos] = 1\n",
    "    \n",
    "    if n_neg > 0:\n",
    "        idx_neg = np.random.choice(negatives, size=n_neg, replace=False)\n",
    "        X[n_pos:] = np.take(data['X'], idx_neg, axis=0)\n",
    "    \n",
    "    return X, Y"
   ]
  },
  {
   "cell_type": "code",
   "execution_count": 5,
   "metadata": {
    "collapsed": true
   },
   "outputs": [],
   "source": [
    "def load_batch(files, n_pos=32, n_neg=32):\n",
    "    \n",
    "    X = []\n",
    "    Y = []\n",
    "    \n",
    "    for fn in files:\n",
    "        _x, _y = load_file(fn, n_pos=n_pos, n_neg=n_neg)\n",
    "        X.append(_x)\n",
    "        Y.append(_y)\n",
    "        \n",
    "    X = np.concatenate(X, axis=0)\n",
    "    Y = np.concatenate(Y, axis=0)\n",
    "    \n",
    "    return X, Y"
   ]
  },
  {
   "cell_type": "code",
   "execution_count": 24,
   "metadata": {
    "collapsed": false
   },
   "outputs": [],
   "source": [
    "files = sorted(glob.glob('../data/labeled_features/SALAMI_*_beats.npz'))\n",
    "#files = sorted(glob.glob('../data/labeled_features/Isophonics_*_beats.npz'))"
   ]
  },
  {
   "cell_type": "code",
   "execution_count": 7,
   "metadata": {
    "collapsed": true
   },
   "outputs": [],
   "source": [
    "filesplitter = sklearn.cross_validation.ShuffleSplit(len(files), n_iter=1, test_size=0.10, random_state=5)\n",
    "_files = np.asarray(files)"
   ]
  },
  {
   "cell_type": "code",
   "execution_count": 9,
   "metadata": {
    "collapsed": true
   },
   "outputs": [],
   "source": [
    "import sklearn.ensemble"
   ]
  },
  {
   "cell_type": "code",
   "execution_count": 11,
   "metadata": {
    "collapsed": false
   },
   "outputs": [
    {
     "name": "stdout",
     "output_type": "stream",
     "text": [
      "Loading training data...\n",
      "Fitting 3 folds for each of 18 candidates, totalling 54 fits\n"
     ]
    },
    {
     "name": "stderr",
     "output_type": "stream",
     "text": [
      "[Parallel(n_jobs=3)]: Done   1 jobs       | elapsed:    1.8s\n",
      "[Parallel(n_jobs=3)]: Done  50 out of  54 | elapsed:   31.6s remaining:    2.5s\n",
      "[Parallel(n_jobs=3)]: Done  54 out of  54 | elapsed:   33.8s finished\n"
     ]
    },
    {
     "name": "stdout",
     "output_type": "stream",
     "text": [
      "-- Epoch 1\n",
      "Norm: 0.09, NNZs: 420, Bias: 0.222566, T: 47865, Avg. loss: 0.667467-- Epoch 1\n",
      "-- Epoch 1\n",
      "-- Epoch 1\n",
      "Norm: 268.92, NNZs: 60, Bias: -0.244512, T: 31909, Avg. loss: 12.960512Norm: 292.39, NNZs: 61, Bias: 0.040809, T: 31910, Avg. loss: 16.975754Norm: 276.04, NNZs: 66, Bias: -0.247211, T: 31911, Avg. loss: 14.126901\n",
      "\n",
      "\n",
      "Total training time: 0.16 seconds.\n",
      "Total training time: 0.24 seconds.\n",
      "Total training time: 0.19 seconds.\n",
      "-- Epoch 2\n",
      "-- Epoch 2\n",
      "-- Epoch 2\n",
      "Norm: 271.51, NNZs: 34, Bias: 0.131293, T: 63818, Avg. loss: 6.839872Norm: 294.85, NNZs: 48, Bias: -0.053072, T: 63820, Avg. loss: 8.846582Norm: 278.56, NNZs: 56, Bias: 0.072325, T: 63822, Avg. loss: 7.416908\n",
      "\n",
      "\n",
      "Total training time: 0.31 seconds.\n",
      "Total training time: 0.47 seconds.\n",
      "Total training time: 0.41 seconds.\n",
      "-- Epoch 3\n",
      "-- Epoch 3\n",
      "-- Epoch 3\n",
      "Norm: 272.29, NNZs: 58, Bias: 0.096044, T: 95727, Avg. loss: 4.785857Norm: 295.59, NNZs: 45, Bias: 0.100669, T: 95730, Avg. loss: 6.124155Norm: 279.32, NNZs: 59, Bias: 0.170659, T: 95733, Avg. loss: 5.170360\n",
      "\n",
      "\n",
      "Total training time: 0.46 seconds.\n",
      "Total training time: 0.70 seconds.\n",
      "Total training time: 0.63 seconds.\n",
      "-- Epoch 4\n",
      "-- Epoch 4\n",
      "-- Epoch 4\n",
      "Norm: 272.65, NNZs: 67, Bias: 0.101722, T: 127636, Avg. loss: 3.755593Norm: 295.95, NNZs: 61, Bias: 0.106537, T: 127640, Avg. loss: 4.759993Norm: 279.69, NNZs: 62, Bias: 0.008253, T: 127644, Avg. loss: 4.044983\n",
      "\n",
      "\n",
      "Total training time: 0.66 seconds.\n",
      "Total training time: 0.93 seconds.\n",
      "Total training time: 0.82 seconds.\n",
      "-- Epoch 5\n",
      "-- Epoch 5\n",
      "-- Epoch 5\n",
      "Norm: 272.85, NNZs: 66, Bias: 0.129917, T: 159545, Avg. loss: 3.137292Norm: 296.16, NNZs: 69, Bias: 0.027210, T: 159550, Avg. loss: 3.940591Norm: 279.90, NNZs: 76, Bias: 0.047308, T: 159555, Avg. loss: 3.368972\n",
      "\n",
      "\n",
      "Total training time: 0.89 seconds.\n",
      "Total training time: 1.17 seconds.\n",
      "Total training time: 1.05 seconds.\n",
      "-- Epoch 1-- Epoch 1-- Epoch 1\n",
      "\n",
      "\n",
      "Norm: 7.78, NNZs: 420, Bias: -1.103875, T: 31909, Avg. loss: 10.341431Norm: 8.25, NNZs: 420, Bias: -1.500431, T: 31910, Avg. loss: 10.789930Norm: 45.87, NNZs: 109, Bias: -0.242149, T: 31909, Avg. loss: 8.781764\n",
      "\n",
      "\n",
      "Total training time: 0.06 seconds.\n",
      "Total training time: 0.06 seconds.\n",
      "Total training time: 0.20 seconds.\n",
      "-- Epoch 2\n",
      "-- Epoch 2\n",
      "-- Epoch 2\n",
      "Norm: 4.17, NNZs: 420, Bias: -1.161190, T: 63818, Avg. loss: 6.046892Norm: 4.17, NNZs: 420, Bias: -0.761232, T: 63820, Avg. loss: 6.299108Norm: 36.90, NNZs: 109, Bias: -0.349320, T: 63818, Avg. loss: 4.820133\n",
      "\n",
      "\n",
      "Total training time: 0.15 seconds.\n",
      "Total training time: 0.13 seconds.\n",
      "Total training time: 0.42 seconds.\n",
      "-- Epoch 3\n",
      "-- Epoch 3\n",
      "-- Epoch 3\n",
      "Norm: 2.94, NNZs: 420, Bias: -0.366610, T: 95727, Avg. loss: 4.429210Norm: 2.89, NNZs: 420, Bias: -0.337662, T: 95730, Avg. loss: 4.601119Norm: 30.92, NNZs: 136, Bias: -0.137892, T: 95727, Avg. loss: 3.461495\n",
      "\n",
      "\n",
      "Total training time: 0.24 seconds.\n",
      "Total training time: 0.19 seconds.\n",
      "Total training time: 0.66 seconds.\n",
      "-- Epoch 4\n",
      "-- Epoch 4\n",
      "-- Epoch 4\n",
      "Norm: 2.22, NNZs: 420, Bias: -0.154281, T: 127636, Avg. loss: 3.568052Norm: 2.31, NNZs: 420, Bias: -0.097168, T: 127640, Avg. loss: 3.700108Norm: 26.83, NNZs: 140, Bias: 0.084348, T: 127636, Avg. loss: 2.775815\n",
      "\n",
      "\n",
      "Total training time: 0.33 seconds.\n",
      "Total training time: 0.25 seconds.\n",
      "Total training time: 0.91 seconds.\n",
      "-- Epoch 5\n",
      "-- Epoch 5\n",
      "-- Epoch 5\n",
      "Norm: 1.98, NNZs: 420, Bias: -0.200520, T: 159545, Avg. loss: 3.036148Norm: 2.06, NNZs: 420, Bias: -0.221569, T: 159550, Avg. loss: 3.140089Norm: 23.94, NNZs: 157, Bias: -0.031484, T: 159545, Avg. loss: 2.362406\n",
      "\n",
      "\n",
      "Total training time: 0.42 seconds.\n",
      "Total training time: 0.31 seconds.\n",
      "Total training time: 1.16 seconds.\n",
      "-- Epoch 1-- Epoch 1-- Epoch 1\n",
      "\n",
      "\n",
      "Norm: 7.91, NNZs: 420, Bias: -1.109741, T: 31911, Avg. loss: 10.067470Norm: 46.12, NNZs: 123, Bias: 0.112539, T: 31910, Avg. loss: 9.898549Norm: 134.06, NNZs: 20, Bias: 0.172344, T: 31909, Avg. loss: 2.668778\n",
      "\n",
      "\n",
      "Total training time: 0.06 seconds.\n",
      "Total training time: 0.25 seconds.\n",
      "Total training time: 0.20 seconds.\n",
      "-- Epoch 2\n",
      "-- Epoch 2\n",
      "-- Epoch 2\n",
      "Norm: 3.96, NNZs: 420, Bias: -0.657131, T: 63822, Avg. loss: 5.889356Norm: 36.80, NNZs: 120, Bias: -0.156011, T: 63820, Avg. loss: 5.383844Norm: 134.11, NNZs: 22, Bias: 0.167804, T: 63818, Avg. loss: 1.659093\n",
      "\n",
      "\n",
      "Total training time: 0.12 seconds.\n",
      "Total training time: 0.50 seconds.\n",
      "Total training time: 0.40 seconds.\n",
      "-- Epoch 3\n",
      "-- Epoch 3\n",
      "-- Epoch 3\n",
      "Norm: 2.97, NNZs: 420, Bias: -0.392810, T: 95733, Avg. loss: 4.319604Norm: 30.94, NNZs: 135, Bias: 0.024878, T: 95730, Avg. loss: 3.842614Norm: 134.13, NNZs: 25, Bias: 0.193940, T: 95727, Avg. loss: 1.322090\n",
      "\n",
      "\n",
      "Total training time: 0.18 seconds.\n",
      "Total training time: 0.73 seconds.\n",
      "Total training time: 0.60 seconds.\n",
      "-- Epoch 4\n",
      "-- Epoch 4\n",
      "-- Epoch 4\n",
      "Norm: 2.19, NNZs: 420, Bias: -0.206668, T: 127644, Avg. loss: 3.491306Norm: 26.98, NNZs: 153, Bias: 0.062564, T: 127640, Avg. loss: 3.064970Norm: 134.13, NNZs: 25, Bias: 0.195691, T: 127636, Avg. loss: 1.153439\n",
      "\n",
      "\n",
      "Total training time: 0.24 seconds.\n",
      "Total training time: 1.13 seconds.\n",
      "Total training time: 0.80 seconds.\n",
      "-- Epoch 5\n",
      "-- Epoch 5\n",
      "-- Epoch 5\n",
      "Norm: 1.89, NNZs: 420, Bias: -0.336795, T: 159555, Avg. loss: 2.969143Norm: 24.07, NNZs: 174, Bias: -0.053617, T: 159550, Avg. loss: 2.594874Norm: 134.14, NNZs: 26, Bias: 0.154660, T: 159545, Avg. loss: 1.052275\n",
      "\n",
      "\n",
      "Total training time: 0.30 seconds.\n",
      "Total training time: 1.39 seconds.\n",
      "Total training time: 1.02 seconds.\n",
      "-- Epoch 1-- Epoch 1-- Epoch 1\n",
      "\n",
      "\n",
      "Norm: 45.15, NNZs: 124, Bias: -0.357078, T: 31911, Avg. loss: 9.615542Norm: 134.21, NNZs: 17, Bias: 0.116132, T: 31910, Avg. loss: 2.257987Norm: 1.14, NNZs: 420, Bias: -0.004989, T: 31909, Avg. loss: 1.783352\n",
      "\n",
      "\n",
      "Total training time: 0.17 seconds.\n",
      "Total training time: 0.15 seconds.\n",
      "Total training time: 0.08 seconds.\n",
      "-- Epoch 2\n",
      "-- Epoch 2\n",
      "-- Epoch 2\n",
      "Norm: 36.08, NNZs: 113, Bias: 0.022195, T: 63822, Avg. loss: 5.231797Norm: 134.26, NNZs: 20, Bias: 0.131106, T: 63820, Avg. loss: 1.453486Norm: 0.86, NNZs: 420, Bias: 0.041213, T: 63818, Avg. loss: 1.237033\n",
      "\n",
      "\n",
      "Total training time: 0.39 seconds.\n",
      "Total training time: 0.32 seconds.\n",
      "Total training time: 0.17 seconds.\n",
      "-- Epoch 3\n",
      "-- Epoch 3\n",
      "-- Epoch 3\n",
      "Norm: 30.52, NNZs: 128, Bias: 0.073063, T: 95733, Avg. loss: 3.738870Norm: 134.28, NNZs: 20, Bias: 0.165467, T: 95730, Avg. loss: 1.184876Norm: 0.76, NNZs: 420, Bias: 0.051831, T: 95727, Avg. loss: 1.045142\n",
      "\n",
      "\n",
      "Total training time: 0.75 seconds.\n",
      "Total training time: 0.57 seconds.\n",
      "Total training time: 0.27 seconds.\n",
      "-- Epoch 4\n",
      "-- Epoch 4\n",
      "-- Epoch 4\n",
      "Norm: 26.63, NNZs: 139, Bias: 0.119796, T: 127644, Avg. loss: 2.983985Norm: 134.29, NNZs: 17, Bias: 0.147443, T: 127640, Avg. loss: 1.050552Norm: 0.73, NNZs: 420, Bias: 0.122783, T: 127636, Avg. loss: 0.946187\n",
      "\n",
      "\n",
      "Total training time: 1.01 seconds.\n",
      "Total training time: 0.80 seconds.\n",
      "Total training time: 0.36 seconds.\n",
      "-- Epoch 5\n",
      "-- Epoch 5\n",
      "-- Epoch 5\n",
      "Norm: 23.78, NNZs: 161, Bias: 0.043512, T: 159555, Avg. loss: 2.527557Norm: 134.29, NNZs: 18, Bias: 0.152979, T: 159550, Avg. loss: 0.969906Norm: 0.71, NNZs: 420, Bias: 0.135444, T: 159545, Avg. loss: 0.886089\n",
      "\n",
      "\n",
      "Total training time: 1.21 seconds.\n",
      "Total training time: 1.01 seconds.\n",
      "Total training time: 0.49 seconds.\n",
      "-- Epoch 1-- Epoch 1-- Epoch 1\n",
      "\n",
      "\n",
      "Norm: 111.94, NNZs: 16, Bias: 0.181937, T: 31911, Avg. loss: 1.353091\n",
      "Total training time: 0.06 seconds.\n",
      "-- Epoch 2\n",
      "Norm: 0.08, NNZs: 420, Bias: 0.211996, T: 95730, Avg. loss: 0.656679Norm: 1.17, NNZs: 420, Bias: -0.033104, T: 31910, Avg. loss: 1.751620Norm: 5.65, NNZs: 61, Bias: 0.145504, T: 31909, Avg. loss: 1.404953\n",
      "\n",
      "\n",
      "Total training time: 0.16 seconds.\n",
      "Total training time: 0.08 seconds.\n",
      "Total training time: 0.18 seconds.\n",
      "-- Epoch 2\n",
      "-- Epoch 2\n",
      "-- Epoch 2\n",
      "Norm: 112.00, NNZs: 21, Bias: 0.170819, T: 63822, Avg. loss: 1.000705Norm: 0.84, NNZs: 420, Bias: 0.060829, T: 63820, Avg. loss: 1.222314Norm: 4.01, NNZs: 85, Bias: 0.115863, T: 63818, Avg. loss: 1.025261\n",
      "\n",
      "\n",
      "Total training time: 0.37 seconds.\n",
      "Total training time: 0.14 seconds.\n",
      "Total training time: 0.40 seconds.\n",
      "-- Epoch 3\n",
      "-- Epoch 3\n",
      "-- Epoch 3\n",
      "Norm: 112.02, NNZs: 23, Bias: 0.153151, T: 95733, Avg. loss: 0.882720Norm: 0.78, NNZs: 420, Bias: 0.092590, T: 95730, Avg. loss: 1.035017Norm: 3.28, NNZs: 96, Bias: 0.172830, T: 95727, Avg. loss: 0.897435\n",
      "\n",
      "\n",
      "Total training time: 0.59 seconds.\n",
      "Total training time: 0.20 seconds.\n",
      "Total training time: 0.58 seconds.\n",
      "-- Epoch 4\n",
      "-- Epoch 4\n",
      "-- Epoch 4\n",
      "Norm: 112.03, NNZs: 24, Bias: 0.204767, T: 127644, Avg. loss: 0.823462Norm: 0.73, NNZs: 420, Bias: 0.087609, T: 127640, Avg. loss: 0.939577Norm: 2.85, NNZs: 97, Bias: 0.133401, T: 127636, Avg. loss: 0.833120\n",
      "\n",
      "\n",
      "Total training time: 0.77 seconds.\n",
      "Total training time: 0.26 seconds.\n",
      "Total training time: 0.83 seconds.\n",
      "-- Epoch 5\n",
      "-- Epoch 5\n",
      "-- Epoch 5\n",
      "Norm: 112.04, NNZs: 24, Bias: 0.131012, T: 159555, Avg. loss: 0.787901Norm: 0.71, NNZs: 420, Bias: 0.077435, T: 159550, Avg. loss: 0.881032Norm: 2.57, NNZs: 110, Bias: 0.142351, T: 159545, Avg. loss: 0.794427\n",
      "\n",
      "\n",
      "Total training time: 0.99 seconds.\n",
      "Total training time: 0.33 seconds.\n",
      "Total training time: 1.07 seconds.\n",
      "-- Epoch 1-- Epoch 1-- Epoch 1\n",
      "\n",
      "\n",
      "Norm: 1.19, NNZs: 420, Bias: 0.031152, T: 31911, Avg. loss: 1.636639Norm: 5.82, NNZs: 44, Bias: 0.127693, T: 31910, Avg. loss: 1.121108Norm: 31.83, NNZs: 0, Bias: 0.183240, T: 31909, Avg. loss: 0.692871\n",
      "\n",
      "\n",
      "Total training time: 0.09 seconds.\n",
      "Total training time: 0.24 seconds.\n",
      "Total training time: 0.16 seconds.\n",
      "-- Epoch 2\n",
      "-- Epoch 2\n",
      "-- Epoch 2\n",
      "Norm: 0.87, NNZs: 420, Bias: 0.096005, T: 63822, Avg. loss: 1.164348Norm: 4.12, NNZs: 65, Bias: 0.136889, T: 63820, Avg. loss: 0.883256Norm: 31.83, NNZs: 0, Bias: 0.188618, T: 63818, Avg. loss: 0.690895\n",
      "\n",
      "\n",
      "Total training time: 0.15 seconds.\n",
      "Total training time: 0.48 seconds.\n",
      "Total training time: 0.36 seconds.\n",
      "-- Epoch 3\n",
      "-- Epoch 3\n",
      "-- Epoch 3\n",
      "Norm: 0.75, NNZs: 420, Bias: 0.042021, T: 95733, Avg. loss: 0.996205Norm: 3.37, NNZs: 85, Bias: 0.110456, T: 95730, Avg. loss: 0.803106Norm: 31.83, NNZs: 0, Bias: 0.183607, T: 95727, Avg. loss: 0.690234\n",
      "\n",
      "\n",
      "Total training time: 0.21 seconds.\n",
      "Total training time: 0.69 seconds.\n",
      "Total training time: 0.56 seconds.\n",
      "-- Epoch 4\n",
      "-- Epoch 4\n",
      "-- Epoch 4\n",
      "Norm: 0.73, NNZs: 420, Bias: 0.117792, T: 127644, Avg. loss: 0.909671Norm: 2.92, NNZs: 92, Bias: 0.115829, T: 127640, Avg. loss: 0.762665Norm: 31.83, NNZs: 0, Bias: 0.184258, T: 127636, Avg. loss: 0.689903\n",
      "\n",
      "\n",
      "Total training time: 0.28 seconds.\n",
      "Total training time: 0.96 seconds.\n",
      "Total training time: 0.76 seconds.\n",
      "-- Epoch 5\n",
      "-- Epoch 5\n",
      "-- Epoch 5\n",
      "Norm: 0.71, NNZs: 420, Bias: 0.117049, T: 159555, Avg. loss: 0.856743Norm: 2.62, NNZs: 92, Bias: 0.130062, T: 159550, Avg. loss: 0.738255Norm: 31.83, NNZs: 0, Bias: 0.184601, T: 159545, Avg. loss: 0.689704\n",
      "\n",
      "\n",
      "Total training time: 0.35 seconds.\n",
      "Total training time: 1.23 seconds.\n",
      "Total training time: 0.96 seconds.\n",
      "-- Epoch 1-- Epoch 1-- Epoch 1\n",
      "\n",
      "\n",
      "Norm: 5.68, NNZs: 42, Bias: 0.113096, T: 31911, Avg. loss: 1.302224Norm: 39.58, NNZs: 0, Bias: 0.177734, T: 31910, Avg. loss: 0.701531Norm: 0.33, NNZs: 420, Bias: 0.132127, T: 31909, Avg. loss: 0.698412\n",
      "\n",
      "\n",
      "Total training time: 0.19 seconds.\n",
      "Total training time: 0.14 seconds.\n",
      "Total training time: 0.09 seconds.\n",
      "-- Epoch 2\n",
      "-- Epoch 2\n",
      "-- Epoch 2\n",
      "Norm: 4.02, NNZs: 67, Bias: 0.175540, T: 63822, Avg. loss: 0.973220Norm: 39.58, NNZs: 0, Bias: 0.183445, T: 63820, Avg. loss: 0.695227Norm: 0.31, NNZs: 420, Bias: 0.137338, T: 63818, Avg. loss: 0.668509\n",
      "\n",
      "\n",
      "Total training time: 0.43 seconds.\n",
      "Total training time: 0.39 seconds.\n",
      "Total training time: 0.21 seconds.\n",
      "-- Epoch 3\n",
      "-- Epoch 3\n",
      "-- Epoch 3\n",
      "Norm: 3.30, NNZs: 80, Bias: 0.136795, T: 95733, Avg. loss: 0.862585Norm: 39.58, NNZs: 0, Bias: 0.184269, T: 95730, Avg. loss: 0.693122Norm: 0.30, NNZs: 420, Bias: 0.141492, T: 95727, Avg. loss: 0.657964\n",
      "\n",
      "\n",
      "Total training time: 0.68 seconds.\n",
      "Total training time: 0.59 seconds.\n",
      "Total training time: 0.31 seconds.\n",
      "-- Epoch 4\n",
      "-- Epoch 4\n",
      "-- Epoch 4\n",
      "Norm: 2.87, NNZs: 90, Bias: 0.145240, T: 127644, Avg. loss: 0.806836Norm: 39.58, NNZs: 0, Bias: 0.183928, T: 127640, Avg. loss: 0.692069Norm: 0.30, NNZs: 420, Bias: 0.143144, T: 127636, Avg. loss: 0.652584\n",
      "\n",
      "\n",
      "Total training time: 0.86 seconds.\n",
      "Total training time: 0.77 seconds.\n",
      "Total training time: 0.40 seconds.\n",
      "-- Epoch 5\n",
      "-- Epoch 5\n",
      "-- Epoch 5\n",
      "Norm: 2.58, NNZs: 99, Bias: 0.141790, T: 159555, Avg. loss: 0.773252Norm: 39.58, NNZs: 0, Bias: 0.184635, T: 159550, Avg. loss: 0.691436Norm: 0.30, NNZs: 420, Bias: 0.143901, T: 159545, Avg. loss: 0.649240\n",
      "\n",
      "\n",
      "Total training time: 1.08 seconds.\n",
      "Total training time: 0.99 seconds.\n",
      "Total training time: 0.49 seconds.\n",
      "-- Epoch 1-- Epoch 1-- Epoch 1\n",
      "\n",
      "\n",
      "Norm: 59.16, NNZs: 0, Bias: 0.194975, T: 31911, Avg. loss: 0.769647Norm: 0.31, NNZs: 420, Bias: 0.098027, T: 31910, Avg. loss: 0.891877Norm: 0.72, NNZs: 33, Bias: 0.169735, T: 31909, Avg. loss: 0.668133\n",
      "\n",
      "\n",
      "Total training time: 0.21 seconds.\n",
      "Total training time: 0.07 seconds.\n",
      "Total training time: 0.18 seconds.\n",
      "-- Epoch 2\n",
      "-- Epoch 2\n",
      "-- Epoch 2\n",
      "Norm: 59.17, NNZs: 0, Bias: 0.190536, T: 63822, Avg. loss: 0.729287Norm: 0.29, NNZs: 420, Bias: 0.116859, T: 63820, Avg. loss: 0.765729Norm: 0.58, NNZs: 37, Bias: 0.173058, T: 63818, Avg. loss: 0.658533\n",
      "\n",
      "\n",
      "Total training time: 0.42 seconds.\n",
      "Total training time: 0.15 seconds.\n",
      "Total training time: 0.39 seconds.\n",
      "-- Epoch 3\n",
      "-- Epoch 3\n",
      "-- Epoch 3\n",
      "Norm: 59.17, NNZs: 0, Bias: 0.187098, T: 95733, Avg. loss: 0.715830Norm: 0.29, NNZs: 420, Bias: 0.126156, T: 95730, Avg. loss: 0.723325Norm: 0.53, NNZs: 42, Bias: 0.173350, T: 95727, Avg. loss: 0.655265\n",
      "\n",
      "\n",
      "Total training time: 0.62 seconds.\n",
      "Total training time: 0.23 seconds.\n",
      "Total training time: 0.61 seconds.\n",
      "-- Epoch 4\n",
      "-- Epoch 4\n",
      "-- Epoch 4\n",
      "Norm: 59.17, NNZs: 0, Bias: 0.185518, T: 127644, Avg. loss: 0.709100Norm: 0.29, NNZs: 420, Bias: 0.132399, T: 127640, Avg. loss: 0.701846Norm: 0.51, NNZs: 41, Bias: 0.172254, T: 127636, Avg. loss: 0.653510\n",
      "\n",
      "\n",
      "Total training time: 0.83 seconds.\n",
      "Total training time: 0.32 seconds.\n",
      "Total training time: 0.85 seconds.\n",
      "-- Epoch 5\n",
      "-- Epoch 5\n",
      "-- Epoch 5\n",
      "Norm: 59.17, NNZs: 0, Bias: 0.184998, T: 159555, Avg. loss: 0.705062Norm: 0.29, NNZs: 420, Bias: 0.134330, T: 159550, Avg. loss: 0.688841Norm: 0.49, NNZs: 42, Bias: 0.171511, T: 159545, Avg. loss: 0.652439\n",
      "\n",
      "\n",
      "Total training time: 1.05 seconds.\n",
      "Total training time: 0.40 seconds.\n",
      "Total training time: 1.18 seconds.\n",
      "-- Epoch 1-- Epoch 1-- Epoch 1\n",
      "\n",
      "\n",
      "Norm: 0.32, NNZs: 420, Bias: 0.119492, T: 31911, Avg. loss: 0.696386Norm: 0.73, NNZs: 41, Bias: 0.165973, T: 31910, Avg. loss: 0.710523Norm: 15.96, NNZs: 0, Bias: 0.017169, T: 31909, Avg. loss: 0.695541\n",
      "\n",
      "\n",
      "Total training time: 0.14 seconds.\n",
      "-- Epoch 3\n",
      "Norm: 0.09, NNZs: 420, Bias: 0.206794, T: 143595, Avg. loss: 0.653041\n",
      "Total training time: 0.06 seconds.\n",
      "Total training time: 0.22 seconds.\n",
      "Total training time: 0.19 seconds.\n",
      "-- Epoch 2\n",
      "-- Epoch 2\n",
      "-- Epoch 2\n",
      "Norm: 0.31, NNZs: 420, Bias: 0.139317, T: 63822, Avg. loss: 0.667617Norm: 0.59, NNZs: 42, Bias: 0.164337, T: 63820, Avg. loss: 0.679727Norm: 15.96, NNZs: 0, Bias: 0.044026, T: 63818, Avg. loss: 0.693667\n",
      "\n",
      "\n",
      "Total training time: 0.12 seconds.\n",
      "Total training time: 0.59 seconds.\n",
      "Total training time: 0.40 seconds.\n",
      "-- Epoch 3\n",
      "-- Epoch 3\n",
      "-- Epoch 3\n",
      "Norm: 0.30, NNZs: 420, Bias: 0.140860, T: 95733, Avg. loss: 0.657243Norm: 0.53, NNZs: 43, Bias: 0.169171, T: 95730, Avg. loss: 0.669291Norm: 15.96, NNZs: 0, Bias: 0.057546, T: 95727, Avg. loss: 0.692816\n",
      "\n",
      "\n",
      "Total training time: 0.18 seconds.\n",
      "Total training time: 0.84 seconds.\n",
      "Total training time: 0.66 seconds.\n",
      "-- Epoch 4\n",
      "-- Epoch 4\n",
      "-- Epoch 4\n",
      "Norm: 0.30, NNZs: 420, Bias: 0.142609, T: 127644, Avg. loss: 0.651868Norm: 0.51, NNZs: 46, Bias: 0.169500, T: 127640, Avg. loss: 0.664057Norm: 15.96, NNZs: 0, Bias: 0.066254, T: 127636, Avg. loss: 0.692305\n",
      "\n",
      "\n",
      "Total training time: 0.25 seconds.\n",
      "Total training time: 1.08 seconds.\n",
      "Total training time: 0.86 seconds.\n",
      "-- Epoch 5\n",
      "-- Epoch 5\n",
      "-- Epoch 5\n",
      "Norm: 0.30, NNZs: 420, Bias: 0.142907, T: 159555, Avg. loss: 0.648508Norm: 0.49, NNZs: 46, Bias: 0.169258, T: 159550, Avg. loss: 0.660827Norm: 15.96, NNZs: 0, Bias: 0.072640, T: 159545, Avg. loss: 0.691953\n",
      "\n",
      "\n",
      "Total training time: 0.31 seconds.\n",
      "Total training time: 1.32 seconds.\n",
      "Total training time: 1.06 seconds.\n",
      "-- Epoch 1-- Epoch 1-- Epoch 1\n",
      "\n",
      "\n",
      "Norm: 0.72, NNZs: 33, Bias: 0.171139, T: 31911, Avg. loss: 0.667871Norm: 8.31, NNZs: 0, Bias: 0.093253, T: 31910, Avg. loss: 0.690870Norm: 0.10, NNZs: 420, Bias: 0.176180, T: 31909, Avg. loss: 0.649440\n",
      "\n",
      "\n",
      "Total training time: 0.24 seconds.\n",
      "Total training time: 0.14 seconds.\n",
      "Total training time: 0.11 seconds.\n",
      "-- Epoch 2\n",
      "-- Epoch 2\n",
      "-- Epoch 2\n",
      "Norm: 0.59, NNZs: 36, Bias: 0.166537, T: 63822, Avg. loss: 0.657857Norm: 8.31, NNZs: 0, Bias: 0.107687, T: 63820, Avg. loss: 0.690317Norm: 0.09, NNZs: 420, Bias: 0.173272, T: 63818, Avg. loss: 0.647026\n",
      "\n",
      "\n",
      "Total training time: 0.48 seconds.\n",
      "Total training time: 0.38 seconds.\n",
      "Total training time: 0.20 seconds.\n",
      "-- Epoch 3\n",
      "-- Epoch 3\n",
      "-- Epoch 3\n",
      "Norm: 0.54, NNZs: 37, Bias: 0.168120, T: 95733, Avg. loss: 0.654314Norm: 8.31, NNZs: 0, Bias: 0.115095, T: 95730, Avg. loss: 0.690065Norm: 0.09, NNZs: 420, Bias: 0.172082, T: 95727, Avg. loss: 0.646169\n",
      "\n",
      "\n",
      "Total training time: 0.72 seconds.\n",
      "Total training time: 0.58 seconds.\n",
      "Total training time: 0.29 seconds.\n",
      "-- Epoch 4\n",
      "-- Epoch 4\n",
      "-- Epoch 4\n",
      "Norm: 0.51, NNZs: 40, Bias: 0.165233, T: 127644, Avg. loss: 0.652533Norm: 8.31, NNZs: 0, Bias: 0.119813, T: 127640, Avg. loss: 0.689914Norm: 0.09, NNZs: 420, Bias: 0.171172, T: 127636, Avg. loss: 0.645717\n",
      "\n",
      "\n",
      "Total training time: 0.88 seconds.\n",
      "Total training time: 0.74 seconds.\n",
      "Total training time: 0.38 seconds.\n",
      "-- Epoch 5\n",
      "-- Epoch 5\n",
      "-- Epoch 5\n",
      "Norm: 0.50, NNZs: 40, Bias: 0.164881, T: 159555, Avg. loss: 0.651482Norm: 8.31, NNZs: 0, Bias: 0.123265, T: 159550, Avg. loss: 0.689810Norm: 0.09, NNZs: 420, Bias: 0.170539, T: 159545, Avg. loss: 0.645449\n",
      "\n",
      "\n",
      "Total training time: 1.19 seconds.\n",
      "Total training time: 0.93 seconds.\n",
      "Total training time: 0.50 seconds.\n",
      "-- Epoch 1-- Epoch 1-- Epoch 1\n",
      "\n",
      "\n",
      "Norm: 5.82, NNZs: 0, Bias: 0.110438, T: 31911, Avg. loss: 0.690581Norm: 0.09, NNZs: 420, Bias: -0.222703, T: 31910, Avg. loss: 0.672954Norm: 0.07, NNZs: 0, Bias: 0.086435, T: 31909, Avg. loss: 0.691855\n",
      "\n",
      "\n",
      "Total training time: 0.15 seconds.\n",
      "Total training time: 0.08 seconds.\n",
      "Total training time: 0.25 seconds.\n",
      "-- Epoch 2\n",
      "-- Epoch 2\n",
      "-- Epoch 2\n",
      "Norm: 5.82, NNZs: 0, Bias: 0.122187, T: 63822, Avg. loss: 0.690026Norm: 0.10, NNZs: 420, Bias: -0.170835, T: 63820, Avg. loss: 0.664959Norm: 0.05, NNZs: 0, Bias: 0.102467, T: 63818, Avg. loss: 0.690873\n",
      "\n",
      "\n",
      "Total training time: 0.44 seconds.\n",
      "Total training time: 0.15 seconds.\n",
      "Total training time: 0.47 seconds.\n",
      "-- Epoch 3\n",
      "-- Epoch 3\n",
      "-- Epoch 3\n",
      "Norm: 5.82, NNZs: 0, Bias: 0.128129, T: 95733, Avg. loss: 0.689797Norm: 0.09, NNZs: 420, Bias: -0.144050, T: 95730, Avg. loss: 0.661385Norm: 0.04, NNZs: 0, Bias: 0.110382, T: 95727, Avg. loss: 0.690468\n",
      "\n",
      "\n",
      "Total training time: 0.64 seconds.\n",
      "Total training time: 0.24 seconds.\n",
      "Total training time: 0.74 seconds.\n",
      "-- Epoch 4\n",
      "-- Epoch 4\n",
      "-- Epoch 4\n",
      "Norm: 5.82, NNZs: 0, Bias: 0.132138, T: 127644, Avg. loss: 0.689665Norm: 0.09, NNZs: 420, Bias: -0.126297, T: 127640, Avg. loss: 0.659237Norm: 0.03, NNZs: 0, Bias: 0.115572, T: 127636, Avg. loss: 0.690235\n",
      "\n",
      "\n",
      "Total training time: 0.89 seconds.\n",
      "Total training time: 0.33 seconds.\n",
      "Total training time: 1.10 seconds.\n",
      "-- Epoch 5\n",
      "-- Epoch 5\n",
      "-- Epoch 5\n",
      "Norm: 5.82, NNZs: 0, Bias: 0.135004, T: 159555, Avg. loss: 0.689577Norm: 0.09, NNZs: 420, Bias: -0.113223, T: 159550, Avg. loss: 0.657763Norm: 0.03, NNZs: 0, Bias: 0.119263, T: 159545, Avg. loss: 0.690081\n",
      "\n",
      "\n",
      "Total training time: 1.10 seconds.\n",
      "Total training time: 0.42 seconds.\n",
      "Total training time: 1.49 seconds.\n",
      "-- Epoch 1-- Epoch 1-- Epoch 1\n",
      "\n",
      "\n",
      "Norm: 0.09, NNZs: 420, Bias: 0.016103, T: 31911, Avg. loss: 0.651301Norm: 0.07, NNZs: 0, Bias: 0.249588, T: 31910, Avg. loss: 0.690986Norm: 2.54, NNZs: 0, Bias: 0.252114, T: 31909, Avg. loss: 0.689496\n",
      "\n",
      "\n",
      "Total training time: 0.06 seconds.\n",
      "Total training time: 0.34 seconds.\n",
      "Total training time: 0.32 seconds.\n",
      "-- Epoch 2\n",
      "-- Epoch 2\n",
      "-- Epoch 2\n",
      "Norm: 0.10, NNZs: 420, Bias: 0.035047, T: 63822, Avg. loss: 0.648377Norm: 0.05, NNZs: 0, Bias: 0.239504, T: 63820, Avg. loss: 0.690159Norm: 2.54, NNZs: 0, Bias: 0.250944, T: 63818, Avg. loss: 0.689473\n",
      "\n",
      "\n",
      "Total training time: 0.14 seconds.\n",
      "Total training time: 0.64 seconds.\n",
      "Total training time: 0.53 seconds.\n",
      "-- Epoch 3\n",
      "-- Epoch 3\n",
      "-- Epoch 3\n",
      "Norm: 0.10, NNZs: 420, Bias: 0.044947, T: 95733, Avg. loss: 0.647247Norm: 0.04, NNZs: 0, Bias: 0.234400, T: 95730, Avg. loss: 0.689850Norm: 2.54, NNZs: 0, Bias: 0.250267, T: 95727, Avg. loss: 0.689461\n",
      "\n",
      "\n",
      "Total training time: 0.22 seconds.\n",
      "Total training time: 0.89 seconds.\n",
      "Total training time: 0.73 seconds.\n",
      "-- Epoch 4\n",
      "-- Epoch 4\n",
      "-- Epoch 4\n",
      "Norm: 0.10, NNZs: 420, Bias: 0.051284, T: 127644, Avg. loss: 0.646586Norm: 0.04, NNZs: 0, Bias: 0.230984, T: 127640, Avg. loss: 0.689683Norm: 2.54, NNZs: 0, Bias: 0.249803, T: 127636, Avg. loss: 0.689452\n",
      "\n",
      "\n",
      "Total training time: 0.31 seconds.\n",
      "Total training time: 1.17 seconds.\n",
      "Total training time: 0.92 seconds.\n",
      "-- Epoch 5\n",
      "-- Epoch 5\n",
      "-- Epoch 5\n",
      "Norm: 0.10, NNZs: 420, Bias: 0.055984, T: 159555, Avg. loss: 0.646142Norm: 0.03, NNZs: 0, Bias: 0.228520, T: 159550, Avg. loss: 0.689576Norm: 2.54, NNZs: 0, Bias: 0.249445, T: 159545, Avg. loss: 0.689446\n",
      "\n",
      "\n",
      "Total training time: 0.40 seconds.\n",
      "Total training time: 1.49 seconds.\n",
      "Total training time: 1.14 seconds.\n",
      "-- Epoch 1-- Epoch 1-- Epoch 1\n",
      "\n",
      "\n",
      "Norm: 0.07, NNZs: 0, Bias: 0.311751, T: 31911, Avg. loss: 0.692468Norm: 14.74, NNZs: 0, Bias: -0.231401, T: 31910, Avg. loss: 0.711626Norm: 0.04, NNZs: 420, Bias: 0.241116, T: 31909, Avg. loss: 0.654575\n",
      "\n",
      "\n",
      "Total training time: 0.24 seconds.\n",
      "Total training time: 0.24 seconds.\n",
      "Total training time: 0.09 seconds.\n",
      "\n",
      "Total training time: 0.21 seconds.\n",
      "-- Epoch 4\n",
      "Norm: 0.09, NNZs: 420, Bias: 0.203254, T: 191460, Avg. loss: 0.651170-- Epoch 2\n",
      "-- Epoch 2\n",
      "-- Epoch 2\n",
      "Norm: 0.05, NNZs: 0, Bias: 0.291614, T: 63822, Avg. loss: 0.691511Norm: 14.74, NNZs: 0, Bias: -0.224286, T: 63820, Avg. loss: 0.710851Norm: 0.04, NNZs: 420, Bias: 0.240007, T: 63818, Avg. loss: 0.654374\n",
      "\n",
      "\n",
      "Total training time: 0.58 seconds.\n",
      "Total training time: 0.51 seconds.\n",
      "Total training time: 0.18 seconds.\n",
      "-- Epoch 3\n",
      "-- Epoch 3\n",
      "-- Epoch 3\n",
      "Norm: 0.04, NNZs: 0, Bias: 0.281343, T: 95733, Avg. loss: 0.691064Norm: 14.74, NNZs: 0, Bias: -0.220159, T: 95730, Avg. loss: 0.710410Norm: 0.04, NNZs: 420, Bias: 0.239383, T: 95727, Avg. loss: 0.654317\n",
      "\n",
      "\n",
      "Total training time: 0.86 seconds.\n",
      "Total training time: 0.67 seconds.\n",
      "Total training time: 0.27 seconds.\n",
      "-- Epoch 4\n",
      "-- Epoch 4\n",
      "-- Epoch 4\n",
      "Norm: 0.04, NNZs: 0, Bias: 0.274796, T: 127644, Avg. loss: 0.690792Norm: 14.74, NNZs: 0, Bias: -0.217258, T: 127640, Avg. loss: 0.710103Norm: 0.04, NNZs: 420, Bias: 0.238950, T: 127636, Avg. loss: 0.654244\n",
      "\n",
      "\n",
      "Total training time: 1.06 seconds.\n",
      "Total training time: 0.87 seconds.\n",
      "Total training time: 0.37 seconds.\n",
      "-- Epoch 5\n",
      "-- Epoch 5\n",
      "-- Epoch 5\n",
      "Norm: 0.03, NNZs: 0, Bias: 0.270002, T: 159555, Avg. loss: 0.690603Norm: 14.74, NNZs: 0, Bias: -0.215031, T: 159550, Avg. loss: 0.709869Norm: 0.04, NNZs: 420, Bias: 0.238619, T: 159545, Avg. loss: 0.654244\n",
      "\n",
      "\n",
      "Total training time: 1.28 seconds.\n",
      "Total training time: 1.08 seconds.\n",
      "Total training time: 0.47 seconds.\n",
      "-- Epoch 1-- Epoch 1-- Epoch 1\n",
      "\n",
      "\n",
      "Norm: 2.35, NNZs: 0, Bias: 0.250323, T: 31911, Avg. loss: 0.689465Norm: 0.05, NNZs: 420, Bias: -0.298712, T: 31910, Avg. loss: 0.678381Norm: 0.01, NNZs: 0, Bias: -0.218390, T: 31909, Avg. loss: 0.710203\n",
      "\n",
      "\n",
      "Total training time: 0.15 seconds.\n",
      "Total training time: 0.06 seconds.\n",
      "Total training time: 0.17 seconds.\n",
      "-- Epoch 2\n",
      "-- Epoch 2\n",
      "-- Epoch 2\n",
      "Norm: 2.35, NNZs: 0, Bias: 0.249212, T: 63822, Avg. loss: 0.689444Norm: 0.04, NNZs: 420, Bias: -0.291165, T: 63820, Avg. loss: 0.677333Norm: 0.00, NNZs: 0, Bias: -0.211480, T: 63818, Avg. loss: 0.709486\n",
      "\n",
      "\n",
      "Total training time: 0.37 seconds.\n",
      "Total training time: 0.13 seconds.\n",
      "Total training time: 0.37 seconds.\n",
      "-- Epoch 3\n",
      "-- Epoch 3\n",
      "-- Epoch 3\n",
      "Norm: 2.35, NNZs: 0, Bias: 0.248576, T: 95733, Avg. loss: 0.689432Norm: 0.04, NNZs: 420, Bias: -0.286774, T: 95730, Avg. loss: 0.676826Norm: 0.00, NNZs: 0, Bias: -0.207505, T: 95727, Avg. loss: 0.709077\n",
      "\n",
      "\n",
      "Total training time: 0.57 seconds.\n",
      "Total training time: 0.19 seconds.\n",
      "Total training time: 0.57 seconds.\n",
      "-- Epoch 4\n",
      "-- Epoch 4\n",
      "-- Epoch 4\n",
      "Norm: 2.35, NNZs: 0, Bias: 0.248117, T: 127644, Avg. loss: 0.689424Norm: 0.04, NNZs: 420, Bias: -0.283698, T: 127640, Avg. loss: 0.676434Norm: 0.00, NNZs: 0, Bias: -0.204718, T: 127636, Avg. loss: 0.708791\n",
      "\n",
      "\n",
      "Total training time: 0.73 seconds.\n",
      "Total training time: 0.25 seconds.\n",
      "Total training time: 0.79 seconds.\n",
      "-- Epoch 5\n",
      "-- Epoch 5\n",
      "-- Epoch 5\n",
      "Norm: 2.35, NNZs: 0, Bias: 0.247767, T: 159555, Avg. loss: 0.689418Norm: 0.04, NNZs: 420, Bias: -0.281326, T: 159550, Avg. loss: 0.676152Norm: 0.00, NNZs: 0, Bias: -0.202556, T: 159545, Avg. loss: 0.708572\n",
      "\n",
      "\n",
      "Total training time: 0.96 seconds.\n",
      "Total training time: 0.32 seconds.\n",
      "Total training time: 1.01 seconds.\n",
      "-- Epoch 1-- Epoch 1-- Epoch 1\n",
      "\n",
      "\n",
      "Norm: 0.04, NNZs: 420, Bias: 0.227032, T: 31911, Avg. loss: 0.654298Norm: 0.01, NNZs: 0, Bias: -0.271320, T: 31910, Avg. loss: 0.716901Norm: 3.36, NNZs: 0, Bias: -0.151024, T: 31909, Avg. loss: 0.703025\n",
      "\n",
      "\n",
      "Total training time: 0.06 seconds.\n",
      "Total training time: 0.22 seconds.\n",
      "Total training time: 0.22 seconds.\n",
      "-- Epoch 2\n",
      "-- Epoch 2\n",
      "-- Epoch 2\n",
      "Norm: 0.04, NNZs: 420, Bias: 0.226065, T: 63822, Avg. loss: 0.654181Norm: 0.00, NNZs: 0, Bias: -0.263535, T: 63820, Avg. loss: 0.715615Norm: 3.36, NNZs: 0, Bias: -0.150445, T: 63818, Avg. loss: 0.702974\n",
      "\n",
      "\n",
      "Total training time: 0.12 seconds.\n",
      "Total training time: 0.44 seconds.\n",
      "Total training time: 0.43 seconds.\n",
      "-- Epoch 3\n",
      "-- Epoch 3\n",
      "-- Epoch 3\n",
      "Norm: 0.04, NNZs: 420, Bias: 0.225535, T: 95733, Avg. loss: 0.654050Norm: 0.00, NNZs: 0, Bias: -0.259055, T: 95730, Avg. loss: 0.714970Norm: 3.36, NNZs: 0, Bias: -0.150107, T: 95727, Avg. loss: 0.702945\n",
      "\n",
      "\n",
      "Total training time: 0.18 seconds.\n",
      "Total training time: 0.61 seconds.\n",
      "Total training time: 0.60 seconds.\n",
      "-- Epoch 4\n",
      "-- Epoch 4\n",
      "-- Epoch 4\n",
      "Norm: 0.04, NNZs: 420, Bias: 0.225145, T: 127644, Avg. loss: 0.654003Norm: 0.00, NNZs: 0, Bias: -0.255889, T: 127640, Avg. loss: 0.714543Norm: 3.36, NNZs: 0, Bias: -0.149867, T: 127636, Avg. loss: 0.702925\n",
      "\n",
      "\n",
      "Total training time: 0.24 seconds.\n",
      "Total training time: 0.82 seconds.\n",
      "Total training time: 0.74 seconds.\n",
      "-- Epoch 5\n",
      "-- Epoch 5\n",
      "-- Epoch 5\n",
      "Norm: 0.04, NNZs: 420, Bias: 0.224849, T: 159555, Avg. loss: 0.653990Norm: 0.00, NNZs: 0, Bias: -0.253451, T: 159550, Avg. loss: 0.714226Norm: 3.36, NNZs: 0, Bias: -0.149681, T: 159545, Avg. loss: 0.702909\n",
      "\n",
      "\n",
      "Total training time: 0.30 seconds.\n",
      "Total training time: 1.07 seconds.\n",
      "Total training time: 0.94 seconds.\n",
      "-- Epoch 1-- Epoch 1-- Epoch 1\n",
      "\n",
      "\n",
      "Norm: 0.01, NNZs: 0, Bias: -0.293151, T: 31911, Avg. loss: 0.718808Norm: 1.31, NNZs: 0, Bias: 0.153506, T: 31910, Avg. loss: 0.689022Norm: 0.01, NNZs: 420, Bias: -0.139118, T: 31909, Avg. loss: 0.686450\n",
      "\n",
      "\n",
      "Total training time: 0.20 seconds.\n",
      "Total training time: 0.19 seconds.\n",
      "Total training time: 0.06 seconds.\n",
      "-- Epoch 2\n",
      "-- Epoch 2\n",
      "-- Epoch 2\n",
      "Norm: 0.00, NNZs: 0, Bias: -0.284977, T: 63822, Avg. loss: 0.717810Norm: 1.31, NNZs: 0, Bias: 0.153558, T: 63820, Avg. loss: 0.689020Norm: 0.01, NNZs: 420, Bias: -0.138555, T: 63818, Avg. loss: 0.686385\n",
      "\n",
      "\n",
      "Total training time: 0.41 seconds.\n",
      "Total training time: 0.39 seconds.\n",
      "Total training time: 0.12 seconds.\n",
      "-- Epoch 3\n",
      "-- Epoch 3\n",
      "-- Epoch 3\n",
      "Norm: 0.00, NNZs: 0, Bias: -0.280264, T: 95733, Avg. loss: 0.717238Norm: 1.31, NNZs: 0, Bias: 0.153590, T: 95730, Avg. loss: 0.689019Norm: 0.01, NNZs: 420, Bias: -0.138228, T: 95727, Avg. loss: 0.686331\n",
      "\n",
      "\n",
      "Total training time: 0.62 seconds.\n",
      "Total training time: 0.58 seconds.\n",
      "Total training time: 0.18 seconds.\n",
      "-- Epoch 4\n",
      "-- Epoch 4\n",
      "-- Epoch 4\n",
      "Norm: 0.00, NNZs: 0, Bias: -0.276940, T: 127644, Avg. loss: 0.716838Norm: 1.31, NNZs: 0, Bias: 0.153612, T: 127640, Avg. loss: 0.689019Norm: 0.01, NNZs: 420, Bias: -0.137996, T: 127636, Avg. loss: 0.686321\n",
      "\n",
      "\n",
      "Total training time: 0.84 seconds.\n",
      "Total training time: 0.77 seconds.\n",
      "Total training time: 0.27 seconds.\n",
      "-- Epoch 5\n",
      "-- Epoch 5\n",
      "-- Epoch 5\n",
      "Norm: 0.00, NNZs: 0, Bias: -0.274384, T: 159555, Avg. loss: 0.716532Norm: 1.31, NNZs: 0, Bias: 0.153630, T: 159550, Avg. loss: 0.689018Norm: 0.01, NNZs: 420, Bias: -0.137816, T: 159545, Avg. loss: 0.686311\n",
      "\n",
      "\n",
      "Total training time: 1.06 seconds.\n",
      "Total training time: 0.97 seconds.\n",
      "Total training time: 0.36 seconds.\n",
      "-- Epoch 1-- Epoch 1-- Epoch 1\n",
      "\n",
      "\n",
      "Norm: 1.25, NNZs: 0, Bias: -0.153874, T: 31911, Avg. loss: 0.703263Norm: 0.01, NNZs: 420, Bias: 0.154633, T: 31910, Avg. loss: 0.673195Norm: 0.00, NNZs: 0, Bias: 0.151683, T: 31909, Avg. loss: 0.689039\n",
      "\n",
      "\n",
      "Total training time: 0.14 seconds.\n",
      "Total training time: 0.07 seconds.\n",
      "Total training time: 0.17 seconds.\n",
      "-- Epoch 2\n",
      "-- Epoch 2\n",
      "-- Epoch 2\n",
      "Norm: 1.25, NNZs: 0, Bias: -0.153299, T: 63822, Avg. loss: 0.703213\n",
      "Total training time: 0.28 seconds.\n",
      "-- Epoch 5\n",
      "Norm: 0.09, NNZs: 420, Bias: 0.200745, T: 239325, Avg. loss: 0.650041Norm: 0.01, NNZs: 420, Bias: 0.154682, T: 63820, Avg. loss: 0.673145Norm: 0.00, NNZs: 0, Bias: 0.151737, T: 63818, Avg. loss: 0.689037\n",
      "\n",
      "\n",
      "Total training time: 0.31 seconds.\n",
      "Total training time: 0.13 seconds.\n",
      "Total training time: 0.37 seconds.\n",
      "-- Epoch 3\n",
      "-- Epoch 3\n",
      "-- Epoch 3\n",
      "Norm: 1.25, NNZs: 0, Bias: -0.152957, T: 95733, Avg. loss: 0.703184Norm: 0.01, NNZs: 420, Bias: 0.154713, T: 95730, Avg. loss: 0.673134Norm: 0.00, NNZs: 0, Bias: 0.151768, T: 95727, Avg. loss: 0.689036\n",
      "\n",
      "\n",
      "Total training time: 0.51 seconds.\n",
      "Total training time: 0.19 seconds.\n",
      "Total training time: 0.57 seconds.\n",
      "-- Epoch 4\n",
      "-- Epoch 4\n",
      "-- Epoch 4\n",
      "Norm: 1.25, NNZs: 0, Bias: -0.152714, T: 127644, Avg. loss: 0.703164Norm: 0.01, NNZs: 420, Bias: 0.154733, T: 127640, Avg. loss: 0.673131Norm: 0.00, NNZs: 0, Bias: 0.151792, T: 127636, Avg. loss: 0.689035\n",
      "\n",
      "\n",
      "Total training time: 0.71 seconds.\n",
      "Total training time: 0.25 seconds.\n",
      "Total training time: 0.79 seconds.\n",
      "-- Epoch 5\n",
      "-- Epoch 5\n",
      "-- Epoch 5\n",
      "Norm: 1.25, NNZs: 0, Bias: -0.152526, T: 159555, Avg. loss: 0.703148Norm: 0.01, NNZs: 420, Bias: 0.154749, T: 159550, Avg. loss: 0.673128Norm: 0.00, NNZs: 0, Bias: 0.151810, T: 159545, Avg. loss: 0.689035\n",
      "\n",
      "\n",
      "Total training time: 0.91 seconds.\n",
      "Total training time: 0.31 seconds.\n",
      "Total training time: 1.02 seconds.\n",
      "-- Epoch 1-- Epoch 1\n",
      "\n",
      "Norm: 0.01, NNZs: 420, Bias: -0.156535, T: 31911, Avg. loss: 0.688196Norm: 0.00, NNZs: 0, Bias: -0.142556, T: 31910, Avg. loss: 0.702321\n",
      "\n",
      "Total training time: 0.06 seconds.\n",
      "Total training time: 0.22 seconds.\n",
      "-- Epoch 2\n",
      "-- Epoch 2\n",
      "Norm: 0.01, NNZs: 420, Bias: -0.155951, T: 63822, Avg. loss: 0.688086Norm: 0.00, NNZs: 0, Bias: -0.141988, T: 63820, Avg. loss: 0.702274\n",
      "\n",
      "Total training time: 0.13 seconds.\n",
      "Total training time: 0.45 seconds.\n",
      "-- Epoch 3\n",
      "-- Epoch 3\n",
      "Norm: 0.01, NNZs: 420, Bias: -0.155609, T: 95733, Avg. loss: 0.688050Norm: 0.00, NNZs: 0, Bias: -0.141659, T: 95730, Avg. loss: 0.702247\n",
      "\n",
      "Total training time: 0.19 seconds.\n",
      "Total training time: 0.61 seconds.\n",
      "-- Epoch 4\n",
      "-- Epoch 4\n",
      "Norm: 0.01, NNZs: 420, Bias: -0.155366, T: 127644, Avg. loss: 0.688033Norm: 0.00, NNZs: 0, Bias: -0.141426, T: 127640, Avg. loss: 0.702227\n",
      "\n",
      "Total training time: 0.25 seconds.\n",
      "Total training time: 0.75 seconds.\n",
      "-- Epoch 5\n",
      "-- Epoch 5\n",
      "Norm: 0.01, NNZs: 420, Bias: -0.155178, T: 159555, Avg. loss: 0.688018Norm: 0.00, NNZs: 0, Bias: -0.141244, T: 159550, Avg. loss: 0.702212\n",
      "\n",
      "Total training time: 0.31 seconds.\n",
      "Total training time: 0.89 seconds.\n",
      "-- Epoch 1\n",
      "Norm: 0.00, NNZs: 0, Bias: -0.146592, T: 31911, Avg. loss: 0.702654\n",
      "Total training time: 0.15 seconds.\n",
      "-- Epoch 2\n",
      "Norm: 0.00, NNZs: 0, Bias: -0.146029, T: 63822, Avg. loss: 0.702605\n",
      "Total training time: 0.30 seconds.\n",
      "-- Epoch 3\n",
      "Norm: 0.00, NNZs: 0, Bias: -0.145695, T: 95733, Avg. loss: 0.702577\n",
      "Total training time: 0.45 seconds.\n",
      "-- Epoch 4\n",
      "Norm: 0.00, NNZs: 0, Bias: -0.145458, T: 127644, Avg. loss: 0.702557\n",
      "Total training time: 0.59 seconds.\n",
      "-- Epoch 5\n",
      "Norm: 0.00, NNZs: 0, Bias: -0.145275, T: 159555, Avg. loss: 0.702541\n",
      "Total training time: 0.72 seconds.\n",
      "\n",
      "Total training time: 0.35 seconds.\n",
      "Loading testing data...\n"
     ]
    }
   ],
   "source": [
    "for trainf, testf in filesplitter:\n",
    "    \n",
    "    print 'Loading training data...'\n",
    "    X_train, Y_train = load_batch([_files[_] for _ in trainf],\n",
    "                                 n_pos=100,\n",
    "                                 n_neg=100)\n",
    "    \n",
    "    _model = sklearn.grid_search.GridSearchCV(sklearn.linear_model.SGDClassifier(loss='log', verbose=1),\n",
    "                                             {'alpha': np.logspace(-3, 3, num=6, endpoint=False),\n",
    "                                             'penalty': ['l1', 'l2', 'elasticnet']},\n",
    "                                             n_jobs=3, verbose=1)\n",
    "    \n",
    "    #_model = sklearn.grid_search.GridSearchCV(sklearn.ensemble.RandomForestClassifier(),\n",
    "    #                                         {'max_depth': np.arange(8, 15)},\n",
    "    #                                         n_jobs=3, verbose=1)\n",
    "    \n",
    "    feature = sklearn.preprocessing.StandardScaler()\n",
    "    model = sklearn.pipeline.Pipeline([('scaler', feature), ('predictor', _model)])\n",
    "    \n",
    "    model.fit(X_train**2, Y_train)\n",
    "    \n",
    "    print 'Loading testing data...'\n",
    "    X_test, Y_test = load_batch([_files[_] for _ in testf],\n",
    "                                n_pos=None,\n",
    "                                n_neg=None)"
   ]
  },
  {
   "cell_type": "code",
   "execution_count": 12,
   "metadata": {
    "collapsed": false
   },
   "outputs": [],
   "source": [
    "M = model.steps[1][1]"
   ]
  },
  {
   "cell_type": "code",
   "execution_count": 13,
   "metadata": {
    "collapsed": false
   },
   "outputs": [
    {
     "data": {
      "text/plain": [
       "{'alpha': 1.0, 'penalty': 'l2'}"
      ]
     },
     "execution_count": 13,
     "metadata": {},
     "output_type": "execute_result"
    }
   ],
   "source": [
    "M.best_params_"
   ]
  },
  {
   "cell_type": "code",
   "execution_count": 14,
   "metadata": {
    "collapsed": false
   },
   "outputs": [
    {
     "data": {
      "text/plain": [
       "<matplotlib.colorbar.Colorbar instance at 0x7f2c51e9b758>"
      ]
     },
     "execution_count": 14,
     "metadata": {},
     "output_type": "execute_result"
    },
    {
     "data": {
      "image/png": "[encoded data removed]",
      "text/plain": [
       "<matplotlib.figure.Figure at 0x7f2c3a057990>"
      ]
     },
     "metadata": {},
     "output_type": "display_data"
    }
   ],
   "source": [
    "w = model.steps[1][1].best_estimator_.coef_[0]\n",
    "w = w.reshape((-1, 84))\n",
    "plt.imshow(w.T, aspect='auto', interpolation='none', cmap='coolwarm', origin='lower')\n",
    "plt.ylabel('CQT bin')\n",
    "plt.xlabel('Context position')\n",
    "plt.title('$w$')\n",
    "plt.xticks(np.arange(5), np.arange(-2, 3))\n",
    "plt.colorbar()"
   ]
  },
  {
   "cell_type": "code",
   "execution_count": 15,
   "metadata": {
    "collapsed": false
   },
   "outputs": [
    {
     "name": "stdout",
     "output_type": "stream",
     "text": [
      "             precision    recall  f1-score   support\n",
      "\n",
      "          0       0.73      0.30      0.42     21728\n",
      "          1       0.61      0.91      0.73     26137\n",
      "\n",
      "avg / total       0.66      0.63      0.59     47865\n",
      "\n"
     ]
    }
   ],
   "source": [
    "print sklearn.metrics.classification_report(Y_train, model.predict(X_train**2))"
   ]
  },
  {
   "cell_type": "code",
   "execution_count": 16,
   "metadata": {
    "collapsed": false
   },
   "outputs": [
    {
     "data": {
      "text/plain": [
       "0.62979212368118664"
      ]
     },
     "execution_count": 16,
     "metadata": {},
     "output_type": "execute_result"
    }
   ],
   "source": [
    "sklearn.metrics.accuracy_score(Y_train, model.predict(X_train**2))"
   ]
  },
  {
   "cell_type": "code",
   "execution_count": 17,
   "metadata": {
    "collapsed": false
   },
   "outputs": [],
   "source": [
    "Y_pred = [model.predict(xt) for xt in X_test**2]"
   ]
  },
  {
   "cell_type": "code",
   "execution_count": 18,
   "metadata": {
    "collapsed": true
   },
   "outputs": [],
   "source": [
    "Y_pred_proba = np.concatenate([model.predict_proba(xt) for xt in X_test**2], axis=0)"
   ]
  },
  {
   "cell_type": "code",
   "execution_count": 19,
   "metadata": {
    "collapsed": false
   },
   "outputs": [],
   "source": [
    "Y_pred = np.concatenate(Y_pred, axis=0)"
   ]
  },
  {
   "cell_type": "code",
   "execution_count": 20,
   "metadata": {
    "collapsed": false
   },
   "outputs": [
    {
     "name": "stdout",
     "output_type": "stream",
     "text": [
      "             precision    recall  f1-score   support\n",
      "\n",
      "          0       0.78      0.31      0.44     14314\n",
      "          1       0.55      0.90      0.68     13332\n",
      "\n",
      "avg / total       0.67      0.60      0.56     27646\n",
      "\n"
     ]
    }
   ],
   "source": [
    "print sklearn.metrics.classification_report(Y_test, Y_pred)"
   ]
  },
  {
   "cell_type": "code",
   "execution_count": 21,
   "metadata": {
    "collapsed": false
   },
   "outputs": [
    {
     "data": {
      "text/plain": [
       "0.59560153367575774"
      ]
     },
     "execution_count": 21,
     "metadata": {},
     "output_type": "execute_result"
    }
   ],
   "source": [
    "sklearn.metrics.accuracy_score(Y_test, Y_pred)"
   ]
  },
  {
   "cell_type": "markdown",
   "metadata": {},
   "source": [
    "---"
   ]
  },
  {
   "cell_type": "code",
   "execution_count": 22,
   "metadata": {
    "collapsed": true
   },
   "outputs": [],
   "source": [
    "import cPickle as pickle"
   ]
  },
  {
   "cell_type": "code",
   "execution_count": 23,
   "metadata": {
    "collapsed": false
   },
   "outputs": [],
   "source": [
    "#pickle.dump({'model': model, 'dataset': 'salami_beat'},\n",
    "            #open('../data/similarity_model_salami_beat.pickle', 'w'))\n",
    "pickle.dump({'model': model, 'dataset': 'isophonics_beat'},\n",
    "            open('../data/similarity_model_isophonics_beat.pickle', 'w'))"
   ]
  },
  {
   "cell_type": "markdown",
   "metadata": {},
   "source": [
    "---"
   ]
  },
  {
   "cell_type": "code",
   "execution_count": 98,
   "metadata": {
    "collapsed": true
   },
   "outputs": [],
   "source": [
    "Xtrains2 = np.mean(X_train**2, axis=1, keepdims=True)"
   ]
  },
  {
   "cell_type": "code",
   "execution_count": 99,
   "metadata": {
    "collapsed": true
   },
   "outputs": [],
   "source": [
    "Xtests2 = np.mean(X_test**2, axis=1, keepdims=True)"
   ]
  },
  {
   "cell_type": "code",
   "execution_count": 100,
   "metadata": {
    "collapsed": true
   },
   "outputs": [],
   "source": [
    "seaborn.set_style('darkgrid')"
   ]
  },
  {
   "cell_type": "code",
   "execution_count": 101,
   "metadata": {
    "collapsed": true
   },
   "outputs": [],
   "source": [
    "import sklearn.neighbors"
   ]
  },
  {
   "cell_type": "code",
   "execution_count": 102,
   "metadata": {
    "collapsed": false
   },
   "outputs": [
    {
     "name": "stdout",
     "output_type": "stream",
     "text": [
      "Fitting 5 folds for each of 5 candidates, totalling 25 fits\n"
     ]
    },
    {
     "name": "stderr",
     "output_type": "stream",
     "text": [
      "[Parallel(n_jobs=3)]: Done   1 jobs       | elapsed:   11.5s\n",
      "[Parallel(n_jobs=3)]: Done  21 out of  25 | elapsed:  1.5min remaining:   17.3s\n",
      "[Parallel(n_jobs=3)]: Done  25 out of  25 | elapsed:  1.7min finished\n"
     ]
    },
    {
     "data": {
      "text/plain": [
       "GridSearchCV(cv=5, error_score='raise',\n",
       "       estimator=KernelDensity(algorithm='auto', atol=0, bandwidth=1.0, breadth_first=True,\n",
       "       kernel='gaussian', leaf_size=40, metric='euclidean',\n",
       "       metric_params=None, rtol=0),\n",
       "       fit_params={}, iid=True, loss_func=None, n_jobs=3,\n",
       "       param_grid={'bandwidth': array([ 0.1  ,  0.325,  0.55 ,  0.775,  1.   ])},\n",
       "       pre_dispatch='2*n_jobs', refit=True, score_func=None, scoring=None,\n",
       "       verbose=1)"
      ]
     },
     "execution_count": 102,
     "metadata": {},
     "output_type": "execute_result"
    }
   ],
   "source": [
    "KDE_pos = sklearn.grid_search.GridSearchCV(sklearn.neighbors.KernelDensity(),\n",
    "                                           {'bandwidth': np.linspace(0.1, 1.0, 5)},\n",
    "                                           verbose=1,\n",
    "                                           n_jobs=3,\n",
    "                                           cv=5)\n",
    "KDE_pos.fit(Xtrains2[Y_train > 0])"
   ]
  },
  {
   "cell_type": "code",
   "execution_count": 103,
   "metadata": {
    "collapsed": false
   },
   "outputs": [
    {
     "name": "stdout",
     "output_type": "stream",
     "text": [
      "Fitting 5 folds for each of 3 candidates, totalling 15 fits\n"
     ]
    },
    {
     "name": "stderr",
     "output_type": "stream",
     "text": [
      "[Parallel(n_jobs=3)]: Done   1 jobs       | elapsed:   14.5s\n",
      "[Parallel(n_jobs=3)]: Done  11 out of  15 | elapsed:  1.2min remaining:   25.4s\n",
      "[Parallel(n_jobs=3)]: Done  15 out of  15 | elapsed:  1.4min finished\n"
     ]
    },
    {
     "data": {
      "text/plain": [
       "GridSearchCV(cv=5, error_score='raise',\n",
       "       estimator=KernelDensity(algorithm='auto', atol=0, bandwidth=1.0, breadth_first=True,\n",
       "       kernel='gaussian', leaf_size=40, metric='euclidean',\n",
       "       metric_params=None, rtol=0),\n",
       "       fit_params={}, iid=True, loss_func=None, n_jobs=3,\n",
       "       param_grid={'bandwidth': array([ 0.1 ,  0.55,  1.  ])},\n",
       "       pre_dispatch='2*n_jobs', refit=True, score_func=None, scoring=None,\n",
       "       verbose=1)"
      ]
     },
     "execution_count": 103,
     "metadata": {},
     "output_type": "execute_result"
    }
   ],
   "source": [
    "KDE_neg = sklearn.grid_search.GridSearchCV(sklearn.neighbors.KernelDensity(),\n",
    "                                           {'bandwidth': np.linspace(0.1, 1.0, 3)},\n",
    "                                           verbose=1,\n",
    "                                           n_jobs=3,\n",
    "                                           cv=5)\n",
    "KDE_neg.fit(Xtrains2[Y_train < 1])"
   ]
  },
  {
   "cell_type": "code",
   "execution_count": 104,
   "metadata": {
    "collapsed": false
   },
   "outputs": [],
   "source": [
    "Y_pred_kde = (KDE_pos.best_estimator_.score_samples(Xtests2) >\n",
    "              KDE_neg.best_estimator_.score_samples(Xtests2))"
   ]
  },
  {
   "cell_type": "code",
   "execution_count": 105,
   "metadata": {
    "collapsed": false
   },
   "outputs": [
    {
     "name": "stdout",
     "output_type": "stream",
     "text": [
      "             precision    recall  f1-score   support\n",
      "\n",
      "          0       0.66      0.68      0.67    143276\n",
      "          1       0.58      0.56      0.57    114243\n",
      "\n",
      "avg / total       0.62      0.62      0.62    257519\n",
      "\n"
     ]
    }
   ],
   "source": [
    "print sklearn.metrics.classification_report(Y_test[:len(Y_pred_kde)], Y_pred_kde)"
   ]
  },
  {
   "cell_type": "code",
   "execution_count": 106,
   "metadata": {
    "collapsed": false
   },
   "outputs": [
    {
     "ename": "ValueError",
     "evalue": "need more than 1 value to unpack",
     "output_type": "error",
     "traceback": [
      "\u001b[1;31m---------------------------------------------------------------------------\u001b[0m",
      "\u001b[1;31mValueError\u001b[0m                                Traceback (most recent call last)",
      "\u001b[1;32m<ipython-input-106-d8507f42514d>\u001b[0m in \u001b[0;36m<module>\u001b[1;34m()\u001b[0m\n\u001b[1;32m----> 1\u001b[1;33m \u001b[0mseaborn\u001b[0m\u001b[1;33m.\u001b[0m\u001b[0mkdeplot\u001b[0m\u001b[1;33m(\u001b[0m\u001b[0mnp\u001b[0m\u001b[1;33m.\u001b[0m\u001b[0mlog\u001b[0m\u001b[1;33m(\u001b[0m\u001b[0mXtrains2\u001b[0m\u001b[1;33m[\u001b[0m\u001b[0mY_train\u001b[0m \u001b[1;33m>\u001b[0m \u001b[1;36m0\u001b[0m\u001b[1;33m]\u001b[0m\u001b[1;33m)\u001b[0m\u001b[1;33m,\u001b[0m \u001b[0mshade\u001b[0m\u001b[1;33m=\u001b[0m\u001b[0mTrue\u001b[0m\u001b[1;33m,\u001b[0m \u001b[0mlabel\u001b[0m\u001b[1;33m=\u001b[0m\u001b[1;34m'Positive'\u001b[0m\u001b[1;33m)\u001b[0m\u001b[1;33m\u001b[0m\u001b[0m\n\u001b[0m\u001b[0;32m      2\u001b[0m \u001b[0mseaborn\u001b[0m\u001b[1;33m.\u001b[0m\u001b[0mkdeplot\u001b[0m\u001b[1;33m(\u001b[0m\u001b[0mnp\u001b[0m\u001b[1;33m.\u001b[0m\u001b[0mlog\u001b[0m\u001b[1;33m(\u001b[0m\u001b[0mXtrains2\u001b[0m\u001b[1;33m[\u001b[0m\u001b[0mY_train\u001b[0m \u001b[1;33m<\u001b[0m \u001b[1;36m1\u001b[0m\u001b[1;33m]\u001b[0m\u001b[1;33m)\u001b[0m\u001b[1;33m,\u001b[0m \u001b[0mshade\u001b[0m\u001b[1;33m=\u001b[0m\u001b[0mTrue\u001b[0m\u001b[1;33m,\u001b[0m \u001b[0mlabel\u001b[0m\u001b[1;33m=\u001b[0m\u001b[1;34m'Negative'\u001b[0m\u001b[1;33m)\u001b[0m\u001b[1;33m\u001b[0m\u001b[0m\n\u001b[0;32m      3\u001b[0m \u001b[0mplt\u001b[0m\u001b[1;33m.\u001b[0m\u001b[0mlegend\u001b[0m\u001b[1;33m(\u001b[0m\u001b[0mloc\u001b[0m\u001b[1;33m=\u001b[0m\u001b[1;34m'best'\u001b[0m\u001b[1;33m)\u001b[0m\u001b[1;33m\u001b[0m\u001b[0m\n",
      "\u001b[1;32m/usr/local/lib/python2.7/dist-packages/seaborn/distributions.pyc\u001b[0m in \u001b[0;36mkdeplot\u001b[1;34m(data, data2, shade, vertical, kernel, bw, gridsize, cut, clip, legend, ax, cumulative, **kwargs)\u001b[0m\n\u001b[0;32m    845\u001b[0m     \u001b[1;32mif\u001b[0m \u001b[0misinstance\u001b[0m\u001b[1;33m(\u001b[0m\u001b[0mdata\u001b[0m\u001b[1;33m,\u001b[0m \u001b[0mnp\u001b[0m\u001b[1;33m.\u001b[0m\u001b[0mndarray\u001b[0m\u001b[1;33m)\u001b[0m \u001b[1;32mand\u001b[0m \u001b[0mnp\u001b[0m\u001b[1;33m.\u001b[0m\u001b[0mndim\u001b[0m\u001b[1;33m(\u001b[0m\u001b[0mdata\u001b[0m\u001b[1;33m)\u001b[0m \u001b[1;33m>\u001b[0m \u001b[1;36m1\u001b[0m\u001b[1;33m:\u001b[0m\u001b[1;33m\u001b[0m\u001b[0m\n\u001b[0;32m    846\u001b[0m         \u001b[0mbivariate\u001b[0m \u001b[1;33m=\u001b[0m \u001b[0mTrue\u001b[0m\u001b[1;33m\u001b[0m\u001b[0m\n\u001b[1;32m--> 847\u001b[1;33m         \u001b[0mx\u001b[0m\u001b[1;33m,\u001b[0m \u001b[0my\u001b[0m \u001b[1;33m=\u001b[0m \u001b[0mdata\u001b[0m\u001b[1;33m.\u001b[0m\u001b[0mT\u001b[0m\u001b[1;33m\u001b[0m\u001b[0m\n\u001b[0m\u001b[0;32m    848\u001b[0m     \u001b[1;32melif\u001b[0m \u001b[0misinstance\u001b[0m\u001b[1;33m(\u001b[0m\u001b[0mdata\u001b[0m\u001b[1;33m,\u001b[0m \u001b[0mpd\u001b[0m\u001b[1;33m.\u001b[0m\u001b[0mDataFrame\u001b[0m\u001b[1;33m)\u001b[0m \u001b[1;32mand\u001b[0m \u001b[0mnp\u001b[0m\u001b[1;33m.\u001b[0m\u001b[0mndim\u001b[0m\u001b[1;33m(\u001b[0m\u001b[0mdata\u001b[0m\u001b[1;33m)\u001b[0m \u001b[1;33m>\u001b[0m \u001b[1;36m1\u001b[0m\u001b[1;33m:\u001b[0m\u001b[1;33m\u001b[0m\u001b[0m\n\u001b[0;32m    849\u001b[0m         \u001b[0mbivariate\u001b[0m \u001b[1;33m=\u001b[0m \u001b[0mTrue\u001b[0m\u001b[1;33m\u001b[0m\u001b[0m\n",
      "\u001b[1;31mValueError\u001b[0m: need more than 1 value to unpack"
     ]
    },
    {
     "data": {
      "image/png": "[encoded data removed]",
      "text/plain": [
       "<matplotlib.figure.Figure at 0x7f4338b12fd0>"
      ]
     },
     "metadata": {},
     "output_type": "display_data"
    }
   ],
   "source": [
    "seaborn.kdeplot(np.log(Xtrains2[Y_train > 0]), shade=True, label='Positive')\n",
    "seaborn.kdeplot(np.log(Xtrains2[Y_train < 1]), shade=True, label='Negative')\n",
    "plt.legend(loc='best')"
   ]
  }
 ],
 "metadata": {
  "kernelspec": {
   "display_name": "Python 2",
   "language": "python",
   "name": "python2"
  },
  "language_info": {
   "codemirror_mode": {
    "name": "ipython",
    "version": 2
   },
   "file_extension": ".py",
   "mimetype": "text/x-python",
   "name": "python",
   "nbconvert_exporter": "python",
   "pygments_lexer": "ipython2",
   "version": "2.7.8"
  }
 },
 "nbformat": 4,
 "nbformat_minor": 0
}
