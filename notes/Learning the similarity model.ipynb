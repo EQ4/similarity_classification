{
 "cells": [
  {
   "cell_type": "code",
   "execution_count": 1,
   "metadata": {
    "collapsed": true
   },
   "outputs": [],
   "source": [
    "import numpy as np\n",
    "import matplotlib.pyplot as plt\n",
    "import seaborn\n",
    "seaborn.set()\n",
    "seaborn.set_style('dark')\n",
    "np.set_printoptions(precision=3)\n",
    "\n",
    "%matplotlib inline"
   ]
  },
  {
   "cell_type": "code",
   "execution_count": 2,
   "metadata": {
    "collapsed": true
   },
   "outputs": [],
   "source": [
    "import sklearn\n",
    "import sklearn.metrics\n",
    "import sklearn.grid_search\n",
    "import sklearn.linear_model\n",
    "import sklearn.cross_validation\n",
    "import sklearn.preprocessing\n",
    "import sklearn.pipeline\n",
    "import pescador"
   ]
  },
  {
   "cell_type": "code",
   "execution_count": 3,
   "metadata": {
    "collapsed": true
   },
   "outputs": [],
   "source": [
    "import glob"
   ]
  },
  {
   "cell_type": "code",
   "execution_count": 4,
   "metadata": {
    "collapsed": true
   },
   "outputs": [],
   "source": [
    "def load_file(filename, n_pos=32, n_neg=32):\n",
    "    \n",
    "    data = np.load(filename)\n",
    "    \n",
    "    d = data['X'].shape[1]\n",
    "    \n",
    "    if n_pos is None:\n",
    "        return data['X'], data['Y']\n",
    "    \n",
    "    \n",
    "    positives = np.flatnonzero(data['Y'])\n",
    "    negatives = np.flatnonzero(1-data['Y'])\n",
    "    n_pos = min(n_pos, len(positives))\n",
    "    n_neg = min(n_neg, len(negatives))\n",
    "    \n",
    "    X = np.empty((n_pos + n_neg, d), dtype=np.float32)\n",
    "    Y = np.zeros((n_pos + n_neg), dtype=np.int32)\n",
    "    \n",
    "    if n_pos > 0:\n",
    "        idx_pos = np.random.choice(positives, size=n_pos, replace=False)\n",
    "    \n",
    "        X[:n_pos] = np.take(data['X'], idx_pos, axis=0)\n",
    "        Y[:n_pos] = 1\n",
    "    \n",
    "    if n_neg > 0:\n",
    "        idx_neg = np.random.choice(negatives, size=n_neg, replace=False)\n",
    "        X[n_pos:] = np.take(data['X'], idx_neg, axis=0)\n",
    "    \n",
    "    return X, Y"
   ]
  },
  {
   "cell_type": "code",
   "execution_count": 5,
   "metadata": {
    "collapsed": true
   },
   "outputs": [],
   "source": [
    "def load_batch(files, n_pos=32, n_neg=32):\n",
    "    \n",
    "    X = []\n",
    "    Y = []\n",
    "    \n",
    "    for fn in files:\n",
    "        _x, _y = load_file(fn, n_pos=n_pos, n_neg=n_neg)\n",
    "        if _x.shape[0] == 0:\n",
    "            continue\n",
    "        X.append(_x)\n",
    "        Y.append(_y)\n",
    "        \n",
    "    X = np.concatenate(X, axis=0)\n",
    "    Y = np.concatenate(Y, axis=0)\n",
    "    \n",
    "    return X, Y"
   ]
  },
  {
   "cell_type": "code",
   "execution_count": 6,
   "metadata": {
    "collapsed": false
   },
   "outputs": [],
   "source": [
    "files = sorted(glob.glob('../data/labeled_features/SALAMI_*_beats.npz'))\n",
    "#files = sorted(glob.glob('../data/labeled_features/Isophonics_*_beats.npz'))"
   ]
  },
  {
   "cell_type": "code",
   "execution_count": 7,
   "metadata": {
    "collapsed": true
   },
   "outputs": [],
   "source": [
    "filesplitter = sklearn.cross_validation.ShuffleSplit(len(files), n_iter=1, test_size=0.10, random_state=5)\n",
    "_files = np.asarray(files)"
   ]
  },
  {
   "cell_type": "code",
   "execution_count": 8,
   "metadata": {
    "collapsed": true
   },
   "outputs": [],
   "source": [
    "import sklearn.ensemble"
   ]
  },
  {
   "cell_type": "code",
   "execution_count": 9,
   "metadata": {
    "collapsed": false
   },
   "outputs": [
    {
     "name": "stdout",
     "output_type": "stream",
     "text": [
      "Loading training data...\n",
      "Fitting 3 folds for each of 18 candidates, totalling 54 fits\n"
     ]
    },
    {
     "name": "stderr",
     "output_type": "stream",
     "text": [
      "[Parallel(n_jobs=3)]: Done   1 jobs       | elapsed:    9.4s\n",
      "[Parallel(n_jobs=3)]: Done  50 out of  54 | elapsed:  1.6min remaining:    7.8s\n",
      "[Parallel(n_jobs=3)]: Done  54 out of  54 | elapsed:  1.7min finished\n"
     ]
    },
    {
     "name": "stdout",
     "output_type": "stream",
     "text": [
      "-- Epoch 1\n",
      "Norm: 1.42, NNZs: 246, Bias: -6.881097, T: 66097, Avg. loss: 0.358848-- Epoch 1\n",
      "-- Epoch 1\n",
      "-- Epoch 1\n",
      "Norm: 507.75, NNZs: 684, Bias: -551.229112, T: 44064, Avg. loss: 29.973271Norm: 476.28, NNZs: 697, Bias: -520.299053, T: 44066, Avg. loss: 27.528277Norm: 465.77, NNZs: 655, Bias: -485.325600, T: 44064, Avg. loss: 26.547831\n",
      "\n",
      "\n",
      "Total training time: 0.79 seconds.\n",
      "Total training time: 0.93 seconds.\n",
      "Total training time: 1.07 seconds.\n",
      "-- Epoch 2\n",
      "-- Epoch 2\n",
      "-- Epoch 2\n",
      "Norm: 497.62, NNZs: 656, Bias: -535.634241, T: 88128, Avg. loss: 24.991801Norm: 468.04, NNZs: 655, Bias: -503.737746, T: 88132, Avg. loss: 22.934476Norm: 457.30, NNZs: 620, Bias: -468.325074, T: 88128, Avg. loss: 22.168596\n",
      "\n",
      "\n",
      "Total training time: 1.43 seconds.\n",
      "Total training time: 1.76 seconds.\n",
      "Total training time: 1.97 seconds.\n",
      "-- Epoch 3\n",
      "-- Epoch 3\n",
      "-- Epoch 3\n",
      "Norm: 492.94, NNZs: 642, Bias: -525.911678, T: 132192, Avg. loss: 22.914418Norm: 464.11, NNZs: 628, Bias: -493.627249, T: 132198, Avg. loss: 21.017595Norm: 453.56, NNZs: 605, Bias: -457.635675, T: 132192, Avg. loss: 20.326703\n",
      "\n",
      "\n",
      "Total training time: 2.10 seconds.\n",
      "Total training time: 2.61 seconds.\n",
      "Total training time: 3.05 seconds.\n",
      "-- Epoch 4\n",
      "-- Epoch 4\n",
      "-- Epoch 4\n",
      "Norm: 489.87, NNZs: 625, Bias: -518.990138, T: 176256, Avg. loss: 21.697418Norm: 461.90, NNZs: 612, Bias: -486.147991, T: 176264, Avg. loss: 19.900118Norm: 451.08, NNZs: 585, Bias: -450.092856, T: 176256, Avg. loss: 19.237088\n",
      "\n",
      "\n",
      "Total training time: 2.96 seconds.\n",
      "Total training time: 3.46 seconds.\n",
      "Total training time: 4.05 seconds.\n",
      "-- Epoch 5\n",
      "-- Epoch 5\n",
      "-- Epoch 5\n",
      "Norm: 487.88, NNZs: 610, Bias: -513.352958, T: 220320, Avg. loss: 20.869928Norm: 460.24, NNZs: 596, Bias: -480.376417, T: 220330, Avg. loss: 19.138653Norm: 449.52, NNZs: 572, Bias: -443.972232, T: 220320, Avg. loss: 18.491813\n",
      "\n",
      "\n",
      "Total training time: 4.25 seconds.\n",
      "Total training time: 4.36 seconds.\n",
      "Total training time: 5.45 seconds.\n",
      "-- Epoch 1-- Epoch 1-- Epoch 1\n",
      "\n",
      "\n",
      "Norm: 30.34, NNZs: 924, Bias: -306.898088, T: 44064, Avg. loss: 13.567514Norm: 32.84, NNZs: 924, Bias: -332.266206, T: 44064, Avg. loss: 15.050215Norm: 30.38, NNZs: 924, Bias: -307.254267, T: 44066, Avg. loss: 13.463190\n",
      "\n",
      "\n",
      "Total training time: 0.36 seconds.\n",
      "Total training time: 0.23 seconds.\n",
      "Total training time: 0.37 seconds.\n",
      "-- Epoch 2\n",
      "-- Epoch 2\n",
      "-- Epoch 2\n",
      "Norm: 28.82, NNZs: 924, Bias: -285.111758, T: 88128, Avg. loss: 11.180307Norm: 31.13, NNZs: 924, Bias: -309.248044, T: 88128, Avg. loss: 12.554629Norm: 28.80, NNZs: 924, Bias: -285.483539, T: 88132, Avg. loss: 11.198740\n",
      "\n",
      "\n",
      "Total training time: 0.76 seconds.\n",
      "Total training time: 0.51 seconds.\n",
      "Total training time: 0.73 seconds.\n",
      "-- Epoch 3\n",
      "-- Epoch 3\n",
      "-- Epoch 3\n",
      "Norm: 28.55, NNZs: 924, Bias: -272.312510, T: 132192, Avg. loss: 10.194648Norm: 30.38, NNZs: 924, Bias: -295.778211, T: 132192, Avg. loss: 11.497434Norm: 27.99, NNZs: 924, Bias: -272.575000, T: 132198, Avg. loss: 10.235646\n",
      "\n",
      "\n",
      "Total training time: 1.17 seconds.\n",
      "Total training time: 0.84 seconds.\n",
      "Total training time: 1.13 seconds.\n",
      "-- Epoch 4\n",
      "-- Epoch 4\n",
      "-- Epoch 4\n",
      "Norm: 28.22, NNZs: 924, Bias: -263.268155, T: 176256, Avg. loss: 9.605699Norm: 29.75, NNZs: 924, Bias: -286.263454, T: 176256, Avg. loss: 10.869527Norm: 27.37, NNZs: 924, Bias: -263.468655, T: 176264, Avg. loss: 9.661314\n",
      "\n",
      "\n",
      "Total training time: 1.61 seconds.\n",
      "Total training time: 1.20 seconds.\n",
      "Total training time: 1.56 seconds.\n",
      "-- Epoch 5\n",
      "-- Epoch 5\n",
      "-- Epoch 5\n",
      "Norm: 27.63, NNZs: 924, Bias: -256.262462, T: 220320, Avg. loss: 9.200488Norm: 29.23, NNZs: 924, Bias: -278.867237, T: 220320, Avg. loss: 10.430852Norm: 27.14, NNZs: 924, Bias: -256.399036, T: 220330, Avg. loss: 9.262016\n",
      "\n",
      "\n",
      "Total training time: 2.01 seconds.\n",
      "Total training time: 1.53 seconds.\n",
      "Total training time: 2.07 seconds.\n",
      "-- Epoch 1-- Epoch 1-- Epoch 1\n",
      "\n",
      "\n",
      "Norm: 39.29, NNZs: 650, Bias: -307.147670, T: 44064, Avg. loss: 14.025506Norm: 41.05, NNZs: 703, Bias: -362.292854, T: 44064, Avg. loss: 15.822992Norm: 41.72, NNZs: 703, Bias: -390.945407, T: 44066, Avg. loss: 16.669434\n",
      "\n",
      "\n",
      "Total training time: 1.01 seconds.\n",
      "Total training time: 1.39 seconds.\n",
      "Total training time: 0.90 seconds.\n",
      "-- Epoch 2\n",
      "-- Epoch 2\n",
      "-- Epoch 2\n",
      "Norm: 34.45, NNZs: 685, Bias: -284.464601, T: 88128, Avg. loss: 11.611385Norm: 37.19, NNZs: 713, Bias: -340.239409, T: 88128, Avg. loss: 13.135977Norm: 38.37, NNZs: 721, Bias: -368.691699, T: 88132, Avg. loss: 14.045994\n",
      "\n",
      "\n",
      "Total training time: 1.87 seconds.\n",
      "Total training time: 2.51 seconds.\n",
      "Total training time: 1.82 seconds.\n",
      "-- Epoch 3\n",
      "-- Epoch 3\n",
      "-- Epoch 3\n",
      "Norm: 32.60, NNZs: 689, Bias: -271.146925, T: 132192, Avg. loss: 10.599827Norm: 35.29, NNZs: 715, Bias: -327.405291, T: 132192, Avg. loss: 12.040483Norm: 36.82, NNZs: 734, Bias: -355.633482, T: 132198, Avg. loss: 12.970503\n",
      "\n",
      "\n",
      "Total training time: 2.76 seconds.\n",
      "Total training time: 3.67 seconds.\n",
      "Total training time: 2.67 seconds.\n",
      "-- Epoch 4\n",
      "-- Epoch 4\n",
      "-- Epoch 4\n",
      "Norm: 31.84, NNZs: 695, Bias: -261.615175, T: 176256, Avg. loss: 9.996020Norm: 34.79, NNZs: 724, Bias: -318.216561, T: 176256, Avg. loss: 11.401764Norm: 35.59, NNZs: 740, Bias: -346.410319, T: 176264, Avg. loss: 12.339390\n",
      "\n",
      "\n",
      "Total training time: 3.66 seconds.\n",
      "Total training time: 4.68 seconds.\n",
      "Total training time: 3.60 seconds.\n",
      "-- Epoch 5\n",
      "-- Epoch 5\n",
      "-- Epoch 5\n",
      "Norm: 30.88, NNZs: 700, Bias: -254.303231, T: 220320, Avg. loss: 9.576242Norm: 34.20, NNZs: 729, Bias: -311.128252, T: 220320, Avg. loss: 10.965342Norm: 35.13, NNZs: 749, Bias: -339.214105, T: 220330, Avg. loss: 11.907282\n",
      "\n",
      "\n",
      "Total training time: 4.46 seconds.\n",
      "Total training time: 5.94 seconds.\n",
      "Total training time: 4.79 seconds.\n",
      "-- Epoch 1-- Epoch 1-- Epoch 1\n",
      "\n",
      "\n",
      "Norm: 208.02, NNZs: 196, Bias: -102.628288, T: 44064, Avg. loss: 4.890799Norm: 212.07, NNZs: 192, Bias: -104.235597, T: 44064, Avg. loss: 5.400588Norm: 204.64, NNZs: 173, Bias: -103.290487, T: 44066, Avg. loss: 4.877124\n",
      "\n",
      "\n",
      "Total training time: 1.02 seconds.\n",
      "Total training time: 0.92 seconds.\n",
      "Total training time: 0.95 seconds.\n",
      "-- Epoch 2\n",
      "-- Epoch 2\n",
      "-- Epoch 2\n",
      "Norm: 208.11, NNZs: 142, Bias: -100.139958, T: 88128, Avg. loss: 4.160951Norm: 212.02, NNZs: 155, Bias: -101.789639, T: 88128, Avg. loss: 4.607336Norm: 204.69, NNZs: 140, Bias: -100.853544, T: 88132, Avg. loss: 4.193936\n",
      "\n",
      "\n",
      "Total training time: 1.94 seconds.\n",
      "Total training time: 1.82 seconds.\n",
      "Total training time: 1.93 seconds.\n",
      "-- Epoch 3\n",
      "-- Epoch 3\n",
      "-- Epoch 3\n",
      "Norm: 208.23, NNZs: 120, Bias: -98.541186, T: 132192, Avg. loss: 3.879138Norm: 212.05, NNZs: 126, Bias: -100.276993, T: 132192, Avg. loss: 4.289592Norm: 204.79, NNZs: 118, Bias: -99.283009, T: 132198, Avg. loss: 3.923318\n",
      "\n",
      "\n",
      "Total training time: 2.84 seconds.\n",
      "Total training time: 2.71 seconds.\n",
      "Total training time: 2.82 seconds.\n",
      "-- Epoch 4\n",
      "-- Epoch 4\n",
      "-- Epoch 4\n",
      "Norm: 208.35, NNZs: 106, Bias: -97.347278, T: 176256, Avg. loss: 3.723089Norm: 212.12, NNZs: 113, Bias: -99.105000, T: 176256, Avg. loss: 4.110749Norm: 204.88, NNZs: 108, Bias: -98.128733, T: 176264, Avg. loss: 3.770743\n",
      "\n",
      "\n",
      "Total training time: 3.83 seconds.\n",
      "Total training time: 3.66 seconds.\n",
      "Total training time: 3.70 seconds.\n",
      "-- Epoch 5\n",
      "-- Epoch 5\n",
      "-- Epoch 5\n",
      "Norm: 208.46, NNZs: 102, Bias: -96.376062, T: 220320, Avg. loss: 3.621488Norm: 212.18, NNZs: 108, Bias: -98.171619, T: 220320, Avg. loss: 3.992423Norm: 204.97, NNZs: 100, Bias: -97.201658, T: 220330, Avg. loss: 3.669882\n",
      "\n",
      "\n",
      "Total training time: 5.06 seconds.\n",
      "Total training time: 4.80 seconds.\n",
      "Total training time: 4.73 seconds.\n",
      "-- Epoch 1-- Epoch 1-- Epoch 1\n",
      "\n",
      "\n",
      "Norm: 5.35, NNZs: 924, Bias: -71.207129, T: 44064, Avg. loss: 2.852986\n",
      "Total training time: 0.81 seconds.\n",
      "-- Epoch 2\n",
      "Norm: 1.36, NNZs: 250, Bias: -6.506329, T: 132194, Avg. loss: 0.335124Norm: 4.71, NNZs: 924, Bias: -60.030048, T: 44064, Avg. loss: 2.622681Norm: 5.07, NNZs: 924, Bias: -70.251154, T: 44066, Avg. loss: 2.944542\n",
      "\n",
      "\n",
      "Total training time: 0.41 seconds.\n",
      "Total training time: 0.42 seconds.\n",
      "Total training time: 0.32 seconds.\n",
      "-- Epoch 2\n",
      "-- Epoch 2\n",
      "-- Epoch 2\n",
      "Norm: 5.24, NNZs: 924, Bias: -68.873561, T: 88128, Avg. loss: 2.490822Norm: 4.69, NNZs: 924, Bias: -57.624637, T: 88128, Avg. loss: 2.248903Norm: 5.03, NNZs: 924, Bias: -67.926028, T: 88132, Avg. loss: 2.533219\n",
      "\n",
      "\n",
      "Total training time: 0.70 seconds.\n",
      "Total training time: 0.67 seconds.\n",
      "Total training time: 0.79 seconds.\n",
      "-- Epoch 3\n",
      "-- Epoch 3\n",
      "-- Epoch 3\n",
      "Norm: 5.13, NNZs: 924, Bias: -67.522450, T: 132192, Avg. loss: 2.349542Norm: 4.63, NNZs: 924, Bias: -56.227455, T: 132192, Avg. loss: 2.101404Norm: 5.01, NNZs: 924, Bias: -66.557057, T: 132198, Avg. loss: 2.374345\n",
      "\n",
      "\n",
      "Total training time: 1.05 seconds.\n",
      "Total training time: 0.91 seconds.\n",
      "Total training time: 1.16 seconds.\n",
      "-- Epoch 4\n",
      "-- Epoch 4\n",
      "-- Epoch 4\n",
      "Norm: 5.02, NNZs: 924, Bias: -66.561649, T: 176256, Avg. loss: 2.268479Norm: 4.55, NNZs: 924, Bias: -55.232344, T: 176256, Avg. loss: 2.015891Norm: 4.94, NNZs: 924, Bias: -65.591316, T: 176264, Avg. loss: 2.284263\n",
      "\n",
      "\n",
      "Total training time: 1.36 seconds.\n",
      "Total training time: 1.15 seconds.\n",
      "Total training time: 1.48 seconds.\n",
      "-- Epoch 5\n",
      "-- Epoch 5\n",
      "-- Epoch 5\n",
      "Norm: 5.00, NNZs: 924, Bias: -65.813812, T: 220320, Avg. loss: 2.214262Norm: 4.50, NNZs: 924, Bias: -54.465325, T: 220320, Avg. loss: 1.959085Norm: 4.82, NNZs: 924, Bias: -64.848489, T: 220330, Avg. loss: 2.224915\n",
      "\n",
      "\n",
      "Total training time: 1.69 seconds.\n",
      "Total training time: 1.43 seconds.\n",
      "Total training time: 1.87 seconds.\n",
      "-- Epoch 1-- Epoch 1-- Epoch 1\n",
      "\n",
      "\n",
      "Norm: 7.45, NNZs: 468, Bias: -61.582760, T: 44064, Avg. loss: 2.627963Norm: 7.49, NNZs: 519, Bias: -66.415279, T: 44064, Avg. loss: 2.718414Norm: 7.67, NNZs: 513, Bias: -65.561103, T: 44066, Avg. loss: 2.626248\n",
      "\n",
      "\n",
      "Total training time: 1.56 seconds.\n",
      "Total training time: 0.97 seconds.\n",
      "Total training time: 0.90 seconds.\n",
      "-- Epoch 2\n",
      "-- Epoch 2\n",
      "-- Epoch 2\n",
      "Norm: 6.97, NNZs: 500, Bias: -58.966876, T: 88128, Avg. loss: 2.281387Norm: 7.10, NNZs: 544, Bias: -63.899484, T: 88128, Avg. loss: 2.357487Norm: 7.07, NNZs: 532, Bias: -63.054711, T: 88132, Avg. loss: 2.304405\n",
      "\n",
      "\n",
      "Total training time: 2.35 seconds.\n",
      "Total training time: 1.91 seconds.\n",
      "Total training time: 1.84 seconds.\n",
      "-- Epoch 3\n",
      "-- Epoch 3\n",
      "-- Epoch 3\n",
      "Norm: 6.63, NNZs: 503, Bias: -57.466908, T: 132192, Avg. loss: 2.142106Norm: 6.84, NNZs: 554, Bias: -62.450579, T: 132192, Avg. loss: 2.215146Norm: 6.84, NNZs: 544, Bias: -61.597711, T: 132198, Avg. loss: 2.174770\n",
      "\n",
      "\n",
      "Total training time: 3.10 seconds.\n",
      "Total training time: 2.84 seconds.\n",
      "Total training time: 2.77 seconds.\n",
      "-- Epoch 4\n",
      "-- Epoch 4\n",
      "-- Epoch 4\n",
      "Norm: 6.47, NNZs: 517, Bias: -56.401346, T: 176256, Avg. loss: 2.061296Norm: 6.75, NNZs: 560, Bias: -61.424089, T: 176256, Avg. loss: 2.133038Norm: 6.70, NNZs: 552, Bias: -60.565018, T: 176264, Avg. loss: 2.099339\n",
      "\n",
      "\n",
      "Total training time: 4.09 seconds.\n",
      "Total training time: 3.82 seconds.\n",
      "Total training time: 3.74 seconds.\n",
      "-- Epoch 5\n",
      "-- Epoch 5\n",
      "-- Epoch 5\n",
      "Norm: 6.40, NNZs: 522, Bias: -55.573409, T: 220320, Avg. loss: 2.006146Norm: 6.65, NNZs: 564, Bias: -60.630460, T: 220320, Avg. loss: 2.077839Norm: 6.54, NNZs: 554, Bias: -59.774097, T: 220330, Avg. loss: 2.048043\n",
      "\n",
      "\n",
      "Total training time: 5.10 seconds.\n",
      "Total training time: 4.75 seconds.\n",
      "Total training time: 4.61 seconds.\n",
      "-- Epoch 1-- Epoch 1-- Epoch 1\n",
      "\n",
      "\n",
      "Norm: 71.81, NNZs: 0, Bias: -6.255092, T: 44064, Avg. loss: 0.623356Norm: 73.96, NNZs: 0, Bias: -7.308681, T: 44064, Avg. loss: 0.709270Norm: 68.50, NNZs: 1, Bias: -7.076350, T: 44066, Avg. loss: 0.656833\n",
      "\n",
      "\n",
      "Total training time: 0.86 seconds.\n",
      "Total training time: 0.72 seconds.\n",
      "Total training time: 0.71 seconds.\n",
      "-- Epoch 2\n",
      "-- Epoch 2\n",
      "-- Epoch 2\n",
      "Norm: 71.81, NNZs: 0, Bias: -5.681019, T: 88128, Avg. loss: 0.565741Norm: 73.96, NNZs: 0, Bias: -6.725150, T: 88128, Avg. loss: 0.652509Norm: 68.50, NNZs: 0, Bias: -6.492957, T: 88132, Avg. loss: 0.615468\n",
      "\n",
      "\n",
      "Total training time: 1.83 seconds.\n",
      "Total training time: 1.49 seconds.\n",
      "Total training time: 1.59 seconds.\n",
      "-- Epoch 3\n",
      "-- Epoch 3\n",
      "-- Epoch 3\n",
      "Norm: 71.81, NNZs: 0, Bias: -5.353363, T: 132192, Avg. loss: 0.534831Norm: 73.96, NNZs: 0, Bias: -6.385572, T: 132192, Avg. loss: 0.621270Norm: 68.50, NNZs: 0, Bias: -6.154540, T: 132198, Avg. loss: 0.590166\n",
      "\n",
      "\n",
      "Total training time: 2.65 seconds.\n",
      "Total training time: 2.43 seconds.\n",
      "Total training time: 2.52 seconds.\n",
      "-- Epoch 4\n",
      "-- Epoch 4\n",
      "-- Epoch 4\n",
      "Norm: 71.81, NNZs: 0, Bias: -5.123603, T: 176256, Avg. loss: 0.513877Norm: 73.96, NNZs: 0, Bias: -6.146061, T: 176256, Avg. loss: 0.599724Norm: 68.50, NNZs: 0, Bias: -5.916439, T: 176264, Avg. loss: 0.571645\n",
      "\n",
      "\n",
      "Total training time: 3.46 seconds.\n",
      "Total training time: 3.37 seconds.\n",
      "Total training time: 3.39 seconds.\n",
      "-- Epoch 5\n",
      "-- Epoch 5\n",
      "-- Epoch 5\n",
      "Norm: 71.81, NNZs: 0, Bias: -4.948041, T: 220320, Avg. loss: 0.498126Norm: 73.96, NNZs: 0, Bias: -5.961055, T: 220320, Avg. loss: 0.583309Norm: 68.50, NNZs: 0, Bias: -5.733085, T: 220330, Avg. loss: 0.557092\n",
      "\n",
      "\n",
      "Total training time: 4.46 seconds.\n",
      "Total training time: 4.28 seconds.\n",
      "Total training time: 4.35 seconds.\n",
      "-- Epoch 1-- Epoch 1-- Epoch 1\n",
      "\n",
      "\n",
      "Norm: 0.70, NNZs: 924, Bias: -10.921694, T: 44064, Avg. loss: 0.497383Norm: 0.68, NNZs: 924, Bias: -10.703841, T: 44064, Avg. loss: 0.489606Norm: 0.77, NNZs: 924, Bias: -12.837974, T: 44066, Avg. loss: 0.528942\n",
      "\n",
      "\n",
      "Total training time: 0.40 seconds.\n",
      "Total training time: 0.32 seconds.\n",
      "Total training time: 0.36 seconds.\n",
      "-- Epoch 2\n",
      "-- Epoch 2\n",
      "-- Epoch 2\n",
      "Norm: 0.69, NNZs: 924, Bias: -10.695612, T: 88128, Avg. loss: 0.449432Norm: 0.66, NNZs: 924, Bias: -10.495179, T: 88128, Avg. loss: 0.435695Norm: 0.77, NNZs: 924, Bias: -12.611751, T: 88132, Avg. loss: 0.485271\n",
      "\n",
      "\n",
      "Total training time: 0.74 seconds.\n",
      "Total training time: 0.73 seconds.\n",
      "Total training time: 0.71 seconds.\n",
      "-- Epoch 3\n",
      "-- Epoch 3\n",
      "-- Epoch 3\n",
      "Norm: 0.67, NNZs: 924, Bias: -10.565450, T: 132192, Avg. loss: 0.431612Norm: 0.66, NNZs: 924, Bias: -10.372983, T: 132192, Avg. loss: 0.416095Norm: 0.78, NNZs: 924, Bias: -12.479402, T: 132198, Avg. loss: 0.468763\n",
      "\n",
      "\n",
      "Total training time: 1.14 seconds.\n",
      "Total training time: 1.04 seconds.\n",
      "Total training time: 1.05 seconds.\n",
      "-- Epoch 4\n",
      "-- Epoch 4\n",
      "-- Epoch 4\n",
      "Norm: 0.67, NNZs: 924, Bias: -10.472973, T: 176256, Avg. loss: 0.421903Norm: 0.65, NNZs: 924, Bias: -10.287295, T: 176256, Avg. loss: 0.405543Norm: 0.76, NNZs: 924, Bias: -12.387337, T: 176264, Avg. loss: 0.459646\n",
      "\n",
      "\n",
      "Total training time: 1.49 seconds.\n",
      "Total training time: 1.34 seconds.\n",
      "Total training time: 1.47 seconds.\n",
      "-- Epoch 5\n",
      "-- Epoch 5\n",
      "-- Epoch 5\n",
      "Norm: 0.67, NNZs: 924, Bias: -10.401571, T: 220320, Avg. loss: 0.415521Norm: 0.65, NNZs: 924, Bias: -10.220581, T: 220320, Avg. loss: 0.398776Norm: 0.76, NNZs: 924, Bias: -12.314961, T: 220330, Avg. loss: 0.453662\n",
      "\n",
      "\n",
      "Total training time: 1.96 seconds.\n",
      "Total training time: 1.67 seconds.\n",
      "Total training time: 1.87 seconds.\n",
      "-- Epoch 1-- Epoch 1-- Epoch 1\n",
      "\n",
      "\n",
      "Norm: 1.31, NNZs: 225, Bias: -6.013171, T: 44064, Avg. loss: 0.354138Norm: 1.35, NNZs: 220, Bias: -6.293433, T: 44064, Avg. loss: 0.339097Norm: 1.84, NNZs: 301, Bias: -10.080459, T: 44066, Avg. loss: 0.483429\n",
      "\n",
      "\n",
      "Total training time: 1.62 seconds.\n",
      "-- Epoch 3\n",
      "Norm: 1.31, NNZs: 249, Bias: -6.294577, T: 198291, Avg. loss: 0.324530\n",
      "Total training time: 1.33 seconds.\n",
      "Total training time: 1.23 seconds.\n",
      "Total training time: 0.93 seconds.\n",
      "-- Epoch 2\n",
      "-- Epoch 2\n",
      "-- Epoch 2\n",
      "Norm: 1.23, NNZs: 228, Bias: -5.653631, T: 88128, Avg. loss: 0.324648Norm: 1.27, NNZs: 224, Bias: -5.937147, T: 88128, Avg. loss: 0.317200Norm: 1.78, NNZs: 309, Bias: -9.673992, T: 88132, Avg. loss: 0.437049\n",
      "\n",
      "\n",
      "Total training time: 2.31 seconds.\n",
      "Total training time: 2.12 seconds.\n",
      "Total training time: 1.68 seconds.\n",
      "-- Epoch 3\n",
      "-- Epoch 3\n",
      "-- Epoch 3\n",
      "Norm: 1.18, NNZs: 227, Bias: -5.448936, T: 132192, Avg. loss: 0.312639Norm: 1.23, NNZs: 230, Bias: -5.734345, T: 132192, Avg. loss: 0.307903Norm: 1.75, NNZs: 312, Bias: -9.437799, T: 132198, Avg. loss: 0.418443\n",
      "\n",
      "\n",
      "Total training time: 3.34 seconds.\n",
      "Total training time: 3.21 seconds.\n",
      "Total training time: 2.63 seconds.\n",
      "-- Epoch 4\n",
      "-- Epoch 4\n",
      "-- Epoch 4\n",
      "Norm: 1.15, NNZs: 226, Bias: -5.305728, T: 176256, Avg. loss: 0.305718Norm: 1.21, NNZs: 233, Bias: -5.592918, T: 176256, Avg. loss: 0.302306Norm: 1.72, NNZs: 314, Bias: -9.272236, T: 176264, Avg. loss: 0.407490\n",
      "\n",
      "\n",
      "Total training time: 4.13 seconds.\n",
      "Total training time: 3.91 seconds.\n",
      "Total training time: 3.62 seconds.\n",
      "-- Epoch 5\n",
      "-- Epoch 5\n",
      "-- Epoch 5\n",
      "Norm: 1.13, NNZs: 228, Bias: -5.196740, T: 220320, Avg. loss: 0.300975Norm: 1.18, NNZs: 237, Bias: -5.486382, T: 220320, Avg. loss: 0.298254Norm: 1.70, NNZs: 316, Bias: -9.144601, T: 220330, Avg. loss: 0.400016\n",
      "\n",
      "\n",
      "Total training time: 5.35 seconds.\n",
      "Total training time: 4.80 seconds.\n",
      "Total training time: 4.42 seconds.\n",
      "-- Epoch 1-- Epoch 1-- Epoch 1\n",
      "\n",
      "\n",
      "Norm: 15.50, NNZs: 0, Bias: -1.890570, T: 44064, Avg. loss: 0.304386Norm: 15.55, NNZs: 0, Bias: -1.756912, T: 44064, Avg. loss: 0.313952Norm: 38.64, NNZs: 0, Bias: -1.797958, T: 44066, Avg. loss: 0.310880\n",
      "\n",
      "\n",
      "Total training time: 0.66 seconds.\n",
      "Total training time: 0.76 seconds.\n",
      "Total training time: 0.91 seconds.\n",
      "-- Epoch 2\n",
      "-- Epoch 2\n",
      "-- Epoch 2\n",
      "Norm: 15.50, NNZs: 0, Bias: -1.921089, T: 88128, Avg. loss: 0.302629Norm: 15.55, NNZs: 0, Bias: -1.798093, T: 88128, Avg. loss: 0.310698Norm: 38.64, NNZs: 0, Bias: -1.835503, T: 88132, Avg. loss: 0.308073\n",
      "\n",
      "\n",
      "Total training time: 1.31 seconds.\n",
      "Total training time: 1.57 seconds.\n",
      "Total training time: 1.60 seconds.\n",
      "-- Epoch 3\n",
      "-- Epoch 3\n",
      "-- Epoch 3\n",
      "Norm: 15.50, NNZs: 0, Bias: -1.937961, T: 132192, Avg. loss: 0.301723Norm: 15.55, NNZs: 0, Bias: -1.820584, T: 132192, Avg. loss: 0.309038Norm: 38.64, NNZs: 0, Bias: -1.856231, T: 132198, Avg. loss: 0.306652\n",
      "\n",
      "\n",
      "Total training time: 1.97 seconds.\n",
      "Total training time: 2.46 seconds.\n",
      "Total training time: 2.26 seconds.\n",
      "-- Epoch 4\n",
      "-- Epoch 4\n",
      "-- Epoch 4\n",
      "Norm: 15.50, NNZs: 0, Bias: -1.949440, T: 176256, Avg. loss: 0.301128Norm: 15.55, NNZs: 0, Bias: -1.835882, T: 176256, Avg. loss: 0.307957Norm: 38.64, NNZs: 0, Bias: -1.870360, T: 176264, Avg. loss: 0.305728\n",
      "\n",
      "\n",
      "Total training time: 2.93 seconds.\n",
      "Total training time: 3.35 seconds.\n",
      "Total training time: 3.02 seconds.\n",
      "-- Epoch 5\n",
      "-- Epoch 5\n",
      "-- Epoch 5\n",
      "Norm: 15.50, NNZs: 0, Bias: -1.958153, T: 220320, Avg. loss: 0.300693Norm: 15.55, NNZs: 0, Bias: -1.847422, T: 220320, Avg. loss: 0.307169Norm: 38.64, NNZs: 0, Bias: -1.881015, T: 220330, Avg. loss: 0.305056\n",
      "\n",
      "\n",
      "Total training time: 3.74 seconds.\n",
      "Total training time: 4.09 seconds.\n",
      "Total training time: 3.76 seconds.\n",
      "-- Epoch 1-- Epoch 1-- Epoch 1\n",
      "\n",
      "\n",
      "Norm: 0.07, NNZs: 924, Bias: -2.277452, T: 44064, Avg. loss: 0.269647Norm: 0.06, NNZs: 924, Bias: -2.163903, T: 44064, Avg. loss: 0.274386Norm: 0.09, NNZs: 924, Bias: -2.708743, T: 44066, Avg. loss: 0.261034\n",
      "\n",
      "\n",
      "Total training time: 0.36 seconds.\n",
      "Total training time: 0.29 seconds.\n",
      "Total training time: 0.45 seconds.\n",
      "-- Epoch 2\n",
      "-- Epoch 2\n",
      "-- Epoch 2\n",
      "Norm: 0.07, NNZs: 924, Bias: -2.298827, T: 88128, Avg. loss: 0.265125Norm: 0.06, NNZs: 924, Bias: -2.190954, T: 88128, Avg. loss: 0.270358Norm: 0.09, NNZs: 924, Bias: -2.716510, T: 88132, Avg. loss: 0.255649\n",
      "\n",
      "\n",
      "Total training time: 0.71 seconds.\n",
      "Total training time: 0.58 seconds.\n",
      "Total training time: 0.85 seconds.\n",
      "-- Epoch 3\n",
      "-- Epoch 3\n",
      "-- Epoch 3\n",
      "Norm: 0.07, NNZs: 924, Bias: -2.310708, T: 132192, Avg. loss: 0.263442Norm: 0.07, NNZs: 924, Bias: -2.206177, T: 132192, Avg. loss: 0.268732Norm: 0.09, NNZs: 924, Bias: -2.721005, T: 132198, Avg. loss: 0.253794\n",
      "\n",
      "\n",
      "Total training time: 0.98 seconds.\n",
      "Total training time: 0.94 seconds.\n",
      "Total training time: 1.30 seconds.\n",
      "-- Epoch 4\n",
      "-- Epoch 4\n",
      "-- Epoch 4\n",
      "Norm: 0.07, NNZs: 924, Bias: -2.319036, T: 176256, Avg. loss: 0.262513Norm: 0.06, NNZs: 924, Bias: -2.216800, T: 176256, Avg. loss: 0.267778Norm: 0.09, NNZs: 924, Bias: -2.724014, T: 176264, Avg. loss: 0.252860\n",
      "\n",
      "\n",
      "Total training time: 1.30 seconds.\n",
      "Total training time: 1.20 seconds.\n",
      "Total training time: 1.73 seconds.\n",
      "-- Epoch 5\n",
      "-- Epoch 5\n",
      "-- Epoch 5\n",
      "Norm: 0.07, NNZs: 924, Bias: -2.325355, T: 220320, Avg. loss: 0.261904Norm: 0.06, NNZs: 924, Bias: -2.224930, T: 220320, Avg. loss: 0.267127Norm: 0.09, NNZs: 924, Bias: -2.726465, T: 220330, Avg. loss: 0.252267\n",
      "\n",
      "\n",
      "Total training time: 1.75 seconds.\n",
      "Total training time: 1.49 seconds.\n",
      "Total training time: 2.21 seconds.\n",
      "-- Epoch 1-- Epoch 1-- Epoch 1\n",
      "\n",
      "\n",
      "Norm: 0.04, NNZs: 0, Bias: -1.933059, T: 44064, Avg. loss: 0.305117Norm: 0.04, NNZs: 0, Bias: -2.072055, T: 44064, Avg. loss: 0.298931Norm: 0.05, NNZs: 0, Bias: -1.508508, T: 44066, Avg. loss: 0.342123\n",
      "\n",
      "\n",
      "Total training time: 0.93 seconds.\n",
      "Total training time: 1.01 seconds.\n",
      "Total training time: 0.74 seconds.\n",
      "-- Epoch 2\n",
      "-- Epoch 2\n",
      "-- Epoch 2\n",
      "Norm: 0.03, NNZs: 0, Bias: -1.960581, T: 88128, Avg. loss: 0.302141Norm: 0.03, NNZs: 0, Bias: -2.089945, T: 88128, Avg. loss: 0.296878Norm: 0.03, NNZs: 0, Bias: -1.571846, T: 88132, Avg. loss: 0.333590\n",
      "\n",
      "\n",
      "Total training time: 1.79 seconds.\n",
      "Total training time: 1.97 seconds.\n",
      "Total training time: 1.56 seconds.\n",
      "-- Epoch 3\n",
      "-- Epoch 3\n",
      "-- Epoch 3\n",
      "Norm: 0.02, NNZs: 0, Bias: -1.975796, T: 132192, Avg. loss: 0.300890Norm: 0.02, NNZs: 0, Bias: -2.099833, T: 132192, Avg. loss: 0.296084Norm: 0.03, NNZs: 0, Bias: -1.606077, T: 132198, Avg. loss: 0.329401\n",
      "\n",
      "\n",
      "Total training time: 2.82 seconds.\n",
      "Total training time: 2.91 seconds.\n",
      "Total training time: 2.46 seconds.\n",
      "-- Epoch 4\n",
      "-- Epoch 4\n",
      "-- Epoch 4\n",
      "Norm: 0.02, NNZs: 0, Bias: -1.986215, T: 176256, Avg. loss: 0.300149Norm: 0.02, NNZs: 0, Bias: -2.106662, T: 176256, Avg. loss: 0.295637Norm: 0.02, NNZs: 0, Bias: -1.629208, T: 176264, Avg. loss: 0.326730\n",
      "\n",
      "\n",
      "Total training time: 3.76 seconds.\n",
      "Total training time: 3.79 seconds.\n",
      "Total training time: 3.49 seconds.\n",
      "-- Epoch 5\n",
      "-- Epoch 5\n",
      "-- Epoch 5\n",
      "Norm: 0.02, NNZs: 0, Bias: -1.994049, T: 220320, Avg. loss: 0.299641Norm: 0.02, NNZs: 0, Bias: -2.111816, T: 220320, Avg. loss: 0.295342Norm: 0.02, NNZs: 0, Bias: -1.646510, T: 220330, Avg. loss: 0.324813\n",
      "\n",
      "\n",
      "Total training time: 4.60 seconds.\n",
      "Total training time: 4.58 seconds.\n",
      "Total training time: 4.32 seconds.\n",
      "-- Epoch 1-- Epoch 1-- Epoch 1\n",
      "\n",
      "\n",
      "Norm: 7.29, NNZs: 0, Bias: -0.639445, T: 44064, Avg. loss: 0.485313Norm: 6.91, NNZs: 0, Bias: -0.637897, T: 44064, Avg. loss: 0.485698Norm: 6.87, NNZs: 0, Bias: -0.638187, T: 44066, Avg. loss: 0.485710\n",
      "\n",
      "\n",
      "Total training time: 0.85 seconds.\n",
      "Total training time: 0.84 seconds.\n",
      "Total training time: 0.84 seconds.\n",
      "\n",
      "Total training time: 2.55 seconds.\n",
      "-- Epoch 4\n",
      "Norm: 1.29, NNZs: 254, Bias: -6.143895, T: 264388, Avg. loss: 0.318391-- Epoch 2\n",
      "-- Epoch 2\n",
      "-- Epoch 2\n",
      "Norm: 7.29, NNZs: 0, Bias: -0.657334, T: 88128, Avg. loss: 0.480439Norm: 6.91, NNZs: 0, Bias: -0.655835, T: 88128, Avg. loss: 0.480828Norm: 6.87, NNZs: 0, Bias: -0.656071, T: 88132, Avg. loss: 0.480807\n",
      "\n",
      "\n",
      "Total training time: 1.60 seconds.\n",
      "Total training time: 1.77 seconds.\n",
      "Total training time: 1.64 seconds.\n",
      "-- Epoch 3\n",
      "-- Epoch 3\n",
      "-- Epoch 3\n",
      "Norm: 7.29, NNZs: 0, Bias: -0.667669, T: 132192, Avg. loss: 0.477667Norm: 6.91, NNZs: 0, Bias: -0.666187, T: 132192, Avg. loss: 0.478053Norm: 6.87, NNZs: 0, Bias: -0.666414, T: 132198, Avg. loss: 0.478023\n",
      "\n",
      "\n",
      "Total training time: 2.35 seconds.\n",
      "Total training time: 2.58 seconds.\n",
      "Total training time: 2.47 seconds.\n",
      "-- Epoch 4\n",
      "-- Epoch 4\n",
      "-- Epoch 4\n",
      "Norm: 7.29, NNZs: 0, Bias: -0.674948, T: 176256, Avg. loss: 0.475732Norm: 6.91, NNZs: 0, Bias: -0.673471, T: 176256, Avg. loss: 0.476116Norm: 6.87, NNZs: 0, Bias: -0.673705, T: 176264, Avg. loss: 0.476082\n",
      "\n",
      "\n",
      "Total training time: 3.07 seconds.\n",
      "Total training time: 3.38 seconds.\n",
      "Total training time: 3.17 seconds.\n",
      "-- Epoch 5\n",
      "-- Epoch 5\n",
      "-- Epoch 5\n",
      "Norm: 7.29, NNZs: 0, Bias: -0.680565, T: 220320, Avg. loss: 0.474250Norm: 6.91, NNZs: 0, Bias: -0.679091, T: 220320, Avg. loss: 0.474631Norm: 6.87, NNZs: 0, Bias: -0.679328, T: 220330, Avg. loss: 0.474595\n",
      "\n",
      "\n",
      "Total training time: 3.93 seconds.\n",
      "Total training time: 4.05 seconds.\n",
      "Total training time: 4.19 seconds.\n",
      "-- Epoch 1-- Epoch 1-- Epoch 1\n",
      "\n",
      "\n",
      "Norm: 0.02, NNZs: 924, Bias: -0.617555, T: 44064, Avg. loss: 0.481428Norm: 0.02, NNZs: 924, Bias: -0.635778, T: 44064, Avg. loss: 0.479446Norm: 0.02, NNZs: 924, Bias: -0.607816, T: 44066, Avg. loss: 0.486270\n",
      "\n",
      "\n",
      "Total training time: 0.35 seconds.\n",
      "Total training time: 0.31 seconds.\n",
      "Total training time: 0.32 seconds.\n",
      "-- Epoch 2\n",
      "-- Epoch 2\n",
      "-- Epoch 2\n",
      "Norm: 0.02, NNZs: 924, Bias: -0.635862, T: 88128, Avg. loss: 0.476075Norm: 0.02, NNZs: 924, Bias: -0.653862, T: 88128, Avg. loss: 0.474124Norm: 0.02, NNZs: 924, Bias: -0.626353, T: 88132, Avg. loss: 0.480772\n",
      "\n",
      "\n",
      "Total training time: 0.72 seconds.\n",
      "Total training time: 0.64 seconds.\n",
      "Total training time: 0.61 seconds.\n",
      "-- Epoch 3\n",
      "-- Epoch 3\n",
      "-- Epoch 3\n",
      "Norm: 0.02, NNZs: 924, Bias: -0.646454, T: 132192, Avg. loss: 0.473103Norm: 0.02, NNZs: 924, Bias: -0.664324, T: 132192, Avg. loss: 0.471163Norm: 0.02, NNZs: 924, Bias: -0.637077, T: 132198, Avg. loss: 0.477700\n",
      "\n",
      "\n",
      "Total training time: 1.09 seconds.\n",
      "Total training time: 0.94 seconds.\n",
      "Total training time: 0.86 seconds.\n",
      "-- Epoch 4\n",
      "-- Epoch 4\n",
      "-- Epoch 4\n",
      "Norm: 0.02, NNZs: 924, Bias: -0.653907, T: 176256, Avg. loss: 0.471031Norm: 0.02, NNZs: 924, Bias: -0.671691, T: 176256, Avg. loss: 0.469120Norm: 0.02, NNZs: 924, Bias: -0.644618, T: 176264, Avg. loss: 0.475571\n",
      "\n",
      "\n",
      "Total training time: 1.37 seconds.\n",
      "Total training time: 1.35 seconds.\n",
      "Total training time: 1.17 seconds.\n",
      "-- Epoch 5\n",
      "-- Epoch 5\n",
      "-- Epoch 5\n",
      "Norm: 0.02, NNZs: 924, Bias: -0.659659, T: 220320, Avg. loss: 0.469455Norm: 0.02, NNZs: 924, Bias: -0.677375, T: 220320, Avg. loss: 0.467564Norm: 0.02, NNZs: 924, Bias: -0.650438, T: 220330, Avg. loss: 0.473942\n",
      "\n",
      "\n",
      "Total training time: 1.64 seconds.\n",
      "Total training time: 1.72 seconds.\n",
      "Total training time: 1.48 seconds.\n",
      "-- Epoch 1-- Epoch 1-- Epoch 1\n",
      "\n",
      "\n",
      "Norm: 0.01, NNZs: 0, Bias: -0.201083, T: 44064, Avg. loss: 0.628774Norm: 0.01, NNZs: 0, Bias: -0.207464, T: 44064, Avg. loss: 0.626260Norm: 0.01, NNZs: 0, Bias: -0.625129, T: 44066, Avg. loss: 0.489179\n",
      "\n",
      "\n",
      "Total training time: 0.65 seconds.\n",
      "Total training time: 0.96 seconds.\n",
      "Total training time: 0.66 seconds.\n",
      "-- Epoch 2\n",
      "-- Epoch 2\n",
      "-- Epoch 2\n",
      "Norm: 0.01, NNZs: 0, Bias: -0.226140, T: 88128, Avg. loss: 0.619238Norm: 0.01, NNZs: 0, Bias: -0.232437, T: 88128, Avg. loss: 0.616840Norm: 0.00, NNZs: 0, Bias: -0.643242, T: 88132, Avg. loss: 0.484219\n",
      "\n",
      "\n",
      "Total training time: 1.51 seconds.\n",
      "Total training time: 1.83 seconds.\n",
      "Total training time: 1.33 seconds.\n",
      "-- Epoch 3\n",
      "-- Epoch 3\n",
      "-- Epoch 3\n",
      "Norm: 0.00, NNZs: 0, Bias: -0.240598, T: 132192, Avg. loss: 0.613811Norm: 0.00, NNZs: 0, Bias: -0.246830, T: 132192, Avg. loss: 0.611469Norm: 0.00, NNZs: 0, Bias: -0.653711, T: 132198, Avg. loss: 0.481390\n",
      "\n",
      "\n",
      "Total training time: 2.38 seconds.\n",
      "Total training time: 2.63 seconds.\n",
      "Total training time: 2.02 seconds.\n",
      "-- Epoch 4\n",
      "-- Epoch 4\n",
      "-- Epoch 4\n",
      "Norm: 0.00, NNZs: 0, Bias: -0.250771, T: 176256, Avg. loss: 0.610025Norm: 0.00, NNZs: 0, Bias: -0.256957, T: 176256, Avg. loss: 0.607722Norm: 0.00, NNZs: 0, Bias: -0.661074, T: 176264, Avg. loss: 0.479413\n",
      "\n",
      "\n",
      "Total training time: 3.32 seconds.\n",
      "Total training time: 3.52 seconds.\n",
      "Total training time: 2.84 seconds.\n",
      "-- Epoch 5\n",
      "-- Epoch 5\n",
      "-- Epoch 5\n",
      "Norm: 0.00, NNZs: 0, Bias: -0.258610, T: 220320, Avg. loss: 0.607126Norm: 0.00, NNZs: 0, Bias: -0.264763, T: 220320, Avg. loss: 0.604850Norm: 0.00, NNZs: 0, Bias: -0.666760, T: 220330, Avg. loss: 0.477898\n",
      "\n",
      "\n",
      "Total training time: 4.16 seconds.\n",
      "Total training time: 4.56 seconds.\n",
      "Total training time: 3.61 seconds.\n",
      "-- Epoch 1-- Epoch 1-- Epoch 1\n",
      "\n",
      "\n",
      "Norm: 8.12, NNZs: 0, Bias: -0.200906, T: 44064, Avg. loss: 0.616185Norm: 2.94, NNZs: 0, Bias: -0.199785, T: 44064, Avg. loss: 0.616588Norm: 5.29, NNZs: 0, Bias: -0.198403, T: 44066, Avg. loss: 0.617097\n",
      "\n",
      "\n",
      "Total training time: 0.85 seconds.\n",
      "Total training time: 0.94 seconds.\n",
      "Total training time: 0.66 seconds.\n",
      "-- Epoch 2\n",
      "-- Epoch 2\n",
      "-- Epoch 2\n",
      "Norm: 8.12, NNZs: 0, Bias: -0.203429, T: 88128, Avg. loss: 0.615257Norm: 2.94, NNZs: 0, Bias: -0.202312, T: 88128, Avg. loss: 0.615663Norm: 5.29, NNZs: 0, Bias: -0.200934, T: 88132, Avg. loss: 0.616171\n",
      "\n",
      "\n",
      "Total training time: 1.56 seconds.\n",
      "Total training time: 1.91 seconds.\n",
      "Total training time: 1.30 seconds.\n",
      "-- Epoch 3\n",
      "-- Epoch 3\n",
      "-- Epoch 3\n",
      "Norm: 8.12, NNZs: 0, Bias: -0.204904, T: 132192, Avg. loss: 0.614717Norm: 2.94, NNZs: 0, Bias: -0.203789, T: 132192, Avg. loss: 0.615123Norm: 5.29, NNZs: 0, Bias: -0.202412, T: 132198, Avg. loss: 0.615630\n",
      "\n",
      "\n",
      "Total training time: 2.30 seconds.\n",
      "Total training time: 2.63 seconds.\n",
      "Total training time: 2.03 seconds.\n",
      "-- Epoch 4\n",
      "-- Epoch 4\n",
      "-- Epoch 4\n",
      "Norm: 8.12, NNZs: 0, Bias: -0.205950, T: 176256, Avg. loss: 0.614334Norm: 2.94, NNZs: 0, Bias: -0.204836, T: 176256, Avg. loss: 0.614740Norm: 5.29, NNZs: 0, Bias: -0.203459, T: 176264, Avg. loss: 0.615247\n",
      "\n",
      "\n",
      "Total training time: 3.10 seconds.\n",
      "Total training time: 3.50 seconds.\n",
      "Total training time: 2.74 seconds.\n",
      "-- Epoch 5\n",
      "-- Epoch 5\n",
      "-- Epoch 5\n",
      "Norm: 8.12, NNZs: 0, Bias: -0.206761, T: 220320, Avg. loss: 0.614038Norm: 2.94, NNZs: 0, Bias: -0.205647, T: 220320, Avg. loss: 0.614444Norm: 5.29, NNZs: 0, Bias: -0.204271, T: 220330, Avg. loss: 0.614950\n",
      "\n",
      "\n",
      "Total training time: 3.77 seconds.\n",
      "Total training time: 4.16 seconds.\n",
      "Total training time: 3.41 seconds.\n",
      "-- Epoch 1-- Epoch 1-- Epoch 1\n",
      "\n",
      "\n",
      "Norm: 0.01, NNZs: 924, Bias: -0.202290, T: 44064, Avg. loss: 0.609405Norm: 0.01, NNZs: 924, Bias: -0.198310, T: 44064, Avg. loss: 0.613078Norm: 0.01, NNZs: 924, Bias: -0.203375, T: 44066, Avg. loss: 0.610682\n",
      "\n",
      "\n",
      "Total training time: 0.32 seconds.\n",
      "Total training time: 0.25 seconds.\n",
      "Total training time: 0.23 seconds.\n",
      "-- Epoch 2\n",
      "-- Epoch 2\n",
      "-- Epoch 2\n",
      "Norm: 0.01, NNZs: 924, Bias: -0.204812, T: 88128, Avg. loss: 0.608443\n",
      "Total training time: 3.58 seconds.\n",
      "-- Epoch 5\n",
      "Norm: 1.27, NNZs: 257, Bias: -6.028604, T: 330485, Avg. loss: 0.314046Norm: 0.01, NNZs: 924, Bias: -0.200844, T: 88128, Avg. loss: 0.612156Norm: 0.01, NNZs: 924, Bias: -0.205899, T: 88132, Avg. loss: 0.609758\n",
      "\n",
      "\n",
      "Total training time: 0.63 seconds.\n",
      "Total training time: 0.50 seconds.\n",
      "Total training time: 0.48 seconds.\n",
      "-- Epoch 3\n",
      "-- Epoch 3\n",
      "-- Epoch 3\n",
      "Norm: 0.01, NNZs: 924, Bias: -0.206285, T: 132192, Avg. loss: 0.607866Norm: 0.01, NNZs: 924, Bias: -0.202323, T: 132192, Avg. loss: 0.611590Norm: 0.01, NNZs: 924, Bias: -0.207373, T: 132198, Avg. loss: 0.609191\n",
      "\n",
      "\n",
      "Total training time: 0.89 seconds.\n",
      "Total training time: 0.83 seconds.\n",
      "Total training time: 0.76 seconds.\n",
      "-- Epoch 4\n",
      "-- Epoch 4\n",
      "-- Epoch 4\n",
      "Norm: 0.01, NNZs: 924, Bias: -0.207329, T: 176256, Avg. loss: 0.607477Norm: 0.01, NNZs: 924, Bias: -0.203373, T: 176256, Avg. loss: 0.611207Norm: 0.01, NNZs: 924, Bias: -0.208417, T: 176264, Avg. loss: 0.608785\n",
      "\n",
      "\n",
      "Total training time: 1.14 seconds.\n",
      "Total training time: 1.08 seconds.\n",
      "Total training time: 0.99 seconds.\n",
      "-- Epoch 5\n",
      "-- Epoch 5\n",
      "-- Epoch 5\n",
      "Norm: 0.01, NNZs: 924, Bias: -0.208138, T: 220320, Avg. loss: 0.607170Norm: 0.01, NNZs: 924, Bias: -0.204187, T: 220320, Avg. loss: 0.610913Norm: 0.01, NNZs: 924, Bias: -0.209228, T: 220330, Avg. loss: 0.608482\n",
      "\n",
      "\n",
      "Total training time: 1.41 seconds.\n",
      "Total training time: 1.39 seconds.\n",
      "Total training time: 1.23 seconds.\n",
      "-- Epoch 1-- Epoch 1-- Epoch 1\n",
      "\n",
      "\n",
      "Norm: 0.00, NNZs: 0, Bias: -0.201346, T: 44064, Avg. loss: 0.616024Norm: 0.00, NNZs: 0, Bias: -0.191437, T: 44064, Avg. loss: 0.619663Norm: 0.00, NNZs: 0, Bias: -0.193629, T: 44066, Avg. loss: 0.618863\n",
      "\n",
      "\n",
      "Total training time: 0.81 seconds.\n",
      "Total training time: 1.22 seconds.\n",
      "Total training time: 0.89 seconds.\n",
      "-- Epoch 2\n",
      "-- Epoch 2\n",
      "-- Epoch 2\n",
      "Norm: 0.00, NNZs: 0, Bias: -0.203872, T: 88128, Avg. loss: 0.615097Norm: 0.00, NNZs: 0, Bias: -0.193978, T: 88128, Avg. loss: 0.618725Norm: 0.00, NNZs: 0, Bias: -0.196166, T: 88132, Avg. loss: 0.617926\n",
      "\n",
      "\n",
      "Total training time: 1.91 seconds.\n",
      "Total training time: 2.27 seconds.\n",
      "Total training time: 1.60 seconds.\n",
      "-- Epoch 3\n",
      "-- Epoch 3\n",
      "-- Epoch 3\n",
      "Norm: 0.00, NNZs: 0, Bias: -0.205347, T: 132192, Avg. loss: 0.614556Norm: 0.00, NNZs: 0, Bias: -0.195463, T: 132192, Avg. loss: 0.618179Norm: 0.00, NNZs: 0, Bias: -0.197650, T: 132198, Avg. loss: 0.617380\n",
      "\n",
      "\n",
      "Total training time: 2.86 seconds.\n",
      "Total training time: 3.31 seconds.\n",
      "Total training time: 2.53 seconds.\n",
      "-- Epoch 4\n",
      "-- Epoch 4\n",
      "-- Epoch 4\n",
      "Norm: 0.00, NNZs: 0, Bias: -0.206393, T: 176256, Avg. loss: 0.614174Norm: 0.00, NNZs: 0, Bias: -0.196516, T: 176256, Avg. loss: 0.617791Norm: 0.00, NNZs: 0, Bias: -0.198701, T: 176264, Avg. loss: 0.616994\n",
      "\n",
      "\n",
      "Total training time: 3.88 seconds.\n",
      "Total training time: 4.36 seconds.\n",
      "Total training time: 3.23 seconds.\n",
      "-- Epoch 5\n",
      "-- Epoch 5\n",
      "-- Epoch 5\n",
      "Norm: 0.00, NNZs: 0, Bias: -0.207204, T: 220320, Avg. loss: 0.613877Norm: 0.00, NNZs: 0, Bias: -0.197332, T: 220320, Avg. loss: 0.617491Norm: 0.00, NNZs: 0, Bias: -0.199515, T: 220330, Avg. loss: 0.616694\n",
      "\n",
      "\n",
      "Total training time: 4.77 seconds.\n",
      "Total training time: 5.42 seconds.\n",
      "Total training time: 4.25 seconds.\n",
      "\n",
      "Total training time: 4.48 seconds.\n",
      "Loading testing data...\n"
     ]
    }
   ],
   "source": [
    "for trainf, testf in filesplitter:\n",
    "    \n",
    "    print 'Loading training data...'\n",
    "    X_train, Y_train = load_batch([_files[_] for _ in trainf],\n",
    "                                 n_pos=10,\n",
    "                                 n_neg=100)\n",
    "    \n",
    "    _model = sklearn.grid_search.GridSearchCV(sklearn.linear_model.SGDClassifier(loss='log', verbose=1),\n",
    "                                             {'alpha': np.logspace(-3, 3, num=6, endpoint=False),\n",
    "                                             'penalty': ['l1', 'l2', 'elasticnet']},\n",
    "                                             n_jobs=3, verbose=1)\n",
    "    \n",
    "    #_model = sklearn.grid_search.GridSearchCV(sklearn.ensemble.RandomForestClassifier(),\n",
    "    #                                         {'max_depth': np.arange(2, 11)},\n",
    "    #                                         n_jobs=3, verbose=1)\n",
    "    \n",
    "    feature = sklearn.preprocessing.StandardScaler()\n",
    "    model = sklearn.pipeline.Pipeline([('scaler', feature), ('predictor', _model)])\n",
    "    \n",
    "    model.fit(X_train, Y_train)\n",
    "    \n",
    "    print 'Loading testing data...'\n",
    "    X_test, Y_test = load_batch([_files[_] for _ in testf],\n",
    "                                n_pos=None,\n",
    "                                n_neg=None)"
   ]
  },
  {
   "cell_type": "code",
   "execution_count": 10,
   "metadata": {
    "collapsed": false
   },
   "outputs": [],
   "source": [
    "M = model.steps[1][1]"
   ]
  },
  {
   "cell_type": "code",
   "execution_count": 11,
   "metadata": {
    "collapsed": false
   },
   "outputs": [
    {
     "data": {
      "text/plain": [
       "{'alpha': 0.10000000000000001, 'penalty': 'elasticnet'}"
      ]
     },
     "execution_count": 11,
     "metadata": {},
     "output_type": "execute_result"
    }
   ],
   "source": [
    "M.best_params_"
   ]
  },
  {
   "cell_type": "code",
   "execution_count": 12,
   "metadata": {
    "collapsed": false
   },
   "outputs": [
    {
     "data": {
      "text/plain": [
       "<matplotlib.colorbar.Colorbar instance at 0x7fe1e32c27a0>"
      ]
     },
     "execution_count": 12,
     "metadata": {},
     "output_type": "execute_result"
    },
    {
     "data": {
      "image/png": "[encoded data removed]",
      "text/plain": [
       "<matplotlib.figure.Figure at 0x7fe221ac50d0>"
      ]
     },
     "metadata": {},
     "output_type": "display_data"
    }
   ],
   "source": [
    "w = model.steps[1][1].best_estimator_.coef_[0]\n",
    "w = w.reshape((-1, 84))\n",
    "plt.imshow(w.T, aspect='auto', interpolation='none', cmap='coolwarm', origin='lower')\n",
    "plt.ylabel('CQT bin')\n",
    "plt.xlabel('Context position')\n",
    "plt.title('$w$')\n",
    "plt.xticks(np.arange(5), np.arange(-2, 3))\n",
    "plt.colorbar()"
   ]
  },
  {
   "cell_type": "code",
   "execution_count": 13,
   "metadata": {
    "collapsed": false
   },
   "outputs": [
    {
     "name": "stdout",
     "output_type": "stream",
     "text": [
      "             precision    recall  f1-score   support\n",
      "\n",
      "          0       0.92      1.00      0.96     60467\n",
      "          1       0.67      0.01      0.01      5630\n",
      "\n",
      "avg / total       0.89      0.92      0.88     66097\n",
      "\n"
     ]
    }
   ],
   "source": [
    "print sklearn.metrics.classification_report(Y_train, model.predict(X_train))"
   ]
  },
  {
   "cell_type": "code",
   "execution_count": null,
   "metadata": {
    "collapsed": false
   },
   "outputs": [
    {
     "data": {
      "text/plain": [
       "0.91510961163139026"
      ]
     },
     "execution_count": 14,
     "metadata": {},
     "output_type": "execute_result"
    }
   ],
   "source": [
    "sklearn.metrics.accuracy_score(Y_train, model.predict(X_train))"
   ]
  },
  {
   "cell_type": "code",
   "execution_count": null,
   "metadata": {
    "collapsed": false
   },
   "outputs": [],
   "source": [
    "Y_pred = [model.predict(xt) for xt in X_test]"
   ]
  },
  {
   "cell_type": "code",
   "execution_count": null,
   "metadata": {
    "collapsed": false
   },
   "outputs": [],
   "source": [
    "Y_pred_proba = np.concatenate([model.predict_proba(xt) for xt in X_test], axis=0)"
   ]
  },
  {
   "cell_type": "code",
   "execution_count": null,
   "metadata": {
    "collapsed": false
   },
   "outputs": [],
   "source": [
    "Y_pred = np.concatenate(Y_pred, axis=0)"
   ]
  },
  {
   "cell_type": "code",
   "execution_count": null,
   "metadata": {
    "collapsed": false
   },
   "outputs": [],
   "source": [
    "print sklearn.metrics.classification_report(Y_test, Y_pred)"
   ]
  },
  {
   "cell_type": "code",
   "execution_count": null,
   "metadata": {
    "collapsed": false
   },
   "outputs": [],
   "source": [
    "sklearn.metrics.accuracy_score(Y_test, Y_pred)"
   ]
  },
  {
   "cell_type": "markdown",
   "metadata": {},
   "source": [
    "---"
   ]
  },
  {
   "cell_type": "code",
   "execution_count": 32,
   "metadata": {
    "collapsed": true
   },
   "outputs": [],
   "source": [
    "import cPickle as pickle"
   ]
  },
  {
   "cell_type": "code",
   "execution_count": 33,
   "metadata": {
    "collapsed": false
   },
   "outputs": [],
   "source": [
    "pickle.dump({'model': model, 'dataset': 'salami_beat'},\n",
    "            open('../data/similarity_model_salami_beat.pickle', 'w'))\n",
    "#pickle.dump({'model': model, 'dataset': 'isophonics_beat'},\n",
    "#            open('../data/similarity_model_isophonics_beat.pickle', 'w'))"
   ]
  },
  {
   "cell_type": "markdown",
   "metadata": {},
   "source": [
    "---"
   ]
  },
  {
   "cell_type": "code",
   "execution_count": 98,
   "metadata": {
    "collapsed": true
   },
   "outputs": [],
   "source": [
    "Xtrains2 = np.mean(X_train**2, axis=1, keepdims=True)"
   ]
  },
  {
   "cell_type": "code",
   "execution_count": 99,
   "metadata": {
    "collapsed": true
   },
   "outputs": [],
   "source": [
    "Xtests2 = np.mean(X_test**2, axis=1, keepdims=True)"
   ]
  },
  {
   "cell_type": "code",
   "execution_count": 100,
   "metadata": {
    "collapsed": true
   },
   "outputs": [],
   "source": [
    "seaborn.set_style('darkgrid')"
   ]
  },
  {
   "cell_type": "code",
   "execution_count": 101,
   "metadata": {
    "collapsed": true
   },
   "outputs": [],
   "source": [
    "import sklearn.neighbors"
   ]
  },
  {
   "cell_type": "code",
   "execution_count": 102,
   "metadata": {
    "collapsed": false
   },
   "outputs": [
    {
     "name": "stdout",
     "output_type": "stream",
     "text": [
      "Fitting 5 folds for each of 5 candidates, totalling 25 fits\n"
     ]
    },
    {
     "name": "stderr",
     "output_type": "stream",
     "text": [
      "[Parallel(n_jobs=3)]: Done   1 jobs       | elapsed:   11.5s\n",
      "[Parallel(n_jobs=3)]: Done  21 out of  25 | elapsed:  1.5min remaining:   17.3s\n",
      "[Parallel(n_jobs=3)]: Done  25 out of  25 | elapsed:  1.7min finished\n"
     ]
    },
    {
     "data": {
      "text/plain": [
       "GridSearchCV(cv=5, error_score='raise',\n",
       "       estimator=KernelDensity(algorithm='auto', atol=0, bandwidth=1.0, breadth_first=True,\n",
       "       kernel='gaussian', leaf_size=40, metric='euclidean',\n",
       "       metric_params=None, rtol=0),\n",
       "       fit_params={}, iid=True, loss_func=None, n_jobs=3,\n",
       "       param_grid={'bandwidth': array([ 0.1  ,  0.325,  0.55 ,  0.775,  1.   ])},\n",
       "       pre_dispatch='2*n_jobs', refit=True, score_func=None, scoring=None,\n",
       "       verbose=1)"
      ]
     },
     "execution_count": 102,
     "metadata": {},
     "output_type": "execute_result"
    }
   ],
   "source": [
    "KDE_pos = sklearn.grid_search.GridSearchCV(sklearn.neighbors.KernelDensity(),\n",
    "                                           {'bandwidth': np.linspace(0.1, 1.0, 5)},\n",
    "                                           verbose=1,\n",
    "                                           n_jobs=3,\n",
    "                                           cv=5)\n",
    "KDE_pos.fit(Xtrains2[Y_train > 0])"
   ]
  },
  {
   "cell_type": "code",
   "execution_count": 103,
   "metadata": {
    "collapsed": false
   },
   "outputs": [
    {
     "name": "stdout",
     "output_type": "stream",
     "text": [
      "Fitting 5 folds for each of 3 candidates, totalling 15 fits\n"
     ]
    },
    {
     "name": "stderr",
     "output_type": "stream",
     "text": [
      "[Parallel(n_jobs=3)]: Done   1 jobs       | elapsed:   14.5s\n",
      "[Parallel(n_jobs=3)]: Done  11 out of  15 | elapsed:  1.2min remaining:   25.4s\n",
      "[Parallel(n_jobs=3)]: Done  15 out of  15 | elapsed:  1.4min finished\n"
     ]
    },
    {
     "data": {
      "text/plain": [
       "GridSearchCV(cv=5, error_score='raise',\n",
       "       estimator=KernelDensity(algorithm='auto', atol=0, bandwidth=1.0, breadth_first=True,\n",
       "       kernel='gaussian', leaf_size=40, metric='euclidean',\n",
       "       metric_params=None, rtol=0),\n",
       "       fit_params={}, iid=True, loss_func=None, n_jobs=3,\n",
       "       param_grid={'bandwidth': array([ 0.1 ,  0.55,  1.  ])},\n",
       "       pre_dispatch='2*n_jobs', refit=True, score_func=None, scoring=None,\n",
       "       verbose=1)"
      ]
     },
     "execution_count": 103,
     "metadata": {},
     "output_type": "execute_result"
    }
   ],
   "source": [
    "KDE_neg = sklearn.grid_search.GridSearchCV(sklearn.neighbors.KernelDensity(),\n",
    "                                           {'bandwidth': np.linspace(0.1, 1.0, 3)},\n",
    "                                           verbose=1,\n",
    "                                           n_jobs=3,\n",
    "                                           cv=5)\n",
    "KDE_neg.fit(Xtrains2[Y_train < 1])"
   ]
  },
  {
   "cell_type": "code",
   "execution_count": 104,
   "metadata": {
    "collapsed": false
   },
   "outputs": [],
   "source": [
    "Y_pred_kde = (KDE_pos.best_estimator_.score_samples(Xtests2) >\n",
    "              KDE_neg.best_estimator_.score_samples(Xtests2))"
   ]
  },
  {
   "cell_type": "code",
   "execution_count": 105,
   "metadata": {
    "collapsed": false
   },
   "outputs": [
    {
     "name": "stdout",
     "output_type": "stream",
     "text": [
      "             precision    recall  f1-score   support\n",
      "\n",
      "          0       0.66      0.68      0.67    143276\n",
      "          1       0.58      0.56      0.57    114243\n",
      "\n",
      "avg / total       0.62      0.62      0.62    257519\n",
      "\n"
     ]
    }
   ],
   "source": [
    "print sklearn.metrics.classification_report(Y_test[:len(Y_pred_kde)], Y_pred_kde)"
   ]
  },
  {
   "cell_type": "code",
   "execution_count": 106,
   "metadata": {
    "collapsed": false
   },
   "outputs": [
    {
     "ename": "ValueError",
     "evalue": "need more than 1 value to unpack",
     "output_type": "error",
     "traceback": [
      "\u001b[1;31m---------------------------------------------------------------------------\u001b[0m",
      "\u001b[1;31mValueError\u001b[0m                                Traceback (most recent call last)",
      "\u001b[1;32m<ipython-input-106-d8507f42514d>\u001b[0m in \u001b[0;36m<module>\u001b[1;34m()\u001b[0m\n\u001b[1;32m----> 1\u001b[1;33m \u001b[0mseaborn\u001b[0m\u001b[1;33m.\u001b[0m\u001b[0mkdeplot\u001b[0m\u001b[1;33m(\u001b[0m\u001b[0mnp\u001b[0m\u001b[1;33m.\u001b[0m\u001b[0mlog\u001b[0m\u001b[1;33m(\u001b[0m\u001b[0mXtrains2\u001b[0m\u001b[1;33m[\u001b[0m\u001b[0mY_train\u001b[0m \u001b[1;33m>\u001b[0m \u001b[1;36m0\u001b[0m\u001b[1;33m]\u001b[0m\u001b[1;33m)\u001b[0m\u001b[1;33m,\u001b[0m \u001b[0mshade\u001b[0m\u001b[1;33m=\u001b[0m\u001b[0mTrue\u001b[0m\u001b[1;33m,\u001b[0m \u001b[0mlabel\u001b[0m\u001b[1;33m=\u001b[0m\u001b[1;34m'Positive'\u001b[0m\u001b[1;33m)\u001b[0m\u001b[1;33m\u001b[0m\u001b[0m\n\u001b[0m\u001b[0;32m      2\u001b[0m \u001b[0mseaborn\u001b[0m\u001b[1;33m.\u001b[0m\u001b[0mkdeplot\u001b[0m\u001b[1;33m(\u001b[0m\u001b[0mnp\u001b[0m\u001b[1;33m.\u001b[0m\u001b[0mlog\u001b[0m\u001b[1;33m(\u001b[0m\u001b[0mXtrains2\u001b[0m\u001b[1;33m[\u001b[0m\u001b[0mY_train\u001b[0m \u001b[1;33m<\u001b[0m \u001b[1;36m1\u001b[0m\u001b[1;33m]\u001b[0m\u001b[1;33m)\u001b[0m\u001b[1;33m,\u001b[0m \u001b[0mshade\u001b[0m\u001b[1;33m=\u001b[0m\u001b[0mTrue\u001b[0m\u001b[1;33m,\u001b[0m \u001b[0mlabel\u001b[0m\u001b[1;33m=\u001b[0m\u001b[1;34m'Negative'\u001b[0m\u001b[1;33m)\u001b[0m\u001b[1;33m\u001b[0m\u001b[0m\n\u001b[0;32m      3\u001b[0m \u001b[0mplt\u001b[0m\u001b[1;33m.\u001b[0m\u001b[0mlegend\u001b[0m\u001b[1;33m(\u001b[0m\u001b[0mloc\u001b[0m\u001b[1;33m=\u001b[0m\u001b[1;34m'best'\u001b[0m\u001b[1;33m)\u001b[0m\u001b[1;33m\u001b[0m\u001b[0m\n",
      "\u001b[1;32m/usr/local/lib/python2.7/dist-packages/seaborn/distributions.pyc\u001b[0m in \u001b[0;36mkdeplot\u001b[1;34m(data, data2, shade, vertical, kernel, bw, gridsize, cut, clip, legend, ax, cumulative, **kwargs)\u001b[0m\n\u001b[0;32m    845\u001b[0m     \u001b[1;32mif\u001b[0m \u001b[0misinstance\u001b[0m\u001b[1;33m(\u001b[0m\u001b[0mdata\u001b[0m\u001b[1;33m,\u001b[0m \u001b[0mnp\u001b[0m\u001b[1;33m.\u001b[0m\u001b[0mndarray\u001b[0m\u001b[1;33m)\u001b[0m \u001b[1;32mand\u001b[0m \u001b[0mnp\u001b[0m\u001b[1;33m.\u001b[0m\u001b[0mndim\u001b[0m\u001b[1;33m(\u001b[0m\u001b[0mdata\u001b[0m\u001b[1;33m)\u001b[0m \u001b[1;33m>\u001b[0m \u001b[1;36m1\u001b[0m\u001b[1;33m:\u001b[0m\u001b[1;33m\u001b[0m\u001b[0m\n\u001b[0;32m    846\u001b[0m         \u001b[0mbivariate\u001b[0m \u001b[1;33m=\u001b[0m \u001b[0mTrue\u001b[0m\u001b[1;33m\u001b[0m\u001b[0m\n\u001b[1;32m--> 847\u001b[1;33m         \u001b[0mx\u001b[0m\u001b[1;33m,\u001b[0m \u001b[0my\u001b[0m \u001b[1;33m=\u001b[0m \u001b[0mdata\u001b[0m\u001b[1;33m.\u001b[0m\u001b[0mT\u001b[0m\u001b[1;33m\u001b[0m\u001b[0m\n\u001b[0m\u001b[0;32m    848\u001b[0m     \u001b[1;32melif\u001b[0m \u001b[0misinstance\u001b[0m\u001b[1;33m(\u001b[0m\u001b[0mdata\u001b[0m\u001b[1;33m,\u001b[0m \u001b[0mpd\u001b[0m\u001b[1;33m.\u001b[0m\u001b[0mDataFrame\u001b[0m\u001b[1;33m)\u001b[0m \u001b[1;32mand\u001b[0m \u001b[0mnp\u001b[0m\u001b[1;33m.\u001b[0m\u001b[0mndim\u001b[0m\u001b[1;33m(\u001b[0m\u001b[0mdata\u001b[0m\u001b[1;33m)\u001b[0m \u001b[1;33m>\u001b[0m \u001b[1;36m1\u001b[0m\u001b[1;33m:\u001b[0m\u001b[1;33m\u001b[0m\u001b[0m\n\u001b[0;32m    849\u001b[0m         \u001b[0mbivariate\u001b[0m \u001b[1;33m=\u001b[0m \u001b[0mTrue\u001b[0m\u001b[1;33m\u001b[0m\u001b[0m\n",
      "\u001b[1;31mValueError\u001b[0m: need more than 1 value to unpack"
     ]
    },
    {
     "data": {
      "image/png": "[encoded data removed]",
      "text/plain": [
       "<matplotlib.figure.Figure at 0x7f4338b12fd0>"
      ]
     },
     "metadata": {},
     "output_type": "display_data"
    }
   ],
   "source": [
    "seaborn.kdeplot(np.log(Xtrains2[Y_train > 0]), shade=True, label='Positive')\n",
    "seaborn.kdeplot(np.log(Xtrains2[Y_train < 1]), shade=True, label='Negative')\n",
    "plt.legend(loc='best')"
   ]
  }
 ],
 "metadata": {
  "kernelspec": {
   "display_name": "Python 2",
   "language": "python",
   "name": "python2"
  },
  "language_info": {
   "codemirror_mode": {
    "name": "ipython",
    "version": 2
   },
   "file_extension": ".py",
   "mimetype": "text/x-python",
   "name": "python",
   "nbconvert_exporter": "python",
   "pygments_lexer": "ipython2",
   "version": "2.7.8"
  }
 },
 "nbformat": 4,
 "nbformat_minor": 0
}
