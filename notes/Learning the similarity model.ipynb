{
 "cells": [
  {
   "cell_type": "code",
   "execution_count": 1,
   "metadata": {
    "collapsed": true
   },
   "outputs": [],
   "source": [
    "import numpy as np\n",
    "import matplotlib.pyplot as plt\n",
    "import seaborn\n",
    "seaborn.set()\n",
    "seaborn.set_style('dark')\n",
    "np.set_printoptions(precision=3)\n",
    "\n",
    "%matplotlib inline"
   ]
  },
  {
   "cell_type": "code",
   "execution_count": 2,
   "metadata": {
    "collapsed": true
   },
   "outputs": [],
   "source": [
    "import sklearn\n",
    "import sklearn.metrics\n",
    "import sklearn.grid_search\n",
    "import sklearn.linear_model\n",
    "import sklearn.cross_validation\n",
    "import sklearn.preprocessing\n",
    "import sklearn.pipeline\n",
    "import pescador"
   ]
  },
  {
   "cell_type": "code",
   "execution_count": 3,
   "metadata": {
    "collapsed": true
   },
   "outputs": [],
   "source": [
    "import glob"
   ]
  },
  {
   "cell_type": "code",
   "execution_count": 4,
   "metadata": {
    "collapsed": true
   },
   "outputs": [],
   "source": [
    "def load_file(filename, n_pos=32, n_neg=32):\n",
    "    \n",
    "    data = np.load(filename)\n",
    "    \n",
    "    d = data['X'].shape[1]\n",
    "    \n",
    "    if n_pos is None:\n",
    "        return data['X'], data['Y']\n",
    "    \n",
    "    \n",
    "    positives = np.flatnonzero(data['Y'])\n",
    "    negatives = np.flatnonzero(1-data['Y'])\n",
    "    n_pos = min(n_pos, len(positives))\n",
    "    n_neg = min(n_neg, len(negatives))\n",
    "    \n",
    "    X = np.empty((n_pos + n_neg, d), dtype=np.float32)\n",
    "    Y = np.zeros((n_pos + n_neg), dtype=np.int32)\n",
    "    \n",
    "    if n_pos > 0:\n",
    "        idx_pos = np.random.choice(positives, size=n_pos, replace=False)\n",
    "    \n",
    "        X[:n_pos] = np.take(data['X'], idx_pos, axis=0)\n",
    "        Y[:n_pos] = 1\n",
    "    \n",
    "    if n_neg > 0:\n",
    "        idx_neg = np.random.choice(negatives, size=n_neg, replace=False)\n",
    "        X[n_pos:] = np.take(data['X'], idx_neg, axis=0)\n",
    "    \n",
    "    return X, Y"
   ]
  },
  {
   "cell_type": "code",
   "execution_count": 17,
   "metadata": {
    "collapsed": true
   },
   "outputs": [],
   "source": [
    "def load_batch(files, n_pos=32, n_neg=32):\n",
    "    \n",
    "    X = []\n",
    "    Y = []\n",
    "    \n",
    "    for fn in files:\n",
    "        _x, _y = load_file(fn, n_pos=n_pos, n_neg=n_neg)\n",
    "        if _x.shape[0] == 0:\n",
    "            continue\n",
    "        X.append(_x)\n",
    "        Y.append(_y)\n",
    "        \n",
    "    X = np.concatenate(X, axis=0)\n",
    "    Y = np.concatenate(Y, axis=0)\n",
    "    \n",
    "    return X, Y"
   ]
  },
  {
   "cell_type": "code",
   "execution_count": 18,
   "metadata": {
    "collapsed": false
   },
   "outputs": [],
   "source": [
    "files = sorted(glob.glob('../data/labeled_features/SALAMI_*_beats.npz'))\n",
    "#files = sorted(glob.glob('../data/labeled_features/Isophonics_*_beats.npz'))"
   ]
  },
  {
   "cell_type": "code",
   "execution_count": 19,
   "metadata": {
    "collapsed": true
   },
   "outputs": [],
   "source": [
    "filesplitter = sklearn.cross_validation.ShuffleSplit(len(files), n_iter=1, test_size=0.10, random_state=5)\n",
    "_files = np.asarray(files)"
   ]
  },
  {
   "cell_type": "code",
   "execution_count": 20,
   "metadata": {
    "collapsed": true
   },
   "outputs": [],
   "source": [
    "import sklearn.ensemble"
   ]
  },
  {
   "cell_type": "code",
   "execution_count": 21,
   "metadata": {
    "collapsed": false
   },
   "outputs": [
    {
     "name": "stdout",
     "output_type": "stream",
     "text": [
      "Loading training data...\n",
      "Fitting 3 folds for each of 18 candidates, totalling 54 fits\n"
     ]
    },
    {
     "name": "stderr",
     "output_type": "stream",
     "text": [
      "[Parallel(n_jobs=3)]: Done   1 jobs       | elapsed:    6.4s\n",
      "[Parallel(n_jobs=3)]: Done  50 out of  54 | elapsed:  1.5min remaining:    7.0s\n",
      "[Parallel(n_jobs=3)]: Done  54 out of  54 | elapsed:  1.6min finished\n"
     ]
    },
    {
     "name": "stdout",
     "output_type": "stream",
     "text": [
      "-- Epoch 1\n",
      "Norm: 0.13, NNZs: 924, Bias: -1.094370, T: 93995, Avg. loss: 0.537584-- Epoch 1\n",
      "-- Epoch 1\n",
      "-- Epoch 1\n",
      "Norm: 408.39, NNZs: 597, Bias: -62.850000, T: 62664, Avg. loss: 36.061783Norm: 417.94, NNZs: 574, Bias: -71.331010, T: 62662, Avg. loss: 37.842071Norm: 398.99, NNZs: 527, Bias: -36.730493, T: 62664, Avg. loss: 31.189730\n",
      "\n",
      "\n",
      "Total training time: 0.58 seconds.\n",
      "Total training time: 0.87 seconds.\n",
      "Total training time: 0.88 seconds.\n",
      "-- Epoch 2\n",
      "-- Epoch 2\n",
      "-- Epoch 2\n",
      "Norm: 402.21, NNZs: 437, Bias: -9.069992, T: 125328, Avg. loss: 21.449449Norm: 409.71, NNZs: 470, Bias: -17.494861, T: 125324, Avg. loss: 23.287847Norm: 396.17, NNZs: 149, Bias: -1.047507, T: 125328, Avg. loss: 17.193795\n",
      "\n",
      "\n",
      "Total training time: 1.17 seconds.\n",
      "Total training time: 1.75 seconds.\n",
      "Total training time: 1.74 seconds.\n",
      "-- Epoch 3\n",
      "-- Epoch 3\n",
      "-- Epoch 3\n",
      "Norm: 402.17, NNZs: 145, Bias: -0.970355, T: 187992, Avg. loss: 14.594990Norm: 409.11, NNZs: 128, Bias: -1.083724, T: 187986, Avg. loss: 16.053169Norm: 396.51, NNZs: 99, Bias: -0.894824, T: 187992, Avg. loss: 11.645549\n",
      "\n",
      "\n",
      "Total training time: 1.74 seconds.\n",
      "Total training time: 2.62 seconds.\n",
      "Total training time: 2.53 seconds.\n",
      "-- Epoch 4\n",
      "-- Epoch 4\n",
      "-- Epoch 4\n",
      "Norm: 402.33, NNZs: 116, Bias: -1.074509, T: 250656, Avg. loss: 11.081118Norm: 409.27, NNZs: 117, Bias: -1.021952, T: 250648, Avg. loss: 12.175662Norm: 396.68, NNZs: 131, Bias: -0.885388, T: 250656, Avg. loss: 8.869739\n",
      "\n",
      "\n",
      "Total training time: 2.32 seconds.\n",
      "Total training time: 3.45 seconds.\n",
      "Total training time: 3.36 seconds.\n",
      "-- Epoch 5\n",
      "-- Epoch 5\n",
      "-- Epoch 5\n",
      "Norm: 402.43, NNZs: 130, Bias: -0.920240, T: 313320, Avg. loss: 8.972172Norm: 409.36, NNZs: 128, Bias: -0.940420, T: 313310, Avg. loss: 9.848495Norm: 396.78, NNZs: 111, Bias: -0.952749, T: 313320, Avg. loss: 7.203543\n",
      "\n",
      "\n",
      "Total training time: 2.87 seconds.\n",
      "Total training time: 4.25 seconds.\n",
      "Total training time: 4.16 seconds.\n",
      "-- Epoch 1-- Epoch 1-- Epoch 1\n",
      "\n",
      "\n",
      "Norm: 6.74, NNZs: 924, Bias: -4.325605, T: 62662, Avg. loss: 9.438821Norm: 6.74, NNZs: 924, Bias: -5.041741, T: 62664, Avg. loss: 9.123573Norm: 6.59, NNZs: 924, Bias: -4.396486, T: 62664, Avg. loss: 9.144678\n",
      "\n",
      "\n",
      "Total training time: 0.18 seconds.\n",
      "Total training time: 0.27 seconds.\n",
      "Total training time: 0.27 seconds.\n",
      "-- Epoch 2\n",
      "-- Epoch 2\n",
      "-- Epoch 2\n",
      "Norm: 3.27, NNZs: 924, Bias: -2.316379, T: 125324, Avg. loss: 5.306065Norm: 3.29, NNZs: 924, Bias: -2.437922, T: 125328, Avg. loss: 5.150484Norm: 3.24, NNZs: 924, Bias: -2.283799, T: 125328, Avg. loss: 5.174376\n",
      "\n",
      "\n",
      "Total training time: 0.35 seconds.\n",
      "Total training time: 0.55 seconds.\n",
      "Total training time: 0.55 seconds.\n",
      "-- Epoch 3\n",
      "-- Epoch 3\n",
      "-- Epoch 3\n",
      "Norm: 2.29, NNZs: 924, Bias: -1.793855, T: 187986, Avg. loss: 3.813279Norm: 2.29, NNZs: 924, Bias: -1.845615, T: 187992, Avg. loss: 3.706387Norm: 2.35, NNZs: 924, Bias: -1.798525, T: 187992, Avg. loss: 3.726963\n",
      "\n",
      "\n",
      "Total training time: 0.53 seconds.\n",
      "Total training time: 0.84 seconds.\n",
      "Total training time: 0.89 seconds.\n",
      "-- Epoch 4\n",
      "-- Epoch 4\n",
      "-- Epoch 4\n",
      "Norm: 1.84, NNZs: 924, Bias: -1.496955, T: 250648, Avg. loss: 3.036177Norm: 1.80, NNZs: 924, Bias: -1.386160, T: 250656, Avg. loss: 2.955872Norm: 1.88, NNZs: 924, Bias: -1.306986, T: 250656, Avg. loss: 2.973047\n",
      "\n",
      "\n",
      "Total training time: 0.72 seconds.\n",
      "Total training time: 1.06 seconds.\n",
      "Total training time: 1.17 seconds.\n",
      "-- Epoch 5\n",
      "-- Epoch 5\n",
      "-- Epoch 5\n",
      "Norm: 1.57, NNZs: 924, Bias: -1.376858, T: 313310, Avg. loss: 2.559537Norm: 1.58, NNZs: 924, Bias: -1.302301, T: 313320, Avg. loss: 2.494736Norm: 1.60, NNZs: 924, Bias: -1.348632, T: 313320, Avg. loss: 2.509728\n",
      "\n",
      "\n",
      "Total training time: 0.89 seconds.\n",
      "Total training time: 1.24 seconds.\n",
      "Total training time: 1.45 seconds.\n",
      "-- Epoch 1-- Epoch 1-- Epoch 1\n",
      "\n",
      "\n",
      "Norm: 40.45, NNZs: 167, Bias: -1.225528, T: 62662, Avg. loss: 8.837367Norm: 41.46, NNZs: 150, Bias: -1.054690, T: 62664, Avg. loss: 8.817827Norm: 40.66, NNZs: 163, Bias: -1.137835, T: 62664, Avg. loss: 8.485506\n",
      "\n",
      "\n",
      "Total training time: 0.80 seconds.\n",
      "Total training time: 0.85 seconds.\n",
      "Total training time: 0.90 seconds.\n",
      "-- Epoch 2\n",
      "-- Epoch 2\n",
      "-- Epoch 2\n",
      "Norm: 30.46, NNZs: 187, Bias: -1.187884, T: 125324, Avg. loss: 4.715235Norm: 31.04, NNZs: 197, Bias: -1.118200, T: 125328, Avg. loss: 4.705677Norm: 30.51, NNZs: 185, Bias: -1.160504, T: 125328, Avg. loss: 4.537237\n",
      "\n",
      "\n",
      "Total training time: 1.47 seconds.\n",
      "Total training time: 1.96 seconds.\n",
      "Total training time: 1.95 seconds.\n",
      "-- Epoch 3\n",
      "-- Epoch 3\n",
      "-- Epoch 3\n",
      "Norm: 25.14, NNZs: 233, Bias: -1.040106, T: 187986, Avg. loss: 3.333041Norm: 25.59, NNZs: 225, Bias: -1.108886, T: 187992, Avg. loss: 3.326350Norm: 25.14, NNZs: 226, Bias: -1.144873, T: 187992, Avg. loss: 3.212480\n",
      "\n",
      "\n",
      "Total training time: 2.06 seconds.\n",
      "Total training time: 2.76 seconds.\n",
      "Total training time: 2.84 seconds.\n",
      "-- Epoch 4\n",
      "-- Epoch 4\n",
      "-- Epoch 4\n",
      "Norm: 21.76, NNZs: 261, Bias: -1.093314, T: 250648, Avg. loss: 2.639563Norm: 22.12, NNZs: 261, Bias: -1.095892, T: 250656, Avg. loss: 2.634826Norm: 21.75, NNZs: 256, Bias: -1.137907, T: 250656, Avg. loss: 2.548184\n",
      "\n",
      "\n",
      "Total training time: 2.64 seconds.\n",
      "Total training time: 3.46 seconds.\n",
      "Total training time: 3.78 seconds.\n",
      "-- Epoch 5\n",
      "-- Epoch 5\n",
      "-- Epoch 5\n",
      "Norm: 19.37, NNZs: 294, Bias: -1.083828, T: 313310, Avg. loss: 2.222459Norm: 19.68, NNZs: 292, Bias: -1.004501, T: 313320, Avg. loss: 2.219032Norm: 19.37, NNZs: 290, Bias: -1.070238, T: 313320, Avg. loss: 2.148629\n",
      "\n",
      "\n",
      "Total training time: 3.57 seconds.\n",
      "Total training time: 4.16 seconds.\n",
      "Total training time: 4.70 seconds.\n",
      "-- Epoch 1-- Epoch 1-- Epoch 1\n",
      "\n",
      "\n",
      "Norm: 187.61, NNZs: 61, Bias: -9.650311, T: 62662, Avg. loss: 4.759138Norm: 182.64, NNZs: 32, Bias: -1.300391, T: 62664, Avg. loss: 3.368506Norm: 209.47, NNZs: 141, Bias: -26.739744, T: 62664, Avg. loss: 8.319730\n",
      "\n",
      "\n",
      "Total training time: 0.79 seconds.\n",
      "Total training time: 0.79 seconds.\n",
      "Total training time: 0.97 seconds.\n",
      "-- Epoch 2\n",
      "-- Epoch 2\n",
      "-- Epoch 2\n",
      "Norm: 187.63, NNZs: 36, Bias: -1.390065, T: 125324, Avg. loss: 2.839783Norm: 182.67, NNZs: 51, Bias: -0.724690, T: 125328, Avg. loss: 1.955584Norm: 209.40, NNZs: 89, Bias: -16.562720, T: 125328, Avg. loss: 5.890842\n",
      "\n",
      "\n",
      "Total training time: 1.74 seconds.\n",
      "Total training time: 1.43 seconds.\n",
      "Total training time: 1.94 seconds.\n",
      "-- Epoch 3\n",
      "-- Epoch 3\n",
      "-- Epoch 3\n",
      "Norm: 187.64, NNZs: 41, Bias: -0.805101, T: 187986, Avg. loss: 2.074357Norm: 182.68, NNZs: 57, Bias: -0.752974, T: 187992, Avg. loss: 1.483515Norm: 209.39, NNZs: 61, Bias: -10.555096, T: 187992, Avg. loss: 4.663750\n",
      "\n",
      "\n",
      "Total training time: 2.63 seconds.\n",
      "Total training time: 2.04 seconds.\n",
      "Total training time: 2.70 seconds.\n",
      "-- Epoch 4\n",
      "-- Epoch 4\n",
      "-- Epoch 4\n",
      "Norm: 187.65, NNZs: 47, Bias: -0.796535, T: 250648, Avg. loss: 1.690876Norm: 182.69, NNZs: 60, Bias: -0.731226, T: 250656, Avg. loss: 1.247094Norm: 209.38, NNZs: 43, Bias: -6.441991, T: 250656, Avg. loss: 3.860091\n",
      "\n",
      "\n",
      "Total training time: 3.56 seconds.\n",
      "Total training time: 2.72 seconds.\n",
      "Total training time: 3.58 seconds.\n",
      "-- Epoch 5\n",
      "-- Epoch 5\n",
      "-- Epoch 5\n",
      "Norm: 187.65, NNZs: 46, Bias: -0.791495, T: 313310, Avg. loss: 1.460589Norm: 182.70, NNZs: 60, Bias: -0.743199, T: 313320, Avg. loss: 1.105205Norm: 209.38, NNZs: 38, Bias: -3.568287, T: 313320, Avg. loss: 3.278529\n",
      "\n",
      "\n",
      "Total training time: 4.50 seconds.\n",
      "Total training time: 3.56 seconds.\n",
      "Total training time: 4.58 seconds.\n",
      "-- Epoch 1-- Epoch 1-- Epoch 1\n",
      "\n",
      "\n",
      "Norm: 1.08, NNZs: 924, Bias: -1.190702, T: 62662, Avg. loss: 2.079709\n",
      "Total training time: 0.23 seconds.\n",
      "-- Epoch 2\n",
      "Norm: 0.13, NNZs: 924, Bias: -1.076004, T: 187990, Avg. loss: 0.535856Norm: 1.02, NNZs: 924, Bias: -1.074526, T: 62664, Avg. loss: 1.464542Norm: 1.03, NNZs: 924, Bias: -1.106127, T: 62664, Avg. loss: 1.583712\n",
      "\n",
      "\n",
      "Total training time: 0.49 seconds.\n",
      "Total training time: 0.38 seconds.\n",
      "Total training time: 0.30 seconds.\n",
      "-- Epoch 2\n",
      "-- Epoch 2\n",
      "-- Epoch 2\n",
      "Norm: 0.77, NNZs: 924, Bias: -1.028986, T: 125324, Avg. loss: 1.316926Norm: 0.76, NNZs: 924, Bias: -0.958929, T: 125328, Avg. loss: 1.010259Norm: 0.73, NNZs: 924, Bias: -1.046744, T: 125328, Avg. loss: 1.066655\n",
      "\n",
      "\n",
      "Total training time: 0.85 seconds.\n",
      "Total training time: 0.73 seconds.\n",
      "Total training time: 0.59 seconds.\n",
      "-- Epoch 3\n",
      "-- Epoch 3\n",
      "-- Epoch 3\n",
      "Norm: 0.68, NNZs: 924, Bias: -1.040820, T: 187986, Avg. loss: 1.057661Norm: 0.68, NNZs: 924, Bias: -0.952588, T: 187992, Avg. loss: 0.853148Norm: 0.67, NNZs: 924, Bias: -1.010298, T: 187992, Avg. loss: 0.889649\n",
      "\n",
      "\n",
      "Total training time: 1.18 seconds.\n",
      "Total training time: 1.05 seconds.\n",
      "Total training time: 0.85 seconds.\n",
      "-- Epoch 4\n",
      "-- Epoch 4\n",
      "-- Epoch 4\n",
      "Norm: 0.66, NNZs: 924, Bias: -0.982968, T: 250648, Avg. loss: 0.926652Norm: 0.65, NNZs: 924, Bias: -0.949774, T: 250656, Avg. loss: 0.773346Norm: 0.63, NNZs: 924, Bias: -1.011220, T: 250656, Avg. loss: 0.799683\n",
      "\n",
      "\n",
      "Total training time: 1.53 seconds.\n",
      "Total training time: 1.44 seconds.\n",
      "Total training time: 1.08 seconds.\n",
      "-- Epoch 5\n",
      "-- Epoch 5\n",
      "-- Epoch 5\n",
      "Norm: 0.65, NNZs: 924, Bias: -0.990286, T: 313310, Avg. loss: 0.847247Norm: 0.64, NNZs: 924, Bias: -0.930111, T: 313320, Avg. loss: 0.724662Norm: 0.62, NNZs: 924, Bias: -0.994101, T: 313320, Avg. loss: 0.745011\n",
      "\n",
      "\n",
      "Total training time: 1.89 seconds.\n",
      "Total training time: 1.80 seconds.\n",
      "Total training time: 1.36 seconds.\n",
      "-- Epoch 1-- Epoch 1-- Epoch 1\n",
      "\n",
      "\n",
      "Norm: 4.77, NNZs: 116, Bias: -0.882595, T: 62664, Avg. loss: 1.174320Norm: 4.73, NNZs: 119, Bias: -0.964098, T: 62662, Avg. loss: 1.218891Norm: 4.74, NNZs: 114, Bias: -0.929247, T: 62664, Avg. loss: 1.382426\n",
      "\n",
      "\n",
      "Total training time: 1.05 seconds.\n",
      "Total training time: 1.08 seconds.\n",
      "Total training time: 0.75 seconds.\n",
      "-- Epoch 2\n",
      "-- Epoch 2\n",
      "-- Epoch 2\n",
      "Norm: 3.42, NNZs: 139, Bias: -0.882309, T: 125328, Avg. loss: 0.852867Norm: 3.39, NNZs: 149, Bias: -0.971485, T: 125324, Avg. loss: 0.875393Norm: 3.39, NNZs: 153, Bias: -0.959511, T: 125328, Avg. loss: 0.955023\n",
      "\n",
      "\n",
      "Total training time: 2.09 seconds.\n",
      "Total training time: 2.11 seconds.\n",
      "Total training time: 1.49 seconds.\n",
      "-- Epoch 3\n",
      "-- Epoch 3\n",
      "-- Epoch 3\n",
      "Norm: 2.83, NNZs: 162, Bias: -0.876556, T: 187992, Avg. loss: 0.745237Norm: 2.81, NNZs: 172, Bias: -0.937445, T: 187986, Avg. loss: 0.760281Norm: 2.80, NNZs: 166, Bias: -0.934814, T: 187992, Avg. loss: 0.812025\n",
      "\n",
      "\n",
      "Total training time: 3.13 seconds.\n",
      "Total training time: 3.15 seconds.\n",
      "Total training time: 2.43 seconds.\n",
      "-- Epoch 4\n",
      "-- Epoch 4\n",
      "-- Epoch 4\n",
      "Norm: 2.48, NNZs: 181, Bias: -0.871210, T: 250656, Avg. loss: 0.691143Norm: 2.47, NNZs: 177, Bias: -0.952389, T: 250648, Avg. loss: 0.702366Norm: 2.46, NNZs: 180, Bias: -0.934506, T: 250656, Avg. loss: 0.740246\n",
      "\n",
      "\n",
      "Total training time: 3.96 seconds.\n",
      "Total training time: 4.25 seconds.\n",
      "Total training time: 3.47 seconds.\n",
      "-- Epoch 5\n",
      "-- Epoch 5\n",
      "-- Epoch 5\n",
      "Norm: 2.25, NNZs: 195, Bias: -0.871383, T: 313320, Avg. loss: 0.658546Norm: 2.24, NNZs: 187, Bias: -0.938528, T: 313310, Avg. loss: 0.667564Norm: 2.23, NNZs: 191, Bias: -0.906290, T: 313320, Avg. loss: 0.697087\n",
      "\n",
      "\n",
      "Total training time: 4.81 seconds.\n",
      "Total training time: 5.25 seconds.\n",
      "Total training time: 4.36 seconds.\n",
      "-- Epoch 1-- Epoch 1-- Epoch 1\n",
      "\n",
      "\n",
      "Norm: 48.96, NNZs: 5, Bias: -0.488661, T: 62662, Avg. loss: 0.654252Norm: 53.32, NNZs: 9, Bias: -0.479742, T: 62664, Avg. loss: 0.649869Norm: 68.16, NNZs: 6, Bias: -0.485676, T: 62664, Avg. loss: 0.667945\n",
      "\n",
      "\n",
      "Total training time: 0.89 seconds.\n",
      "Total training time: 1.21 seconds.\n",
      "Total training time: 1.39 seconds.\n",
      "-- Epoch 2\n",
      "-- Epoch 2\n",
      "-- Epoch 2\n",
      "Norm: 48.96, NNZs: 5, Bias: -0.485939, T: 125324, Avg. loss: 0.649908Norm: 53.32, NNZs: 7, Bias: -0.482576, T: 125328, Avg. loss: 0.645088Norm: 68.16, NNZs: 7, Bias: -0.485376, T: 125328, Avg. loss: 0.657048\n",
      "\n",
      "\n",
      "Total training time: 1.97 seconds.\n",
      "Total training time: 3.09 seconds.\n",
      "Total training time: 2.69 seconds.\n",
      "-- Epoch 3\n",
      "-- Epoch 3\n",
      "-- Epoch 3\n",
      "Norm: 48.97, NNZs: 5, Bias: -0.484005, T: 187986, Avg. loss: 0.648198Norm: 53.32, NNZs: 7, Bias: -0.480670, T: 187992, Avg. loss: 0.643522Norm: 68.16, NNZs: 6, Bias: -0.482901, T: 187992, Avg. loss: 0.653154\n",
      "\n",
      "\n",
      "Total training time: 3.53 seconds.\n",
      "Total training time: 3.87 seconds.\n",
      "Total training time: 3.60 seconds.\n",
      "-- Epoch 4\n",
      "-- Epoch 4\n",
      "-- Epoch 4\n",
      "Norm: 48.97, NNZs: 5, Bias: -0.484068, T: 250648, Avg. loss: 0.647268Norm: 53.33, NNZs: 7, Bias: -0.481544, T: 250656, Avg. loss: 0.642623Norm: 68.16, NNZs: 5, Bias: -0.483401, T: 250656, Avg. loss: 0.651116\n",
      "\n",
      "\n",
      "Total training time: 4.57 seconds.\n",
      "Total training time: 4.62 seconds.\n",
      "Total training time: 4.53 seconds.\n",
      "-- Epoch 5\n",
      "-- Epoch 5\n",
      "-- Epoch 5\n",
      "Norm: 48.97, NNZs: 5, Bias: -0.483918, T: 313310, Avg. loss: 0.646830Norm: 53.33, NNZs: 7, Bias: -0.481376, T: 313320, Avg. loss: 0.641972Norm: 68.16, NNZs: 5, Bias: -0.483513, T: 313320, Avg. loss: 0.649888\n",
      "\n",
      "\n",
      "Total training time: 5.29 seconds.\n",
      "Total training time: 5.52 seconds.\n",
      "Total training time: 5.42 seconds.\n",
      "-- Epoch 1-- Epoch 1-- Epoch 1\n",
      "\n",
      "\n",
      "Norm: 0.43, NNZs: 924, Bias: -2.078899, T: 62662, Avg. loss: 0.719604Norm: 0.42, NNZs: 924, Bias: -1.869885, T: 62664, Avg. loss: 0.759729Norm: 0.44, NNZs: 924, Bias: -2.230215, T: 62664, Avg. loss: 0.777243\n",
      "\n",
      "\n",
      "Total training time: 0.20 seconds.\n",
      "Total training time: 0.21 seconds.\n",
      "Total training time: 0.33 seconds.\n",
      "-- Epoch 2\n",
      "-- Epoch 2\n",
      "-- Epoch 2\n",
      "Norm: 0.37, NNZs: 924, Bias: -1.629163, T: 125324, Avg. loss: 0.638109Norm: 0.36, NNZs: 924, Bias: -1.440764, T: 125328, Avg. loss: 0.655294Norm: 0.38, NNZs: 924, Bias: -1.732475, T: 125328, Avg. loss: 0.669851\n",
      "\n",
      "\n",
      "Total training time: 0.41 seconds.\n",
      "Total training time: 0.42 seconds.\n",
      "Total training time: 0.65 seconds.\n",
      "-- Epoch 3\n",
      "-- Epoch 3\n",
      "-- Epoch 3\n",
      "Norm: 0.35, NNZs: 924, Bias: -1.432906, T: 187986, Avg. loss: 0.604950Norm: 0.34, NNZs: 924, Bias: -1.262564, T: 187992, Avg. loss: 0.615117Norm: 0.35, NNZs: 924, Bias: -1.509357, T: 187992, Avg. loss: 0.626615\n",
      "\n",
      "\n",
      "Total training time: 0.65 seconds.\n",
      "Total training time: 0.62 seconds.\n",
      "Total training time: 0.85 seconds.\n",
      "-- Epoch 4\n",
      "-- Epoch 4\n",
      "-- Epoch 4\n",
      "Norm: 0.34, NNZs: 924, Bias: -1.322916, T: 250648, Avg. loss: 0.586700Norm: 0.33, NNZs: 924, Bias: -1.166349, T: 250656, Avg. loss: 0.593709Norm: 0.34, NNZs: 924, Bias: -1.381284, T: 250656, Avg. loss: 0.602849\n",
      "\n",
      "\n",
      "Total training time: 0.85 seconds.\n",
      "Total training time: 0.87 seconds.\n",
      "Total training time: 1.09 seconds.\n",
      "-- Epoch 5\n",
      "-- Epoch 5\n",
      "-- Epoch 5\n",
      "Norm: 0.33, NNZs: 924, Bias: -1.252522, T: 313310, Avg. loss: 0.575095Norm: 0.33, NNZs: 924, Bias: -1.107245, T: 313320, Avg. loss: 0.580350Norm: 0.34, NNZs: 924, Bias: -1.298991, T: 313320, Avg. loss: 0.587694\n",
      "\n",
      "\n",
      "Total training time: 1.06 seconds.\n",
      "Total training time: 1.09 seconds.\n",
      "Total training time: 1.47 seconds.\n",
      "-- Epoch 1-- Epoch 1-- Epoch 1\n",
      "\n",
      "\n",
      "Norm: 0.83, NNZs: 129, Bias: -0.753731, T: 62662, Avg. loss: 0.569225Norm: 0.82, NNZs: 113, Bias: -0.693912, T: 62664, Avg. loss: 0.563556Norm: 0.84, NNZs: 138, Bias: -0.750820, T: 62664, Avg. loss: 0.562245\n",
      "\n",
      "\n",
      "Total training time: 0.49 seconds.\n",
      "-- Epoch 3\n",
      "Norm: 0.13, NNZs: 924, Bias: -1.065844, T: 281985, Avg. loss: 0.535154\n",
      "Total training time: 0.97 seconds.\n",
      "Total training time: 0.72 seconds.\n",
      "Total training time: 0.81 seconds.\n",
      "-- Epoch 2\n",
      "-- Epoch 2\n",
      "-- Epoch 2\n",
      "Norm: 0.75, NNZs: 133, Bias: -0.746108, T: 125324, Avg. loss: 0.554612Norm: 0.74, NNZs: 125, Bias: -0.692636, T: 125328, Avg. loss: 0.552141Norm: 0.76, NNZs: 143, Bias: -0.737950, T: 125328, Avg. loss: 0.549558\n",
      "\n",
      "\n",
      "Total training time: 1.87 seconds.\n",
      "Total training time: 1.42 seconds.\n",
      "Total training time: 1.59 seconds.\n",
      "-- Epoch 3\n",
      "-- Epoch 3\n",
      "-- Epoch 3\n",
      "Norm: 0.72, NNZs: 141, Bias: -0.743647, T: 187986, Avg. loss: 0.549688Norm: 0.71, NNZs: 127, Bias: -0.695126, T: 187992, Avg. loss: 0.548073Norm: 0.73, NNZs: 150, Bias: -0.734970, T: 187992, Avg. loss: 0.545061\n",
      "\n",
      "\n",
      "Total training time: 2.75 seconds.\n",
      "Total training time: 2.40 seconds.\n",
      "Total training time: 2.65 seconds.\n",
      "-- Epoch 4\n",
      "-- Epoch 4\n",
      "-- Epoch 4\n",
      "Norm: 0.71, NNZs: 143, Bias: -0.742507, T: 250648, Avg. loss: 0.547201Norm: 0.70, NNZs: 130, Bias: -0.694749, T: 250656, Avg. loss: 0.546070Norm: 0.72, NNZs: 151, Bias: -0.733248, T: 250656, Avg. loss: 0.542753\n",
      "\n",
      "\n",
      "Total training time: 3.79 seconds.\n",
      "Total training time: 3.17 seconds.\n",
      "Total training time: 3.59 seconds.\n",
      "-- Epoch 5\n",
      "-- Epoch 5\n",
      "-- Epoch 5\n",
      "Norm: 0.70, NNZs: 146, Bias: -0.742612, T: 313310, Avg. loss: 0.545653Norm: 0.69, NNZs: 133, Bias: -0.694915, T: 313320, Avg. loss: 0.544831Norm: 0.71, NNZs: 154, Bias: -0.733150, T: 313320, Avg. loss: 0.541329\n",
      "\n",
      "\n",
      "Total training time: 4.82 seconds.\n",
      "Total training time: 4.09 seconds.\n",
      "Total training time: 4.70 seconds.\n",
      "-- Epoch 1-- Epoch 1-- Epoch 1\n",
      "\n",
      "\n",
      "Norm: 25.74, NNZs: 0, Bias: -0.460616, T: 62662, Avg. loss: 0.665223Norm: 16.33, NNZs: 0, Bias: -0.484721, T: 62664, Avg. loss: 0.665144Norm: 15.14, NNZs: 0, Bias: -0.488832, T: 62664, Avg. loss: 0.665153\n",
      "\n",
      "\n",
      "Total training time: 0.67 seconds.\n",
      "Total training time: 0.76 seconds.\n",
      "Total training time: 0.84 seconds.\n",
      "-- Epoch 2\n",
      "-- Epoch 2\n",
      "-- Epoch 2\n",
      "Norm: 25.74, NNZs: 0, Bias: -0.463810, T: 125324, Avg. loss: 0.665184Norm: 16.33, NNZs: 0, Bias: -0.483869, T: 125328, Avg. loss: 0.665127Norm: 15.14, NNZs: 0, Bias: -0.487165, T: 125328, Avg. loss: 0.665134\n",
      "\n",
      "\n",
      "Total training time: 1.61 seconds.\n",
      "Total training time: 1.50 seconds.\n",
      "Total training time: 1.50 seconds.\n",
      "-- Epoch 3\n",
      "-- Epoch 3\n",
      "-- Epoch 3\n",
      "Norm: 25.74, NNZs: 0, Bias: -0.465222, T: 187986, Avg. loss: 0.665168Norm: 16.33, NNZs: 0, Bias: -0.483574, T: 187992, Avg. loss: 0.665121Norm: 15.14, NNZs: 0, Bias: -0.486669, T: 187992, Avg. loss: 0.665127\n",
      "\n",
      "\n",
      "Total training time: 2.28 seconds.\n",
      "Total training time: 2.12 seconds.\n",
      "Total training time: 2.40 seconds.\n",
      "-- Epoch 4\n",
      "-- Epoch 4\n",
      "-- Epoch 4\n",
      "Norm: 25.74, NNZs: 0, Bias: -0.466238, T: 250648, Avg. loss: 0.665158Norm: 16.33, NNZs: 0, Bias: -0.483375, T: 250656, Avg. loss: 0.665118Norm: 15.14, NNZs: 0, Bias: -0.486252, T: 250656, Avg. loss: 0.665123\n",
      "\n",
      "\n",
      "Total training time: 3.10 seconds.\n",
      "Total training time: 2.77 seconds.\n",
      "Total training time: 3.23 seconds.\n",
      "-- Epoch 5\n",
      "-- Epoch 5\n",
      "-- Epoch 5\n",
      "Norm: 25.74, NNZs: 0, Bias: -0.466955, T: 313310, Avg. loss: 0.665152Norm: 16.33, NNZs: 0, Bias: -0.483213, T: 313320, Avg. loss: 0.665116Norm: 15.14, NNZs: 0, Bias: -0.485941, T: 313320, Avg. loss: 0.665120\n",
      "\n",
      "\n",
      "Total training time: 3.99 seconds.\n",
      "Total training time: 3.55 seconds.\n",
      "Total training time: 4.03 seconds.\n",
      "-- Epoch 1-- Epoch 1-- Epoch 1\n",
      "\n",
      "\n",
      "Norm: 0.14, NNZs: 924, Bias: -1.036954, T: 62662, Avg. loss: 0.541239Norm: 0.15, NNZs: 924, Bias: -1.336761, T: 62664, Avg. loss: 0.556590Norm: 0.06, NNZs: 0, Bias: -0.610330, T: 62662, Avg. loss: 0.671250\n",
      "\n",
      "\n",
      "Total training time: 0.32 seconds.\n",
      "Total training time: 0.34 seconds.\n",
      "Total training time: 0.89 seconds.\n",
      "-- Epoch 2\n",
      "-- Epoch 2\n",
      "-- Epoch 2\n",
      "Norm: 0.13, NNZs: 924, Bias: -1.025672, T: 125324, Avg. loss: 0.537309Norm: 0.15, NNZs: 924, Bias: -1.299767, T: 125328, Avg. loss: 0.550111Norm: 0.04, NNZs: 0, Bias: -0.591138, T: 125324, Avg. loss: 0.669006\n",
      "\n",
      "\n",
      "Total training time: 0.61 seconds.\n",
      "Total training time: 0.66 seconds.\n",
      "Total training time: 1.80 seconds.\n",
      "-- Epoch 3\n",
      "-- Epoch 3\n",
      "-- Epoch 3\n",
      "Norm: 0.13, NNZs: 924, Bias: -1.019057, T: 187986, Avg. loss: 0.535954Norm: 0.15, NNZs: 924, Bias: -1.279213, T: 187992, Avg. loss: 0.547511Norm: 0.04, NNZs: 0, Bias: -0.581180, T: 187986, Avg. loss: 0.668139\n",
      "\n",
      "\n",
      "Total training time: 0.84 seconds.\n",
      "Total training time: 0.98 seconds.\n",
      "Total training time: 2.79 seconds.\n",
      "-- Epoch 4\n",
      "-- Epoch 4\n",
      "-- Epoch 4\n",
      "Norm: 0.13, NNZs: 924, Bias: -1.014484, T: 250648, Avg. loss: 0.535240Norm: 0.14, NNZs: 924, Bias: -1.265074, T: 250656, Avg. loss: 0.545996Norm: 0.03, NNZs: 0, Bias: -0.574660, T: 250648, Avg. loss: 0.667658\n",
      "\n",
      "\n",
      "Total training time: 1.12 seconds.\n",
      "Total training time: 1.30 seconds.\n",
      "Total training time: 3.78 seconds.\n",
      "-- Epoch 5\n",
      "-- Epoch 5\n",
      "-- Epoch 5\n",
      "Norm: 0.13, NNZs: 924, Bias: -1.011089, T: 313310, Avg. loss: 0.534790Norm: 0.14, NNZs: 924, Bias: -1.254243, T: 313320, Avg. loss: 0.544992Norm: 0.03, NNZs: 0, Bias: -0.569868, T: 313310, Avg. loss: 0.667344\n",
      "\n",
      "\n",
      "Total training time: 1.34 seconds.\n",
      "Total training time: 1.64 seconds.\n",
      "Total training time: 4.52 seconds.\n",
      "-- Epoch 1-- Epoch 1-- Epoch 1\n",
      "\n",
      "\n",
      "Norm: 0.15, NNZs: 924, Bias: -1.291876, T: 62664, Avg. loss: 0.544235Norm: 0.06, NNZs: 0, Bias: -0.592026, T: 62664, Avg. loss: 0.668608Norm: 6.39, NNZs: 0, Bias: -0.285084, T: 62662, Avg. loss: 0.669910\n",
      "\n",
      "\n",
      "Total training time: 0.31 seconds.\n",
      "Total training time: 0.98 seconds.\n",
      "Total training time: 0.62 seconds.\n",
      "-- Epoch 2\n",
      "-- Epoch 2\n",
      "-- Epoch 2\n",
      "Norm: 0.15, NNZs: 924, Bias: -1.261717, T: 125328, Avg. loss: 0.539741Norm: 0.04, NNZs: 0, Bias: -0.575385, T: 125328, Avg. loss: 0.667470Norm: 6.39, NNZs: 0, Bias: -0.288286, T: 125324, Avg. loss: 0.669750\n",
      "\n",
      "\n",
      "Total training time: 0.62 seconds.\n",
      "Total training time: 1.96 seconds.\n",
      "Total training time: 1.29 seconds.\n",
      "-- Epoch 3\n",
      "-- Epoch 3\n",
      "-- Epoch 3\n",
      "Norm: 0.15, NNZs: 924, Bias: -1.245238, T: 187992, Avg. loss: 0.537932Norm: 0.04, NNZs: 0, Bias: -0.566836, T: 187992, Avg. loss: 0.667001Norm: 6.39, NNZs: 0, Bias: -0.290144, T: 187986, Avg. loss: 0.669660\n",
      "\n",
      "\n",
      "Total training time: 0.87 seconds.\n",
      "Total training time: 2.69 seconds.\n",
      "Total training time: 2.03 seconds.\n",
      "-- Epoch 4\n",
      "-- Epoch 4\n",
      "-- Epoch 4\n",
      "Norm: 0.14, NNZs: 924, Bias: -1.233808, T: 250656, Avg. loss: 0.536902Norm: 0.03, NNZs: 0, Bias: -0.561182, T: 250656, Avg. loss: 0.666731Norm: 6.39, NNZs: 0, Bias: -0.291453, T: 250648, Avg. loss: 0.669597\n",
      "\n",
      "\n",
      "Total training time: 1.07 seconds.\n",
      "Total training time: 3.57 seconds.\n",
      "Total training time: 2.90 seconds.\n",
      "-- Epoch 5\n",
      "-- Epoch 5\n",
      "-- Epoch 5\n",
      "Norm: 0.14, NNZs: 924, Bias: -1.225182, T: 313320, Avg. loss: 0.536207Norm: 0.03, NNZs: 0, Bias: -0.557084, T: 313320, Avg. loss: 0.666552Norm: 6.39, NNZs: 0, Bias: -0.292465, T: 313310, Avg. loss: 0.669548\n",
      "\n",
      "\n",
      "Total training time: 1.27 seconds.\n",
      "Total training time: 4.54 seconds.\n",
      "Total training time: 3.81 seconds.\n",
      "-- Epoch 1-- Epoch 1-- Epoch 1\n",
      "\n",
      "\n",
      "Norm: 0.07, NNZs: 0, Bias: -0.395094, T: 62664, Avg. loss: 0.666756Norm: 7.81, NNZs: 0, Bias: 0.028559, T: 62664, Avg. loss: 0.698234Norm: 0.06, NNZs: 924, Bias: -0.430031, T: 62662, Avg. loss: 0.561344\n",
      "\n",
      "\n",
      "Total training time: 0.72 seconds.\n",
      "Total training time: 0.63 seconds.\n",
      "Total training time: 0.32 seconds.\n",
      "\n",
      "Total training time: 0.74 seconds.\n",
      "-- Epoch 4\n",
      "Norm: 0.13, NNZs: 924, Bias: -1.058849, T: 375980, Avg. loss: 0.534763-- Epoch 2\n",
      "-- Epoch 2\n",
      "-- Epoch 2\n",
      "Norm: 0.05, NNZs: 0, Bias: -0.408124, T: 125328, Avg. loss: 0.666293Norm: 7.81, NNZs: 0, Bias: 0.019979, T: 125328, Avg. loss: 0.697127Norm: 0.06, NNZs: 924, Bias: -0.433241, T: 125324, Avg. loss: 0.560807\n",
      "\n",
      "\n",
      "Total training time: 1.42 seconds.\n",
      "Total training time: 1.24 seconds.\n",
      "Total training time: 0.64 seconds.\n",
      "-- Epoch 3\n",
      "-- Epoch 3\n",
      "-- Epoch 3\n",
      "Norm: 0.04, NNZs: 0, Bias: -0.414658, T: 187992, Avg. loss: 0.666085Norm: 7.81, NNZs: 0, Bias: 0.015044, T: 187992, Avg. loss: 0.696494Norm: 0.06, NNZs: 924, Bias: -0.435120, T: 187986, Avg. loss: 0.560471\n",
      "\n",
      "\n",
      "Total training time: 2.41 seconds.\n",
      "Total training time: 1.97 seconds.\n",
      "Total training time: 0.93 seconds.\n",
      "-- Epoch 4\n",
      "-- Epoch 4\n",
      "-- Epoch 4\n",
      "Norm: 0.03, NNZs: 0, Bias: -0.419015, T: 250656, Avg. loss: 0.665960Norm: 7.81, NNZs: 0, Bias: 0.011561, T: 250656, Avg. loss: 0.696052Norm: 0.06, NNZs: 924, Bias: -0.436440, T: 250648, Avg. loss: 0.560336\n",
      "\n",
      "\n",
      "Total training time: 3.39 seconds.\n",
      "Total training time: 2.67 seconds.\n",
      "Total training time: 1.23 seconds.\n",
      "-- Epoch 5\n",
      "-- Epoch 5\n",
      "-- Epoch 5\n",
      "Norm: 0.03, NNZs: 0, Bias: -0.422218, T: 313320, Avg. loss: 0.665874Norm: 7.81, NNZs: 0, Bias: 0.008871, T: 313320, Avg. loss: 0.695713Norm: 0.06, NNZs: 924, Bias: -0.437462, T: 313310, Avg. loss: 0.560216\n",
      "\n",
      "\n",
      "Total training time: 4.29 seconds.\n",
      "Total training time: 3.31 seconds.\n",
      "Total training time: 1.55 seconds.\n",
      "-- Epoch 1-- Epoch 1-- Epoch 1\n",
      "\n",
      "\n",
      "Norm: 15.38, NNZs: 0, Bias: -0.303107, T: 62664, Avg. loss: 0.669063Norm: 0.06, NNZs: 924, Bias: -0.357836, T: 62664, Avg. loss: 0.561330Norm: 0.01, NNZs: 0, Bias: 0.192890, T: 62662, Avg. loss: 0.723456\n",
      "\n",
      "\n",
      "Total training time: 0.87 seconds.\n",
      "Total training time: 0.21 seconds.\n",
      "Total training time: 0.95 seconds.\n",
      "-- Epoch 2\n",
      "-- Epoch 2\n",
      "-- Epoch 2\n",
      "Norm: 15.38, NNZs: 0, Bias: -0.306053, T: 125328, Avg. loss: 0.668930Norm: 0.06, NNZs: 924, Bias: -0.361596, T: 125328, Avg. loss: 0.560906Norm: 0.01, NNZs: 0, Bias: 0.181479, T: 125324, Avg. loss: 0.721464\n",
      "\n",
      "\n",
      "Total training time: 1.62 seconds.\n",
      "Total training time: 0.45 seconds.\n",
      "Total training time: 1.68 seconds.\n",
      "-- Epoch 3\n",
      "-- Epoch 3\n",
      "-- Epoch 3\n",
      "Norm: 15.38, NNZs: 0, Bias: -0.307755, T: 187992, Avg. loss: 0.668854Norm: 0.06, NNZs: 924, Bias: -0.363784, T: 187992, Avg. loss: 0.560741Norm: 0.00, NNZs: 0, Bias: 0.174889, T: 187986, Avg. loss: 0.720334\n",
      "\n",
      "\n",
      "Total training time: 2.48 seconds.\n",
      "Total training time: 0.66 seconds.\n",
      "Total training time: 2.38 seconds.\n",
      "-- Epoch 4\n",
      "-- Epoch 4\n",
      "-- Epoch 4\n",
      "Norm: 15.38, NNZs: 0, Bias: -0.308943, T: 250656, Avg. loss: 0.668802Norm: 0.06, NNZs: 924, Bias: -0.365318, T: 250656, Avg. loss: 0.560589Norm: 0.00, NNZs: 0, Bias: 0.170260, T: 250648, Avg. loss: 0.719547\n",
      "\n",
      "\n",
      "Total training time: 3.39 seconds.\n",
      "Total training time: 0.87 seconds.\n",
      "Total training time: 3.15 seconds.\n",
      "-- Epoch 5\n",
      "-- Epoch 5\n",
      "-- Epoch 5\n",
      "Norm: 15.38, NNZs: 0, Bias: -0.309861, T: 313320, Avg. loss: 0.668762Norm: 0.06, NNZs: 924, Bias: -0.366497, T: 313320, Avg. loss: 0.560515Norm: 0.00, NNZs: 0, Bias: 0.166692, T: 313310, Avg. loss: 0.718945\n",
      "\n",
      "\n",
      "Total training time: 4.31 seconds.\n",
      "Total training time: 1.07 seconds.\n",
      "Total training time: 4.11 seconds.\n",
      "-- Epoch 1-- Epoch 1-- Epoch 1\n",
      "\n",
      "\n",
      "Norm: 0.06, NNZs: 924, Bias: -0.328678, T: 62664, Avg. loss: 0.563289Norm: 0.01, NNZs: 0, Bias: -0.323577, T: 62664, Avg. loss: 0.668211Norm: 4.15, NNZs: 0, Bias: -0.167298, T: 62662, Avg. loss: 0.676984\n",
      "\n",
      "\n",
      "Total training time: 0.29 seconds.\n",
      "Total training time: 0.89 seconds.\n",
      "Total training time: 0.89 seconds.\n",
      "-- Epoch 2\n",
      "-- Epoch 2\n",
      "-- Epoch 2\n",
      "Norm: 0.06, NNZs: 924, Bias: -0.333176, T: 125328, Avg. loss: 0.562568Norm: 0.00, NNZs: 0, Bias: -0.326146, T: 125328, Avg. loss: 0.668101Norm: 4.15, NNZs: 0, Bias: -0.167828, T: 125324, Avg. loss: 0.676943\n",
      "\n",
      "\n",
      "Total training time: 0.63 seconds.\n",
      "Total training time: 1.73 seconds.\n",
      "Total training time: 1.81 seconds.\n",
      "-- Epoch 3\n",
      "-- Epoch 3\n",
      "-- Epoch 3\n",
      "Norm: 0.06, NNZs: 924, Bias: -0.335758, T: 187992, Avg. loss: 0.562282Norm: 0.00, NNZs: 0, Bias: -0.327630, T: 187992, Avg. loss: 0.668040Norm: 4.15, NNZs: 0, Bias: -0.168137, T: 187986, Avg. loss: 0.676919\n",
      "\n",
      "\n",
      "Total training time: 0.97 seconds.\n",
      "Total training time: 2.45 seconds.\n",
      "Total training time: 2.71 seconds.\n",
      "-- Epoch 4\n",
      "-- Epoch 4\n",
      "-- Epoch 4\n",
      "Norm: 0.06, NNZs: 924, Bias: -0.337580, T: 250656, Avg. loss: 0.562160Norm: 0.00, NNZs: 0, Bias: -0.328678, T: 250656, Avg. loss: 0.667999Norm: 4.15, NNZs: 0, Bias: -0.168356, T: 250648, Avg. loss: 0.676903\n",
      "\n",
      "\n",
      "Total training time: 1.35 seconds.\n",
      "Total training time: 3.35 seconds.\n",
      "Total training time: 3.63 seconds.\n",
      "-- Epoch 5\n",
      "-- Epoch 5\n",
      "-- Epoch 5\n",
      "Norm: 0.06, NNZs: 924, Bias: -0.338986, T: 313320, Avg. loss: 0.562044Norm: 0.00, NNZs: 0, Bias: -0.329490, T: 313320, Avg. loss: 0.667967Norm: 4.15, NNZs: 0, Bias: -0.168525, T: 313310, Avg. loss: 0.676890\n",
      "\n",
      "\n",
      "Total training time: 1.68 seconds.\n",
      "Total training time: 4.25 seconds.\n",
      "Total training time: 4.41 seconds.\n",
      "-- Epoch 1-- Epoch 1-- Epoch 1\n",
      "\n",
      "\n",
      "Norm: 0.01, NNZs: 0, Bias: 0.037580, T: 62664, Avg. loss: 0.699469Norm: 3.18, NNZs: 0, Bias: -0.168502, T: 62664, Avg. loss: 0.676894Norm: 0.02, NNZs: 924, Bias: 0.143798, T: 62662, Avg. loss: 0.660875\n",
      "\n",
      "\n",
      "Total training time: 0.82 seconds.\n",
      "Total training time: 0.77 seconds.\n",
      "Total training time: 0.21 seconds.\n",
      "-- Epoch 2\n",
      "-- Epoch 2\n",
      "-- Epoch 2\n",
      "Norm: 0.01, NNZs: 0, Bias: 0.028808, T: 125328, Avg. loss: 0.698301Norm: 3.18, NNZs: 0, Bias: -0.169029, T: 125328, Avg. loss: 0.676853Norm: 0.02, NNZs: 924, Bias: 0.142719, T: 125324, Avg. loss: 0.660673\n",
      "\n",
      "\n",
      "Total training time: 1.54 seconds.\n",
      "Total training time: 1.68 seconds.\n",
      "Total training time: 0.41 seconds.\n",
      "-- Epoch 3\n",
      "-- Epoch 3\n",
      "-- Epoch 3\n",
      "Norm: 0.00, NNZs: 0, Bias: 0.023772, T: 187992, Avg. loss: 0.697638Norm: 3.18, NNZs: 0, Bias: -0.169335, T: 187992, Avg. loss: 0.676829Norm: 0.02, NNZs: 924, Bias: 0.142088, T: 187986, Avg. loss: 0.660580\n",
      "\n",
      "\n",
      "Total training time: 2.20 seconds.\n",
      "Total training time: 2.60 seconds.\n",
      "Total training time: 0.62 seconds.\n",
      "-- Epoch 4\n",
      "-- Epoch 4\n",
      "-- Epoch 4\n",
      "Norm: 0.00, NNZs: 0, Bias: 0.020216, T: 250656, Avg. loss: 0.697176Norm: 3.18, NNZs: 0, Bias: -0.169553, T: 250656, Avg. loss: 0.676813Norm: 0.02, NNZs: 924, Bias: 0.141642, T: 250648, Avg. loss: 0.660483\n",
      "\n",
      "\n",
      "Total training time: 2.95 seconds.\n",
      "Total training time: 3.45 seconds.\n",
      "Total training time: 0.88 seconds.\n",
      "-- Epoch 5\n",
      "-- Epoch 5\n",
      "-- Epoch 5\n",
      "Norm: 0.00, NNZs: 0, Bias: 0.017482, T: 313320, Avg. loss: 0.696822Norm: 3.18, NNZs: 0, Bias: -0.169722, T: 313320, Avg. loss: 0.676800Norm: 0.02, NNZs: 924, Bias: 0.141295, T: 313310, Avg. loss: 0.660415\n",
      "\n",
      "\n",
      "Total training time: 3.83 seconds.\n",
      "Total training time: 4.37 seconds.\n",
      "Total training time: 1.19 seconds.\n",
      "-- Epoch 1-- Epoch 1-- Epoch 1\n",
      "\n",
      "\n",
      "Norm: 6.95, NNZs: 0, Bias: -0.172557, T: 62664, Avg. loss: 0.676588Norm: 0.02, NNZs: 924, Bias: 0.129508, T: 62664, Avg. loss: 0.653746Norm: 0.02, NNZs: 924, Bias: -0.168738, T: 62664, Avg. loss: 0.620739\n",
      "\n",
      "\n",
      "Total training time: 0.60 seconds.\n",
      "Total training time: 0.28 seconds.\n",
      "Total training time: 0.22 seconds.\n",
      "-- Epoch 2\n",
      "-- Epoch 2\n",
      "-- Epoch 2\n",
      "Norm: 6.95, NNZs: 0, Bias: -0.173073, T: 125328, Avg. loss: 0.676547\n",
      "Total training time: 0.99 seconds.\n",
      "-- Epoch 5\n",
      "Norm: 0.13, NNZs: 924, Bias: -1.053683, T: 469975, Avg. loss: 0.534495Norm: 0.02, NNZs: 924, Bias: 0.128470, T: 125328, Avg. loss: 0.653572Norm: 0.02, NNZs: 924, Bias: -0.169282, T: 125328, Avg. loss: 0.620720\n",
      "\n",
      "\n",
      "Total training time: 1.41 seconds.\n",
      "Total training time: 0.58 seconds.\n",
      "Total training time: 0.43 seconds.\n",
      "-- Epoch 3\n",
      "-- Epoch 3\n",
      "-- Epoch 3\n",
      "Norm: 6.95, NNZs: 0, Bias: -0.173376, T: 187992, Avg. loss: 0.676524Norm: 0.02, NNZs: 924, Bias: 0.127868, T: 187992, Avg. loss: 0.653425Norm: 0.02, NNZs: 924, Bias: -0.169601, T: 187992, Avg. loss: 0.620685\n",
      "\n",
      "\n",
      "Total training time: 2.32 seconds.\n",
      "Total training time: 0.88 seconds.\n",
      "Total training time: 0.67 seconds.\n",
      "-- Epoch 4\n",
      "-- Epoch 4\n",
      "-- Epoch 4\n",
      "Norm: 6.95, NNZs: 0, Bias: -0.173590, T: 250656, Avg. loss: 0.676508Norm: 0.02, NNZs: 924, Bias: 0.127439, T: 250656, Avg. loss: 0.653369Norm: 0.02, NNZs: 924, Bias: -0.169827, T: 250656, Avg. loss: 0.620650\n",
      "\n",
      "\n",
      "Total training time: 3.14 seconds.\n",
      "Total training time: 1.19 seconds.\n",
      "Total training time: 0.88 seconds.\n",
      "-- Epoch 5\n",
      "-- Epoch 5\n",
      "-- Epoch 5\n",
      "Norm: 6.95, NNZs: 0, Bias: -0.173756, T: 313320, Avg. loss: 0.676495Norm: 0.02, NNZs: 924, Bias: 0.127108, T: 313320, Avg. loss: 0.653309Norm: 0.02, NNZs: 924, Bias: -0.170002, T: 313320, Avg. loss: 0.620636\n",
      "\n",
      "\n",
      "Total training time: 3.87 seconds.\n",
      "Total training time: 1.51 seconds.\n",
      "Total training time: 1.09 seconds.\n",
      "-- Epoch 1-- Epoch 1-- Epoch 1\n",
      "\n",
      "\n",
      "Norm: 0.00, NNZs: 0, Bias: 0.148600, T: 62662, Avg. loss: 0.713661Norm: 0.00, NNZs: 0, Bias: -0.160630, T: 62664, Avg. loss: 0.677499Norm: 0.00, NNZs: 0, Bias: -0.167656, T: 62664, Avg. loss: 0.676954\n",
      "\n",
      "\n",
      "Total training time: 0.89 seconds.\n",
      "Total training time: 0.99 seconds.\n",
      "Total training time: 0.64 seconds.\n",
      "-- Epoch 2\n",
      "-- Epoch 2\n",
      "-- Epoch 2\n",
      "Norm: 0.00, NNZs: 0, Bias: 0.147530, T: 125324, Avg. loss: 0.713493Norm: 0.00, NNZs: 0, Bias: -0.161167, T: 125328, Avg. loss: 0.677457Norm: 0.00, NNZs: 0, Bias: -0.168182, T: 125328, Avg. loss: 0.676915\n",
      "\n",
      "\n",
      "Total training time: 1.74 seconds.\n",
      "Total training time: 1.94 seconds.\n",
      "Total training time: 1.31 seconds.\n",
      "-- Epoch 3\n",
      "-- Epoch 3\n",
      "-- Epoch 3\n",
      "Norm: 0.00, NNZs: 0, Bias: 0.146901, T: 187986, Avg. loss: 0.713396Norm: 0.00, NNZs: 0, Bias: -0.161482, T: 187992, Avg. loss: 0.677433Norm: 0.00, NNZs: 0, Bias: -0.168491, T: 187992, Avg. loss: 0.676892\n",
      "\n",
      "\n",
      "Total training time: 2.72 seconds.\n",
      "Total training time: 2.92 seconds.\n",
      "Total training time: 2.10 seconds.\n",
      "-- Epoch 4\n",
      "-- Epoch 4\n",
      "-- Epoch 4\n",
      "Norm: 0.00, NNZs: 0, Bias: 0.146457, T: 250648, Avg. loss: 0.713327Norm: 0.00, NNZs: 0, Bias: -0.161705, T: 250656, Avg. loss: 0.677415Norm: 0.00, NNZs: 0, Bias: -0.168708, T: 250656, Avg. loss: 0.676876\n",
      "\n",
      "\n",
      "Total training time: 3.70 seconds.\n",
      "Total training time: 3.76 seconds.\n",
      "Total training time: 2.79 seconds.\n",
      "-- Epoch 5\n",
      "-- Epoch 5\n",
      "-- Epoch 5\n",
      "Norm: 0.00, NNZs: 0, Bias: 0.146112, T: 313310, Avg. loss: 0.713273Norm: 0.00, NNZs: 0, Bias: -0.161878, T: 313320, Avg. loss: 0.677402Norm: 0.00, NNZs: 0, Bias: -0.168878, T: 313320, Avg. loss: 0.676863\n",
      "\n",
      "\n",
      "Total training time: 4.69 seconds.\n",
      "Total training time: 4.34 seconds.\n",
      "Total training time: 3.57 seconds.\n",
      "\n",
      "Total training time: 1.23 seconds.\n",
      "Loading testing data...\n"
     ]
    }
   ],
   "source": [
    "for trainf, testf in filesplitter:\n",
    "    \n",
    "    print 'Loading training data...'\n",
    "    X_train, Y_train = load_batch([_files[_] for _ in trainf],\n",
    "                                 n_pos=64,\n",
    "                                 n_neg=96)\n",
    "    \n",
    "    _model = sklearn.grid_search.GridSearchCV(sklearn.linear_model.SGDClassifier(loss='log', verbose=1),\n",
    "                                             {'alpha': np.logspace(-3, 3, num=6, endpoint=False),\n",
    "                                             'penalty': ['l1', 'l2', 'elasticnet']},\n",
    "                                             n_jobs=3, verbose=1)\n",
    "    \n",
    "    #_model = sklearn.grid_search.GridSearchCV(sklearn.ensemble.RandomForestClassifier(),\n",
    "    #                                         {'max_depth': np.arange(2, 11)},\n",
    "    #                                         n_jobs=3, verbose=1)\n",
    "    \n",
    "    feature = sklearn.preprocessing.StandardScaler()\n",
    "    model = sklearn.pipeline.Pipeline([('scaler', feature), ('predictor', _model)])\n",
    "    \n",
    "    model.fit(X_train, Y_train)\n",
    "    \n",
    "    print 'Loading testing data...'\n",
    "    X_test, Y_test = load_batch([_files[_] for _ in testf],\n",
    "                                n_pos=None,\n",
    "                                n_neg=None)"
   ]
  },
  {
   "cell_type": "code",
   "execution_count": 22,
   "metadata": {
    "collapsed": false
   },
   "outputs": [],
   "source": [
    "M = model.steps[1][1]"
   ]
  },
  {
   "cell_type": "code",
   "execution_count": 23,
   "metadata": {
    "collapsed": false
   },
   "outputs": [
    {
     "data": {
      "text/plain": [
       "{'alpha': 1.0, 'penalty': 'l2'}"
      ]
     },
     "execution_count": 23,
     "metadata": {},
     "output_type": "execute_result"
    }
   ],
   "source": [
    "M.best_params_"
   ]
  },
  {
   "cell_type": "code",
   "execution_count": 24,
   "metadata": {
    "collapsed": false
   },
   "outputs": [
    {
     "data": {
      "text/plain": [
       "<matplotlib.colorbar.Colorbar instance at 0x7fe238a8e3f8>"
      ]
     },
     "execution_count": 24,
     "metadata": {},
     "output_type": "execute_result"
    },
    {
     "data": {
      "image/png": "[encoded data removed]",
      "text/plain": [
       "<matplotlib.figure.Figure at 0x7fe2389daa90>"
      ]
     },
     "metadata": {},
     "output_type": "display_data"
    }
   ],
   "source": [
    "w = model.steps[1][1].best_estimator_.coef_[0]\n",
    "w = w.reshape((-1, 84))\n",
    "plt.imshow(w.T, aspect='auto', interpolation='none', cmap='coolwarm', origin='lower')\n",
    "plt.ylabel('CQT bin')\n",
    "plt.xlabel('Context position')\n",
    "plt.title('$w$')\n",
    "plt.xticks(np.arange(5), np.arange(-2, 3))\n",
    "plt.colorbar()"
   ]
  },
  {
   "cell_type": "code",
   "execution_count": 25,
   "metadata": {
    "collapsed": false
   },
   "outputs": [
    {
     "name": "stdout",
     "output_type": "stream",
     "text": [
      "             precision    recall  f1-score   support\n",
      "\n",
      "          0       0.76      0.84      0.80     58075\n",
      "          1       0.69      0.57      0.62     35920\n",
      "\n",
      "avg / total       0.73      0.74      0.73     93995\n",
      "\n"
     ]
    }
   ],
   "source": [
    "print sklearn.metrics.classification_report(Y_train, model.predict(X_train))"
   ]
  },
  {
   "cell_type": "code",
   "execution_count": null,
   "metadata": {
    "collapsed": false
   },
   "outputs": [
    {
     "data": {
      "text/plain": [
       "0.73704984307675936"
      ]
     },
     "execution_count": 26,
     "metadata": {},
     "output_type": "execute_result"
    }
   ],
   "source": [
    "sklearn.metrics.accuracy_score(Y_train, model.predict(X_train))"
   ]
  },
  {
   "cell_type": "code",
   "execution_count": null,
   "metadata": {
    "collapsed": false
   },
   "outputs": [],
   "source": [
    "Y_pred = [model.predict(xt) for xt in X_test]"
   ]
  },
  {
   "cell_type": "code",
   "execution_count": null,
   "metadata": {
    "collapsed": false
   },
   "outputs": [],
   "source": [
    "Y_pred_proba = np.concatenate([model.predict_proba(xt) for xt in X_test], axis=0)"
   ]
  },
  {
   "cell_type": "code",
   "execution_count": null,
   "metadata": {
    "collapsed": false
   },
   "outputs": [],
   "source": [
    "Y_pred = np.concatenate(Y_pred, axis=0)"
   ]
  },
  {
   "cell_type": "code",
   "execution_count": null,
   "metadata": {
    "collapsed": false
   },
   "outputs": [],
   "source": [
    "print sklearn.metrics.classification_report(Y_test, Y_pred)"
   ]
  },
  {
   "cell_type": "code",
   "execution_count": null,
   "metadata": {
    "collapsed": false
   },
   "outputs": [],
   "source": [
    "sklearn.metrics.accuracy_score(Y_test, Y_pred)"
   ]
  },
  {
   "cell_type": "markdown",
   "metadata": {},
   "source": [
    "---"
   ]
  },
  {
   "cell_type": "code",
   "execution_count": null,
   "metadata": {
    "collapsed": true
   },
   "outputs": [],
   "source": [
    "import cPickle as pickle"
   ]
  },
  {
   "cell_type": "code",
   "execution_count": 21,
   "metadata": {
    "collapsed": false
   },
   "outputs": [],
   "source": [
    "pickle.dump({'model': model, 'dataset': 'salami_beat'},\n",
    "            open('../data/similarity_model_salami_beat.pickle', 'w'))\n",
    "#pickle.dump({'model': model, 'dataset': 'isophonics_beat'},\n",
    "#            open('../data/similarity_model_isophonics_beat.pickle', 'w'))"
   ]
  },
  {
   "cell_type": "markdown",
   "metadata": {},
   "source": [
    "---"
   ]
  },
  {
   "cell_type": "code",
   "execution_count": 98,
   "metadata": {
    "collapsed": true
   },
   "outputs": [],
   "source": [
    "Xtrains2 = np.mean(X_train**2, axis=1, keepdims=True)"
   ]
  },
  {
   "cell_type": "code",
   "execution_count": 99,
   "metadata": {
    "collapsed": true
   },
   "outputs": [],
   "source": [
    "Xtests2 = np.mean(X_test**2, axis=1, keepdims=True)"
   ]
  },
  {
   "cell_type": "code",
   "execution_count": 100,
   "metadata": {
    "collapsed": true
   },
   "outputs": [],
   "source": [
    "seaborn.set_style('darkgrid')"
   ]
  },
  {
   "cell_type": "code",
   "execution_count": 101,
   "metadata": {
    "collapsed": true
   },
   "outputs": [],
   "source": [
    "import sklearn.neighbors"
   ]
  },
  {
   "cell_type": "code",
   "execution_count": 102,
   "metadata": {
    "collapsed": false
   },
   "outputs": [
    {
     "name": "stdout",
     "output_type": "stream",
     "text": [
      "Fitting 5 folds for each of 5 candidates, totalling 25 fits\n"
     ]
    },
    {
     "name": "stderr",
     "output_type": "stream",
     "text": [
      "[Parallel(n_jobs=3)]: Done   1 jobs       | elapsed:   11.5s\n",
      "[Parallel(n_jobs=3)]: Done  21 out of  25 | elapsed:  1.5min remaining:   17.3s\n",
      "[Parallel(n_jobs=3)]: Done  25 out of  25 | elapsed:  1.7min finished\n"
     ]
    },
    {
     "data": {
      "text/plain": [
       "GridSearchCV(cv=5, error_score='raise',\n",
       "       estimator=KernelDensity(algorithm='auto', atol=0, bandwidth=1.0, breadth_first=True,\n",
       "       kernel='gaussian', leaf_size=40, metric='euclidean',\n",
       "       metric_params=None, rtol=0),\n",
       "       fit_params={}, iid=True, loss_func=None, n_jobs=3,\n",
       "       param_grid={'bandwidth': array([ 0.1  ,  0.325,  0.55 ,  0.775,  1.   ])},\n",
       "       pre_dispatch='2*n_jobs', refit=True, score_func=None, scoring=None,\n",
       "       verbose=1)"
      ]
     },
     "execution_count": 102,
     "metadata": {},
     "output_type": "execute_result"
    }
   ],
   "source": [
    "KDE_pos = sklearn.grid_search.GridSearchCV(sklearn.neighbors.KernelDensity(),\n",
    "                                           {'bandwidth': np.linspace(0.1, 1.0, 5)},\n",
    "                                           verbose=1,\n",
    "                                           n_jobs=3,\n",
    "                                           cv=5)\n",
    "KDE_pos.fit(Xtrains2[Y_train > 0])"
   ]
  },
  {
   "cell_type": "code",
   "execution_count": 103,
   "metadata": {
    "collapsed": false
   },
   "outputs": [
    {
     "name": "stdout",
     "output_type": "stream",
     "text": [
      "Fitting 5 folds for each of 3 candidates, totalling 15 fits\n"
     ]
    },
    {
     "name": "stderr",
     "output_type": "stream",
     "text": [
      "[Parallel(n_jobs=3)]: Done   1 jobs       | elapsed:   14.5s\n",
      "[Parallel(n_jobs=3)]: Done  11 out of  15 | elapsed:  1.2min remaining:   25.4s\n",
      "[Parallel(n_jobs=3)]: Done  15 out of  15 | elapsed:  1.4min finished\n"
     ]
    },
    {
     "data": {
      "text/plain": [
       "GridSearchCV(cv=5, error_score='raise',\n",
       "       estimator=KernelDensity(algorithm='auto', atol=0, bandwidth=1.0, breadth_first=True,\n",
       "       kernel='gaussian', leaf_size=40, metric='euclidean',\n",
       "       metric_params=None, rtol=0),\n",
       "       fit_params={}, iid=True, loss_func=None, n_jobs=3,\n",
       "       param_grid={'bandwidth': array([ 0.1 ,  0.55,  1.  ])},\n",
       "       pre_dispatch='2*n_jobs', refit=True, score_func=None, scoring=None,\n",
       "       verbose=1)"
      ]
     },
     "execution_count": 103,
     "metadata": {},
     "output_type": "execute_result"
    }
   ],
   "source": [
    "KDE_neg = sklearn.grid_search.GridSearchCV(sklearn.neighbors.KernelDensity(),\n",
    "                                           {'bandwidth': np.linspace(0.1, 1.0, 3)},\n",
    "                                           verbose=1,\n",
    "                                           n_jobs=3,\n",
    "                                           cv=5)\n",
    "KDE_neg.fit(Xtrains2[Y_train < 1])"
   ]
  },
  {
   "cell_type": "code",
   "execution_count": 104,
   "metadata": {
    "collapsed": false
   },
   "outputs": [],
   "source": [
    "Y_pred_kde = (KDE_pos.best_estimator_.score_samples(Xtests2) >\n",
    "              KDE_neg.best_estimator_.score_samples(Xtests2))"
   ]
  },
  {
   "cell_type": "code",
   "execution_count": 105,
   "metadata": {
    "collapsed": false
   },
   "outputs": [
    {
     "name": "stdout",
     "output_type": "stream",
     "text": [
      "             precision    recall  f1-score   support\n",
      "\n",
      "          0       0.66      0.68      0.67    143276\n",
      "          1       0.58      0.56      0.57    114243\n",
      "\n",
      "avg / total       0.62      0.62      0.62    257519\n",
      "\n"
     ]
    }
   ],
   "source": [
    "print sklearn.metrics.classification_report(Y_test[:len(Y_pred_kde)], Y_pred_kde)"
   ]
  },
  {
   "cell_type": "code",
   "execution_count": 106,
   "metadata": {
    "collapsed": false
   },
   "outputs": [
    {
     "ename": "ValueError",
     "evalue": "need more than 1 value to unpack",
     "output_type": "error",
     "traceback": [
      "\u001b[1;31m---------------------------------------------------------------------------\u001b[0m",
      "\u001b[1;31mValueError\u001b[0m                                Traceback (most recent call last)",
      "\u001b[1;32m<ipython-input-106-d8507f42514d>\u001b[0m in \u001b[0;36m<module>\u001b[1;34m()\u001b[0m\n\u001b[1;32m----> 1\u001b[1;33m \u001b[0mseaborn\u001b[0m\u001b[1;33m.\u001b[0m\u001b[0mkdeplot\u001b[0m\u001b[1;33m(\u001b[0m\u001b[0mnp\u001b[0m\u001b[1;33m.\u001b[0m\u001b[0mlog\u001b[0m\u001b[1;33m(\u001b[0m\u001b[0mXtrains2\u001b[0m\u001b[1;33m[\u001b[0m\u001b[0mY_train\u001b[0m \u001b[1;33m>\u001b[0m \u001b[1;36m0\u001b[0m\u001b[1;33m]\u001b[0m\u001b[1;33m)\u001b[0m\u001b[1;33m,\u001b[0m \u001b[0mshade\u001b[0m\u001b[1;33m=\u001b[0m\u001b[0mTrue\u001b[0m\u001b[1;33m,\u001b[0m \u001b[0mlabel\u001b[0m\u001b[1;33m=\u001b[0m\u001b[1;34m'Positive'\u001b[0m\u001b[1;33m)\u001b[0m\u001b[1;33m\u001b[0m\u001b[0m\n\u001b[0m\u001b[0;32m      2\u001b[0m \u001b[0mseaborn\u001b[0m\u001b[1;33m.\u001b[0m\u001b[0mkdeplot\u001b[0m\u001b[1;33m(\u001b[0m\u001b[0mnp\u001b[0m\u001b[1;33m.\u001b[0m\u001b[0mlog\u001b[0m\u001b[1;33m(\u001b[0m\u001b[0mXtrains2\u001b[0m\u001b[1;33m[\u001b[0m\u001b[0mY_train\u001b[0m \u001b[1;33m<\u001b[0m \u001b[1;36m1\u001b[0m\u001b[1;33m]\u001b[0m\u001b[1;33m)\u001b[0m\u001b[1;33m,\u001b[0m \u001b[0mshade\u001b[0m\u001b[1;33m=\u001b[0m\u001b[0mTrue\u001b[0m\u001b[1;33m,\u001b[0m \u001b[0mlabel\u001b[0m\u001b[1;33m=\u001b[0m\u001b[1;34m'Negative'\u001b[0m\u001b[1;33m)\u001b[0m\u001b[1;33m\u001b[0m\u001b[0m\n\u001b[0;32m      3\u001b[0m \u001b[0mplt\u001b[0m\u001b[1;33m.\u001b[0m\u001b[0mlegend\u001b[0m\u001b[1;33m(\u001b[0m\u001b[0mloc\u001b[0m\u001b[1;33m=\u001b[0m\u001b[1;34m'best'\u001b[0m\u001b[1;33m)\u001b[0m\u001b[1;33m\u001b[0m\u001b[0m\n",
      "\u001b[1;32m/usr/local/lib/python2.7/dist-packages/seaborn/distributions.pyc\u001b[0m in \u001b[0;36mkdeplot\u001b[1;34m(data, data2, shade, vertical, kernel, bw, gridsize, cut, clip, legend, ax, cumulative, **kwargs)\u001b[0m\n\u001b[0;32m    845\u001b[0m     \u001b[1;32mif\u001b[0m \u001b[0misinstance\u001b[0m\u001b[1;33m(\u001b[0m\u001b[0mdata\u001b[0m\u001b[1;33m,\u001b[0m \u001b[0mnp\u001b[0m\u001b[1;33m.\u001b[0m\u001b[0mndarray\u001b[0m\u001b[1;33m)\u001b[0m \u001b[1;32mand\u001b[0m \u001b[0mnp\u001b[0m\u001b[1;33m.\u001b[0m\u001b[0mndim\u001b[0m\u001b[1;33m(\u001b[0m\u001b[0mdata\u001b[0m\u001b[1;33m)\u001b[0m \u001b[1;33m>\u001b[0m \u001b[1;36m1\u001b[0m\u001b[1;33m:\u001b[0m\u001b[1;33m\u001b[0m\u001b[0m\n\u001b[0;32m    846\u001b[0m         \u001b[0mbivariate\u001b[0m \u001b[1;33m=\u001b[0m \u001b[0mTrue\u001b[0m\u001b[1;33m\u001b[0m\u001b[0m\n\u001b[1;32m--> 847\u001b[1;33m         \u001b[0mx\u001b[0m\u001b[1;33m,\u001b[0m \u001b[0my\u001b[0m \u001b[1;33m=\u001b[0m \u001b[0mdata\u001b[0m\u001b[1;33m.\u001b[0m\u001b[0mT\u001b[0m\u001b[1;33m\u001b[0m\u001b[0m\n\u001b[0m\u001b[0;32m    848\u001b[0m     \u001b[1;32melif\u001b[0m \u001b[0misinstance\u001b[0m\u001b[1;33m(\u001b[0m\u001b[0mdata\u001b[0m\u001b[1;33m,\u001b[0m \u001b[0mpd\u001b[0m\u001b[1;33m.\u001b[0m\u001b[0mDataFrame\u001b[0m\u001b[1;33m)\u001b[0m \u001b[1;32mand\u001b[0m \u001b[0mnp\u001b[0m\u001b[1;33m.\u001b[0m\u001b[0mndim\u001b[0m\u001b[1;33m(\u001b[0m\u001b[0mdata\u001b[0m\u001b[1;33m)\u001b[0m \u001b[1;33m>\u001b[0m \u001b[1;36m1\u001b[0m\u001b[1;33m:\u001b[0m\u001b[1;33m\u001b[0m\u001b[0m\n\u001b[0;32m    849\u001b[0m         \u001b[0mbivariate\u001b[0m \u001b[1;33m=\u001b[0m \u001b[0mTrue\u001b[0m\u001b[1;33m\u001b[0m\u001b[0m\n",
      "\u001b[1;31mValueError\u001b[0m: need more than 1 value to unpack"
     ]
    },
    {
     "data": {
      "image/png": "[encoded data removed]",
      "text/plain": [
       "<matplotlib.figure.Figure at 0x7f4338b12fd0>"
      ]
     },
     "metadata": {},
     "output_type": "display_data"
    }
   ],
   "source": [
    "seaborn.kdeplot(np.log(Xtrains2[Y_train > 0]), shade=True, label='Positive')\n",
    "seaborn.kdeplot(np.log(Xtrains2[Y_train < 1]), shade=True, label='Negative')\n",
    "plt.legend(loc='best')"
   ]
  }
 ],
 "metadata": {
  "kernelspec": {
   "display_name": "Python 2",
   "language": "python",
   "name": "python2"
  },
  "language_info": {
   "codemirror_mode": {
    "name": "ipython",
    "version": 2
   },
   "file_extension": ".py",
   "mimetype": "text/x-python",
   "name": "python",
   "nbconvert_exporter": "python",
   "pygments_lexer": "ipython2",
   "version": "2.7.8"
  }
 },
 "nbformat": 4,
 "nbformat_minor": 0
}
