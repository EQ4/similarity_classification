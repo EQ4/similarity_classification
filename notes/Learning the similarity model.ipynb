{
 "cells": [
  {
   "cell_type": "code",
   "execution_count": 1,
   "metadata": {
    "collapsed": true
   },
   "outputs": [],
   "source": [
    "import numpy as np\n",
    "import matplotlib.pyplot as plt\n",
    "import seaborn\n",
    "seaborn.set()\n",
    "seaborn.set_style('dark')\n",
    "np.set_printoptions(precision=3)\n",
    "\n",
    "%matplotlib inline"
   ]
  },
  {
   "cell_type": "code",
   "execution_count": 2,
   "metadata": {
    "collapsed": true
   },
   "outputs": [],
   "source": [
    "import sklearn\n",
    "import sklearn.metrics\n",
    "import sklearn.grid_search\n",
    "import sklearn.linear_model\n",
    "import sklearn.cross_validation\n",
    "import sklearn.preprocessing\n",
    "import sklearn.pipeline\n",
    "import pescador"
   ]
  },
  {
   "cell_type": "code",
   "execution_count": 3,
   "metadata": {
    "collapsed": true
   },
   "outputs": [],
   "source": [
    "import glob"
   ]
  },
  {
   "cell_type": "code",
   "execution_count": 4,
   "metadata": {
    "collapsed": true
   },
   "outputs": [],
   "source": [
    "def load_file(filename, n_pos=32, n_neg=32):\n",
    "    \n",
    "    data = np.load(filename)\n",
    "    \n",
    "    d = data['X'].shape[1]\n",
    "    \n",
    "    if n_pos is None:\n",
    "        return data['X'], data['Y']\n",
    "    \n",
    "    \n",
    "    positives = np.flatnonzero(data['Y'])\n",
    "    negatives = np.flatnonzero(1-data['Y'])\n",
    "    n_pos = min(n_pos, len(positives))\n",
    "    n_neg = min(n_neg, len(negatives))\n",
    "    \n",
    "    X = np.empty((n_pos + n_neg, d), dtype=np.float32)\n",
    "    Y = np.zeros((n_pos + n_neg), dtype=np.int32)\n",
    "    \n",
    "    if n_pos > 0:\n",
    "        idx_pos = np.random.choice(positives, size=n_pos, replace=False)\n",
    "    \n",
    "        X[:n_pos] = np.take(data['X'], idx_pos, axis=0)\n",
    "        Y[:n_pos] = 1\n",
    "    \n",
    "    if n_neg > 0:\n",
    "        idx_neg = np.random.choice(negatives, size=n_neg, replace=False)\n",
    "        X[n_pos:] = np.take(data['X'], idx_neg, axis=0)\n",
    "    \n",
    "    return X, Y"
   ]
  },
  {
   "cell_type": "code",
   "execution_count": 5,
   "metadata": {
    "collapsed": true
   },
   "outputs": [],
   "source": [
    "def load_batch(files, n_pos=32, n_neg=32):\n",
    "    \n",
    "    X = []\n",
    "    Y = []\n",
    "    \n",
    "    for fn in files:\n",
    "        _x, _y = load_file(fn, n_pos=n_pos, n_neg=n_neg)\n",
    "        if _x.shape[0] == 0:\n",
    "            continue\n",
    "        X.append(_x)\n",
    "        Y.append(_y)\n",
    "        \n",
    "    X = np.concatenate(X, axis=0)\n",
    "    Y = np.concatenate(Y, axis=0)\n",
    "    \n",
    "    return X, Y"
   ]
  },
  {
   "cell_type": "code",
   "execution_count": 23,
   "metadata": {
    "collapsed": false
   },
   "outputs": [],
   "source": [
    "#files = sorted(glob.glob('../data/labeled_features/SALAMI_*_beats.npz'))\n",
    "files = sorted(glob.glob('../data/labeled_features/Isophonics_*_beats.npz'))"
   ]
  },
  {
   "cell_type": "code",
   "execution_count": 24,
   "metadata": {
    "collapsed": true
   },
   "outputs": [],
   "source": [
    "filesplitter = sklearn.cross_validation.ShuffleSplit(len(files), n_iter=1, test_size=0.10, random_state=5)\n",
    "_files = np.asarray(files)"
   ]
  },
  {
   "cell_type": "code",
   "execution_count": 25,
   "metadata": {
    "collapsed": true
   },
   "outputs": [],
   "source": [
    "import sklearn.ensemble"
   ]
  },
  {
   "cell_type": "code",
   "execution_count": 26,
   "metadata": {
    "collapsed": false
   },
   "outputs": [
    {
     "name": "stdout",
     "output_type": "stream",
     "text": [
      "Loading training data...\n",
      "Fitting 3 folds for each of 18 candidates, totalling 54 fits\n"
     ]
    },
    {
     "name": "stderr",
     "output_type": "stream",
     "text": [
      "[Parallel(n_jobs=3)]: Done   1 jobs       | elapsed:    3.3s\n",
      "[Parallel(n_jobs=3)]: Done  50 out of  54 | elapsed:   40.8s remaining:    3.3s\n",
      "[Parallel(n_jobs=3)]: Done  54 out of  54 | elapsed:   44.1s finished\n"
     ]
    },
    {
     "name": "stdout",
     "output_type": "stream",
     "text": [
      "-- Epoch 1\n",
      "Norm: 0.69, NNZs: 924, Bias: -9.884882, T: 29361, Avg. loss: 0.391481-- Epoch 1\n",
      "-- Epoch 1\n",
      "-- Epoch 1\n",
      "Norm: 525.44, NNZs: 729, Bias: -590.413899, T: 19573, Avg. loss: 34.232004Norm: 504.34, NNZs: 712, Bias: -539.379563, T: 19574, Avg. loss: 32.192463Norm: 485.77, NNZs: 714, Bias: -535.637368, T: 19575, Avg. loss: 29.407823\n",
      "\n",
      "\n",
      "Total training time: 0.49 seconds.\n",
      "Total training time: 0.37 seconds.\n",
      "Total training time: 0.48 seconds.\n",
      "-- Epoch 2\n",
      "-- Epoch 2\n",
      "-- Epoch 2\n",
      "Norm: 514.84, NNZs: 697, Bias: -578.818846, T: 39146, Avg. loss: 26.461444Norm: 494.35, NNZs: 682, Bias: -528.297862, T: 39148, Avg. loss: 24.430294Norm: 476.29, NNZs: 670, Bias: -524.769335, T: 39150, Avg. loss: 22.640722\n",
      "\n",
      "\n",
      "Total training time: 0.96 seconds.\n",
      "Total training time: 0.84 seconds.\n",
      "Total training time: 0.84 seconds.\n",
      "-- Epoch 3\n",
      "-- Epoch 3\n",
      "-- Epoch 3\n",
      "Norm: 509.63, NNZs: 678, Bias: -571.545548, T: 58719, Avg. loss: 23.425349Norm: 489.95, NNZs: 672, Bias: -520.947977, T: 58722, Avg. loss: 21.408620Norm: 471.98, NNZs: 658, Bias: -517.605326, T: 58725, Avg. loss: 19.982756\n",
      "\n",
      "\n",
      "Total training time: 1.40 seconds.\n",
      "Total training time: 1.31 seconds.\n",
      "Total training time: 1.22 seconds.\n",
      "-- Epoch 4\n",
      "-- Epoch 4\n",
      "-- Epoch 4\n",
      "Norm: 506.86, NNZs: 661, Bias: -565.794880, T: 78292, Avg. loss: 21.717046Norm: 487.24, NNZs: 659, Bias: -515.577440, T: 78296, Avg. loss: 19.719331Norm: 469.49, NNZs: 644, Bias: -512.214395, T: 78300, Avg. loss: 18.493666\n",
      "\n",
      "\n",
      "Total training time: 1.78 seconds.\n",
      "Total training time: 1.72 seconds.\n",
      "Total training time: 1.70 seconds.\n",
      "-- Epoch 5\n",
      "-- Epoch 5\n",
      "-- Epoch 5\n",
      "Norm: 504.75, NNZs: 651, Bias: -561.403004, T: 97865, Avg. loss: 20.598301Norm: 485.36, NNZs: 645, Bias: -511.310683, T: 97870, Avg. loss: 18.616498Norm: 467.81, NNZs: 632, Bias: -507.948185, T: 97875, Avg. loss: 17.509023\n",
      "\n",
      "\n",
      "Total training time: 2.18 seconds.\n",
      "Total training time: 2.16 seconds.\n",
      "Total training time: 2.18 seconds.\n",
      "-- Epoch 1-- Epoch 1-- Epoch 1\n",
      "\n",
      "\n",
      "Norm: 36.89, NNZs: 924, Bias: -325.898220, T: 19573, Avg. loss: 15.848739Norm: 40.28, NNZs: 924, Bias: -359.192817, T: 19574, Avg. loss: 15.886055Norm: 40.54, NNZs: 924, Bias: -371.060093, T: 19575, Avg. loss: 16.410567\n",
      "\n",
      "\n",
      "Total training time: 0.19 seconds.\n",
      "Total training time: 0.14 seconds.\n",
      "Total training time: 0.18 seconds.\n",
      "-- Epoch 2\n",
      "-- Epoch 2\n",
      "-- Epoch 2\n",
      "Norm: 34.05, NNZs: 924, Bias: -307.357667, T: 39146, Avg. loss: 11.961110Norm: 37.57, NNZs: 924, Bias: -340.795778, T: 39148, Avg. loss: 12.275256Norm: 37.31, NNZs: 924, Bias: -353.270966, T: 39150, Avg. loss: 12.527728\n",
      "\n",
      "\n",
      "Total training time: 0.34 seconds.\n",
      "Total training time: 0.29 seconds.\n",
      "Total training time: 0.39 seconds.\n",
      "-- Epoch 3\n",
      "-- Epoch 3\n",
      "-- Epoch 3\n",
      "Norm: 33.44, NNZs: 924, Bias: -296.206171, T: 58719, Avg. loss: 10.481634Norm: 37.16, NNZs: 924, Bias: -329.765224, T: 58722, Avg. loss: 10.900449Norm: 37.18, NNZs: 924, Bias: -342.692543, T: 58725, Avg. loss: 11.052031\n",
      "\n",
      "\n",
      "Total training time: 0.48 seconds.\n",
      "Total training time: 0.42 seconds.\n",
      "Total training time: 0.52 seconds.\n",
      "-- Epoch 4\n",
      "-- Epoch 4\n",
      "-- Epoch 4\n",
      "Norm: 33.50, NNZs: 924, Bias: -288.273966, T: 78292, Avg. loss: 9.663361Norm: 36.72, NNZs: 924, Bias: -322.009711, T: 78296, Avg. loss: 10.132444Norm: 36.04, NNZs: 924, Bias: -335.347642, T: 78300, Avg. loss: 10.238559\n",
      "\n",
      "\n",
      "Total training time: 0.60 seconds.\n",
      "Total training time: 0.56 seconds.\n",
      "Total training time: 0.68 seconds.\n",
      "-- Epoch 5\n",
      "-- Epoch 5\n",
      "-- Epoch 5\n",
      "Norm: 33.10, NNZs: 924, Bias: -282.175822, T: 97865, Avg. loss: 9.123644Norm: 36.24, NNZs: 924, Bias: -315.963524, T: 97870, Avg. loss: 9.627472Norm: 35.58, NNZs: 924, Bias: -329.554831, T: 97875, Avg. loss: 9.709212\n",
      "\n",
      "\n",
      "Total training time: 0.76 seconds.\n",
      "Total training time: 0.80 seconds.\n",
      "Total training time: 0.84 seconds.\n",
      "-- Epoch 1-- Epoch 1-- Epoch 1\n",
      "\n",
      "\n",
      "Norm: 48.21, NNZs: 716, Bias: -374.140025, T: 19574, Avg. loss: 18.399765Norm: 49.84, NNZs: 723, Bias: -378.309225, T: 19573, Avg. loss: 17.859568Norm: 47.34, NNZs: 719, Bias: -330.743875, T: 19575, Avg. loss: 15.078559\n",
      "\n",
      "\n",
      "Total training time: 0.40 seconds.\n",
      "Total training time: 0.37 seconds.\n",
      "Total training time: 0.46 seconds.\n",
      "-- Epoch 2\n",
      "-- Epoch 2\n",
      "-- Epoch 2\n",
      "Norm: 44.73, NNZs: 732, Bias: -355.171132, T: 39148, Avg. loss: 13.690915Norm: 44.60, NNZs: 717, Bias: -359.365465, T: 39146, Avg. loss: 13.608472Norm: 40.81, NNZs: 727, Bias: -313.277808, T: 39150, Avg. loss: 11.319043\n",
      "\n",
      "\n",
      "Total training time: 0.77 seconds.\n",
      "Total training time: 0.73 seconds.\n",
      "Total training time: 0.89 seconds.\n",
      "-- Epoch 3\n",
      "-- Epoch 3\n",
      "-- Epoch 3\n",
      "Norm: 43.05, NNZs: 744, Bias: -344.069056, T: 58722, Avg. loss: 11.942507Norm: 42.25, NNZs: 718, Bias: -348.199752, T: 58719, Avg. loss: 11.996796Norm: 39.49, NNZs: 741, Bias: -302.792490, T: 58725, Avg. loss: 9.906464\n",
      "\n",
      "\n",
      "Total training time: 1.20 seconds.\n",
      "Total training time: 1.10 seconds.\n",
      "Total training time: 1.28 seconds.\n",
      "-- Epoch 4\n",
      "-- Epoch 4\n",
      "-- Epoch 4\n",
      "Norm: 41.96, NNZs: 749, Bias: -336.288639, T: 78296, Avg. loss: 10.987831Norm: 41.45, NNZs: 730, Bias: -340.152550, T: 78292, Avg. loss: 11.117123Norm: 38.59, NNZs: 746, Bias: -295.421910, T: 78300, Avg. loss: 9.129431\n",
      "\n",
      "\n",
      "Total training time: 1.61 seconds.\n",
      "Total training time: 1.50 seconds.\n",
      "Total training time: 1.63 seconds.\n",
      "-- Epoch 5\n",
      "-- Epoch 5\n",
      "-- Epoch 5\n",
      "Norm: 41.51, NNZs: 757, Bias: -330.213648, T: 97870, Avg. loss: 10.372517Norm: 40.27, NNZs: 737, Bias: -334.004456, T: 97865, Avg. loss: 10.546190Norm: 37.94, NNZs: 747, Bias: -289.692324, T: 97875, Avg. loss: 8.622616\n",
      "\n",
      "\n",
      "Total training time: 2.03 seconds.\n",
      "Total training time: 1.91 seconds.\n",
      "Total training time: 2.00 seconds.\n",
      "-- Epoch 1-- Epoch 1-- Epoch 1\n",
      "\n",
      "\n",
      "Norm: 188.53, NNZs: 165, Bias: -86.659684, T: 19574, Avg. loss: 4.639103Norm: 215.54, NNZs: 254, Bias: -121.108692, T: 19573, Avg. loss: 6.680935Norm: 220.56, NNZs: 268, Bias: -120.922492, T: 19575, Avg. loss: 7.038792\n",
      "\n",
      "\n",
      "Total training time: 0.46 seconds.\n",
      "Total training time: 0.41 seconds.\n",
      "Total training time: 0.47 seconds.\n",
      "-- Epoch 2\n",
      "-- Epoch 2\n",
      "-- Epoch 2\n",
      "Norm: 188.69, NNZs: 117, Bias: -84.310831, T: 39148, Avg. loss: 3.580415Norm: 215.46, NNZs: 217, Bias: -119.140277, T: 39146, Avg. loss: 5.187177Norm: 220.27, NNZs: 214, Bias: -119.303903, T: 39150, Avg. loss: 5.392433\n",
      "\n",
      "\n",
      "Total training time: 0.91 seconds.\n",
      "Total training time: 0.82 seconds.\n",
      "Total training time: 1.26 seconds.\n",
      "-- Epoch 3\n",
      "-- Epoch 3\n",
      "-- Epoch 3\n",
      "Norm: 188.84, NNZs: 102, Bias: -82.823256, T: 58722, Avg. loss: 3.189634Norm: 215.50, NNZs: 195, Bias: -117.880553, T: 58719, Avg. loss: 4.633095Norm: 220.25, NNZs: 192, Bias: -118.159980, T: 58725, Avg. loss: 4.768953\n",
      "\n",
      "\n",
      "Total training time: 1.48 seconds.\n",
      "Total training time: 1.33 seconds.\n",
      "Total training time: 1.83 seconds.\n",
      "-- Epoch 4\n",
      "-- Epoch 4\n",
      "-- Epoch 4\n",
      "Norm: 188.98, NNZs: 95, Bias: -81.692896, T: 78296, Avg. loss: 2.980863Norm: 215.55, NNZs: 176, Bias: -116.950044, T: 78292, Avg. loss: 4.334942Norm: 220.24, NNZs: 176, Bias: -117.351183, T: 78300, Avg. loss: 4.428129\n",
      "\n",
      "\n",
      "Total training time: 1.82 seconds.\n",
      "Total training time: 1.78 seconds.\n",
      "Total training time: 2.33 seconds.\n",
      "-- Epoch 5\n",
      "-- Epoch 5\n",
      "-- Epoch 5\n",
      "Norm: 189.10, NNZs: 91, Bias: -80.781115, T: 97870, Avg. loss: 2.849042Norm: 215.63, NNZs: 166, Bias: -116.173711, T: 97865, Avg. loss: 4.146330Norm: 220.27, NNZs: 162, Bias: -116.660951, T: 97875, Avg. loss: 4.210421\n",
      "\n",
      "\n",
      "Total training time: 2.16 seconds.\n",
      "Total training time: 2.18 seconds.\n",
      "Total training time: 2.79 seconds.\n",
      "-- Epoch 1-- Epoch 1-- Epoch 1\n",
      "\n",
      "\n",
      "Norm: 6.32, NNZs: 924, Bias: -77.757650, T: 19574, Avg. loss: 3.536565\n",
      "Total training time: 0.10 seconds.\n",
      "-- Epoch 2\n",
      "Norm: 0.67, NNZs: 924, Bias: -9.712868, T: 58722, Avg. loss: 0.349255Norm: 4.79, NNZs: 924, Bias: -54.433321, T: 19573, Avg. loss: 2.249434Norm: 6.03, NNZs: 924, Bias: -74.105901, T: 19575, Avg. loss: 3.056202\n",
      "\n",
      "\n",
      "Total training time: 0.12 seconds.\n",
      "Total training time: 0.14 seconds.\n",
      "Total training time: 0.16 seconds.\n",
      "-- Epoch 2\n",
      "-- Epoch 2\n",
      "-- Epoch 2\n",
      "Norm: 6.13, NNZs: 924, Bias: -75.723419, T: 39148, Avg. loss: 2.749960Norm: 4.68, NNZs: 924, Bias: -52.464424, T: 39146, Avg. loss: 1.817728Norm: 5.82, NNZs: 924, Bias: -72.165229, T: 39150, Avg. loss: 2.420577\n",
      "\n",
      "\n",
      "Total training time: 0.25 seconds.\n",
      "Total training time: 0.28 seconds.\n",
      "Total training time: 0.36 seconds.\n",
      "-- Epoch 3\n",
      "-- Epoch 3\n",
      "-- Epoch 3\n",
      "Norm: 5.78, NNZs: 924, Bias: -74.556123, T: 58722, Avg. loss: 2.467817Norm: 4.50, NNZs: 924, Bias: -51.314849, T: 58719, Avg. loss: 1.656797Norm: 5.70, NNZs: 924, Bias: -71.044812, T: 58725, Avg. loss: 2.189814\n",
      "\n",
      "\n",
      "Total training time: 0.38 seconds.\n",
      "Total training time: 0.45 seconds.\n",
      "Total training time: 0.52 seconds.\n",
      "-- Epoch 4\n",
      "-- Epoch 4\n",
      "-- Epoch 4\n",
      "Norm: 5.80, NNZs: 924, Bias: -73.708519, T: 78296, Avg. loss: 2.318025Norm: 4.43, NNZs: 924, Bias: -50.496901, T: 78292, Avg. loss: 1.567272Norm: 5.50, NNZs: 924, Bias: -70.256875, T: 78300, Avg. loss: 2.066848\n",
      "\n",
      "\n",
      "Total training time: 0.54 seconds.\n",
      "Total training time: 0.59 seconds.\n",
      "Total training time: 0.71 seconds.\n",
      "-- Epoch 5\n",
      "-- Epoch 5\n",
      "-- Epoch 5\n",
      "Norm: 5.82, NNZs: 924, Bias: -73.051575, T: 97870, Avg. loss: 2.223575Norm: 4.42, NNZs: 924, Bias: -49.860975, T: 97865, Avg. loss: 1.508946Norm: 5.56, NNZs: 924, Bias: -69.627988, T: 97875, Avg. loss: 1.988855\n",
      "\n",
      "\n",
      "Total training time: 0.68 seconds.\n",
      "Total training time: 0.75 seconds.\n",
      "Total training time: 0.85 seconds.\n",
      "-- Epoch 1-- Epoch 1-- Epoch 1\n",
      "\n",
      "\n",
      "Norm: 9.17, NNZs: 525, Bias: -74.736489, T: 19574, Avg. loss: 3.020175Norm: 9.15, NNZs: 536, Bias: -76.906032, T: 19573, Avg. loss: 3.599737Norm: 9.56, NNZs: 564, Bias: -79.046934, T: 19575, Avg. loss: 3.224654\n",
      "\n",
      "\n",
      "Total training time: 0.39 seconds.\n",
      "Total training time: 0.42 seconds.\n",
      "Total training time: 0.39 seconds.\n",
      "-- Epoch 2\n",
      "-- Epoch 2\n",
      "-- Epoch 2\n",
      "Norm: 8.64, NNZs: 560, Bias: -72.476273, T: 39148, Avg. loss: 2.452596Norm: 8.55, NNZs: 560, Bias: -74.616240, T: 39146, Avg. loss: 2.790863Norm: 8.77, NNZs: 592, Bias: -76.894097, T: 39150, Avg. loss: 2.564744\n",
      "\n",
      "\n",
      "Total training time: 0.80 seconds.\n",
      "Total training time: 0.84 seconds.\n",
      "Total training time: 0.75 seconds.\n",
      "-- Epoch 3\n",
      "-- Epoch 3\n",
      "-- Epoch 3\n",
      "Norm: 8.25, NNZs: 570, Bias: -71.180143, T: 58722, Avg. loss: 2.243148Norm: 8.24, NNZs: 572, Bias: -73.286781, T: 58719, Avg. loss: 2.500997Norm: 8.39, NNZs: 599, Bias: -75.652366, T: 58725, Avg. loss: 2.325079\n",
      "\n",
      "\n",
      "Total training time: 1.21 seconds.\n",
      "Total training time: 1.27 seconds.\n",
      "Total training time: 1.10 seconds.\n",
      "-- Epoch 4\n",
      "-- Epoch 4\n",
      "-- Epoch 4\n",
      "Norm: 8.13, NNZs: 584, Bias: -70.252226, T: 78296, Avg. loss: 2.129868Norm: 8.19, NNZs: 587, Bias: -72.337314, T: 78292, Avg. loss: 2.346620Norm: 8.29, NNZs: 615, Bias: -74.751203, T: 78300, Avg. loss: 2.197622\n",
      "\n",
      "\n",
      "Total training time: 1.61 seconds.\n",
      "Total training time: 1.73 seconds.\n",
      "Total training time: 1.59 seconds.\n",
      "-- Epoch 5\n",
      "-- Epoch 5\n",
      "-- Epoch 5\n",
      "Norm: 7.97, NNZs: 593, Bias: -69.540275, T: 97870, Avg. loss: 2.056618Norm: 8.04, NNZs: 596, Bias: -71.616106, T: 97865, Avg. loss: 2.248507Norm: 8.33, NNZs: 637, Bias: -74.046751, T: 97875, Avg. loss: 2.116370\n",
      "\n",
      "\n",
      "Total training time: 2.03 seconds.\n",
      "Total training time: 2.18 seconds.\n",
      "Total training time: 2.05 seconds.\n",
      "-- Epoch 1-- Epoch 1-- Epoch 1\n",
      "\n",
      "\n",
      "Norm: 70.42, NNZs: 0, Bias: -8.287964, T: 19573, Avg. loss: 0.837318Norm: 49.52, NNZs: 0, Bias: -2.701439, T: 19574, Avg. loss: 0.333431Norm: 68.90, NNZs: 0, Bias: -6.746279, T: 19575, Avg. loss: 0.722329\n",
      "\n",
      "\n",
      "Total training time: 0.34 seconds.\n",
      "Total training time: 0.35 seconds.\n",
      "Total training time: 0.34 seconds.\n",
      "-- Epoch 2\n",
      "-- Epoch 2\n",
      "-- Epoch 2\n",
      "Norm: 70.42, NNZs: 0, Bias: -7.668839, T: 39146, Avg. loss: 0.773091Norm: 49.52, NNZs: 0, Bias: -2.553433, T: 39148, Avg. loss: 0.318740Norm: 68.90, NNZs: 0, Bias: -6.142946, T: 39150, Avg. loss: 0.648054\n",
      "\n",
      "\n",
      "Total training time: 0.73 seconds.\n",
      "Total training time: 0.74 seconds.\n",
      "Total training time: 0.71 seconds.\n",
      "-- Epoch 3\n",
      "-- Epoch 3\n",
      "-- Epoch 3\n",
      "Norm: 70.42, NNZs: 0, Bias: -7.308891, T: 58719, Avg. loss: 0.737895Norm: 49.52, NNZs: 0, Bias: -2.492841, T: 58722, Avg. loss: 0.313264Norm: 68.90, NNZs: 0, Bias: -5.791980, T: 58725, Avg. loss: 0.610074\n",
      "\n",
      "\n",
      "Total training time: 1.11 seconds.\n",
      "Total training time: 1.13 seconds.\n",
      "Total training time: 1.15 seconds.\n",
      "-- Epoch 4\n",
      "-- Epoch 4\n",
      "-- Epoch 4\n",
      "Norm: 70.42, NNZs: 0, Bias: -7.054881, T: 78292, Avg. loss: 0.713642Norm: 49.52, NNZs: 0, Bias: -2.459253, T: 78296, Avg. loss: 0.310376Norm: 68.90, NNZs: 0, Bias: -5.545864, T: 78300, Avg. loss: 0.584773\n",
      "\n",
      "\n",
      "Total training time: 1.54 seconds.\n",
      "Total training time: 1.52 seconds.\n",
      "Total training time: 1.63 seconds.\n",
      "-- Epoch 5\n",
      "-- Epoch 5\n",
      "-- Epoch 5\n",
      "Norm: 70.42, NNZs: 0, Bias: -6.858021, T: 97865, Avg. loss: 0.695150Norm: 49.52, NNZs: 0, Bias: -2.437623, T: 97870, Avg. loss: 0.308585Norm: 68.90, NNZs: 0, Bias: -5.356142, T: 97875, Avg. loss: 0.565912\n",
      "\n",
      "\n",
      "Total training time: 2.02 seconds.\n",
      "Total training time: 1.81 seconds.\n",
      "Total training time: 2.12 seconds.\n",
      "-- Epoch 1-- Epoch 1-- Epoch 1\n",
      "\n",
      "\n",
      "Norm: 0.80, NNZs: 924, Bias: -12.074182, T: 19574, Avg. loss: 0.569802Norm: 0.82, NNZs: 924, Bias: -11.914930, T: 19573, Avg. loss: 0.528786Norm: 0.83, NNZs: 924, Bias: -12.067702, T: 19575, Avg. loss: 0.459696\n",
      "\n",
      "\n",
      "Total training time: 0.15 seconds.\n",
      "Total training time: 0.20 seconds.\n",
      "Total training time: 0.20 seconds.\n",
      "-- Epoch 2\n",
      "-- Epoch 2\n",
      "-- Epoch 2\n",
      "Norm: 0.84, NNZs: 924, Bias: -11.879481, T: 39148, Avg. loss: 0.464005Norm: 0.80, NNZs: 924, Bias: -11.723101, T: 39146, Avg. loss: 0.442159Norm: 0.82, NNZs: 924, Bias: -11.885640, T: 39150, Avg. loss: 0.399990\n",
      "\n",
      "\n",
      "Total training time: 0.32 seconds.\n",
      "Total training time: 0.41 seconds.\n",
      "Total training time: 0.37 seconds.\n",
      "-- Epoch 3\n",
      "-- Epoch 3\n",
      "-- Epoch 3\n",
      "Norm: 0.81, NNZs: 924, Bias: -11.771880, T: 58722, Avg. loss: 0.427145Norm: 0.80, NNZs: 924, Bias: -11.611679, T: 58719, Avg. loss: 0.411764Norm: 0.82, NNZs: 924, Bias: -11.779559, T: 58725, Avg. loss: 0.378580\n",
      "\n",
      "\n",
      "Total training time: 0.44 seconds.\n",
      "Total training time: 0.58 seconds.\n",
      "Total training time: 0.53 seconds.\n",
      "-- Epoch 4\n",
      "-- Epoch 4\n",
      "-- Epoch 4\n",
      "Norm: 0.81, NNZs: 924, Bias: -11.693765, T: 78296, Avg. loss: 0.407971Norm: 0.79, NNZs: 924, Bias: -11.533034, T: 78292, Avg. loss: 0.395827Norm: 0.82, NNZs: 924, Bias: -11.704494, T: 78300, Avg. loss: 0.367253\n",
      "\n",
      "\n",
      "Total training time: 0.62 seconds.\n",
      "Total training time: 0.72 seconds.\n",
      "Total training time: 0.66 seconds.\n",
      "-- Epoch 5\n",
      "-- Epoch 5\n",
      "-- Epoch 5\n",
      "Norm: 0.80, NNZs: 924, Bias: -11.633858, T: 97870, Avg. loss: 0.396057Norm: 0.78, NNZs: 924, Bias: -11.472233, T: 97865, Avg. loss: 0.385886Norm: 0.81, NNZs: 924, Bias: -11.646535, T: 97875, Avg. loss: 0.360085\n",
      "\n",
      "\n",
      "Total training time: 0.74 seconds.\n",
      "Total training time: 0.85 seconds.\n",
      "Total training time: 0.83 seconds.\n",
      "-- Epoch 1-- Epoch 1-- Epoch 1\n",
      "\n",
      "\n",
      "Norm: 2.17, NNZs: 341, Bias: -11.821457, T: 19574, Avg. loss: 0.583242Norm: 1.75, NNZs: 296, Bias: -8.250055, T: 19573, Avg. loss: 0.410669Norm: 1.86, NNZs: 315, Bias: -8.797601, T: 19575, Avg. loss: 0.378432\n",
      "\n",
      "\n",
      "Total training time: 0.21 seconds.\n",
      "-- Epoch 3\n",
      "Norm: 0.66, NNZs: 924, Bias: -9.613769, T: 88083, Avg. loss: 0.333869\n",
      "Total training time: 0.37 seconds.\n",
      "Total training time: 0.50 seconds.\n",
      "Total training time: 0.45 seconds.\n",
      "-- Epoch 2\n",
      "-- Epoch 2\n",
      "-- Epoch 2\n",
      "Norm: 2.10, NNZs: 356, Bias: -11.413842, T: 39148, Avg. loss: 0.484306Norm: 1.67, NNZs: 308, Bias: -7.878307, T: 39146, Avg. loss: 0.354126Norm: 1.76, NNZs: 326, Bias: -8.431701, T: 39150, Avg. loss: 0.337889\n",
      "\n",
      "\n",
      "Total training time: 0.77 seconds.\n",
      "Total training time: 0.87 seconds.\n",
      "Total training time: 0.88 seconds.\n",
      "-- Epoch 3\n",
      "-- Epoch 3\n",
      "-- Epoch 3\n",
      "Norm: 2.07, NNZs: 364, Bias: -11.178540, T: 58722, Avg. loss: 0.448272Norm: 1.63, NNZs: 312, Bias: -7.666785, T: 58719, Avg. loss: 0.332880Norm: 1.73, NNZs: 332, Bias: -8.214880, T: 58725, Avg. loss: 0.322512\n",
      "\n",
      "\n",
      "Total training time: 1.15 seconds.\n",
      "Total training time: 1.30 seconds.\n",
      "Total training time: 1.27 seconds.\n",
      "-- Epoch 4\n",
      "-- Epoch 4\n",
      "-- Epoch 4\n",
      "Norm: 2.04, NNZs: 367, Bias: -11.012098, T: 78296, Avg. loss: 0.428852Norm: 1.61, NNZs: 317, Bias: -7.515411, T: 78292, Avg. loss: 0.321524Norm: 1.70, NNZs: 333, Bias: -8.065323, T: 78300, Avg. loss: 0.313446\n",
      "\n",
      "\n",
      "Total training time: 1.57 seconds.\n",
      "Total training time: 1.75 seconds.\n",
      "Total training time: 1.68 seconds.\n",
      "-- Epoch 5\n",
      "-- Epoch 5\n",
      "-- Epoch 5\n",
      "Norm: 2.02, NNZs: 369, Bias: -10.884567, T: 97870, Avg. loss: 0.416293Norm: 1.58, NNZs: 319, Bias: -7.401186, T: 97865, Avg. loss: 0.313825Norm: 1.68, NNZs: 331, Bias: -7.949432, T: 97875, Avg. loss: 0.307496\n",
      "\n",
      "\n",
      "Total training time: 1.96 seconds.\n",
      "Total training time: 2.24 seconds.\n",
      "Total training time: 2.06 seconds.\n",
      "-- Epoch 1-- Epoch 1-- Epoch 1\n",
      "\n",
      "\n",
      "Norm: 15.02, NNZs: 0, Bias: -1.694801, T: 19573, Avg. loss: 0.325652Norm: 14.14, NNZs: 0, Bias: -1.760355, T: 19574, Avg. loss: 0.320291Norm: 19.77, NNZs: 0, Bias: -1.921928, T: 19575, Avg. loss: 0.310652\n",
      "\n",
      "\n",
      "Total training time: 0.37 seconds.\n",
      "Total training time: 0.35 seconds.\n",
      "Total training time: 0.41 seconds.\n",
      "-- Epoch 2\n",
      "-- Epoch 2\n",
      "-- Epoch 2\n",
      "Norm: 15.02, NNZs: 0, Bias: -1.738352, T: 39146, Avg. loss: 0.321929Norm: 14.14, NNZs: 0, Bias: -1.798540, T: 39148, Avg. loss: 0.317451Norm: 19.77, NNZs: 0, Bias: -1.947325, T: 39150, Avg. loss: 0.309101\n",
      "\n",
      "\n",
      "Total training time: 0.78 seconds.\n",
      "Total training time: 0.70 seconds.\n",
      "Total training time: 0.80 seconds.\n",
      "-- Epoch 3\n",
      "-- Epoch 3\n",
      "-- Epoch 3\n",
      "Norm: 15.02, NNZs: 0, Bias: -1.762119, T: 58719, Avg. loss: 0.320042Norm: 14.14, NNZs: 0, Bias: -1.819380, T: 58722, Avg. loss: 0.316010Norm: 19.77, NNZs: 0, Bias: -1.961488, T: 58725, Avg. loss: 0.308361\n",
      "\n",
      "\n",
      "Total training time: 1.18 seconds.\n",
      "Total training time: 1.01 seconds.\n",
      "Total training time: 1.17 seconds.\n",
      "-- Epoch 4\n",
      "-- Epoch 4\n",
      "-- Epoch 4\n",
      "Norm: 15.02, NNZs: 0, Bias: -1.778245, T: 78292, Avg. loss: 0.318819Norm: 14.14, NNZs: 0, Bias: -1.833546, T: 78296, Avg. loss: 0.315073Norm: 19.77, NNZs: 0, Bias: -1.971159, T: 78300, Avg. loss: 0.307891\n",
      "\n",
      "\n",
      "Total training time: 1.55 seconds.\n",
      "Total training time: 1.45 seconds.\n",
      "Total training time: 1.48 seconds.\n",
      "-- Epoch 5\n",
      "-- Epoch 5\n",
      "-- Epoch 5\n",
      "Norm: 15.02, NNZs: 0, Bias: -1.790427, T: 97865, Avg. loss: 0.317930Norm: 14.14, NNZs: 0, Bias: -1.844241, T: 97870, Avg. loss: 0.314391Norm: 19.77, NNZs: 0, Bias: -1.978434, T: 97875, Avg. loss: 0.307554\n",
      "\n",
      "\n",
      "Total training time: 1.99 seconds.\n",
      "Total training time: 1.78 seconds.\n",
      "Total training time: 1.80 seconds.\n",
      "-- Epoch 1-- Epoch 1-- Epoch 1\n",
      "\n",
      "\n",
      "Norm: 0.09, NNZs: 924, Bias: -2.038564, T: 19573, Avg. loss: 0.285577Norm: 0.11, NNZs: 924, Bias: -2.448230, T: 19574, Avg. loss: 0.271941Norm: 0.06, NNZs: 0, Bias: -1.838227, T: 19573, Avg. loss: 0.317806\n",
      "\n",
      "\n",
      "Total training time: 0.11 seconds.\n",
      "Total training time: 0.17 seconds.\n",
      "Total training time: 0.42 seconds.\n",
      "-- Epoch 2\n",
      "-- Epoch 2\n",
      "-- Epoch 2\n",
      "Norm: 0.09, NNZs: 924, Bias: -2.074071, T: 39146, Avg. loss: 0.276555Norm: 0.10, NNZs: 924, Bias: -2.467675, T: 39148, Avg. loss: 0.263163Norm: 0.04, NNZs: 0, Bias: -1.870129, T: 39146, Avg. loss: 0.314294\n",
      "\n",
      "\n",
      "Total training time: 0.23 seconds.\n",
      "Total training time: 0.33 seconds.\n",
      "Total training time: 0.81 seconds.\n",
      "-- Epoch 3\n",
      "-- Epoch 3\n",
      "-- Epoch 3\n",
      "Norm: 0.09, NNZs: 924, Bias: -2.094128, T: 58719, Avg. loss: 0.272980Norm: 0.10, NNZs: 924, Bias: -2.478516, T: 58722, Avg. loss: 0.259985Norm: 0.03, NNZs: 0, Bias: -1.887574, T: 58719, Avg. loss: 0.312776\n",
      "\n",
      "\n",
      "Total training time: 0.34 seconds.\n",
      "Total training time: 0.50 seconds.\n",
      "Total training time: 1.19 seconds.\n",
      "-- Epoch 4\n",
      "-- Epoch 4\n",
      "-- Epoch 4\n",
      "Norm: 0.09, NNZs: 924, Bias: -2.107889, T: 78292, Avg. loss: 0.270964Norm: 0.10, NNZs: 924, Bias: -2.485868, T: 78296, Avg. loss: 0.258338Norm: 0.03, NNZs: 0, Bias: -1.899465, T: 78292, Avg. loss: 0.311865\n",
      "\n",
      "\n",
      "Total training time: 0.44 seconds.\n",
      "Total training time: 0.66 seconds.\n",
      "Total training time: 1.49 seconds.\n",
      "-- Epoch 5\n",
      "-- Epoch 5\n",
      "-- Epoch 5\n",
      "Norm: 0.09, NNZs: 924, Bias: -2.118282, T: 97865, Avg. loss: 0.269636Norm: 0.10, NNZs: 924, Bias: -2.491405, T: 97870, Avg. loss: 0.257307Norm: 0.03, NNZs: 0, Bias: -1.908496, T: 97865, Avg. loss: 0.311233\n",
      "\n",
      "\n",
      "Total training time: 0.57 seconds.\n",
      "Total training time: 0.83 seconds.\n",
      "Total training time: 1.89 seconds.\n",
      "-- Epoch 1-- Epoch 1-- Epoch 1\n",
      "\n",
      "\n",
      "Norm: 0.11, NNZs: 924, Bias: -2.426578, T: 19575, Avg. loss: 0.263619Norm: 0.06, NNZs: 0, Bias: -1.736194, T: 19574, Avg. loss: 0.324586Norm: 6.73, NNZs: 0, Bias: -0.598714, T: 19573, Avg. loss: 0.498681\n",
      "\n",
      "\n",
      "Total training time: 0.15 seconds.\n",
      "Total training time: 0.34 seconds.\n",
      "Total training time: 0.43 seconds.\n",
      "-- Epoch 2\n",
      "-- Epoch 2\n",
      "-- Epoch 2\n",
      "Norm: 0.10, NNZs: 924, Bias: -2.447242, T: 39150, Avg. loss: 0.256081Norm: 0.04, NNZs: 0, Bias: -1.776185, T: 39148, Avg. loss: 0.320248Norm: 6.73, NNZs: 0, Bias: -0.616928, T: 39146, Avg. loss: 0.493674\n",
      "\n",
      "\n",
      "Total training time: 0.30 seconds.\n",
      "Total training time: 0.68 seconds.\n",
      "Total training time: 0.81 seconds.\n",
      "-- Epoch 3\n",
      "-- Epoch 3\n",
      "-- Epoch 3\n",
      "Norm: 0.11, NNZs: 924, Bias: -2.458452, T: 58725, Avg. loss: 0.253436Norm: 0.04, NNZs: 0, Bias: -1.798138, T: 58722, Avg. loss: 0.318256Norm: 6.73, NNZs: 0, Bias: -0.627473, T: 58719, Avg. loss: 0.490811\n",
      "\n",
      "\n",
      "Total training time: 0.49 seconds.\n",
      "Total training time: 1.08 seconds.\n",
      "Total training time: 1.24 seconds.\n",
      "-- Epoch 4\n",
      "-- Epoch 4\n",
      "-- Epoch 4\n",
      "Norm: 0.11, NNZs: 924, Bias: -2.466902, T: 78300, Avg. loss: 0.251916Norm: 0.03, NNZs: 0, Bias: -1.813052, T: 78296, Avg. loss: 0.317022Norm: 6.73, NNZs: 0, Bias: -0.634901, T: 78292, Avg. loss: 0.488810\n",
      "\n",
      "\n",
      "Total training time: 0.61 seconds.\n",
      "Total training time: 1.40 seconds.\n",
      "Total training time: 1.60 seconds.\n",
      "-- Epoch 5\n",
      "-- Epoch 5\n",
      "-- Epoch 5\n",
      "Norm: 0.11, NNZs: 924, Bias: -2.473078, T: 97875, Avg. loss: 0.250999Norm: 0.03, NNZs: 0, Bias: -1.824282, T: 97870, Avg. loss: 0.316149Norm: 6.73, NNZs: 0, Bias: -0.640617, T: 97865, Avg. loss: 0.487275\n",
      "\n",
      "\n",
      "Total training time: 0.72 seconds.\n",
      "Total training time: 1.75 seconds.\n",
      "Total training time: 2.00 seconds.\n",
      "-- Epoch 1-- Epoch 1-- Epoch 1\n",
      "\n",
      "\n",
      "Norm: 0.06, NNZs: 0, Bias: -1.730030, T: 19575, Avg. loss: 0.322755Norm: 5.79, NNZs: 0, Bias: -0.594097, T: 19574, Avg. loss: 0.500052Norm: 0.02, NNZs: 924, Bias: -0.681520, T: 19574, Avg. loss: 0.471581\n",
      "\n",
      "\n",
      "Total training time: 0.44 seconds.\n",
      "Total training time: 0.38 seconds.\n",
      "Total training time: 0.12 seconds.\n",
      "\n",
      "Total training time: 0.34 seconds.\n",
      "-- Epoch 4\n",
      "Norm: 0.66, NNZs: 924, Bias: -9.543677, T: 117444, Avg. loss: 0.325671-- Epoch 2\n",
      "-- Epoch 2\n",
      "-- Epoch 2\n",
      "Norm: 0.04, NNZs: 0, Bias: -1.770542, T: 39150, Avg. loss: 0.319501Norm: 5.79, NNZs: 0, Bias: -0.612394, T: 39148, Avg. loss: 0.494975Norm: 0.02, NNZs: 924, Bias: -0.698706, T: 39148, Avg. loss: 0.464996\n",
      "\n",
      "\n",
      "Total training time: 0.74 seconds.\n",
      "Total training time: 0.72 seconds.\n",
      "Total training time: 0.24 seconds.\n",
      "-- Epoch 3\n",
      "-- Epoch 3\n",
      "-- Epoch 3\n",
      "Norm: 0.04, NNZs: 0, Bias: -1.792866, T: 58725, Avg. loss: 0.317854Norm: 5.79, NNZs: 0, Bias: -0.622983, T: 58722, Avg. loss: 0.492081Norm: 0.02, NNZs: 924, Bias: -0.708654, T: 58722, Avg. loss: 0.461734\n",
      "\n",
      "\n",
      "Total training time: 1.06 seconds.\n",
      "Total training time: 1.04 seconds.\n",
      "Total training time: 0.39 seconds.\n",
      "-- Epoch 4\n",
      "-- Epoch 4\n",
      "-- Epoch 4\n",
      "Norm: 0.03, NNZs: 0, Bias: -1.807972, T: 78300, Avg. loss: 0.316786Norm: 5.79, NNZs: 0, Bias: -0.630433, T: 78296, Avg. loss: 0.490059Norm: 0.02, NNZs: 924, Bias: -0.715656, T: 78296, Avg. loss: 0.459582\n",
      "\n",
      "\n",
      "Total training time: 1.39 seconds.\n",
      "Total training time: 1.35 seconds.\n",
      "Total training time: 0.53 seconds.\n",
      "-- Epoch 5\n",
      "-- Epoch 5\n",
      "-- Epoch 5\n",
      "Norm: 0.03, NNZs: 0, Bias: -1.819352, T: 97875, Avg. loss: 0.316009Norm: 5.79, NNZs: 0, Bias: -0.636181, T: 97870, Avg. loss: 0.488509Norm: 0.02, NNZs: 924, Bias: -0.721059, T: 97870, Avg. loss: 0.457992\n",
      "\n",
      "\n",
      "Total training time: 1.83 seconds.\n",
      "Total training time: 1.70 seconds.\n",
      "Total training time: 0.67 seconds.\n",
      "-- Epoch 1-- Epoch 1-- Epoch 1\n",
      "\n",
      "\n",
      "Norm: 5.97, NNZs: 0, Bias: -0.597968, T: 19575, Avg. loss: 0.499019Norm: 0.02, NNZs: 924, Bias: -0.661288, T: 19573, Avg. loss: 0.472511Norm: 0.01, NNZs: 0, Bias: -0.540067, T: 19574, Avg. loss: 0.515432\n",
      "\n",
      "\n",
      "Total training time: 0.32 seconds.\n",
      "Total training time: 0.14 seconds.\n",
      "Total training time: 0.33 seconds.\n",
      "-- Epoch 2\n",
      "-- Epoch 2\n",
      "-- Epoch 2\n",
      "Norm: 5.97, NNZs: 0, Bias: -0.616244, T: 39150, Avg. loss: 0.493948Norm: 0.02, NNZs: 924, Bias: -0.678773, T: 39146, Avg. loss: 0.466581Norm: 0.01, NNZs: 0, Bias: -0.559250, T: 39148, Avg. loss: 0.509900\n",
      "\n",
      "\n",
      "Total training time: 0.69 seconds.\n",
      "Total training time: 0.29 seconds.\n",
      "Total training time: 0.71 seconds.\n",
      "-- Epoch 3\n",
      "-- Epoch 3\n",
      "-- Epoch 3\n",
      "Norm: 5.97, NNZs: 0, Bias: -0.626788, T: 58725, Avg. loss: 0.491063Norm: 0.02, NNZs: 924, Bias: -0.688879, T: 58719, Avg. loss: 0.463475Norm: 0.01, NNZs: 0, Bias: -0.570315, T: 58722, Avg. loss: 0.506738\n",
      "\n",
      "\n",
      "Total training time: 1.04 seconds.\n",
      "Total training time: 0.44 seconds.\n",
      "Total training time: 1.09 seconds.\n",
      "-- Epoch 4\n",
      "-- Epoch 4\n",
      "-- Epoch 4\n",
      "Norm: 5.97, NNZs: 0, Bias: -0.634209, T: 78300, Avg. loss: 0.489050Norm: 0.02, NNZs: 924, Bias: -0.695991, T: 78292, Avg. loss: 0.461381Norm: 0.00, NNZs: 0, Bias: -0.578113, T: 78296, Avg. loss: 0.504528\n",
      "\n",
      "\n",
      "Total training time: 1.40 seconds.\n",
      "Total training time: 0.59 seconds.\n",
      "Total training time: 1.49 seconds.\n",
      "-- Epoch 5\n",
      "-- Epoch 5\n",
      "-- Epoch 5\n",
      "Norm: 5.97, NNZs: 0, Bias: -0.639938, T: 97875, Avg. loss: 0.487507Norm: 0.02, NNZs: 924, Bias: -0.701477, T: 97865, Avg. loss: 0.459818Norm: 0.00, NNZs: 0, Bias: -0.584123, T: 97870, Avg. loss: 0.502833\n",
      "\n",
      "\n",
      "Total training time: 1.72 seconds.\n",
      "Total training time: 0.74 seconds.\n",
      "Total training time: 1.82 seconds.\n",
      "-- Epoch 1-- Epoch 1-- Epoch 1\n",
      "\n",
      "\n",
      "Norm: 0.02, NNZs: 924, Bias: -0.531273, T: 19575, Avg. loss: 0.508989Norm: 0.01, NNZs: 0, Bias: -0.603623, T: 19573, Avg. loss: 0.497364Norm: 3.10, NNZs: 0, Bias: -0.198038, T: 19573, Avg. loss: 0.618003\n",
      "\n",
      "\n",
      "Total training time: 0.14 seconds.\n",
      "Total training time: 0.42 seconds.\n",
      "Total training time: 0.37 seconds.\n",
      "-- Epoch 2\n",
      "-- Epoch 2\n",
      "-- Epoch 2\n",
      "Norm: 0.02, NNZs: 924, Bias: -0.550734, T: 39150, Avg. loss: 0.501398Norm: 0.01, NNZs: 0, Bias: -0.621873, T: 39146, Avg. loss: 0.492368Norm: 3.10, NNZs: 0, Bias: -0.200549, T: 39146, Avg. loss: 0.617093\n",
      "\n",
      "\n",
      "Total training time: 0.28 seconds.\n",
      "Total training time: 0.76 seconds.\n",
      "Total training time: 0.75 seconds.\n",
      "-- Epoch 3\n",
      "-- Epoch 3\n",
      "-- Epoch 3\n",
      "Norm: 0.02, NNZs: 924, Bias: -0.561965, T: 58725, Avg. loss: 0.497480Norm: 0.01, NNZs: 0, Bias: -0.632375, T: 58719, Avg. loss: 0.489516Norm: 3.10, NNZs: 0, Bias: -0.202011, T: 58719, Avg. loss: 0.616562\n",
      "\n",
      "\n",
      "Total training time: 0.48 seconds.\n",
      "Total training time: 1.18 seconds.\n",
      "Total training time: 1.11 seconds.\n",
      "-- Epoch 4\n",
      "-- Epoch 4\n",
      "-- Epoch 4\n",
      "Norm: 0.02, NNZs: 924, Bias: -0.569870, T: 78300, Avg. loss: 0.494868Norm: 0.00, NNZs: 0, Bias: -0.639771, T: 78292, Avg. loss: 0.487524Norm: 3.10, NNZs: 0, Bias: -0.203048, T: 78292, Avg. loss: 0.616186\n",
      "\n",
      "\n",
      "Total training time: 0.65 seconds.\n",
      "Total training time: 1.50 seconds.\n",
      "Total training time: 1.54 seconds.\n",
      "-- Epoch 5\n",
      "-- Epoch 5\n",
      "-- Epoch 5\n",
      "Norm: 0.02, NNZs: 924, Bias: -0.575966, T: 97875, Avg. loss: 0.492930Norm: 0.00, NNZs: 0, Bias: -0.645471, T: 97865, Avg. loss: 0.485997Norm: 3.10, NNZs: 0, Bias: -0.203852, T: 97865, Avg. loss: 0.615895\n",
      "\n",
      "\n",
      "Total training time: 0.80 seconds.\n",
      "Total training time: 1.82 seconds.\n",
      "Total training time: 1.86 seconds.\n",
      "-- Epoch 1-- Epoch 1-- Epoch 1\n",
      "\n",
      "\n",
      "Norm: 0.01, NNZs: 0, Bias: -0.590542, T: 19575, Avg. loss: 0.501113Norm: 2.90, NNZs: 0, Bias: -0.193165, T: 19574, Avg. loss: 0.619807Norm: 0.01, NNZs: 924, Bias: -0.204708, T: 19573, Avg. loss: 0.611693\n",
      "\n",
      "\n",
      "Total training time: 0.37 seconds.\n",
      "Total training time: 0.35 seconds.\n",
      "Total training time: 0.17 seconds.\n",
      "-- Epoch 2\n",
      "-- Epoch 2\n",
      "-- Epoch 2\n",
      "Norm: 0.01, NNZs: 0, Bias: -0.608937, T: 39150, Avg. loss: 0.495969Norm: 2.90, NNZs: 0, Bias: -0.195677, T: 39148, Avg. loss: 0.618881Norm: 0.01, NNZs: 924, Bias: -0.207200, T: 39146, Avg. loss: 0.609531\n",
      "\n",
      "\n",
      "Total training time: 0.75 seconds.\n",
      "Total training time: 0.73 seconds.\n",
      "Total training time: 0.28 seconds.\n",
      "-- Epoch 3\n",
      "-- Epoch 3\n",
      "-- Epoch 3\n",
      "Norm: 0.01, NNZs: 0, Bias: -0.619569, T: 58725, Avg. loss: 0.493041Norm: 2.90, NNZs: 0, Bias: -0.197144, T: 58722, Avg. loss: 0.618343Norm: 0.01, NNZs: 924, Bias: -0.208657, T: 58719, Avg. loss: 0.608607\n",
      "\n",
      "\n",
      "Total training time: 1.22 seconds.\n",
      "Total training time: 1.10 seconds.\n",
      "Total training time: 0.40 seconds.\n",
      "-- Epoch 4\n",
      "-- Epoch 4\n",
      "-- Epoch 4\n",
      "Norm: 0.00, NNZs: 0, Bias: -0.627034, T: 78300, Avg. loss: 0.490999Norm: 2.90, NNZs: 0, Bias: -0.198183, T: 78296, Avg. loss: 0.617963Norm: 0.01, NNZs: 924, Bias: -0.209688, T: 78292, Avg. loss: 0.608020\n",
      "\n",
      "\n",
      "Total training time: 1.58 seconds.\n",
      "Total training time: 1.46 seconds.\n",
      "Total training time: 0.55 seconds.\n",
      "-- Epoch 5\n",
      "-- Epoch 5\n",
      "-- Epoch 5\n",
      "Norm: 0.00, NNZs: 0, Bias: -0.632791, T: 97875, Avg. loss: 0.489435Norm: 2.90, NNZs: 0, Bias: -0.198990, T: 97870, Avg. loss: 0.617670Norm: 0.01, NNZs: 924, Bias: -0.210488, T: 97865, Avg. loss: 0.607611\n",
      "\n",
      "\n",
      "Total training time: 1.88 seconds.\n",
      "Total training time: 1.85 seconds.\n",
      "Total training time: 0.68 seconds.\n",
      "-- Epoch 1-- Epoch 1-- Epoch 1\n",
      "\n",
      "\n",
      "Norm: 4.28, NNZs: 0, Bias: -0.199976, T: 19575, Avg. loss: 0.617328Norm: 0.01, NNZs: 924, Bias: -0.203974, T: 19574, Avg. loss: 0.611773Norm: 0.00, NNZs: 0, Bias: -0.199070, T: 19573, Avg. loss: 0.617638\n",
      "\n",
      "\n",
      "Total training time: 0.36 seconds.\n",
      "Total training time: 0.11 seconds.\n",
      "Total training time: 0.48 seconds.\n",
      "-- Epoch 2\n",
      "-- Epoch 2\n",
      "-- Epoch 2\n",
      "Norm: 4.28, NNZs: 0, Bias: -0.202475, T: 39150, Avg. loss: 0.616411\n",
      "Total training time: 0.46 seconds.\n",
      "-- Epoch 5\n",
      "Norm: 0.66, NNZs: 924, Bias: -9.489153, T: 146805, Avg. loss: 0.320451Norm: 0.01, NNZs: 924, Bias: -0.206471, T: 39148, Avg. loss: 0.610633Norm: 0.00, NNZs: 0, Bias: -0.201575, T: 39146, Avg. loss: 0.616724\n",
      "\n",
      "\n",
      "Total training time: 0.67 seconds.\n",
      "Total training time: 0.21 seconds.\n",
      "Total training time: 0.99 seconds.\n",
      "-- Epoch 3\n",
      "-- Epoch 3\n",
      "-- Epoch 3\n",
      "Norm: 4.28, NNZs: 0, Bias: -0.203936, T: 58725, Avg. loss: 0.615879Norm: 0.01, NNZs: 924, Bias: -0.207931, T: 58722, Avg. loss: 0.610008Norm: 0.00, NNZs: 0, Bias: -0.203038, T: 58719, Avg. loss: 0.616193\n",
      "\n",
      "\n",
      "Total training time: 1.01 seconds.\n",
      "Total training time: 0.32 seconds.\n",
      "Total training time: 1.47 seconds.\n",
      "-- Epoch 4\n",
      "-- Epoch 4\n",
      "-- Epoch 4\n",
      "Norm: 4.28, NNZs: 0, Bias: -0.204971, T: 78300, Avg. loss: 0.615503Norm: 0.01, NNZs: 924, Bias: -0.208965, T: 78296, Avg. loss: 0.609590Norm: 0.00, NNZs: 0, Bias: -0.204074, T: 78292, Avg. loss: 0.615817\n",
      "\n",
      "\n",
      "Total training time: 1.36 seconds.\n",
      "Total training time: 0.44 seconds.\n",
      "Total training time: 1.98 seconds.\n",
      "-- Epoch 5\n",
      "-- Epoch 5\n",
      "-- Epoch 5\n",
      "Norm: 4.28, NNZs: 0, Bias: -0.205773, T: 97875, Avg. loss: 0.615212Norm: 0.01, NNZs: 924, Bias: -0.209767, T: 97870, Avg. loss: 0.609272Norm: 0.00, NNZs: 0, Bias: -0.204877, T: 97865, Avg. loss: 0.615526\n",
      "\n",
      "\n",
      "Total training time: 1.76 seconds.\n",
      "Total training time: 0.61 seconds.\n",
      "Total training time: 2.28 seconds.\n",
      "-- Epoch 1-- Epoch 1\n",
      "\n",
      "Norm: 0.01, NNZs: 924, Bias: -0.193676, T: 19575, Avg. loss: 0.615007Norm: 0.00, NNZs: 0, Bias: 0.110055, T: 19574, Avg. loss: 0.741784\n",
      "\n",
      "Total training time: 0.11 seconds.\n",
      "Total training time: 0.35 seconds.\n",
      "-- Epoch 2\n",
      "-- Epoch 2\n",
      "Norm: 0.01, NNZs: 924, Bias: -0.196183, T: 39150, Avg. loss: 0.612764Norm: 0.00, NNZs: 0, Bias: 0.107018, T: 39148, Avg. loss: 0.740454\n",
      "\n",
      "Total training time: 0.25 seconds.\n",
      "Total training time: 0.71 seconds.\n",
      "-- Epoch 3\n",
      "-- Epoch 3\n",
      "Norm: 0.01, NNZs: 924, Bias: -0.197649, T: 58725, Avg. loss: 0.611767Norm: 0.00, NNZs: 0, Bias: 0.105244, T: 58722, Avg. loss: 0.739677\n",
      "\n",
      "Total training time: 0.42 seconds.\n",
      "Total training time: 1.09 seconds.\n",
      "-- Epoch 4\n",
      "-- Epoch 4\n",
      "Norm: 0.01, NNZs: 924, Bias: -0.198688, T: 78300, Avg. loss: 0.611179Norm: 0.00, NNZs: 0, Bias: 0.103988, T: 78296, Avg. loss: 0.739126\n",
      "\n",
      "Total training time: 0.62 seconds.\n",
      "Total training time: 1.45 seconds.\n",
      "-- Epoch 5\n",
      "-- Epoch 5\n",
      "Norm: 0.01, NNZs: 924, Bias: -0.199493, T: 97875, Avg. loss: 0.610746Norm: 0.00, NNZs: 0, Bias: 0.103014, T: 97870, Avg. loss: 0.738699\n",
      "\n",
      "Total training time: 0.82 seconds.\n",
      "Total training time: 1.80 seconds.\n",
      "-- Epoch 1\n",
      "Norm: 0.00, NNZs: 0, Bias: -0.195465, T: 19575, Avg. loss: 0.618951\n",
      "Total training time: 0.32 seconds.\n",
      "-- Epoch 2\n",
      "Norm: 0.00, NNZs: 0, Bias: -0.197971, T: 39150, Avg. loss: 0.618036\n",
      "Total training time: 0.69 seconds.\n",
      "-- Epoch 3\n",
      "Norm: 0.00, NNZs: 0, Bias: -0.199436, T: 58725, Avg. loss: 0.617504\n",
      "Total training time: 1.04 seconds.\n",
      "-- Epoch 4\n",
      "Norm: 0.00, NNZs: 0, Bias: -0.200473, T: 78300, Avg. loss: 0.617127\n",
      "Total training time: 1.36 seconds.\n",
      "-- Epoch 5\n",
      "Norm: 0.00, NNZs: 0, Bias: -0.201278, T: 97875, Avg. loss: 0.616835\n",
      "Total training time: 1.58 seconds.\n",
      "\n",
      "Total training time: 0.57 seconds.\n",
      "Loading testing data...\n"
     ]
    }
   ],
   "source": [
    "for trainf, testf in filesplitter:\n",
    "    \n",
    "    print 'Loading training data...'\n",
    "    X_train, Y_train = load_batch([_files[_] for _ in trainf],\n",
    "                                 n_pos=10,\n",
    "                                 n_neg=100)\n",
    "    \n",
    "    _model = sklearn.grid_search.GridSearchCV(sklearn.linear_model.SGDClassifier(loss='log', verbose=1),\n",
    "                                             {'alpha': np.logspace(-3, 3, num=6, endpoint=False),\n",
    "                                             'penalty': ['l1', 'l2', 'elasticnet']},\n",
    "                                             n_jobs=3, verbose=1)\n",
    "    \n",
    "    #_model = sklearn.grid_search.GridSearchCV(sklearn.ensemble.RandomForestClassifier(),\n",
    "    #                                         {'max_depth': np.arange(2, 11)},\n",
    "    #                                         n_jobs=3, verbose=1)\n",
    "    \n",
    "    feature = sklearn.preprocessing.StandardScaler()\n",
    "    model = sklearn.pipeline.Pipeline([('scaler', feature), ('predictor', _model)])\n",
    "    \n",
    "    model.fit(X_train, Y_train)\n",
    "    \n",
    "    print 'Loading testing data...'\n",
    "    X_test, Y_test = load_batch([_files[_] for _ in testf],\n",
    "                                n_pos=None,\n",
    "                                n_neg=None)"
   ]
  },
  {
   "cell_type": "code",
   "execution_count": 27,
   "metadata": {
    "collapsed": false
   },
   "outputs": [],
   "source": [
    "M = model.steps[1][1]"
   ]
  },
  {
   "cell_type": "code",
   "execution_count": 28,
   "metadata": {
    "collapsed": false
   },
   "outputs": [
    {
     "data": {
      "text/plain": [
       "{'alpha': 0.10000000000000001, 'penalty': 'l2'}"
      ]
     },
     "execution_count": 28,
     "metadata": {},
     "output_type": "execute_result"
    }
   ],
   "source": [
    "M.best_params_"
   ]
  },
  {
   "cell_type": "code",
   "execution_count": 29,
   "metadata": {
    "collapsed": false
   },
   "outputs": [
    {
     "data": {
      "text/plain": [
       "<matplotlib.colorbar.Colorbar instance at 0x7fe1e3253dd0>"
      ]
     },
     "execution_count": 29,
     "metadata": {},
     "output_type": "execute_result"
    },
    {
     "data": {
      "image/png": "[encoded data removed]",
      "text/plain": [
       "<matplotlib.figure.Figure at 0x7fe1e336a0d0>"
      ]
     },
     "metadata": {},
     "output_type": "display_data"
    }
   ],
   "source": [
    "w = model.steps[1][1].best_estimator_.coef_[0]\n",
    "w = w.reshape((-1, 84))\n",
    "plt.imshow(w.T, aspect='auto', interpolation='none', cmap='coolwarm', origin='lower')\n",
    "plt.ylabel('CQT bin')\n",
    "plt.xlabel('Context position')\n",
    "plt.title('$w$')\n",
    "plt.xticks(np.arange(5), np.arange(-2, 3))\n",
    "plt.colorbar()"
   ]
  },
  {
   "cell_type": "code",
   "execution_count": 30,
   "metadata": {
    "collapsed": false
   },
   "outputs": [
    {
     "name": "stdout",
     "output_type": "stream",
     "text": [
      "             precision    recall  f1-score   support\n",
      "\n",
      "          0       0.94      0.98      0.96     26741\n",
      "          1       0.64      0.37      0.47      2620\n",
      "\n",
      "avg / total       0.91      0.93      0.92     29361\n",
      "\n"
     ]
    }
   ],
   "source": [
    "print sklearn.metrics.classification_report(Y_train, model.predict(X_train))"
   ]
  },
  {
   "cell_type": "code",
   "execution_count": 31,
   "metadata": {
    "collapsed": false
   },
   "outputs": [
    {
     "data": {
      "text/plain": [
       "0.92561561254725655"
      ]
     },
     "execution_count": 31,
     "metadata": {},
     "output_type": "execute_result"
    }
   ],
   "source": [
    "sklearn.metrics.accuracy_score(Y_train, model.predict(X_train))"
   ]
  },
  {
   "cell_type": "code",
   "execution_count": 32,
   "metadata": {
    "collapsed": false
   },
   "outputs": [],
   "source": [
    "Y_pred = [model.predict(xt) for xt in X_test]"
   ]
  },
  {
   "cell_type": "code",
   "execution_count": 33,
   "metadata": {
    "collapsed": false
   },
   "outputs": [],
   "source": [
    "Y_pred_proba = np.concatenate([model.predict_proba(xt) for xt in X_test], axis=0)"
   ]
  },
  {
   "cell_type": "code",
   "execution_count": 34,
   "metadata": {
    "collapsed": false
   },
   "outputs": [],
   "source": [
    "Y_pred = np.concatenate(Y_pred, axis=0)"
   ]
  },
  {
   "cell_type": "code",
   "execution_count": 35,
   "metadata": {
    "collapsed": false
   },
   "outputs": [
    {
     "name": "stdout",
     "output_type": "stream",
     "text": [
      "             precision    recall  f1-score   support\n",
      "\n",
      "          0       0.77      0.96      0.86     33064\n",
      "          1       0.77      0.30      0.43     13233\n",
      "\n",
      "avg / total       0.77      0.77      0.74     46297\n",
      "\n"
     ]
    }
   ],
   "source": [
    "print sklearn.metrics.classification_report(Y_test, Y_pred)"
   ]
  },
  {
   "cell_type": "code",
   "execution_count": 36,
   "metadata": {
    "collapsed": false
   },
   "outputs": [
    {
     "data": {
      "text/plain": [
       "0.77346264336782078"
      ]
     },
     "execution_count": 36,
     "metadata": {},
     "output_type": "execute_result"
    }
   ],
   "source": [
    "sklearn.metrics.accuracy_score(Y_test, Y_pred)"
   ]
  },
  {
   "cell_type": "markdown",
   "metadata": {},
   "source": [
    "---"
   ]
  },
  {
   "cell_type": "code",
   "execution_count": 37,
   "metadata": {
    "collapsed": true
   },
   "outputs": [],
   "source": [
    "import cPickle as pickle"
   ]
  },
  {
   "cell_type": "code",
   "execution_count": 22,
   "metadata": {
    "collapsed": false
   },
   "outputs": [],
   "source": [
    "#pickle.dump({'model': model, 'dataset': 'salami_beat'},\n",
    "            #open('../data/similarity_model_salami_beat_bias.pickle', 'w'))\n",
    "pickle.dump({'model': model, 'dataset': 'isophonics_beat'},\n",
    "            open('../data/similarity_model_isophonics_beat_bias.pickle', 'w'))"
   ]
  },
  {
   "cell_type": "markdown",
   "metadata": {},
   "source": [
    "---"
   ]
  },
  {
   "cell_type": "code",
   "execution_count": 98,
   "metadata": {
    "collapsed": true
   },
   "outputs": [],
   "source": [
    "Xtrains2 = np.mean(X_train**2, axis=1, keepdims=True)"
   ]
  },
  {
   "cell_type": "code",
   "execution_count": 99,
   "metadata": {
    "collapsed": true
   },
   "outputs": [],
   "source": [
    "Xtests2 = np.mean(X_test**2, axis=1, keepdims=True)"
   ]
  },
  {
   "cell_type": "code",
   "execution_count": 100,
   "metadata": {
    "collapsed": true
   },
   "outputs": [],
   "source": [
    "seaborn.set_style('darkgrid')"
   ]
  },
  {
   "cell_type": "code",
   "execution_count": 101,
   "metadata": {
    "collapsed": true
   },
   "outputs": [],
   "source": [
    "import sklearn.neighbors"
   ]
  },
  {
   "cell_type": "code",
   "execution_count": 102,
   "metadata": {
    "collapsed": false
   },
   "outputs": [
    {
     "name": "stdout",
     "output_type": "stream",
     "text": [
      "Fitting 5 folds for each of 5 candidates, totalling 25 fits\n"
     ]
    },
    {
     "name": "stderr",
     "output_type": "stream",
     "text": [
      "[Parallel(n_jobs=3)]: Done   1 jobs       | elapsed:   11.5s\n",
      "[Parallel(n_jobs=3)]: Done  21 out of  25 | elapsed:  1.5min remaining:   17.3s\n",
      "[Parallel(n_jobs=3)]: Done  25 out of  25 | elapsed:  1.7min finished\n"
     ]
    },
    {
     "data": {
      "text/plain": [
       "GridSearchCV(cv=5, error_score='raise',\n",
       "       estimator=KernelDensity(algorithm='auto', atol=0, bandwidth=1.0, breadth_first=True,\n",
       "       kernel='gaussian', leaf_size=40, metric='euclidean',\n",
       "       metric_params=None, rtol=0),\n",
       "       fit_params={}, iid=True, loss_func=None, n_jobs=3,\n",
       "       param_grid={'bandwidth': array([ 0.1  ,  0.325,  0.55 ,  0.775,  1.   ])},\n",
       "       pre_dispatch='2*n_jobs', refit=True, score_func=None, scoring=None,\n",
       "       verbose=1)"
      ]
     },
     "execution_count": 102,
     "metadata": {},
     "output_type": "execute_result"
    }
   ],
   "source": [
    "KDE_pos = sklearn.grid_search.GridSearchCV(sklearn.neighbors.KernelDensity(),\n",
    "                                           {'bandwidth': np.linspace(0.1, 1.0, 5)},\n",
    "                                           verbose=1,\n",
    "                                           n_jobs=3,\n",
    "                                           cv=5)\n",
    "KDE_pos.fit(Xtrains2[Y_train > 0])"
   ]
  },
  {
   "cell_type": "code",
   "execution_count": 103,
   "metadata": {
    "collapsed": false
   },
   "outputs": [
    {
     "name": "stdout",
     "output_type": "stream",
     "text": [
      "Fitting 5 folds for each of 3 candidates, totalling 15 fits\n"
     ]
    },
    {
     "name": "stderr",
     "output_type": "stream",
     "text": [
      "[Parallel(n_jobs=3)]: Done   1 jobs       | elapsed:   14.5s\n",
      "[Parallel(n_jobs=3)]: Done  11 out of  15 | elapsed:  1.2min remaining:   25.4s\n",
      "[Parallel(n_jobs=3)]: Done  15 out of  15 | elapsed:  1.4min finished\n"
     ]
    },
    {
     "data": {
      "text/plain": [
       "GridSearchCV(cv=5, error_score='raise',\n",
       "       estimator=KernelDensity(algorithm='auto', atol=0, bandwidth=1.0, breadth_first=True,\n",
       "       kernel='gaussian', leaf_size=40, metric='euclidean',\n",
       "       metric_params=None, rtol=0),\n",
       "       fit_params={}, iid=True, loss_func=None, n_jobs=3,\n",
       "       param_grid={'bandwidth': array([ 0.1 ,  0.55,  1.  ])},\n",
       "       pre_dispatch='2*n_jobs', refit=True, score_func=None, scoring=None,\n",
       "       verbose=1)"
      ]
     },
     "execution_count": 103,
     "metadata": {},
     "output_type": "execute_result"
    }
   ],
   "source": [
    "KDE_neg = sklearn.grid_search.GridSearchCV(sklearn.neighbors.KernelDensity(),\n",
    "                                           {'bandwidth': np.linspace(0.1, 1.0, 3)},\n",
    "                                           verbose=1,\n",
    "                                           n_jobs=3,\n",
    "                                           cv=5)\n",
    "KDE_neg.fit(Xtrains2[Y_train < 1])"
   ]
  },
  {
   "cell_type": "code",
   "execution_count": 104,
   "metadata": {
    "collapsed": false
   },
   "outputs": [],
   "source": [
    "Y_pred_kde = (KDE_pos.best_estimator_.score_samples(Xtests2) >\n",
    "              KDE_neg.best_estimator_.score_samples(Xtests2))"
   ]
  },
  {
   "cell_type": "code",
   "execution_count": 105,
   "metadata": {
    "collapsed": false
   },
   "outputs": [
    {
     "name": "stdout",
     "output_type": "stream",
     "text": [
      "             precision    recall  f1-score   support\n",
      "\n",
      "          0       0.66      0.68      0.67    143276\n",
      "          1       0.58      0.56      0.57    114243\n",
      "\n",
      "avg / total       0.62      0.62      0.62    257519\n",
      "\n"
     ]
    }
   ],
   "source": [
    "print sklearn.metrics.classification_report(Y_test[:len(Y_pred_kde)], Y_pred_kde)"
   ]
  },
  {
   "cell_type": "code",
   "execution_count": 106,
   "metadata": {
    "collapsed": false
   },
   "outputs": [
    {
     "ename": "ValueError",
     "evalue": "need more than 1 value to unpack",
     "output_type": "error",
     "traceback": [
      "\u001b[1;31m---------------------------------------------------------------------------\u001b[0m",
      "\u001b[1;31mValueError\u001b[0m                                Traceback (most recent call last)",
      "\u001b[1;32m<ipython-input-106-d8507f42514d>\u001b[0m in \u001b[0;36m<module>\u001b[1;34m()\u001b[0m\n\u001b[1;32m----> 1\u001b[1;33m \u001b[0mseaborn\u001b[0m\u001b[1;33m.\u001b[0m\u001b[0mkdeplot\u001b[0m\u001b[1;33m(\u001b[0m\u001b[0mnp\u001b[0m\u001b[1;33m.\u001b[0m\u001b[0mlog\u001b[0m\u001b[1;33m(\u001b[0m\u001b[0mXtrains2\u001b[0m\u001b[1;33m[\u001b[0m\u001b[0mY_train\u001b[0m \u001b[1;33m>\u001b[0m \u001b[1;36m0\u001b[0m\u001b[1;33m]\u001b[0m\u001b[1;33m)\u001b[0m\u001b[1;33m,\u001b[0m \u001b[0mshade\u001b[0m\u001b[1;33m=\u001b[0m\u001b[0mTrue\u001b[0m\u001b[1;33m,\u001b[0m \u001b[0mlabel\u001b[0m\u001b[1;33m=\u001b[0m\u001b[1;34m'Positive'\u001b[0m\u001b[1;33m)\u001b[0m\u001b[1;33m\u001b[0m\u001b[0m\n\u001b[0m\u001b[0;32m      2\u001b[0m \u001b[0mseaborn\u001b[0m\u001b[1;33m.\u001b[0m\u001b[0mkdeplot\u001b[0m\u001b[1;33m(\u001b[0m\u001b[0mnp\u001b[0m\u001b[1;33m.\u001b[0m\u001b[0mlog\u001b[0m\u001b[1;33m(\u001b[0m\u001b[0mXtrains2\u001b[0m\u001b[1;33m[\u001b[0m\u001b[0mY_train\u001b[0m \u001b[1;33m<\u001b[0m \u001b[1;36m1\u001b[0m\u001b[1;33m]\u001b[0m\u001b[1;33m)\u001b[0m\u001b[1;33m,\u001b[0m \u001b[0mshade\u001b[0m\u001b[1;33m=\u001b[0m\u001b[0mTrue\u001b[0m\u001b[1;33m,\u001b[0m \u001b[0mlabel\u001b[0m\u001b[1;33m=\u001b[0m\u001b[1;34m'Negative'\u001b[0m\u001b[1;33m)\u001b[0m\u001b[1;33m\u001b[0m\u001b[0m\n\u001b[0;32m      3\u001b[0m \u001b[0mplt\u001b[0m\u001b[1;33m.\u001b[0m\u001b[0mlegend\u001b[0m\u001b[1;33m(\u001b[0m\u001b[0mloc\u001b[0m\u001b[1;33m=\u001b[0m\u001b[1;34m'best'\u001b[0m\u001b[1;33m)\u001b[0m\u001b[1;33m\u001b[0m\u001b[0m\n",
      "\u001b[1;32m/usr/local/lib/python2.7/dist-packages/seaborn/distributions.pyc\u001b[0m in \u001b[0;36mkdeplot\u001b[1;34m(data, data2, shade, vertical, kernel, bw, gridsize, cut, clip, legend, ax, cumulative, **kwargs)\u001b[0m\n\u001b[0;32m    845\u001b[0m     \u001b[1;32mif\u001b[0m \u001b[0misinstance\u001b[0m\u001b[1;33m(\u001b[0m\u001b[0mdata\u001b[0m\u001b[1;33m,\u001b[0m \u001b[0mnp\u001b[0m\u001b[1;33m.\u001b[0m\u001b[0mndarray\u001b[0m\u001b[1;33m)\u001b[0m \u001b[1;32mand\u001b[0m \u001b[0mnp\u001b[0m\u001b[1;33m.\u001b[0m\u001b[0mndim\u001b[0m\u001b[1;33m(\u001b[0m\u001b[0mdata\u001b[0m\u001b[1;33m)\u001b[0m \u001b[1;33m>\u001b[0m \u001b[1;36m1\u001b[0m\u001b[1;33m:\u001b[0m\u001b[1;33m\u001b[0m\u001b[0m\n\u001b[0;32m    846\u001b[0m         \u001b[0mbivariate\u001b[0m \u001b[1;33m=\u001b[0m \u001b[0mTrue\u001b[0m\u001b[1;33m\u001b[0m\u001b[0m\n\u001b[1;32m--> 847\u001b[1;33m         \u001b[0mx\u001b[0m\u001b[1;33m,\u001b[0m \u001b[0my\u001b[0m \u001b[1;33m=\u001b[0m \u001b[0mdata\u001b[0m\u001b[1;33m.\u001b[0m\u001b[0mT\u001b[0m\u001b[1;33m\u001b[0m\u001b[0m\n\u001b[0m\u001b[0;32m    848\u001b[0m     \u001b[1;32melif\u001b[0m \u001b[0misinstance\u001b[0m\u001b[1;33m(\u001b[0m\u001b[0mdata\u001b[0m\u001b[1;33m,\u001b[0m \u001b[0mpd\u001b[0m\u001b[1;33m.\u001b[0m\u001b[0mDataFrame\u001b[0m\u001b[1;33m)\u001b[0m \u001b[1;32mand\u001b[0m \u001b[0mnp\u001b[0m\u001b[1;33m.\u001b[0m\u001b[0mndim\u001b[0m\u001b[1;33m(\u001b[0m\u001b[0mdata\u001b[0m\u001b[1;33m)\u001b[0m \u001b[1;33m>\u001b[0m \u001b[1;36m1\u001b[0m\u001b[1;33m:\u001b[0m\u001b[1;33m\u001b[0m\u001b[0m\n\u001b[0;32m    849\u001b[0m         \u001b[0mbivariate\u001b[0m \u001b[1;33m=\u001b[0m \u001b[0mTrue\u001b[0m\u001b[1;33m\u001b[0m\u001b[0m\n",
      "\u001b[1;31mValueError\u001b[0m: need more than 1 value to unpack"
     ]
    },
    {
     "data": {
      "image/png": "[encoded data removed]",
      "text/plain": [
       "<matplotlib.figure.Figure at 0x7f4338b12fd0>"
      ]
     },
     "metadata": {},
     "output_type": "display_data"
    }
   ],
   "source": [
    "seaborn.kdeplot(np.log(Xtrains2[Y_train > 0]), shade=True, label='Positive')\n",
    "seaborn.kdeplot(np.log(Xtrains2[Y_train < 1]), shade=True, label='Negative')\n",
    "plt.legend(loc='best')"
   ]
  }
 ],
 "metadata": {
  "kernelspec": {
   "display_name": "Python 2",
   "language": "python",
   "name": "python2"
  },
  "language_info": {
   "codemirror_mode": {
    "name": "ipython",
    "version": 2
   },
   "file_extension": ".py",
   "mimetype": "text/x-python",
   "name": "python",
   "nbconvert_exporter": "python",
   "pygments_lexer": "ipython2",
   "version": "2.7.8"
  }
 },
 "nbformat": 4,
 "nbformat_minor": 0
}
