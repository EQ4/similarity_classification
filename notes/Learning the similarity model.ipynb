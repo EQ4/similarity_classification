{
 "cells": [
  {
   "cell_type": "code",
   "execution_count": 1,
   "metadata": {
    "collapsed": true
   },
   "outputs": [],
   "source": [
    "import numpy as np\n",
    "import matplotlib.pyplot as plt\n",
    "import seaborn\n",
    "seaborn.set()\n",
    "seaborn.set_style('dark')\n",
    "np.set_printoptions(precision=3)\n",
    "\n",
    "%matplotlib inline"
   ]
  },
  {
   "cell_type": "code",
   "execution_count": 2,
   "metadata": {
    "collapsed": true
   },
   "outputs": [],
   "source": [
    "import sklearn\n",
    "import sklearn.metrics\n",
    "import sklearn.grid_search\n",
    "import sklearn.linear_model\n",
    "import sklearn.cross_validation\n",
    "import sklearn.preprocessing\n",
    "import sklearn.pipeline\n",
    "import pescador"
   ]
  },
  {
   "cell_type": "code",
   "execution_count": 3,
   "metadata": {
    "collapsed": true
   },
   "outputs": [],
   "source": [
    "import glob"
   ]
  },
  {
   "cell_type": "code",
   "execution_count": 4,
   "metadata": {
    "collapsed": true
   },
   "outputs": [],
   "source": [
    "def load_file(filename, n_pos=32, n_neg=32):\n",
    "    \n",
    "    data = np.load(filename)\n",
    "    \n",
    "    d = data['X'].shape[1]\n",
    "    \n",
    "    if n_pos is None:\n",
    "        return data['X'], data['Y']\n",
    "    \n",
    "    \n",
    "    positives = np.flatnonzero(data['Y'])\n",
    "    negatives = np.flatnonzero(1-data['Y'])\n",
    "    n_pos = min(n_pos, len(positives))\n",
    "    n_neg = min(n_neg, len(negatives))\n",
    "    \n",
    "    X = np.empty((n_pos + n_neg, d), dtype=np.float32)\n",
    "    Y = np.zeros((n_pos + n_neg), dtype=np.int32)\n",
    "    \n",
    "    if n_pos > 0:\n",
    "        idx_pos = np.random.choice(positives, size=n_pos, replace=False)\n",
    "    \n",
    "        X[:n_pos] = np.take(data['X'], idx_pos, axis=0)\n",
    "        Y[:n_pos] = 1\n",
    "    \n",
    "    if n_neg > 0:\n",
    "        idx_neg = np.random.choice(negatives, size=n_neg, replace=False)\n",
    "        X[n_pos:] = np.take(data['X'], idx_neg, axis=0)\n",
    "    \n",
    "    return X, Y"
   ]
  },
  {
   "cell_type": "code",
   "execution_count": 5,
   "metadata": {
    "collapsed": true
   },
   "outputs": [],
   "source": [
    "def load_batch(files, n_pos=32, n_neg=32):\n",
    "    \n",
    "    X = []\n",
    "    Y = []\n",
    "    \n",
    "    for fn in files:\n",
    "        _x, _y = load_file(fn, n_pos=n_pos, n_neg=n_neg)\n",
    "        X.append(_x)\n",
    "        Y.append(_y)\n",
    "        \n",
    "    X = np.concatenate(X, axis=0)\n",
    "    Y = np.concatenate(Y, axis=0)\n",
    "    \n",
    "    return X, Y"
   ]
  },
  {
   "cell_type": "code",
   "execution_count": 116,
   "metadata": {
    "collapsed": false
   },
   "outputs": [],
   "source": [
    "files = sorted(glob.glob('../data/labeled_features/SALAMI_*_beats.npz'))\n",
    "#files = sorted(glob.glob('../data/labeled_features/Isophonics_*_beats.npz'))"
   ]
  },
  {
   "cell_type": "code",
   "execution_count": 117,
   "metadata": {
    "collapsed": true
   },
   "outputs": [],
   "source": [
    "filesplitter = sklearn.cross_validation.ShuffleSplit(len(files), n_iter=1, test_size=0.10, random_state=5)\n",
    "_files = np.asarray(files)"
   ]
  },
  {
   "cell_type": "code",
   "execution_count": 118,
   "metadata": {
    "collapsed": true
   },
   "outputs": [],
   "source": [
    "import sklearn.ensemble"
   ]
  },
  {
   "cell_type": "code",
   "execution_count": 144,
   "metadata": {
    "collapsed": false
   },
   "outputs": [
    {
     "name": "stdout",
     "output_type": "stream",
     "text": [
      "Loading training data...\n",
      "Fitting 3 folds for each of 18 candidates, totalling 54 fits\n"
     ]
    },
    {
     "name": "stderr",
     "output_type": "stream",
     "text": [
      "[Parallel(n_jobs=3)]: Done   1 jobs       | elapsed:    4.7s\n",
      "[Parallel(n_jobs=3)]: Done  50 out of  54 | elapsed:  1.2min remaining:    5.6s\n",
      "[Parallel(n_jobs=3)]: Done  54 out of  54 | elapsed:  1.3min finished\n"
     ]
    },
    {
     "name": "stdout",
     "output_type": "stream",
     "text": [
      "-- Epoch 1\n",
      "Norm: 0.27, NNZs: 924, Bias: -0.117904, T: 75878, Avg. loss: 0.721234-- Epoch 1\n",
      "-- Epoch 1\n",
      "-- Epoch 1\n",
      "Norm: 417.75, NNZs: 364, Bias: -0.953057, T: 50585, Avg. loss: 33.984348Norm: 431.26, NNZs: 390, Bias: -1.395246, T: 50586, Avg. loss: 37.735716Norm: 432.14, NNZs: 421, Bias: -1.405116, T: 50585, Avg. loss: 36.915443\n",
      "\n",
      "\n",
      "Total training time: 0.67 seconds.\n",
      "Total training time: 0.49 seconds.\n",
      "Total training time: 0.68 seconds.\n",
      "-- Epoch 2\n",
      "-- Epoch 2\n",
      "-- Epoch 2\n",
      "Norm: 419.80, NNZs: 77, Bias: 0.030322, T: 101170, Avg. loss: 17.389978Norm: 433.18, NNZs: 68, Bias: -0.111262, T: 101172, Avg. loss: 19.294850Norm: 433.77, NNZs: 83, Bias: -0.052389, T: 101170, Avg. loss: 18.995731\n",
      "\n",
      "\n",
      "Total training time: 1.29 seconds.\n",
      "Total training time: 1.05 seconds.\n",
      "Total training time: 1.14 seconds.\n",
      "-- Epoch 3\n",
      "-- Epoch 3\n",
      "-- Epoch 3\n",
      "Norm: 420.48, NNZs: 79, Bias: -0.116247, T: 151755, Avg. loss: 11.812994Norm: 433.84, NNZs: 75, Bias: -0.194157, T: 151758, Avg. loss: 13.083301Norm: 434.44, NNZs: 89, Bias: -0.196711, T: 151755, Avg. loss: 12.881706\n",
      "\n",
      "\n",
      "Total training time: 1.93 seconds.\n",
      "Total training time: 1.68 seconds.\n",
      "Total training time: 1.57 seconds.\n",
      "-- Epoch 4\n",
      "-- Epoch 4\n",
      "-- Epoch 4\n",
      "Norm: 420.81, NNZs: 100, Bias: -0.158227, T: 202340, Avg. loss: 9.022203Norm: 434.16, NNZs: 93, Bias: -0.058358, T: 202344, Avg. loss: 9.975728Norm: 434.77, NNZs: 110, Bias: -0.043314, T: 202340, Avg. loss: 9.822994\n",
      "\n",
      "\n",
      "Total training time: 2.53 seconds.\n",
      "Total training time: 2.33 seconds.\n",
      "Total training time: 2.03 seconds.\n",
      "-- Epoch 5\n",
      "-- Epoch 5\n",
      "-- Epoch 5\n",
      "Norm: 421.00, NNZs: 110, Bias: -0.126775, T: 252925, Avg. loss: 7.346998Norm: 434.35, NNZs: 110, Bias: -0.113944, T: 252930, Avg. loss: 8.110272Norm: 434.96, NNZs: 117, Bias: -0.090194, T: 252925, Avg. loss: 7.986433\n",
      "\n",
      "\n",
      "Total training time: 3.17 seconds.\n",
      "Total training time: 2.94 seconds.\n",
      "Total training time: 2.47 seconds.\n",
      "-- Epoch 1-- Epoch 1-- Epoch 1\n",
      "\n",
      "\n",
      "Norm: 9.89, NNZs: 924, Bias: -1.940382, T: 50586, Avg. loss: 16.348500Norm: 9.95, NNZs: 924, Bias: -1.549127, T: 50585, Avg. loss: 17.171267Norm: 9.69, NNZs: 924, Bias: -1.713306, T: 50585, Avg. loss: 16.968266\n",
      "\n",
      "\n",
      "Total training time: 0.22 seconds.\n",
      "Total training time: 0.22 seconds.\n",
      "Total training time: 0.19 seconds.\n",
      "-- Epoch 2\n",
      "-- Epoch 2\n",
      "-- Epoch 2\n",
      "Norm: 4.68, NNZs: 924, Bias: -1.030051, T: 101172, Avg. loss: 9.326312Norm: 4.84, NNZs: 924, Bias: -1.152037, T: 101170, Avg. loss: 9.755931Norm: 4.60, NNZs: 924, Bias: -0.987414, T: 101170, Avg. loss: 9.620011\n",
      "\n",
      "\n",
      "Total training time: 0.44 seconds.\n",
      "Total training time: 0.44 seconds.\n",
      "Total training time: 0.36 seconds.\n",
      "-- Epoch 3\n",
      "-- Epoch 3\n",
      "-- Epoch 3\n",
      "Norm: 3.10, NNZs: 924, Bias: -0.792707, T: 151758, Avg. loss: 6.694140Norm: 3.27, NNZs: 924, Bias: -0.555569, T: 151755, Avg. loss: 6.991610Norm: 3.16, NNZs: 924, Bias: -0.851299, T: 151755, Avg. loss: 6.885208\n",
      "\n",
      "\n",
      "Total training time: 0.66 seconds.\n",
      "Total training time: 0.66 seconds.\n",
      "Total training time: 0.50 seconds.\n",
      "-- Epoch 4\n",
      "-- Epoch 4\n",
      "-- Epoch 4\n",
      "Norm: 2.38, NNZs: 924, Bias: -0.578457, T: 202344, Avg. loss: 5.301316Norm: 2.45, NNZs: 924, Bias: -0.512917, T: 202340, Avg. loss: 5.526180Norm: 2.54, NNZs: 924, Bias: -0.254789, T: 202340, Avg. loss: 5.441163\n",
      "\n",
      "\n",
      "Total training time: 0.88 seconds.\n",
      "Total training time: 0.88 seconds.\n",
      "Total training time: 0.65 seconds.\n",
      "-- Epoch 5\n",
      "-- Epoch 5\n",
      "-- Epoch 5\n",
      "Norm: 1.94, NNZs: 924, Bias: -0.417592, T: 252930, Avg. loss: 4.435850Norm: 2.08, NNZs: 924, Bias: -0.397876, T: 252925, Avg. loss: 4.615715Norm: 2.10, NNZs: 924, Bias: -0.385535, T: 252925, Avg. loss: 4.545523\n",
      "\n",
      "\n",
      "Total training time: 1.10 seconds.\n",
      "Total training time: 1.10 seconds.\n",
      "Total training time: 0.83 seconds.\n",
      "-- Epoch 1-- Epoch 1-- Epoch 1\n",
      "\n",
      "\n",
      "Norm: 58.15, NNZs: 173, Bias: -0.590648, T: 50586, Avg. loss: 14.260540Norm: 58.65, NNZs: 221, Bias: -0.724101, T: 50585, Avg. loss: 14.218738Norm: 58.26, NNZs: 174, Bias: -0.406702, T: 50585, Avg. loss: 13.576692\n",
      "\n",
      "\n",
      "Total training time: 0.73 seconds.\n",
      "Total training time: 0.61 seconds.\n",
      "Total training time: 0.48 seconds.\n",
      "-- Epoch 2\n",
      "-- Epoch 2\n",
      "-- Epoch 2\n",
      "Norm: 45.05, NNZs: 144, Bias: -0.311403, T: 101172, Avg. loss: 7.536027Norm: 45.55, NNZs: 179, Bias: -0.271604, T: 101170, Avg. loss: 7.523360Norm: 44.87, NNZs: 162, Bias: -0.242303, T: 101170, Avg. loss: 7.186616\n",
      "\n",
      "\n",
      "Total training time: 1.19 seconds.\n",
      "Total training time: 1.22 seconds.\n",
      "Total training time: 0.96 seconds.\n",
      "-- Epoch 3\n",
      "-- Epoch 3\n",
      "-- Epoch 3\n",
      "Norm: 37.49, NNZs: 195, Bias: -0.271791, T: 151758, Avg. loss: 5.264302Norm: 37.85, NNZs: 232, Bias: -0.221107, T: 151755, Avg. loss: 5.257148Norm: 37.30, NNZs: 214, Bias: -0.306727, T: 151755, Avg. loss: 5.029427\n",
      "\n",
      "\n",
      "Total training time: 1.76 seconds.\n",
      "Total training time: 1.90 seconds.\n",
      "Total training time: 1.46 seconds.\n",
      "-- Epoch 4\n",
      "-- Epoch 4\n",
      "-- Epoch 4\n",
      "Norm: 32.56, NNZs: 235, Bias: -0.261615, T: 202344, Avg. loss: 4.123113Norm: 32.84, NNZs: 250, Bias: -0.182557, T: 202340, Avg. loss: 4.118497Norm: 32.35, NNZs: 221, Bias: -0.201595, T: 202340, Avg. loss: 3.945789\n",
      "\n",
      "\n",
      "Total training time: 2.47 seconds.\n",
      "Total training time: 2.61 seconds.\n",
      "Total training time: 2.06 seconds.\n",
      "-- Epoch 5\n",
      "-- Epoch 5\n",
      "-- Epoch 5\n",
      "Norm: 29.03, NNZs: 305, Bias: -0.265936, T: 252930, Avg. loss: 3.436159Norm: 29.28, NNZs: 285, Bias: -0.091589, T: 252925, Avg. loss: 3.431579Norm: 28.89, NNZs: 290, Bias: -0.159617, T: 252925, Avg. loss: 3.293153\n",
      "\n",
      "\n",
      "Total training time: 3.17 seconds.\n",
      "Total training time: 3.22 seconds.\n",
      "Total training time: 2.76 seconds.\n",
      "-- Epoch 1-- Epoch 1-- Epoch 1\n",
      "\n",
      "\n",
      "Norm: 202.41, NNZs: 29, Bias: -0.067307, T: 50586, Avg. loss: 4.417633Norm: 209.69, NNZs: 26, Bias: -0.075926, T: 50585, Avg. loss: 4.220167Norm: 198.38, NNZs: 23, Bias: -0.066142, T: 50585, Avg. loss: 3.523067\n",
      "\n",
      "\n",
      "Total training time: 0.43 seconds.\n",
      "Total training time: 0.64 seconds.\n",
      "Total training time: 0.50 seconds.\n",
      "-- Epoch 2\n",
      "-- Epoch 2\n",
      "-- Epoch 2\n",
      "Norm: 202.46, NNZs: 28, Bias: -0.072757, T: 101172, Avg. loss: 2.528691Norm: 209.73, NNZs: 30, Bias: -0.081707, T: 101170, Avg. loss: 2.424437Norm: 198.43, NNZs: 28, Bias: -0.103095, T: 101170, Avg. loss: 2.079731\n",
      "\n",
      "\n",
      "Total training time: 0.84 seconds.\n",
      "Total training time: 1.23 seconds.\n",
      "Total training time: 1.02 seconds.\n",
      "-- Epoch 3\n",
      "-- Epoch 3\n",
      "-- Epoch 3\n",
      "Norm: 202.47, NNZs: 34, Bias: -0.079132, T: 151758, Avg. loss: 1.898727Norm: 209.75, NNZs: 36, Bias: -0.071676, T: 151755, Avg. loss: 1.825466Norm: 198.44, NNZs: 29, Bias: -0.093141, T: 151755, Avg. loss: 1.598257\n",
      "\n",
      "\n",
      "Total training time: 1.26 seconds.\n",
      "Total training time: 1.80 seconds.\n",
      "Total training time: 1.47 seconds.\n",
      "-- Epoch 4\n",
      "-- Epoch 4\n",
      "-- Epoch 4\n",
      "Norm: 202.48, NNZs: 32, Bias: -0.099026, T: 202344, Avg. loss: 1.583683Norm: 209.76, NNZs: 37, Bias: -0.074953, T: 202340, Avg. loss: 1.525915Norm: 198.45, NNZs: 36, Bias: -0.107843, T: 202340, Avg. loss: 1.357473\n",
      "\n",
      "\n",
      "Total training time: 1.67 seconds.\n",
      "Total training time: 2.38 seconds.\n",
      "Total training time: 1.97 seconds.\n",
      "-- Epoch 5\n",
      "-- Epoch 5\n",
      "-- Epoch 5\n",
      "Norm: 202.49, NNZs: 35, Bias: -0.084321, T: 252930, Avg. loss: 1.394556Norm: 209.76, NNZs: 39, Bias: -0.073118, T: 252925, Avg. loss: 1.346170Norm: 198.46, NNZs: 34, Bias: -0.078715, T: 252925, Avg. loss: 1.212915\n",
      "\n",
      "\n",
      "Total training time: 2.09 seconds.\n",
      "Total training time: 3.00 seconds.\n",
      "Total training time: 2.59 seconds.\n",
      "-- Epoch 1-- Epoch 1-- Epoch 1\n",
      "\n",
      "\n",
      "Norm: 1.19, NNZs: 924, Bias: -0.261176, T: 50585, Avg. loss: 2.213921\n",
      "Total training time: 0.25 seconds.\n",
      "-- Epoch 2\n",
      "Norm: 0.26, NNZs: 924, Bias: -0.105218, T: 151756, Avg. loss: 0.672887Norm: 1.19, NNZs: 924, Bias: -0.236097, T: 50586, Avg. loss: 2.289630Norm: 1.20, NNZs: 924, Bias: -0.256816, T: 50585, Avg. loss: 2.177234\n",
      "\n",
      "\n",
      "Total training time: 0.14 seconds.\n",
      "Total training time: 0.21 seconds.\n",
      "Total training time: 0.22 seconds.\n",
      "-- Epoch 2\n",
      "-- Epoch 2\n",
      "-- Epoch 2\n",
      "Norm: 0.86, NNZs: 924, Bias: -0.147513, T: 101170, Avg. loss: 1.450829Norm: 0.81, NNZs: 924, Bias: -0.194412, T: 101172, Avg. loss: 1.493622Norm: 0.81, NNZs: 924, Bias: -0.133033, T: 101170, Avg. loss: 1.435756\n",
      "\n",
      "\n",
      "Total training time: 0.29 seconds.\n",
      "Total training time: 0.41 seconds.\n",
      "Total training time: 0.45 seconds.\n",
      "-- Epoch 3\n",
      "-- Epoch 3\n",
      "-- Epoch 3\n",
      "Norm: 0.72, NNZs: 924, Bias: -0.090635, T: 151755, Avg. loss: 1.183882Norm: 0.70, NNZs: 924, Bias: -0.163063, T: 151758, Avg. loss: 1.215999Norm: 0.73, NNZs: 924, Bias: -0.116177, T: 151755, Avg. loss: 1.175920\n",
      "\n",
      "\n",
      "Total training time: 0.43 seconds.\n",
      "Total training time: 0.64 seconds.\n",
      "Total training time: 0.66 seconds.\n",
      "-- Epoch 4\n",
      "-- Epoch 4\n",
      "-- Epoch 4\n",
      "Norm: 0.68, NNZs: 924, Bias: -0.126661, T: 202340, Avg. loss: 1.047248Norm: 0.64, NNZs: 924, Bias: -0.169719, T: 202344, Avg. loss: 1.073865Norm: 0.66, NNZs: 924, Bias: -0.130335, T: 202340, Avg. loss: 1.042980\n",
      "\n",
      "\n",
      "Total training time: 0.57 seconds.\n",
      "Total training time: 0.87 seconds.\n",
      "Total training time: 0.87 seconds.\n",
      "-- Epoch 5\n",
      "-- Epoch 5\n",
      "-- Epoch 5\n",
      "Norm: 0.66, NNZs: 924, Bias: -0.113622, T: 252925, Avg. loss: 0.963843Norm: 0.63, NNZs: 924, Bias: -0.124462, T: 252930, Avg. loss: 0.987118Norm: 0.64, NNZs: 924, Bias: -0.117840, T: 252925, Avg. loss: 0.961819\n",
      "\n",
      "\n",
      "Total training time: 0.72 seconds.\n",
      "Total training time: 1.09 seconds.\n",
      "Total training time: 1.08 seconds.\n",
      "-- Epoch 1-- Epoch 1-- Epoch 1\n",
      "\n",
      "\n",
      "Norm: 6.87, NNZs: 88, Bias: -0.131290, T: 50585, Avg. loss: 1.681931Norm: 6.81, NNZs: 98, Bias: -0.158012, T: 50586, Avg. loss: 1.641635Norm: 6.82, NNZs: 84, Bias: -0.120073, T: 50585, Avg. loss: 1.519268\n",
      "\n",
      "\n",
      "Total training time: 0.45 seconds.\n",
      "Total training time: 0.69 seconds.\n",
      "Total training time: 0.64 seconds.\n",
      "-- Epoch 2\n",
      "-- Epoch 2\n",
      "-- Epoch 2\n",
      "Norm: 4.87, NNZs: 129, Bias: -0.048747, T: 101170, Avg. loss: 1.152969Norm: 4.81, NNZs: 130, Bias: -0.129574, T: 101172, Avg. loss: 1.138065Norm: 4.82, NNZs: 117, Bias: -0.088927, T: 101170, Avg. loss: 1.075116\n",
      "\n",
      "\n",
      "Total training time: 0.90 seconds.\n",
      "Total training time: 1.34 seconds.\n",
      "Total training time: 1.25 seconds.\n",
      "-- Epoch 3\n",
      "-- Epoch 3\n",
      "-- Epoch 3\n",
      "Norm: 3.98, NNZs: 161, Bias: -0.088614, T: 151755, Avg. loss: 0.975725Norm: 3.94, NNZs: 140, Bias: -0.126759, T: 151758, Avg. loss: 0.969024Norm: 3.95, NNZs: 137, Bias: -0.068086, T: 151755, Avg. loss: 0.926044\n",
      "\n",
      "\n",
      "Total training time: 1.36 seconds.\n",
      "Total training time: 2.04 seconds.\n",
      "Total training time: 1.85 seconds.\n",
      "-- Epoch 4\n",
      "-- Epoch 4\n",
      "-- Epoch 4\n",
      "Norm: 3.46, NNZs: 168, Bias: -0.101333, T: 202340, Avg. loss: 0.886580Norm: 3.42, NNZs: 158, Bias: -0.129425, T: 202344, Avg. loss: 0.884197Norm: 3.42, NNZs: 148, Bias: -0.104705, T: 202340, Avg. loss: 0.851090\n",
      "\n",
      "\n",
      "Total training time: 1.81 seconds.\n",
      "Total training time: 2.77 seconds.\n",
      "Total training time: 2.51 seconds.\n",
      "-- Epoch 5\n",
      "-- Epoch 5\n",
      "-- Epoch 5\n",
      "Norm: 3.10, NNZs: 183, Bias: -0.078871, T: 252925, Avg. loss: 0.833051Norm: 3.07, NNZs: 162, Bias: -0.120988, T: 252930, Avg. loss: 0.833159Norm: 3.07, NNZs: 158, Bias: -0.108254, T: 252925, Avg. loss: 0.806023\n",
      "\n",
      "\n",
      "Total training time: 2.28 seconds.\n",
      "Total training time: 3.56 seconds.\n",
      "Total training time: 3.20 seconds.\n",
      "-- Epoch 1-- Epoch 1-- Epoch 1\n",
      "\n",
      "\n",
      "Norm: 76.81, NNZs: 0, Bias: -0.047154, T: 50585, Avg. loss: 0.744363Norm: 56.15, NNZs: 2, Bias: -0.031566, T: 50586, Avg. loss: 0.696570Norm: 73.13, NNZs: 2, Bias: -0.027469, T: 50585, Avg. loss: 0.720176\n",
      "\n",
      "\n",
      "Total training time: 0.51 seconds.\n",
      "Total training time: 0.74 seconds.\n",
      "Total training time: 0.74 seconds.\n",
      "-- Epoch 2\n",
      "-- Epoch 2\n",
      "-- Epoch 2\n",
      "Norm: 76.81, NNZs: 0, Bias: -0.032819, T: 101170, Avg. loss: 0.718698Norm: 56.15, NNZs: 2, Bias: -0.033198, T: 101172, Avg. loss: 0.692686Norm: 73.13, NNZs: 2, Bias: -0.025335, T: 101170, Avg. loss: 0.701908\n",
      "\n",
      "\n",
      "Total training time: 1.01 seconds.\n",
      "Total training time: 1.42 seconds.\n",
      "Total training time: 1.42 seconds.\n",
      "-- Epoch 3\n",
      "-- Epoch 3\n",
      "-- Epoch 3\n",
      "Norm: 76.81, NNZs: 0, Bias: -0.034683, T: 151755, Avg. loss: 0.710139Norm: 56.16, NNZs: 2, Bias: -0.033497, T: 151758, Avg. loss: 0.691457Norm: 73.13, NNZs: 2, Bias: -0.029670, T: 151755, Avg. loss: 0.695875\n",
      "\n",
      "\n",
      "Total training time: 1.51 seconds.\n",
      "Total training time: 2.07 seconds.\n",
      "Total training time: 2.08 seconds.\n",
      "-- Epoch 4\n",
      "-- Epoch 4\n",
      "-- Epoch 4\n",
      "Norm: 76.81, NNZs: 0, Bias: -0.033240, T: 202340, Avg. loss: 0.705860Norm: 56.16, NNZs: 2, Bias: -0.033017, T: 202344, Avg. loss: 0.690706Norm: 73.13, NNZs: 2, Bias: -0.029706, T: 202340, Avg. loss: 0.692742\n",
      "\n",
      "\n",
      "Total training time: 2.01 seconds.\n",
      "Total training time: 2.78 seconds.\n",
      "Total training time: 2.78 seconds.\n",
      "-- Epoch 5\n",
      "-- Epoch 5\n",
      "-- Epoch 5\n",
      "Norm: 76.81, NNZs: 0, Bias: -0.033242, T: 252925, Avg. loss: 0.703292Norm: 56.16, NNZs: 2, Bias: -0.032807, T: 252930, Avg. loss: 0.690369Norm: 73.13, NNZs: 2, Bias: -0.030517, T: 252925, Avg. loss: 0.691031\n",
      "\n",
      "\n",
      "Total training time: 2.51 seconds.\n",
      "Total training time: 3.51 seconds.\n",
      "Total training time: 3.52 seconds.\n",
      "-- Epoch 1-- Epoch 1-- Epoch 1\n",
      "\n",
      "\n",
      "Norm: 0.33, NNZs: 924, Bias: -0.122469, T: 50585, Avg. loss: 0.730617Norm: 0.84, NNZs: 65, Bias: -0.057721, T: 50585, Avg. loss: 0.684386Norm: 0.32, NNZs: 924, Bias: -0.139790, T: 50586, Avg. loss: 0.748739\n",
      "\n",
      "\n",
      "Total training time: 0.17 seconds.\n",
      "Total training time: 0.58 seconds.\n",
      "Total training time: 0.26 seconds.\n",
      "-- Epoch 2\n",
      "-- Epoch 2\n",
      "-- Epoch 2\n",
      "Norm: 0.30, NNZs: 924, Bias: -0.107438, T: 101170, Avg. loss: 0.677874Norm: 0.68, NNZs: 72, Bias: -0.052262, T: 101170, Avg. loss: 0.656423Norm: 0.29, NNZs: 924, Bias: -0.118337, T: 101172, Avg. loss: 0.688515\n",
      "\n",
      "\n",
      "Total training time: 0.33 seconds.\n",
      "Total training time: 1.14 seconds.\n",
      "Total training time: 0.53 seconds.\n",
      "-- Epoch 3\n",
      "-- Epoch 3\n",
      "-- Epoch 3\n",
      "Norm: 0.30, NNZs: 924, Bias: -0.104818, T: 151755, Avg. loss: 0.659334Norm: 0.61, NNZs: 78, Bias: -0.050949, T: 151755, Avg. loss: 0.646930Norm: 0.29, NNZs: 924, Bias: -0.113809, T: 151758, Avg. loss: 0.667401\n",
      "\n",
      "\n",
      "Total training time: 0.49 seconds.\n",
      "Total training time: 1.95 seconds.\n",
      "Total training time: 0.79 seconds.\n",
      "-- Epoch 4\n",
      "-- Epoch 4\n",
      "-- Epoch 4\n",
      "Norm: 0.29, NNZs: 924, Bias: -0.103754, T: 202340, Avg. loss: 0.649714Norm: 0.58, NNZs: 77, Bias: -0.051146, T: 202340, Avg. loss: 0.642112Norm: 0.29, NNZs: 924, Bias: -0.112519, T: 202344, Avg. loss: 0.656470\n",
      "\n",
      "\n",
      "Total training time: 0.66 seconds.\n",
      "Total training time: 2.74 seconds.\n",
      "Total training time: 1.03 seconds.\n",
      "-- Epoch 5\n",
      "-- Epoch 5\n",
      "-- Epoch 5\n",
      "Norm: 0.30, NNZs: 924, Bias: -0.102540, T: 252925, Avg. loss: 0.643795Norm: 0.56, NNZs: 78, Bias: -0.051804, T: 252925, Avg. loss: 0.639215Norm: 0.29, NNZs: 924, Bias: -0.111123, T: 252930, Avg. loss: 0.649843\n",
      "\n",
      "\n",
      "Total training time: 0.82 seconds.\n",
      "Total training time: 3.52 seconds.\n",
      "Total training time: 1.27 seconds.\n",
      "-- Epoch 1-- Epoch 1-- Epoch 1\n",
      "\n",
      "\n",
      "Norm: 0.33, NNZs: 924, Bias: -0.116693, T: 50585, Avg. loss: 0.755416Norm: 18.51, NNZs: 0, Bias: -0.035537, T: 50585, Avg. loss: 0.693072Norm: 0.83, NNZs: 56, Bias: -0.065836, T: 50586, Avg. loss: 0.690078\n",
      "\n",
      "\n",
      "Total training time: 0.45 seconds.\n",
      "-- Epoch 3\n",
      "Norm: 0.26, NNZs: 924, Bias: -0.103124, T: 227634, Avg. loss: 0.656045\n",
      "Total training time: 0.16 seconds.\n",
      "Total training time: 0.72 seconds.\n",
      "Total training time: 0.71 seconds.\n",
      "-- Epoch 2\n",
      "-- Epoch 2\n",
      "-- Epoch 2\n",
      "Norm: 0.31, NNZs: 924, Bias: -0.090210, T: 101170, Avg. loss: 0.686300Norm: 18.51, NNZs: 0, Bias: -0.035491, T: 101170, Avg. loss: 0.693045Norm: 0.66, NNZs: 57, Bias: -0.075855, T: 101172, Avg. loss: 0.664381\n",
      "\n",
      "\n",
      "Total training time: 0.33 seconds.\n",
      "Total training time: 1.42 seconds.\n",
      "Total training time: 1.34 seconds.\n",
      "-- Epoch 3\n",
      "-- Epoch 3\n",
      "-- Epoch 3\n",
      "Norm: 0.31, NNZs: 924, Bias: -0.086291, T: 151755, Avg. loss: 0.662298Norm: 18.51, NNZs: 0, Bias: -0.035231, T: 151755, Avg. loss: 0.693035Norm: 0.60, NNZs: 60, Bias: -0.076700, T: 151758, Avg. loss: 0.655689\n",
      "\n",
      "\n",
      "Total training time: 0.50 seconds.\n",
      "Total training time: 2.04 seconds.\n",
      "Total training time: 2.05 seconds.\n",
      "-- Epoch 4\n",
      "-- Epoch 4\n",
      "-- Epoch 4\n",
      "Norm: 0.31, NNZs: 924, Bias: -0.083912, T: 202340, Avg. loss: 0.649969Norm: 18.51, NNZs: 0, Bias: -0.035045, T: 202340, Avg. loss: 0.693030Norm: 0.56, NNZs: 64, Bias: -0.076970, T: 202344, Avg. loss: 0.651294\n",
      "\n",
      "\n",
      "Total training time: 0.66 seconds.\n",
      "Total training time: 2.76 seconds.\n",
      "Total training time: 2.83 seconds.\n",
      "-- Epoch 5\n",
      "-- Epoch 5\n",
      "-- Epoch 5\n",
      "Norm: 0.31, NNZs: 924, Bias: -0.082120, T: 252925, Avg. loss: 0.642410Norm: 18.51, NNZs: 0, Bias: -0.034938, T: 252925, Avg. loss: 0.693027Norm: 0.54, NNZs: 65, Bias: -0.076719, T: 252930, Avg. loss: 0.648662\n",
      "\n",
      "\n",
      "Total training time: 0.83 seconds.\n",
      "Total training time: 3.50 seconds.\n",
      "Total training time: 3.58 seconds.\n",
      "-- Epoch 1-- Epoch 1-- Epoch 1\n",
      "\n",
      "\n",
      "Norm: 0.83, NNZs: 52, Bias: -0.064842, T: 50585, Avg. loss: 0.671313Norm: 0.10, NNZs: 924, Bias: -0.407015, T: 50586, Avg. loss: 0.652631Norm: 14.19, NNZs: 0, Bias: -0.145169, T: 50586, Avg. loss: 0.696046\n",
      "\n",
      "\n",
      "Total training time: 0.67 seconds.\n",
      "Total training time: 0.38 seconds.\n",
      "Total training time: 0.77 seconds.\n",
      "-- Epoch 2\n",
      "-- Epoch 2\n",
      "-- Epoch 2\n",
      "Norm: 0.67, NNZs: 59, Bias: -0.065096, T: 101170, Avg. loss: 0.653435Norm: 0.10, NNZs: 924, Bias: -0.367027, T: 101172, Avg. loss: 0.645821Norm: 14.19, NNZs: 0, Bias: -0.127743, T: 101172, Avg. loss: 0.695188\n",
      "\n",
      "\n",
      "Total training time: 1.36 seconds.\n",
      "Total training time: 0.69 seconds.\n",
      "Total training time: 1.42 seconds.\n",
      "-- Epoch 3\n",
      "-- Epoch 3\n",
      "-- Epoch 3\n",
      "Norm: 0.61, NNZs: 62, Bias: -0.065439, T: 151755, Avg. loss: 0.647344Norm: 0.10, NNZs: 924, Bias: -0.345883, T: 151758, Avg. loss: 0.642966Norm: 14.19, NNZs: 0, Bias: -0.118599, T: 151758, Avg. loss: 0.694802\n",
      "\n",
      "\n",
      "Total training time: 2.14 seconds.\n",
      "Total training time: 0.95 seconds.\n",
      "Total training time: 2.13 seconds.\n",
      "-- Epoch 4\n",
      "-- Epoch 4\n",
      "-- Epoch 4\n",
      "Norm: 0.57, NNZs: 63, Bias: -0.067662, T: 202340, Avg. loss: 0.644170Norm: 0.10, NNZs: 924, Bias: -0.331771, T: 202344, Avg. loss: 0.641284Norm: 14.19, NNZs: 0, Bias: -0.112626, T: 202344, Avg. loss: 0.694569\n",
      "\n",
      "\n",
      "Total training time: 2.76 seconds.\n",
      "Total training time: 1.21 seconds.\n",
      "Total training time: 2.87 seconds.\n",
      "-- Epoch 5\n",
      "-- Epoch 5\n",
      "-- Epoch 5\n",
      "Norm: 0.55, NNZs: 65, Bias: -0.067298, T: 252925, Avg. loss: 0.642325Norm: 0.10, NNZs: 924, Bias: -0.321446, T: 252930, Avg. loss: 0.640131Norm: 14.19, NNZs: 0, Bias: -0.108280, T: 252930, Avg. loss: 0.694409\n",
      "\n",
      "\n",
      "Total training time: 3.28 seconds.\n",
      "Total training time: 1.49 seconds.\n",
      "Total training time: 3.56 seconds.\n",
      "-- Epoch 1-- Epoch 1-- Epoch 1\n",
      "\n",
      "\n",
      "Norm: 15.49, NNZs: 0, Bias: 0.021639, T: 50585, Avg. loss: 0.693772Norm: 0.08, NNZs: 0, Bias: -0.202867, T: 50586, Avg. loss: 0.709233Norm: 0.08, NNZs: 0, Bias: 0.054369, T: 50585, Avg. loss: 0.699345\n",
      "\n",
      "\n",
      "Total training time: 0.49 seconds.\n",
      "Total training time: 0.60 seconds.\n",
      "Total training time: 0.75 seconds.\n",
      "-- Epoch 2\n",
      "-- Epoch 2\n",
      "-- Epoch 2\n",
      "Norm: 15.49, NNZs: 0, Bias: 0.012836, T: 101170, Avg. loss: 0.693546Norm: 0.06, NNZs: 0, Bias: -0.176160, T: 101172, Avg. loss: 0.702626Norm: 0.06, NNZs: 0, Bias: 0.040359, T: 101170, Avg. loss: 0.696571\n",
      "\n",
      "\n",
      "Total training time: 1.01 seconds.\n",
      "Total training time: 1.26 seconds.\n",
      "Total training time: 1.48 seconds.\n",
      "-- Epoch 3\n",
      "-- Epoch 3\n",
      "-- Epoch 3\n",
      "Norm: 15.49, NNZs: 0, Bias: 0.008395, T: 151755, Avg. loss: 0.693447Norm: 0.05, NNZs: 0, Bias: -0.162218, T: 151758, Avg. loss: 0.700191Norm: 0.05, NNZs: 0, Bias: 0.033266, T: 151755, Avg. loss: 0.695585\n",
      "\n",
      "\n",
      "Total training time: 1.50 seconds.\n",
      "Total training time: 1.90 seconds.\n",
      "Total training time: 2.18 seconds.\n",
      "-- Epoch 4\n",
      "-- Epoch 4\n",
      "-- Epoch 4\n",
      "Norm: 15.49, NNZs: 0, Bias: 0.005560, T: 202340, Avg. loss: 0.693387Norm: 0.04, NNZs: 0, Bias: -0.153259, T: 202344, Avg. loss: 0.698883Norm: 0.04, NNZs: 0, Bias: 0.028705, T: 202340, Avg. loss: 0.695069\n",
      "\n",
      "\n",
      "Total training time: 2.00 seconds.\n",
      "Total training time: 2.61 seconds.\n",
      "Total training time: 3.07 seconds.\n",
      "-- Epoch 5\n",
      "-- Epoch 5\n",
      "-- Epoch 5\n",
      "Norm: 15.49, NNZs: 0, Bias: 0.003473, T: 252925, Avg. loss: 0.693347Norm: 0.04, NNZs: 0, Bias: -0.146739, T: 252930, Avg. loss: 0.698053Norm: 0.04, NNZs: 0, Bias: 0.025362, T: 252925, Avg. loss: 0.694747\n",
      "\n",
      "\n",
      "Total training time: 2.54 seconds.\n",
      "Total training time: 3.14 seconds.\n",
      "Total training time: 3.82 seconds.\n",
      "-- Epoch 1-- Epoch 1-- Epoch 1\n",
      "\n",
      "\n",
      "Norm: 0.10, NNZs: 924, Bias: 0.114608, T: 50585, Avg. loss: 0.644250Norm: 6.08, NNZs: 0, Bias: 0.216426, T: 50586, Avg. loss: 0.701165Norm: 6.05, NNZs: 0, Bias: 0.285539, T: 50585, Avg. loss: 0.706279\n",
      "\n",
      "\n",
      "Total training time: 0.16 seconds.\n",
      "Total training time: 0.73 seconds.\n",
      "Total training time: 0.64 seconds.\n",
      "-- Epoch 2\n",
      "-- Epoch 2\n",
      "-- Epoch 2\n",
      "Norm: 0.10, NNZs: 924, Bias: 0.085857, T: 101170, Avg. loss: 0.638334Norm: 6.08, NNZs: 0, Bias: 0.212136, T: 101172, Avg. loss: 0.700887Norm: 6.05, NNZs: 0, Bias: 0.280096, T: 101170, Avg. loss: 0.705837\n",
      "\n",
      "\n",
      "Total training time: 0.33 seconds.\n",
      "Total training time: 1.47 seconds.\n",
      "Total training time: 1.19 seconds.\n",
      "-- Epoch 3\n",
      "-- Epoch 3\n",
      "-- Epoch 3\n",
      "Norm: 0.10, NNZs: 924, Bias: 0.070936, T: 151755, Avg. loss: 0.635966Norm: 6.08, NNZs: 0, Bias: 0.209675, T: 151758, Avg. loss: 0.700730Norm: 6.05, NNZs: 0, Bias: 0.276954, T: 151755, Avg. loss: 0.705583\n",
      "\n",
      "\n",
      "Total training time: 0.49 seconds.\n",
      "Total training time: 2.23 seconds.\n",
      "Total training time: 1.72 seconds.\n",
      "-- Epoch 4\n",
      "-- Epoch 4\n",
      "-- Epoch 4\n",
      "Norm: 0.10, NNZs: 924, Bias: 0.061183, T: 202340, Avg. loss: 0.634647Norm: 6.08, NNZs: 0, Bias: 0.207943, T: 202344, Avg. loss: 0.700620Norm: 6.05, NNZs: 0, Bias: 0.274752, T: 202340, Avg. loss: 0.705406\n",
      "\n",
      "\n",
      "Total training time: 0.67 seconds.\n",
      "Total training time: 2.95 seconds.\n",
      "Total training time: 2.25 seconds.\n",
      "-- Epoch 5\n",
      "-- Epoch 5\n",
      "-- Epoch 5\n",
      "Norm: 0.10, NNZs: 924, Bias: 0.054093, T: 252925, Avg. loss: 0.633784Norm: 6.08, NNZs: 0, Bias: 0.206604, T: 252930, Avg. loss: 0.700535Norm: 6.05, NNZs: 0, Bias: 0.273058, T: 252925, Avg. loss: 0.705270\n",
      "\n",
      "\n",
      "Total training time: 0.83 seconds.\n",
      "Total training time: 3.63 seconds.\n",
      "Total training time: 2.83 seconds.\n",
      "-- Epoch 1-- Epoch 1-- Epoch 1\n",
      "\n",
      "\n",
      "Norm: 0.10, NNZs: 924, Bias: -0.303447, T: 50585, Avg. loss: 0.638319Norm: 0.01, NNZs: 0, Bias: 0.162394, T: 50585, Avg. loss: 0.698007Norm: 0.04, NNZs: 924, Bias: 0.104083, T: 50585, Avg. loss: 0.643000\n",
      "\n",
      "\n",
      "Total training time: 0.16 seconds.\n",
      "Total training time: 0.57 seconds.\n",
      "Total training time: 0.25 seconds.\n",
      "\n",
      "Total training time: 0.64 seconds.\n",
      "-- Epoch 4\n",
      "Norm: 0.26, NNZs: 924, Bias: -0.102713, T: 303512, Avg. loss: 0.647435-- Epoch 2\n",
      "-- Epoch 2\n",
      "-- Epoch 2\n",
      "Norm: 0.10, NNZs: 924, Bias: -0.272340, T: 101170, Avg. loss: 0.632067Norm: 0.01, NNZs: 0, Bias: 0.159087, T: 101170, Avg. loss: 0.697841Norm: 0.04, NNZs: 924, Bias: 0.101384, T: 101170, Avg. loss: 0.642285\n",
      "\n",
      "\n",
      "Total training time: 0.33 seconds.\n",
      "Total training time: 1.22 seconds.\n",
      "Total training time: 0.48 seconds.\n",
      "-- Epoch 3\n",
      "-- Epoch 3\n",
      "-- Epoch 3\n",
      "Norm: 0.10, NNZs: 924, Bias: -0.256278, T: 151755, Avg. loss: 0.629574Norm: 0.00, NNZs: 0, Bias: 0.157139, T: 151755, Avg. loss: 0.697746Norm: 0.04, NNZs: 924, Bias: 0.099791, T: 151755, Avg. loss: 0.642030\n",
      "\n",
      "\n",
      "Total training time: 0.67 seconds.\n",
      "Total training time: 1.94 seconds.\n",
      "Total training time: 0.76 seconds.\n",
      "-- Epoch 4\n",
      "-- Epoch 4\n",
      "-- Epoch 4\n",
      "Norm: 0.10, NNZs: 924, Bias: -0.245524, T: 202340, Avg. loss: 0.628170Norm: 0.00, NNZs: 0, Bias: 0.155775, T: 202340, Avg. loss: 0.697679Norm: 0.04, NNZs: 924, Bias: 0.098672, T: 202340, Avg. loss: 0.641879\n",
      "\n",
      "\n",
      "Total training time: 0.98 seconds.\n",
      "Total training time: 2.61 seconds.\n",
      "Total training time: 1.02 seconds.\n",
      "-- Epoch 5\n",
      "-- Epoch 5\n",
      "-- Epoch 5\n",
      "Norm: 0.10, NNZs: 924, Bias: -0.237562, T: 252925, Avg. loss: 0.627239Norm: 0.00, NNZs: 0, Bias: 0.154731, T: 252925, Avg. loss: 0.697628Norm: 0.04, NNZs: 924, Bias: 0.097819, T: 252925, Avg. loss: 0.641791\n",
      "\n",
      "\n",
      "Total training time: 1.16 seconds.\n",
      "Total training time: 3.35 seconds.\n",
      "Total training time: 1.28 seconds.\n",
      "-- Epoch 1-- Epoch 1-- Epoch 1\n",
      "\n",
      "\n",
      "Norm: 0.08, NNZs: 0, Bias: -0.185657, T: 50585, Avg. loss: 0.700542Norm: 3.56, NNZs: 0, Bias: 0.145907, T: 50585, Avg. loss: 0.697016Norm: 0.04, NNZs: 924, Bias: -0.302873, T: 50586, Avg. loss: 0.645917\n",
      "\n",
      "\n",
      "Total training time: 0.57 seconds.\n",
      "Total training time: 0.82 seconds.\n",
      "Total training time: 0.29 seconds.\n",
      "-- Epoch 2\n",
      "-- Epoch 2\n",
      "-- Epoch 2\n",
      "Norm: 0.06, NNZs: 0, Bias: -0.161572, T: 101170, Avg. loss: 0.697993Norm: 3.56, NNZs: 0, Bias: 0.145600, T: 101170, Avg. loss: 0.697002Norm: 0.04, NNZs: 924, Bias: -0.299431, T: 101172, Avg. loss: 0.645043\n",
      "\n",
      "\n",
      "Total training time: 1.46 seconds.\n",
      "Total training time: 1.32 seconds.\n",
      "Total training time: 0.54 seconds.\n",
      "-- Epoch 3\n",
      "-- Epoch 3\n",
      "-- Epoch 3\n",
      "Norm: 0.05, NNZs: 0, Bias: -0.149218, T: 151755, Avg. loss: 0.696956Norm: 3.56, NNZs: 0, Bias: 0.145421, T: 151755, Avg. loss: 0.696994Norm: 0.04, NNZs: 924, Bias: -0.297429, T: 151758, Avg. loss: 0.644666\n",
      "\n",
      "\n",
      "Total training time: 2.24 seconds.\n",
      "Total training time: 1.97 seconds.\n",
      "Total training time: 0.76 seconds.\n",
      "-- Epoch 4\n",
      "-- Epoch 4\n",
      "-- Epoch 4\n",
      "Norm: 0.04, NNZs: 0, Bias: -0.141157, T: 202340, Avg. loss: 0.696364Norm: 3.56, NNZs: 0, Bias: 0.145293, T: 202340, Avg. loss: 0.696988Norm: 0.04, NNZs: 924, Bias: -0.296024, T: 202344, Avg. loss: 0.644507\n",
      "\n",
      "\n",
      "Total training time: 2.83 seconds.\n",
      "Total training time: 2.55 seconds.\n",
      "Total training time: 1.02 seconds.\n",
      "-- Epoch 5\n",
      "-- Epoch 5\n",
      "-- Epoch 5\n",
      "Norm: 0.04, NNZs: 0, Bias: -0.135271, T: 252925, Avg. loss: 0.695972Norm: 3.56, NNZs: 0, Bias: 0.145194, T: 252925, Avg. loss: 0.696984Norm: 0.04, NNZs: 924, Bias: -0.294942, T: 252930, Avg. loss: 0.644393\n",
      "\n",
      "\n",
      "Total training time: 3.62 seconds.\n",
      "Total training time: 3.22 seconds.\n",
      "Total training time: 1.27 seconds.\n",
      "-- Epoch 1-- Epoch 1-- Epoch 1\n",
      "\n",
      "\n",
      "Norm: 9.74, NNZs: 0, Bias: 0.162626, T: 50585, Avg. loss: 0.698027Norm: 0.02, NNZs: 924, Bias: -0.141358, T: 50585, Avg. loss: 0.662369Norm: 0.01, NNZs: 0, Bias: 0.189574, T: 50586, Avg. loss: 0.699507\n",
      "\n",
      "\n",
      "Total training time: 0.65 seconds.\n",
      "Total training time: 0.24 seconds.\n",
      "Total training time: 0.59 seconds.\n",
      "-- Epoch 2\n",
      "-- Epoch 2\n",
      "-- Epoch 2\n",
      "Norm: 9.74, NNZs: 0, Bias: 0.159271, T: 101170, Avg. loss: 0.697856Norm: 0.02, NNZs: 924, Bias: -0.141180, T: 101170, Avg. loss: 0.662009Norm: 0.01, NNZs: 0, Bias: 0.185816, T: 101172, Avg. loss: 0.699286\n",
      "\n",
      "\n",
      "Total training time: 1.34 seconds.\n",
      "Total training time: 0.49 seconds.\n",
      "Total training time: 1.17 seconds.\n",
      "-- Epoch 3\n",
      "-- Epoch 3\n",
      "-- Epoch 3\n",
      "Norm: 9.74, NNZs: 0, Bias: 0.157339, T: 151755, Avg. loss: 0.697759Norm: 0.02, NNZs: 924, Bias: -0.141079, T: 151755, Avg. loss: 0.661897Norm: 0.00, NNZs: 0, Bias: 0.183615, T: 151758, Avg. loss: 0.699161\n",
      "\n",
      "\n",
      "Total training time: 2.09 seconds.\n",
      "Total training time: 0.73 seconds.\n",
      "Total training time: 1.72 seconds.\n",
      "-- Epoch 4\n",
      "-- Epoch 4\n",
      "-- Epoch 4\n",
      "Norm: 9.74, NNZs: 0, Bias: 0.155973, T: 202340, Avg. loss: 0.697691Norm: 0.02, NNZs: 924, Bias: -0.141007, T: 202340, Avg. loss: 0.661848Norm: 0.00, NNZs: 0, Bias: 0.182070, T: 202344, Avg. loss: 0.699073\n",
      "\n",
      "\n",
      "Total training time: 2.84 seconds.\n",
      "Total training time: 0.99 seconds.\n",
      "Total training time: 2.50 seconds.\n",
      "-- Epoch 5\n",
      "-- Epoch 5\n",
      "-- Epoch 5\n",
      "Norm: 9.74, NNZs: 0, Bias: 0.154923, T: 252925, Avg. loss: 0.697639Norm: 0.02, NNZs: 924, Bias: -0.140952, T: 252925, Avg. loss: 0.661814Norm: 0.00, NNZs: 0, Bias: 0.180880, T: 252930, Avg. loss: 0.699006\n",
      "\n",
      "\n",
      "Total training time: 3.41 seconds.\n",
      "Total training time: 1.36 seconds.\n",
      "Total training time: 3.27 seconds.\n",
      "-- Epoch 1-- Epoch 1-- Epoch 1\n",
      "\n",
      "\n",
      "Norm: 0.04, NNZs: 924, Bias: 0.161290, T: 50585, Avg. loss: 0.636932Norm: 0.00, NNZs: 0, Bias: -0.153650, T: 50585, Avg. loss: 0.694854Norm: 5.35, NNZs: 0, Bias: 0.143145, T: 50586, Avg. loss: 0.696897\n",
      "\n",
      "\n",
      "Total training time: 0.22 seconds.\n",
      "Total training time: 0.78 seconds.\n",
      "Total training time: 0.72 seconds.\n",
      "-- Epoch 2\n",
      "-- Epoch 2\n",
      "-- Epoch 2\n",
      "Norm: 0.04, NNZs: 924, Bias: 0.158000, T: 101170, Avg. loss: 0.636423Norm: 0.00, NNZs: 0, Bias: -0.153435, T: 101170, Avg. loss: 0.694847Norm: 5.35, NNZs: 0, Bias: 0.142842, T: 101172, Avg. loss: 0.696882\n",
      "\n",
      "\n",
      "Total training time: 0.43 seconds.\n",
      "Total training time: 1.58 seconds.\n",
      "Total training time: 1.44 seconds.\n",
      "-- Epoch 3\n",
      "-- Epoch 3\n",
      "-- Epoch 3\n",
      "Norm: 0.04, NNZs: 924, Bias: 0.156109, T: 151755, Avg. loss: 0.636154Norm: 0.00, NNZs: 0, Bias: -0.153314, T: 151755, Avg. loss: 0.694842Norm: 5.35, NNZs: 0, Bias: 0.142663, T: 151758, Avg. loss: 0.696874\n",
      "\n",
      "\n",
      "Total training time: 0.61 seconds.\n",
      "Total training time: 2.61 seconds.\n",
      "Total training time: 2.18 seconds.\n",
      "-- Epoch 4\n",
      "-- Epoch 4\n",
      "-- Epoch 4\n",
      "Norm: 0.04, NNZs: 924, Bias: 0.154762, T: 202340, Avg. loss: 0.635985Norm: 0.00, NNZs: 0, Bias: -0.153228, T: 202340, Avg. loss: 0.694839Norm: 5.35, NNZs: 0, Bias: 0.142537, T: 202344, Avg. loss: 0.696868\n",
      "\n",
      "\n",
      "Total training time: 0.85 seconds.\n",
      "Total training time: 3.54 seconds.\n",
      "Total training time: 2.70 seconds.\n",
      "-- Epoch 5\n",
      "-- Epoch 5\n",
      "-- Epoch 5\n",
      "Norm: 0.04, NNZs: 924, Bias: 0.153733, T: 252925, Avg. loss: 0.635898Norm: 0.00, NNZs: 0, Bias: -0.153161, T: 252925, Avg. loss: 0.694837Norm: 5.35, NNZs: 0, Bias: 0.142439, T: 252930, Avg. loss: 0.696864\n",
      "\n",
      "\n",
      "Total training time: 1.11 seconds.\n",
      "Total training time: 4.41 seconds.\n",
      "Total training time: 3.23 seconds.\n",
      "-- Epoch 1-- Epoch 1\n",
      "\n",
      "Norm: 0.01, NNZs: 0, Bias: 0.136145, T: 50585, Avg. loss: 0.696764Norm: 0.02, NNZs: 924, Bias: -0.169611, T: 50586, Avg. loss: 0.662630\n",
      "\n",
      "Total training time: 0.70 seconds.\n",
      "Total training time: 0.26 seconds.\n",
      "-- Epoch 2\n",
      "-- Epoch 2\n",
      "Norm: 0.01, NNZs: 0, Bias: 0.133242, T: 101170, Avg. loss: 0.696634Norm: 0.02, NNZs: 924, Bias: -0.169391, T: 101172, Avg. loss: 0.662543\n",
      "\n",
      "Total training time: 1.32 seconds.\n",
      "Total training time: 0.58 seconds.\n",
      "-- Epoch 3\n",
      "\n",
      "Total training time: 0.85 seconds.\n",
      "-- Epoch 5\n",
      "Norm: 0.26, NNZs: 924, Bias: -0.101799, T: 379390, Avg. loss: 0.642173-- Epoch 3\n",
      "Norm: 0.00, NNZs: 0, Bias: 0.131582, T: 151755, Avg. loss: 0.696561Norm: 0.02, NNZs: 924, Bias: -0.169264, T: 151758, Avg. loss: 0.662528\n",
      "\n",
      "Total training time: 2.07 seconds.\n",
      "Total training time: 1.11 seconds.\n",
      "-- Epoch 4\n",
      "-- Epoch 4\n",
      "Norm: 0.00, NNZs: 0, Bias: 0.130409, T: 202340, Avg. loss: 0.696510Norm: 0.02, NNZs: 924, Bias: -0.169175, T: 202344, Avg. loss: 0.662496\n",
      "\n",
      "Total training time: 2.76 seconds.\n",
      "Total training time: 1.40 seconds.\n",
      "-- Epoch 5\n",
      "-- Epoch 5\n",
      "Norm: 0.00, NNZs: 0, Bias: 0.129501, T: 252925, Avg. loss: 0.696471Norm: 0.02, NNZs: 924, Bias: -0.169105, T: 252930, Avg. loss: 0.662480\n",
      "\n",
      "Total training time: 3.34 seconds.\n",
      "Total training time: 1.70 seconds.\n",
      "-- Epoch 1-- Epoch 1\n",
      "\n",
      "Norm: 3.10, NNZs: 0, Bias: -0.151128, T: 50585, Avg. loss: 0.694777Norm: 0.00, NNZs: 0, Bias: -0.158542, T: 50586, Avg. loss: 0.695003\n",
      "\n",
      "Total training time: 0.59 seconds.\n",
      "Total training time: 0.84 seconds.\n",
      "-- Epoch 2\n",
      "-- Epoch 2\n",
      "Norm: 3.10, NNZs: 0, Bias: -0.150920, T: 101170, Avg. loss: 0.694770Norm: 0.00, NNZs: 0, Bias: -0.158327, T: 101172, Avg. loss: 0.694995\n",
      "\n",
      "Total training time: 1.28 seconds.\n",
      "Total training time: 1.65 seconds.\n",
      "-- Epoch 3\n",
      "-- Epoch 3\n",
      "Norm: 3.10, NNZs: 0, Bias: -0.150799, T: 151755, Avg. loss: 0.694767Norm: 0.00, NNZs: 0, Bias: -0.158201, T: 151758, Avg. loss: 0.694991\n",
      "\n",
      "Total training time: 1.83 seconds.\n",
      "Total training time: 2.58 seconds.\n",
      "-- Epoch 4\n",
      "-- Epoch 4\n",
      "Norm: 3.10, NNZs: 0, Bias: -0.150714, T: 202340, Avg. loss: 0.694764Norm: 0.00, NNZs: 0, Bias: -0.158111, T: 202344, Avg. loss: 0.694988\n",
      "\n",
      "Total training time: 2.40 seconds.\n",
      "Total training time: 3.22 seconds.\n",
      "-- Epoch 5\n",
      "-- Epoch 5\n",
      "Norm: 3.10, NNZs: 0, Bias: -0.150648, T: 252925, Avg. loss: 0.694762Norm: 0.00, NNZs: 0, Bias: -0.158041, T: 252930, Avg. loss: 0.694986\n",
      "\n",
      "Total training time: 3.08 seconds.\n",
      "Total training time: 3.62 seconds.\n",
      "-- Epoch 1\n",
      "Norm: 0.02, NNZs: 924, Bias: -0.163450, T: 50585, Avg. loss: 0.656751\n",
      "Total training time: 0.30 seconds.\n",
      "-- Epoch 2\n",
      "Norm: 0.02, NNZs: 924, Bias: -0.163212, T: 101170, Avg. loss: 0.656646\n",
      "Total training time: 0.62 seconds.\n",
      "-- Epoch 3\n",
      "Norm: 0.02, NNZs: 924, Bias: -0.163078, T: 151755, Avg. loss: 0.656638\n",
      "Total training time: 0.89 seconds.\n",
      "-- Epoch 4\n",
      "Norm: 0.02, NNZs: 924, Bias: -0.162984, T: 202340, Avg. loss: 0.656622\n",
      "Total training time: 1.14 seconds.\n",
      "-- Epoch 5\n",
      "Norm: 0.02, NNZs: 924, Bias: -0.162911, T: 252925, Avg. loss: 0.656602\n",
      "Total training time: 1.48 seconds.\n",
      "-- Epoch 1\n",
      "Norm: 0.00, NNZs: 0, Bias: 0.156680, T: 50585, Avg. loss: 0.697515\n",
      "Total training time: 1.11 seconds.\n",
      "-- Epoch 2\n",
      "Norm: 0.00, NNZs: 0, Bias: 0.156350, T: 101170, Avg. loss: 0.697499\n",
      "Total training time: 1.97 seconds.\n",
      "-- Epoch 3\n",
      "Norm: 0.00, NNZs: 0, Bias: 0.156159, T: 151755, Avg. loss: 0.697489\n",
      "Total training time: 2.82 seconds.\n",
      "-- Epoch 4\n",
      "Norm: 0.00, NNZs: 0, Bias: 0.156023, T: 202340, Avg. loss: 0.697482\n",
      "Total training time: 3.72 seconds.\n",
      "-- Epoch 5\n",
      "Norm: 0.00, NNZs: 0, Bias: 0.155919, T: 252925, Avg. loss: 0.697477\n",
      "Total training time: 4.57 seconds.\n",
      "\n",
      "Total training time: 1.05 seconds.\n",
      "Loading testing data...\n"
     ]
    }
   ],
   "source": [
    "for trainf, testf in filesplitter:\n",
    "    \n",
    "    print 'Loading training data...'\n",
    "    X_train, Y_train = load_batch([_files[_] for _ in trainf],\n",
    "                                 n_pos=64,\n",
    "                                 n_neg=96)\n",
    "    \n",
    "    _model = sklearn.grid_search.GridSearchCV(sklearn.linear_model.SGDClassifier(loss='log', verbose=1),\n",
    "                                             {'alpha': np.logspace(-3, 3, num=6, endpoint=False),\n",
    "                                             'penalty': ['l1', 'l2', 'elasticnet']},\n",
    "                                             n_jobs=3, verbose=1)\n",
    "    \n",
    "    #_model = sklearn.grid_search.GridSearchCV(sklearn.ensemble.RandomForestClassifier(),\n",
    "    #                                         {'max_depth': np.arange(2, 11)},\n",
    "    #                                         n_jobs=3, verbose=1)\n",
    "    \n",
    "    feature = sklearn.preprocessing.StandardScaler()\n",
    "    model = sklearn.pipeline.Pipeline([('scaler', feature), ('predictor', _model)])\n",
    "    \n",
    "    model.fit(X_train, Y_train)\n",
    "    \n",
    "    print 'Loading testing data...'\n",
    "    X_test, Y_test = load_batch([_files[_] for _ in testf],\n",
    "                                n_pos=None,\n",
    "                                n_neg=None)"
   ]
  },
  {
   "cell_type": "code",
   "execution_count": 145,
   "metadata": {
    "collapsed": false
   },
   "outputs": [],
   "source": [
    "M = model.steps[1][1]"
   ]
  },
  {
   "cell_type": "code",
   "execution_count": 146,
   "metadata": {
    "collapsed": false
   },
   "outputs": [
    {
     "data": {
      "text/plain": [
       "{'alpha': 0.10000000000000001, 'penalty': 'l2'}"
      ]
     },
     "execution_count": 146,
     "metadata": {},
     "output_type": "execute_result"
    }
   ],
   "source": [
    "M.best_params_"
   ]
  },
  {
   "cell_type": "code",
   "execution_count": 147,
   "metadata": {
    "collapsed": false
   },
   "outputs": [
    {
     "data": {
      "text/plain": [
       "<matplotlib.colorbar.Colorbar instance at 0x7f2c5418e170>"
      ]
     },
     "execution_count": 147,
     "metadata": {},
     "output_type": "execute_result"
    },
    {
     "data": {
      "image/png": "[encoded data removed]",
      "text/plain": [
       "<matplotlib.figure.Figure at 0x7f2c54ac7f10>"
      ]
     },
     "metadata": {},
     "output_type": "display_data"
    }
   ],
   "source": [
    "w = model.steps[1][1].best_estimator_.coef_[0]\n",
    "w = w.reshape((-1, 84))\n",
    "plt.imshow(w.T, aspect='auto', interpolation='none', cmap='coolwarm', origin='lower')\n",
    "plt.ylabel('CQT bin')\n",
    "plt.xlabel('Context position')\n",
    "plt.title('$w$')\n",
    "plt.xticks(np.arange(5), np.arange(-2, 3))\n",
    "plt.colorbar()"
   ]
  },
  {
   "cell_type": "code",
   "execution_count": 148,
   "metadata": {
    "collapsed": false
   },
   "outputs": [
    {
     "name": "stdout",
     "output_type": "stream",
     "text": [
      "             precision    recall  f1-score   support\n",
      "\n",
      "          0       0.71      0.56      0.63     38558\n",
      "          1       0.63      0.77      0.69     37320\n",
      "\n",
      "avg / total       0.67      0.66      0.66     75878\n",
      "\n"
     ]
    }
   ],
   "source": [
    "print sklearn.metrics.classification_report(Y_train, model.predict(X_train))"
   ]
  },
  {
   "cell_type": "code",
   "execution_count": 149,
   "metadata": {
    "collapsed": false
   },
   "outputs": [
    {
     "data": {
      "text/plain": [
       "0.66178602493476368"
      ]
     },
     "execution_count": 149,
     "metadata": {},
     "output_type": "execute_result"
    }
   ],
   "source": [
    "sklearn.metrics.accuracy_score(Y_train, model.predict(X_train))"
   ]
  },
  {
   "cell_type": "code",
   "execution_count": 150,
   "metadata": {
    "collapsed": false
   },
   "outputs": [],
   "source": [
    "Y_pred = [model.predict(xt) for xt in X_test]"
   ]
  },
  {
   "cell_type": "code",
   "execution_count": 151,
   "metadata": {
    "collapsed": true
   },
   "outputs": [],
   "source": [
    "Y_pred_proba = np.concatenate([model.predict_proba(xt) for xt in X_test], axis=0)"
   ]
  },
  {
   "cell_type": "code",
   "execution_count": 152,
   "metadata": {
    "collapsed": false
   },
   "outputs": [],
   "source": [
    "Y_pred = np.concatenate(Y_pred, axis=0)"
   ]
  },
  {
   "cell_type": "code",
   "execution_count": 153,
   "metadata": {
    "collapsed": false
   },
   "outputs": [
    {
     "name": "stdout",
     "output_type": "stream",
     "text": [
      "             precision    recall  f1-score   support\n",
      "\n",
      "          0       0.63      0.47      0.54     41659\n",
      "          1       0.61      0.75      0.67     45361\n",
      "\n",
      "avg / total       0.62      0.62      0.61     87020\n",
      "\n"
     ]
    }
   ],
   "source": [
    "print sklearn.metrics.classification_report(Y_test, Y_pred)"
   ]
  },
  {
   "cell_type": "code",
   "execution_count": 154,
   "metadata": {
    "collapsed": false
   },
   "outputs": [
    {
     "data": {
      "text/plain": [
       "0.61531831762813149"
      ]
     },
     "execution_count": 154,
     "metadata": {},
     "output_type": "execute_result"
    }
   ],
   "source": [
    "sklearn.metrics.accuracy_score(Y_test, Y_pred)"
   ]
  },
  {
   "cell_type": "markdown",
   "metadata": {},
   "source": [
    "---"
   ]
  },
  {
   "cell_type": "code",
   "execution_count": 130,
   "metadata": {
    "collapsed": true
   },
   "outputs": [],
   "source": [
    "import cPickle as pickle"
   ]
  },
  {
   "cell_type": "code",
   "execution_count": 131,
   "metadata": {
    "collapsed": false
   },
   "outputs": [],
   "source": [
    "pickle.dump({'model': model, 'dataset': 'salami_beat'},\n",
    "            open('../data/similarity_model_salami_beat.pickle', 'w'))\n",
    "#pickle.dump({'model': model, 'dataset': 'isophonics_beat'},\n",
    "#            open('../data/similarity_model_isophonics_beat.pickle', 'w'))"
   ]
  },
  {
   "cell_type": "markdown",
   "metadata": {},
   "source": [
    "---"
   ]
  },
  {
   "cell_type": "code",
   "execution_count": 98,
   "metadata": {
    "collapsed": true
   },
   "outputs": [],
   "source": [
    "Xtrains2 = np.mean(X_train**2, axis=1, keepdims=True)"
   ]
  },
  {
   "cell_type": "code",
   "execution_count": 99,
   "metadata": {
    "collapsed": true
   },
   "outputs": [],
   "source": [
    "Xtests2 = np.mean(X_test**2, axis=1, keepdims=True)"
   ]
  },
  {
   "cell_type": "code",
   "execution_count": 100,
   "metadata": {
    "collapsed": true
   },
   "outputs": [],
   "source": [
    "seaborn.set_style('darkgrid')"
   ]
  },
  {
   "cell_type": "code",
   "execution_count": 101,
   "metadata": {
    "collapsed": true
   },
   "outputs": [],
   "source": [
    "import sklearn.neighbors"
   ]
  },
  {
   "cell_type": "code",
   "execution_count": 102,
   "metadata": {
    "collapsed": false
   },
   "outputs": [
    {
     "name": "stdout",
     "output_type": "stream",
     "text": [
      "Fitting 5 folds for each of 5 candidates, totalling 25 fits\n"
     ]
    },
    {
     "name": "stderr",
     "output_type": "stream",
     "text": [
      "[Parallel(n_jobs=3)]: Done   1 jobs       | elapsed:   11.5s\n",
      "[Parallel(n_jobs=3)]: Done  21 out of  25 | elapsed:  1.5min remaining:   17.3s\n",
      "[Parallel(n_jobs=3)]: Done  25 out of  25 | elapsed:  1.7min finished\n"
     ]
    },
    {
     "data": {
      "text/plain": [
       "GridSearchCV(cv=5, error_score='raise',\n",
       "       estimator=KernelDensity(algorithm='auto', atol=0, bandwidth=1.0, breadth_first=True,\n",
       "       kernel='gaussian', leaf_size=40, metric='euclidean',\n",
       "       metric_params=None, rtol=0),\n",
       "       fit_params={}, iid=True, loss_func=None, n_jobs=3,\n",
       "       param_grid={'bandwidth': array([ 0.1  ,  0.325,  0.55 ,  0.775,  1.   ])},\n",
       "       pre_dispatch='2*n_jobs', refit=True, score_func=None, scoring=None,\n",
       "       verbose=1)"
      ]
     },
     "execution_count": 102,
     "metadata": {},
     "output_type": "execute_result"
    }
   ],
   "source": [
    "KDE_pos = sklearn.grid_search.GridSearchCV(sklearn.neighbors.KernelDensity(),\n",
    "                                           {'bandwidth': np.linspace(0.1, 1.0, 5)},\n",
    "                                           verbose=1,\n",
    "                                           n_jobs=3,\n",
    "                                           cv=5)\n",
    "KDE_pos.fit(Xtrains2[Y_train > 0])"
   ]
  },
  {
   "cell_type": "code",
   "execution_count": 103,
   "metadata": {
    "collapsed": false
   },
   "outputs": [
    {
     "name": "stdout",
     "output_type": "stream",
     "text": [
      "Fitting 5 folds for each of 3 candidates, totalling 15 fits\n"
     ]
    },
    {
     "name": "stderr",
     "output_type": "stream",
     "text": [
      "[Parallel(n_jobs=3)]: Done   1 jobs       | elapsed:   14.5s\n",
      "[Parallel(n_jobs=3)]: Done  11 out of  15 | elapsed:  1.2min remaining:   25.4s\n",
      "[Parallel(n_jobs=3)]: Done  15 out of  15 | elapsed:  1.4min finished\n"
     ]
    },
    {
     "data": {
      "text/plain": [
       "GridSearchCV(cv=5, error_score='raise',\n",
       "       estimator=KernelDensity(algorithm='auto', atol=0, bandwidth=1.0, breadth_first=True,\n",
       "       kernel='gaussian', leaf_size=40, metric='euclidean',\n",
       "       metric_params=None, rtol=0),\n",
       "       fit_params={}, iid=True, loss_func=None, n_jobs=3,\n",
       "       param_grid={'bandwidth': array([ 0.1 ,  0.55,  1.  ])},\n",
       "       pre_dispatch='2*n_jobs', refit=True, score_func=None, scoring=None,\n",
       "       verbose=1)"
      ]
     },
     "execution_count": 103,
     "metadata": {},
     "output_type": "execute_result"
    }
   ],
   "source": [
    "KDE_neg = sklearn.grid_search.GridSearchCV(sklearn.neighbors.KernelDensity(),\n",
    "                                           {'bandwidth': np.linspace(0.1, 1.0, 3)},\n",
    "                                           verbose=1,\n",
    "                                           n_jobs=3,\n",
    "                                           cv=5)\n",
    "KDE_neg.fit(Xtrains2[Y_train < 1])"
   ]
  },
  {
   "cell_type": "code",
   "execution_count": 104,
   "metadata": {
    "collapsed": false
   },
   "outputs": [],
   "source": [
    "Y_pred_kde = (KDE_pos.best_estimator_.score_samples(Xtests2) >\n",
    "              KDE_neg.best_estimator_.score_samples(Xtests2))"
   ]
  },
  {
   "cell_type": "code",
   "execution_count": 105,
   "metadata": {
    "collapsed": false
   },
   "outputs": [
    {
     "name": "stdout",
     "output_type": "stream",
     "text": [
      "             precision    recall  f1-score   support\n",
      "\n",
      "          0       0.66      0.68      0.67    143276\n",
      "          1       0.58      0.56      0.57    114243\n",
      "\n",
      "avg / total       0.62      0.62      0.62    257519\n",
      "\n"
     ]
    }
   ],
   "source": [
    "print sklearn.metrics.classification_report(Y_test[:len(Y_pred_kde)], Y_pred_kde)"
   ]
  },
  {
   "cell_type": "code",
   "execution_count": 106,
   "metadata": {
    "collapsed": false
   },
   "outputs": [
    {
     "ename": "ValueError",
     "evalue": "need more than 1 value to unpack",
     "output_type": "error",
     "traceback": [
      "\u001b[1;31m---------------------------------------------------------------------------\u001b[0m",
      "\u001b[1;31mValueError\u001b[0m                                Traceback (most recent call last)",
      "\u001b[1;32m<ipython-input-106-d8507f42514d>\u001b[0m in \u001b[0;36m<module>\u001b[1;34m()\u001b[0m\n\u001b[1;32m----> 1\u001b[1;33m \u001b[0mseaborn\u001b[0m\u001b[1;33m.\u001b[0m\u001b[0mkdeplot\u001b[0m\u001b[1;33m(\u001b[0m\u001b[0mnp\u001b[0m\u001b[1;33m.\u001b[0m\u001b[0mlog\u001b[0m\u001b[1;33m(\u001b[0m\u001b[0mXtrains2\u001b[0m\u001b[1;33m[\u001b[0m\u001b[0mY_train\u001b[0m \u001b[1;33m>\u001b[0m \u001b[1;36m0\u001b[0m\u001b[1;33m]\u001b[0m\u001b[1;33m)\u001b[0m\u001b[1;33m,\u001b[0m \u001b[0mshade\u001b[0m\u001b[1;33m=\u001b[0m\u001b[0mTrue\u001b[0m\u001b[1;33m,\u001b[0m \u001b[0mlabel\u001b[0m\u001b[1;33m=\u001b[0m\u001b[1;34m'Positive'\u001b[0m\u001b[1;33m)\u001b[0m\u001b[1;33m\u001b[0m\u001b[0m\n\u001b[0m\u001b[0;32m      2\u001b[0m \u001b[0mseaborn\u001b[0m\u001b[1;33m.\u001b[0m\u001b[0mkdeplot\u001b[0m\u001b[1;33m(\u001b[0m\u001b[0mnp\u001b[0m\u001b[1;33m.\u001b[0m\u001b[0mlog\u001b[0m\u001b[1;33m(\u001b[0m\u001b[0mXtrains2\u001b[0m\u001b[1;33m[\u001b[0m\u001b[0mY_train\u001b[0m \u001b[1;33m<\u001b[0m \u001b[1;36m1\u001b[0m\u001b[1;33m]\u001b[0m\u001b[1;33m)\u001b[0m\u001b[1;33m,\u001b[0m \u001b[0mshade\u001b[0m\u001b[1;33m=\u001b[0m\u001b[0mTrue\u001b[0m\u001b[1;33m,\u001b[0m \u001b[0mlabel\u001b[0m\u001b[1;33m=\u001b[0m\u001b[1;34m'Negative'\u001b[0m\u001b[1;33m)\u001b[0m\u001b[1;33m\u001b[0m\u001b[0m\n\u001b[0;32m      3\u001b[0m \u001b[0mplt\u001b[0m\u001b[1;33m.\u001b[0m\u001b[0mlegend\u001b[0m\u001b[1;33m(\u001b[0m\u001b[0mloc\u001b[0m\u001b[1;33m=\u001b[0m\u001b[1;34m'best'\u001b[0m\u001b[1;33m)\u001b[0m\u001b[1;33m\u001b[0m\u001b[0m\n",
      "\u001b[1;32m/usr/local/lib/python2.7/dist-packages/seaborn/distributions.pyc\u001b[0m in \u001b[0;36mkdeplot\u001b[1;34m(data, data2, shade, vertical, kernel, bw, gridsize, cut, clip, legend, ax, cumulative, **kwargs)\u001b[0m\n\u001b[0;32m    845\u001b[0m     \u001b[1;32mif\u001b[0m \u001b[0misinstance\u001b[0m\u001b[1;33m(\u001b[0m\u001b[0mdata\u001b[0m\u001b[1;33m,\u001b[0m \u001b[0mnp\u001b[0m\u001b[1;33m.\u001b[0m\u001b[0mndarray\u001b[0m\u001b[1;33m)\u001b[0m \u001b[1;32mand\u001b[0m \u001b[0mnp\u001b[0m\u001b[1;33m.\u001b[0m\u001b[0mndim\u001b[0m\u001b[1;33m(\u001b[0m\u001b[0mdata\u001b[0m\u001b[1;33m)\u001b[0m \u001b[1;33m>\u001b[0m \u001b[1;36m1\u001b[0m\u001b[1;33m:\u001b[0m\u001b[1;33m\u001b[0m\u001b[0m\n\u001b[0;32m    846\u001b[0m         \u001b[0mbivariate\u001b[0m \u001b[1;33m=\u001b[0m \u001b[0mTrue\u001b[0m\u001b[1;33m\u001b[0m\u001b[0m\n\u001b[1;32m--> 847\u001b[1;33m         \u001b[0mx\u001b[0m\u001b[1;33m,\u001b[0m \u001b[0my\u001b[0m \u001b[1;33m=\u001b[0m \u001b[0mdata\u001b[0m\u001b[1;33m.\u001b[0m\u001b[0mT\u001b[0m\u001b[1;33m\u001b[0m\u001b[0m\n\u001b[0m\u001b[0;32m    848\u001b[0m     \u001b[1;32melif\u001b[0m \u001b[0misinstance\u001b[0m\u001b[1;33m(\u001b[0m\u001b[0mdata\u001b[0m\u001b[1;33m,\u001b[0m \u001b[0mpd\u001b[0m\u001b[1;33m.\u001b[0m\u001b[0mDataFrame\u001b[0m\u001b[1;33m)\u001b[0m \u001b[1;32mand\u001b[0m \u001b[0mnp\u001b[0m\u001b[1;33m.\u001b[0m\u001b[0mndim\u001b[0m\u001b[1;33m(\u001b[0m\u001b[0mdata\u001b[0m\u001b[1;33m)\u001b[0m \u001b[1;33m>\u001b[0m \u001b[1;36m1\u001b[0m\u001b[1;33m:\u001b[0m\u001b[1;33m\u001b[0m\u001b[0m\n\u001b[0;32m    849\u001b[0m         \u001b[0mbivariate\u001b[0m \u001b[1;33m=\u001b[0m \u001b[0mTrue\u001b[0m\u001b[1;33m\u001b[0m\u001b[0m\n",
      "\u001b[1;31mValueError\u001b[0m: need more than 1 value to unpack"
     ]
    },
    {
     "data": {
      "image/png": "[encoded data removed]",
      "text/plain": [
       "<matplotlib.figure.Figure at 0x7f4338b12fd0>"
      ]
     },
     "metadata": {},
     "output_type": "display_data"
    }
   ],
   "source": [
    "seaborn.kdeplot(np.log(Xtrains2[Y_train > 0]), shade=True, label='Positive')\n",
    "seaborn.kdeplot(np.log(Xtrains2[Y_train < 1]), shade=True, label='Negative')\n",
    "plt.legend(loc='best')"
   ]
  }
 ],
 "metadata": {
  "kernelspec": {
   "display_name": "Python 2",
   "language": "python",
   "name": "python2"
  },
  "language_info": {
   "codemirror_mode": {
    "name": "ipython",
    "version": 2
   },
   "file_extension": ".py",
   "mimetype": "text/x-python",
   "name": "python",
   "nbconvert_exporter": "python",
   "pygments_lexer": "ipython2",
   "version": "2.7.8"
  }
 },
 "nbformat": 4,
 "nbformat_minor": 0
}
