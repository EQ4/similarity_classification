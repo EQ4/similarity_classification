{
 "cells": [
  {
   "cell_type": "code",
   "execution_count": 1,
   "metadata": {
    "collapsed": true
   },
   "outputs": [],
   "source": [
    "import numpy as np\n",
    "import matplotlib.pyplot as plt\n",
    "import seaborn\n",
    "seaborn.set()\n",
    "seaborn.set_style('dark')\n",
    "np.set_printoptions(precision=3)\n",
    "\n",
    "%matplotlib inline"
   ]
  },
  {
   "cell_type": "code",
   "execution_count": 2,
   "metadata": {
    "collapsed": true
   },
   "outputs": [],
   "source": [
    "import sklearn\n",
    "import sklearn.metrics\n",
    "import sklearn.grid_search\n",
    "import sklearn.linear_model\n",
    "import sklearn.cross_validation\n",
    "import sklearn.preprocessing\n",
    "import sklearn.pipeline\n",
    "import pescador"
   ]
  },
  {
   "cell_type": "code",
   "execution_count": 3,
   "metadata": {
    "collapsed": true
   },
   "outputs": [],
   "source": [
    "import glob"
   ]
  },
  {
   "cell_type": "code",
   "execution_count": 4,
   "metadata": {
    "collapsed": true
   },
   "outputs": [],
   "source": [
    "def load_file(filename, n_pos=32, n_neg=32):\n",
    "    \n",
    "    data = np.load(filename)\n",
    "    \n",
    "    d = data['X'].shape[1]\n",
    "    \n",
    "    if n_pos is None:\n",
    "        return data['X'], data['Y']\n",
    "    \n",
    "    \n",
    "    positives = np.flatnonzero(data['Y'])\n",
    "    negatives = np.flatnonzero(1-data['Y'])\n",
    "    n_pos = min(n_pos, len(positives))\n",
    "    n_neg = min(n_neg, len(negatives))\n",
    "    \n",
    "    X = np.empty((n_pos + n_neg, d), dtype=np.float32)\n",
    "    Y = np.zeros((n_pos + n_neg), dtype=np.int32)\n",
    "    \n",
    "    if n_pos > 0:\n",
    "        idx_pos = np.random.choice(positives, size=n_pos, replace=True)\n",
    "    \n",
    "        X[:n_pos] = np.take(data['X'], idx_pos, axis=0)\n",
    "        Y[:n_pos] = 1\n",
    "    \n",
    "    if n_neg > 0:\n",
    "        idx_neg = np.random.choice(negatives, size=n_neg, replace=True)\n",
    "        X[n_pos:] = np.take(data['X'], idx_neg, axis=0)\n",
    "    \n",
    "    return X, Y"
   ]
  },
  {
   "cell_type": "code",
   "execution_count": 5,
   "metadata": {
    "collapsed": true
   },
   "outputs": [],
   "source": [
    "def load_batch(files, n_pos=32, n_neg=32):\n",
    "    \n",
    "    X = []\n",
    "    Y = []\n",
    "    \n",
    "    for fn in files:\n",
    "        _x, _y = load_file(fn, n_pos=n_pos, n_neg=n_neg)\n",
    "        if _x.shape[0] == 0:\n",
    "            continue\n",
    "        X.append(_x)\n",
    "        Y.append(_y)\n",
    "        \n",
    "    X = np.concatenate(X, axis=0)\n",
    "    Y = np.concatenate(Y, axis=0)\n",
    "    \n",
    "    return X, Y"
   ]
  },
  {
   "cell_type": "code",
   "execution_count": 24,
   "metadata": {
    "collapsed": true
   },
   "outputs": [],
   "source": [
    "NEG_TO_POS = 156 # salami\n",
    "#NEG_TO_POS = 157 # Isophonics\n",
    "N_POS = 50\n",
    "N_NEG = 100\n",
    "class_weights = {0: NEG_TO_POS/(1.0 + NEG_TO_POS),\n",
    "                 1: 1.0/(1.0 + NEG_TO_POS)}"
   ]
  },
  {
   "cell_type": "code",
   "execution_count": 25,
   "metadata": {
    "collapsed": false
   },
   "outputs": [],
   "source": [
    "files = sorted(glob.glob('../data/labeled_features/SALAMI_*_beats.npz'))\n",
    "#files = sorted(glob.glob('../data/labeled_features/Isophonics_*_beats.npz'))"
   ]
  },
  {
   "cell_type": "code",
   "execution_count": 26,
   "metadata": {
    "collapsed": true
   },
   "outputs": [],
   "source": [
    "filesplitter = sklearn.cross_validation.ShuffleSplit(len(files), n_iter=1, test_size=0.20, random_state=23)\n",
    "_files = np.asarray(files)"
   ]
  },
  {
   "cell_type": "code",
   "execution_count": 27,
   "metadata": {
    "collapsed": true
   },
   "outputs": [],
   "source": [
    "import sklearn.ensemble"
   ]
  },
  {
   "cell_type": "code",
   "execution_count": 28,
   "metadata": {
    "collapsed": false
   },
   "outputs": [
    {
     "name": "stdout",
     "output_type": "stream",
     "text": [
      "Loading training data...\n",
      "Fitting 3 folds for each of 12 candidates, totalling 36 fits\n"
     ]
    },
    {
     "name": "stderr",
     "output_type": "stream",
     "text": [
      "[Parallel(n_jobs=3)]: Done   1 jobs       | elapsed:   12.4s\n",
      "[Parallel(n_jobs=3)]: Done  32 out of  36 | elapsed:   50.0s remaining:    6.3s\n",
      "[Parallel(n_jobs=3)]: Done  36 out of  36 | elapsed:   55.3s finished\n"
     ]
    },
    {
     "name": "stdout",
     "output_type": "stream",
     "text": [
      "-- Epoch 1\n",
      "Norm: 15.56, NNZs: 924, Bias: -364.793331, T: 77884, Avg. loss: 72.673937-- Epoch 1\n",
      "-- Epoch 1\n",
      "-- Epoch 1\n",
      "Norm: 507.26, NNZs: 680, Bias: -576.654453, T: 51922, Avg. loss: 138.881220Norm: 497.41, NNZs: 665, Bias: -539.804153, T: 51923, Avg. loss: 134.319888Norm: 528.76, NNZs: 697, Bias: -597.420599, T: 51923, Avg. loss: 143.064421\n",
      "\n",
      "\n",
      "Total training time: 0.80 seconds.\n",
      "Total training time: 0.75 seconds.\n",
      "Total training time: 0.51 seconds.\n",
      "-- Epoch 2\n",
      "-- Epoch 2\n",
      "-- Epoch 2\n",
      "Norm: 505.71, NNZs: 651, Bias: -576.844609, T: 103844, Avg. loss: 135.807465Norm: 495.10, NNZs: 642, Bias: -540.624226, T: 103846, Avg. loss: 131.305812Norm: 525.99, NNZs: 661, Bias: -598.571718, T: 103846, Avg. loss: 139.500054\n",
      "\n",
      "\n",
      "Total training time: 1.54 seconds.\n",
      "Total training time: 1.50 seconds.\n",
      "Total training time: 1.00 seconds.\n",
      "-- Epoch 3\n",
      "-- Epoch 3\n",
      "-- Epoch 3\n",
      "Norm: 504.96, NNZs: 634, Bias: -576.865211, T: 155766, Avg. loss: 133.225702Norm: 494.14, NNZs: 621, Bias: -540.810816, T: 155769, Avg. loss: 128.803778Norm: 524.81, NNZs: 634, Bias: -598.902981, T: 155769, Avg. loss: 138.271215\n",
      "\n",
      "\n",
      "Total training time: 2.25 seconds.\n",
      "Total training time: 2.25 seconds.\n",
      "Total training time: 1.51 seconds.\n",
      "-- Epoch 4\n",
      "-- Epoch 4\n",
      "-- Epoch 4\n",
      "Norm: 504.52, NNZs: 621, Bias: -576.811033, T: 207688, Avg. loss: 131.545170Norm: 493.64, NNZs: 605, Bias: -540.786628, T: 207692, Avg. loss: 127.531190Norm: 524.11, NNZs: 619, Bias: -599.045111, T: 207692, Avg. loss: 137.013963\n",
      "\n",
      "\n",
      "Total training time: 3.04 seconds.\n",
      "Total training time: 3.06 seconds.\n",
      "Total training time: 2.02 seconds.\n",
      "-- Epoch 5\n",
      "-- Epoch 5\n",
      "-- Epoch 5\n",
      "Norm: 504.24, NNZs: 617, Bias: -576.712833, T: 259610, Avg. loss: 130.357055Norm: 493.31, NNZs: 597, Bias: -540.728909, T: 259615, Avg. loss: 126.433825Norm: 523.66, NNZs: 615, Bias: -599.078490, T: 259615, Avg. loss: 136.016060\n",
      "\n",
      "\n",
      "Total training time: 3.91 seconds.\n",
      "Total training time: 3.92 seconds.\n",
      "Total training time: 2.61 seconds.\n",
      "-- Epoch 1-- Epoch 1-- Epoch 1\n",
      "\n",
      "\n",
      "Norm: 16.31, NNZs: 924, Bias: -397.775349, T: 51923, Avg. loss: 81.340635Norm: 16.28, NNZs: 924, Bias: -398.363270, T: 51923, Avg. loss: 78.999754Norm: 17.06, NNZs: 924, Bias: -375.526820, T: 51922, Avg. loss: 72.881332\n",
      "\n",
      "\n",
      "Total training time: 0.40 seconds.\n",
      "Total training time: 0.29 seconds.\n",
      "Total training time: 0.26 seconds.\n",
      "-- Epoch 2\n",
      "-- Epoch 2\n",
      "-- Epoch 2\n",
      "Norm: 16.31, NNZs: 924, Bias: -396.438487, T: 103846, Avg. loss: 79.586553Norm: 16.30, NNZs: 924, Bias: -397.049505, T: 103846, Avg. loss: 77.351841Norm: 16.19, NNZs: 924, Bias: -374.232960, T: 103844, Avg. loss: 71.563034\n",
      "\n",
      "\n",
      "Total training time: 0.83 seconds.\n",
      "Total training time: 0.57 seconds.\n",
      "Total training time: 0.61 seconds.\n",
      "-- Epoch 3\n",
      "-- Epoch 3\n",
      "-- Epoch 3\n",
      "Norm: 16.21, NNZs: 924, Bias: -395.666538, T: 155769, Avg. loss: 78.922534Norm: 16.38, NNZs: 924, Bias: -396.283465, T: 155769, Avg. loss: 76.657662Norm: 16.17, NNZs: 924, Bias: -373.460069, T: 155766, Avg. loss: 71.090276\n",
      "\n",
      "\n",
      "Total training time: 1.20 seconds.\n",
      "Total training time: 0.84 seconds.\n",
      "Total training time: 1.07 seconds.\n",
      "-- Epoch 4\n",
      "-- Epoch 4\n",
      "-- Epoch 4\n",
      "Norm: 16.13, NNZs: 924, Bias: -395.119383, T: 207692, Avg. loss: 78.533555Norm: 16.34, NNZs: 924, Bias: -395.742800, T: 207692, Avg. loss: 76.204623Norm: 16.22, NNZs: 924, Bias: -372.910915, T: 207688, Avg. loss: 70.886180\n",
      "\n",
      "\n",
      "Total training time: 1.44 seconds.\n",
      "Total training time: 1.14 seconds.\n",
      "Total training time: 1.38 seconds.\n",
      "-- Epoch 5\n",
      "-- Epoch 5\n",
      "-- Epoch 5\n",
      "Norm: 16.26, NNZs: 924, Bias: -394.687770, T: 259615, Avg. loss: 78.305454Norm: 16.44, NNZs: 924, Bias: -395.318496, T: 259615, Avg. loss: 75.925303Norm: 16.20, NNZs: 924, Bias: -372.486890, T: 259610, Avg. loss: 70.695100\n",
      "\n",
      "\n",
      "Total training time: 1.69 seconds.\n",
      "Total training time: 1.50 seconds.\n",
      "Total training time: 1.72 seconds.\n",
      "-- Epoch 1-- Epoch 1-- Epoch 1\n",
      "\n",
      "\n",
      "Norm: 19.25, NNZs: 613, Bias: -380.734938, T: 51923, Avg. loss: 81.383020Norm: 18.86, NNZs: 629, Bias: -366.610170, T: 51923, Avg. loss: 78.241840Norm: 19.19, NNZs: 632, Bias: -388.623728, T: 51922, Avg. loss: 84.405552\n",
      "\n",
      "\n",
      "Total training time: 0.79 seconds.\n",
      "Total training time: 0.74 seconds.\n",
      "Total training time: 0.84 seconds.\n",
      "-- Epoch 2\n",
      "-- Epoch 2\n",
      "-- Epoch 2\n",
      "Norm: 17.93, NNZs: 687, Bias: -379.335806, T: 103846, Avg. loss: 81.327903Norm: 17.47, NNZs: 703, Bias: -365.208018, T: 103846, Avg. loss: 78.575078Norm: 17.71, NNZs: 696, Bias: -387.220875, T: 103844, Avg. loss: 84.677207\n",
      "\n",
      "\n",
      "Total training time: 1.51 seconds.\n",
      "Total training time: 1.65 seconds.\n",
      "Total training time: 1.60 seconds.\n",
      "-- Epoch 3\n",
      "-- Epoch 3\n",
      "-- Epoch 3\n",
      "Norm: 17.74, NNZs: 745, Bias: -378.513811, T: 155769, Avg. loss: 80.797614Norm: 17.21, NNZs: 763, Bias: -364.386253, T: 155769, Avg. loss: 78.379797Norm: 17.41, NNZs: 754, Bias: -386.399343, T: 155766, Avg. loss: 84.540260\n",
      "\n",
      "\n",
      "Total training time: 2.16 seconds.\n",
      "Total training time: 2.39 seconds.\n",
      "Total training time: 2.34 seconds.\n",
      "-- Epoch 4\n",
      "-- Epoch 4\n",
      "-- Epoch 4\n",
      "Norm: 17.77, NNZs: 791, Bias: -377.929870, T: 207692, Avg. loss: 80.126137Norm: 17.20, NNZs: 797, Bias: -363.802525, T: 207692, Avg. loss: 77.945287Norm: 17.37, NNZs: 785, Bias: -385.815809, T: 207688, Avg. loss: 84.160080\n",
      "\n",
      "\n",
      "Total training time: 2.98 seconds.\n",
      "Total training time: 3.05 seconds.\n",
      "Total training time: 2.99 seconds.\n",
      "-- Epoch 5\n",
      "-- Epoch 5\n",
      "-- Epoch 5\n",
      "Norm: 17.88, NNZs: 814, Bias: -377.477351, T: 259615, Avg. loss: 79.435406Norm: 17.26, NNZs: 828, Bias: -363.350242, T: 259615, Avg. loss: 77.448112Norm: 17.42, NNZs: 818, Bias: -385.363277, T: 259610, Avg. loss: 83.721881\n",
      "\n",
      "\n",
      "Total training time: 3.64 seconds.\n",
      "Total training time: 3.69 seconds.\n",
      "Total training time: 3.55 seconds.\n",
      "-- Epoch 1-- Epoch 1-- Epoch 1\n",
      "\n",
      "\n",
      "Norm: 183.61, NNZs: 103, Bias: -92.586404, T: 51923, Avg. loss: 22.641615Norm: 196.77, NNZs: 160, Bias: -104.517820, T: 51923, Avg. loss: 23.605843Norm: 185.78, NNZs: 140, Bias: -88.305830, T: 51922, Avg. loss: 21.668038\n",
      "\n",
      "\n",
      "Total training time: 0.81 seconds.\n",
      "Total training time: 0.65 seconds.\n",
      "Total training time: 0.97 seconds.\n",
      "-- Epoch 2\n",
      "-- Epoch 2\n",
      "-- Epoch 2\n",
      "Norm: 183.62, NNZs: 79, Bias: -92.445784, T: 103846, Avg. loss: 22.982516Norm: 196.79, NNZs: 122, Bias: -104.377445, T: 103846, Avg. loss: 23.861870Norm: 185.79, NNZs: 92, Bias: -88.165254, T: 103844, Avg. loss: 21.316756\n",
      "\n",
      "\n",
      "Total training time: 1.77 seconds.\n",
      "Total training time: 1.32 seconds.\n",
      "Total training time: 1.65 seconds.\n",
      "-- Epoch 3\n",
      "-- Epoch 3\n",
      "-- Epoch 3\n",
      "Norm: 183.63, NNZs: 66, Bias: -92.363418, T: 155769, Avg. loss: 23.260199Norm: 196.80, NNZs: 104, Bias: -104.295056, T: 155769, Avg. loss: 24.270679Norm: 185.80, NNZs: 74, Bias: -88.082933, T: 155766, Avg. loss: 21.294122\n",
      "\n",
      "\n",
      "Total training time: 2.64 seconds.\n",
      "Total training time: 2.08 seconds.\n",
      "Total training time: 2.43 seconds.\n",
      "-- Epoch 4\n",
      "-- Epoch 4\n",
      "-- Epoch 4\n",
      "Norm: 183.63, NNZs: 59, Bias: -92.304948, T: 207692, Avg. loss: 23.493594Norm: 196.81, NNZs: 91, Bias: -104.236609, T: 207692, Avg. loss: 24.645135Norm: 185.81, NNZs: 63, Bias: -88.024508, T: 207688, Avg. loss: 21.369264\n",
      "\n",
      "\n",
      "Total training time: 3.60 seconds.\n",
      "Total training time: 2.98 seconds.\n",
      "Total training time: 3.14 seconds.\n",
      "-- Epoch 5\n",
      "-- Epoch 5\n",
      "-- Epoch 5\n",
      "Norm: 183.64, NNZs: 50, Bias: -92.259632, T: 259615, Avg. loss: 23.685432Norm: 196.81, NNZs: 82, Bias: -104.191317, T: 259615, Avg. loss: 24.974521Norm: 185.81, NNZs: 55, Bias: -87.979200, T: 259610, Avg. loss: 21.468968\n",
      "\n",
      "\n",
      "Total training time: 4.68 seconds.\n",
      "Total training time: 3.84 seconds.\n",
      "Total training time: 3.90 seconds.\n",
      "-- Epoch 1-- Epoch 1-- Epoch 1\n",
      "\n",
      "\n",
      "Norm: 0.95, NNZs: 0, Bias: -73.657460, T: 51922, Avg. loss: 23.148590\n",
      "Total training time: 0.20 seconds.\n",
      "-- Epoch 2\n",
      "Norm: 14.89, NNZs: 924, Bias: -363.530454, T: 155768, Avg. loss: 71.180758Norm: 1.94, NNZs: 924, Bias: -61.394057, T: 51923, Avg. loss: 14.045253Norm: 1.96, NNZs: 924, Bias: -65.625551, T: 51922, Avg. loss: 15.274825\n",
      "\n",
      "\n",
      "Total training time: 0.84 seconds.\n",
      "Total training time: 0.34 seconds.\n",
      "Total training time: 0.28 seconds.\n",
      "-- Epoch 2\n",
      "-- Epoch 2\n",
      "-- Epoch 2\n",
      "Norm: 0.53, NNZs: 0, Bias: -73.516932, T: 103844, Avg. loss: 23.298036Norm: 1.92, NNZs: 924, Bias: -61.253106, T: 103846, Avg. loss: 13.910924Norm: 1.93, NNZs: 924, Bias: -65.485024, T: 103844, Avg. loss: 15.168443\n",
      "\n",
      "\n",
      "Total training time: 1.63 seconds.\n",
      "Total training time: 0.78 seconds.\n",
      "Total training time: 0.58 seconds.\n",
      "-- Epoch 3\n",
      "-- Epoch 3\n",
      "-- Epoch 3\n",
      "Norm: 0.37, NNZs: 0, Bias: -73.434606, T: 155766, Avg. loss: 23.336576Norm: 1.92, NNZs: 924, Bias: -61.170729, T: 155769, Avg. loss: 13.857437Norm: 1.93, NNZs: 924, Bias: -65.402697, T: 155766, Avg. loss: 15.123161\n",
      "\n",
      "\n",
      "Total training time: 2.43 seconds.\n",
      "Total training time: 1.11 seconds.\n",
      "Total training time: 0.95 seconds.\n",
      "-- Epoch 4\n",
      "-- Epoch 4\n",
      "-- Epoch 4\n",
      "Norm: 0.29, NNZs: 0, Bias: -73.376241, T: 207688, Avg. loss: 23.350354Norm: 1.92, NNZs: 924, Bias: -61.112298, T: 207692, Avg. loss: 13.825789Norm: 1.93, NNZs: 924, Bias: -65.344332, T: 207688, Avg. loss: 15.096535\n",
      "\n",
      "\n",
      "Total training time: 3.25 seconds.\n",
      "Total training time: 1.40 seconds.\n",
      "Total training time: 1.36 seconds.\n",
      "-- Epoch 5\n",
      "-- Epoch 5\n",
      "-- Epoch 5\n",
      "Norm: 0.24, NNZs: 0, Bias: -73.330966, T: 259610, Avg. loss: 23.355353Norm: 1.91, NNZs: 924, Bias: -61.067029, T: 259615, Avg. loss: 13.805260Norm: 1.93, NNZs: 924, Bias: -65.299057, T: 259610, Avg. loss: 15.078651\n",
      "\n",
      "\n",
      "Total training time: 4.22 seconds.\n",
      "Total training time: 1.69 seconds.\n",
      "Total training time: 1.73 seconds.\n",
      "-- Epoch 1-- Epoch 1-- Epoch 1\n",
      "\n",
      "\n",
      "Norm: 55.76, NNZs: 0, Bias: -8.825802, T: 51923, Avg. loss: 2.825210Norm: 0.87, NNZs: 0, Bias: -65.991997, T: 51923, Avg. loss: 20.839992Norm: 2.02, NNZs: 924, Bias: -58.767911, T: 51923, Avg. loss: 12.826293\n",
      "\n",
      "\n",
      "Total training time: 0.85 seconds.\n",
      "Total training time: 0.84 seconds.\n",
      "Total training time: 0.29 seconds.\n",
      "-- Epoch 2\n",
      "-- Epoch 2\n",
      "-- Epoch 2\n",
      "Norm: 55.76, NNZs: 0, Bias: -8.812424, T: 103846, Avg. loss: 2.817810Norm: 0.48, NNZs: 0, Bias: -65.851318, T: 103846, Avg. loss: 20.922791Norm: 2.00, NNZs: 924, Bias: -58.627208, T: 103846, Avg. loss: 12.636175\n",
      "\n",
      "\n",
      "Total training time: 1.63 seconds.\n",
      "Total training time: 1.65 seconds.\n",
      "Total training time: 0.57 seconds.\n",
      "-- Epoch 3\n",
      "-- Epoch 3\n",
      "-- Epoch 3\n",
      "Norm: 55.76, NNZs: 0, Bias: -8.804611, T: 155769, Avg. loss: 2.814272Norm: 0.34, NNZs: 0, Bias: -65.769083, T: 155769, Avg. loss: 20.939108Norm: 2.00, NNZs: 924, Bias: -58.544926, T: 155769, Avg. loss: 12.553680\n",
      "\n",
      "\n",
      "Total training time: 2.20 seconds.\n",
      "Total training time: 2.45 seconds.\n",
      "Total training time: 0.88 seconds.\n",
      "-- Epoch 4\n",
      "-- Epoch 4\n",
      "-- Epoch 4\n",
      "Norm: 55.76, NNZs: 0, Bias: -8.799066, T: 207692, Avg. loss: 2.811981Norm: 0.27, NNZs: 0, Bias: -65.710703, T: 207692, Avg. loss: 20.941774Norm: 2.00, NNZs: 924, Bias: -58.486536, T: 207692, Avg. loss: 12.509824\n",
      "\n",
      "\n",
      "Total training time: 2.81 seconds.\n",
      "Total training time: 3.33 seconds.\n",
      "Total training time: 1.14 seconds.\n",
      "-- Epoch 5\n",
      "-- Epoch 5\n",
      "-- Epoch 5\n",
      "Norm: 55.76, NNZs: 0, Bias: -8.794767, T: 259615, Avg. loss: 2.810296Norm: 0.22, NNZs: 0, Bias: -65.665431, T: 259615, Avg. loss: 20.940105Norm: 2.00, NNZs: 924, Bias: -58.441255, T: 259615, Avg. loss: 12.479759\n",
      "\n",
      "\n",
      "Total training time: 3.40 seconds.\n",
      "Total training time: 4.13 seconds.\n",
      "Total training time: 1.41 seconds.\n",
      "-- Epoch 1-- Epoch 1-- Epoch 1\n",
      "\n",
      "\n",
      "Norm: 0.17, NNZs: 924, Bias: -9.101869, T: 51922, Avg. loss: 2.417581Norm: 24.44, NNZs: 0, Bias: -3.973936, T: 51923, Avg. loss: 1.248825Norm: 0.92, NNZs: 1, Bias: -68.234096, T: 51923, Avg. loss: 21.423579\n",
      "\n",
      "\n",
      "Total training time: 0.24 seconds.\n",
      "Total training time: 0.52 seconds.\n",
      "Total training time: 0.54 seconds.\n",
      "-- Epoch 2\n",
      "-- Epoch 2\n",
      "-- Epoch 2\n",
      "Norm: 0.17, NNZs: 924, Bias: -9.089322, T: 103844, Avg. loss: 2.402977Norm: 24.44, NNZs: 0, Bias: -4.043813, T: 103846, Avg. loss: 1.272895Norm: 0.51, NNZs: 0, Bias: -68.093618, T: 103846, Avg. loss: 21.571811\n",
      "\n",
      "\n",
      "Total training time: 0.53 seconds.\n",
      "Total training time: 1.28 seconds.\n",
      "Total training time: 1.06 seconds.\n",
      "-- Epoch 3\n",
      "-- Epoch 3\n",
      "-- Epoch 3\n",
      "Norm: 0.17, NNZs: 924, Bias: -9.081999, T: 155766, Avg. loss: 2.397814Norm: 24.44, NNZs: 0, Bias: -4.082142, T: 155769, Avg. loss: 1.286037Norm: 0.36, NNZs: 0, Bias: -68.011387, T: 155769, Avg. loss: 21.609981\n",
      "\n",
      "\n",
      "Total training time: 0.71 seconds.\n",
      "Total training time: 2.06 seconds.\n",
      "Total training time: 1.59 seconds.\n",
      "-- Epoch 4\n",
      "-- Epoch 4\n",
      "-- Epoch 4\n",
      "Norm: 0.17, NNZs: 924, Bias: -9.076801, T: 207688, Avg. loss: 2.394719Norm: 24.44, NNZs: 0, Bias: -4.108294, T: 207692, Avg. loss: 1.294978Norm: 0.28, NNZs: 0, Bias: -67.952998, T: 207692, Avg. loss: 21.623574\n",
      "\n",
      "\n",
      "Total training time: 0.90 seconds.\n",
      "Total training time: 2.83 seconds.\n",
      "Total training time: 2.18 seconds.\n",
      "-- Epoch 5\n",
      "-- Epoch 5\n",
      "-- Epoch 5\n",
      "Norm: 0.17, NNZs: 924, Bias: -9.072771, T: 259610, Avg. loss: 2.392853Norm: 24.44, NNZs: 0, Bias: -4.128032, T: 259615, Avg. loss: 1.301717Norm: 0.24, NNZs: 0, Bias: -67.907725, T: 259615, Avg. loss: 21.628462\n",
      "\n",
      "\n",
      "Total training time: 1.14 seconds.\n",
      "Total training time: 3.53 seconds.\n",
      "Total training time: 2.99 seconds.\n",
      "-- Epoch 1-- Epoch 1-- Epoch 1\n",
      "\n",
      "\n",
      "Norm: 0.06, NNZs: 0, Bias: -9.249939, T: 51922, Avg. loss: 2.960468Norm: 0.20, NNZs: 924, Bias: -11.396260, T: 51923, Avg. loss: 3.050031Norm: 45.82, NNZs: 0, Bias: -6.726480, T: 51922, Avg. loss: 2.149643\n",
      "\n",
      "\n",
      "Total training time: 0.71 seconds.\n",
      "Total training time: 0.30 seconds.\n",
      "Total training time: 0.78 seconds.\n",
      "-- Epoch 2\n",
      "-- Epoch 2\n",
      "-- Epoch 2\n",
      "Norm: 0.04, NNZs: 0, Bias: -9.236345, T: 103844, Avg. loss: 2.952917Norm: 0.20, NNZs: 924, Bias: -11.382454, T: 103846, Avg. loss: 3.031646Norm: 45.82, NNZs: 0, Bias: -6.718092, T: 103844, Avg. loss: 2.146445\n",
      "\n",
      "\n",
      "Total training time: 1.28 seconds.\n",
      "Total training time: 0.57 seconds.\n",
      "Total training time: 1.55 seconds.\n",
      "-- Epoch 3\n",
      "-- Epoch 3\n",
      "-- Epoch 3\n",
      "Norm: 0.03, NNZs: 0, Bias: -9.228387, T: 155766, Avg. loss: 2.949309Norm: 0.20, NNZs: 924, Bias: -11.374357, T: 155769, Avg. loss: 3.024937Norm: 45.82, NNZs: 0, Bias: -6.713197, T: 155766, Avg. loss: 2.144709\n",
      "\n",
      "\n",
      "Total training time: 2.10 seconds.\n",
      "Total training time: 0.85 seconds.\n",
      "Total training time: 2.32 seconds.\n",
      "-- Epoch 4\n",
      "-- Epoch 4\n",
      "-- Epoch 4\n",
      "Norm: 0.02, NNZs: 0, Bias: -9.222741, T: 207688, Avg. loss: 2.946974Norm: 0.20, NNZs: 924, Bias: -11.368610, T: 207692, Avg. loss: 3.020837Norm: 45.82, NNZs: 0, Bias: -6.709734, T: 207688, Avg. loss: 2.143516\n",
      "\n",
      "\n",
      "Total training time: 2.94 seconds.\n",
      "Total training time: 1.13 seconds.\n",
      "Total training time: 3.09 seconds.\n",
      "-- Epoch 5\n",
      "-- Epoch 5\n",
      "-- Epoch 5\n",
      "Norm: 0.02, NNZs: 0, Bias: -9.218365, T: 259610, Avg. loss: 2.945257Norm: 0.20, NNZs: 924, Bias: -11.364157, T: 259615, Avg. loss: 3.018199Norm: 45.82, NNZs: 0, Bias: -6.707055, T: 259610, Avg. loss: 2.142607\n",
      "\n",
      "\n",
      "Total training time: 3.75 seconds.\n",
      "Total training time: 1.41 seconds.\n",
      "Total training time: 3.72 seconds.\n",
      "-- Epoch 1-- Epoch 1-- Epoch 1\n",
      "\n",
      "\n",
      "Norm: 7.76, NNZs: 0, Bias: -1.843749, T: 51922, Avg. loss: 0.717520Norm: 0.07, NNZs: 0, Bias: -7.003191, T: 51923, Avg. loss: 2.249432Norm: 0.19, NNZs: 924, Bias: -12.325333, T: 51923, Avg. loss: 3.410930\n",
      "\n",
      "\n",
      "Total training time: 0.42 seconds.\n",
      "-- Epoch 3\n",
      "Norm: 15.07, NNZs: 924, Bias: -362.769816, T: 233652, Avg. loss: 70.656088\n",
      "Total training time: 0.70 seconds.\n",
      "Total training time: 0.63 seconds.\n",
      "Total training time: 0.26 seconds.\n",
      "-- Epoch 2\n",
      "-- Epoch 2\n",
      "-- Epoch 2\n",
      "Norm: 7.76, NNZs: 0, Bias: -1.904939, T: 103844, Avg. loss: 0.729145Norm: 0.04, NNZs: 0, Bias: -6.993370, T: 103846, Avg. loss: 2.240196Norm: 0.19, NNZs: 924, Bias: -12.311333, T: 103846, Avg. loss: 3.382751\n",
      "\n",
      "\n",
      "Total training time: 1.44 seconds.\n",
      "Total training time: 1.37 seconds.\n",
      "Total training time: 0.51 seconds.\n",
      "-- Epoch 3\n",
      "-- Epoch 3\n",
      "-- Epoch 3\n",
      "Norm: 7.76, NNZs: 0, Bias: -1.939244, T: 155766, Avg. loss: 0.735856Norm: 0.03, NNZs: 0, Bias: -6.987668, T: 155769, Avg. loss: 2.236338Norm: 0.19, NNZs: 924, Bias: -12.303150, T: 155769, Avg. loss: 3.372278\n",
      "\n",
      "\n",
      "Total training time: 2.16 seconds.\n",
      "Total training time: 1.89 seconds.\n",
      "Total training time: 0.69 seconds.\n",
      "-- Epoch 4\n",
      "-- Epoch 4\n",
      "-- Epoch 4\n",
      "Norm: 7.76, NNZs: 0, Bias: -1.962947, T: 207688, Avg. loss: 0.740568Norm: 0.02, NNZs: 0, Bias: -6.983632, T: 207692, Avg. loss: 2.234029Norm: 0.19, NNZs: 924, Bias: -12.297339, T: 207692, Avg. loss: 3.366389\n",
      "\n",
      "\n",
      "Total training time: 2.92 seconds.\n",
      "Total training time: 2.51 seconds.\n",
      "Total training time: 0.88 seconds.\n",
      "-- Epoch 5\n",
      "-- Epoch 5\n",
      "-- Epoch 5\n",
      "Norm: 7.76, NNZs: 0, Bias: -1.981006, T: 259610, Avg. loss: 0.744213Norm: 0.02, NNZs: 0, Bias: -6.980508, T: 259615, Avg. loss: 2.232419Norm: 0.19, NNZs: 924, Bias: -12.292834, T: 259615, Avg. loss: 3.362529\n",
      "\n",
      "\n",
      "Total training time: 3.59 seconds.\n",
      "Total training time: 3.31 seconds.\n",
      "Total training time: 1.09 seconds.\n",
      "-- Epoch 1-- Epoch 1-- Epoch 1\n",
      "\n",
      "\n",
      "Norm: 0.03, NNZs: 924, Bias: -2.046785, T: 51923, Avg. loss: 0.705661Norm: 27.00, NNZs: 0, Bias: -2.003019, T: 51923, Avg. loss: 0.749853Norm: 0.08, NNZs: 0, Bias: -7.647752, T: 51923, Avg. loss: 2.466577\n",
      "\n",
      "\n",
      "Total training time: 0.27 seconds.\n",
      "Total training time: 0.76 seconds.\n",
      "Total training time: 0.73 seconds.\n",
      "-- Epoch 2\n",
      "-- Epoch 2\n",
      "-- Epoch 2\n",
      "Norm: 0.03, NNZs: 924, Bias: -2.095538, T: 103846, Avg. loss: 0.713468Norm: 27.00, NNZs: 0, Bias: -2.056296, T: 103846, Avg. loss: 0.760413Norm: 0.04, NNZs: 0, Bias: -7.635959, T: 103846, Avg. loss: 2.451088\n",
      "\n",
      "\n",
      "Total training time: 0.49 seconds.\n",
      "Total training time: 1.52 seconds.\n",
      "Total training time: 1.57 seconds.\n",
      "-- Epoch 3\n",
      "-- Epoch 3\n",
      "-- Epoch 3\n",
      "Norm: 0.03, NNZs: 924, Bias: -2.123050, T: 155769, Avg. loss: 0.718471Norm: 27.00, NNZs: 0, Bias: -2.086281, T: 155769, Avg. loss: 0.766608Norm: 0.03, NNZs: 0, Bias: -7.629052, T: 155769, Avg. loss: 2.444979\n",
      "\n",
      "\n",
      "Total training time: 0.72 seconds.\n",
      "Total training time: 2.29 seconds.\n",
      "Total training time: 2.10 seconds.\n",
      "-- Epoch 4\n",
      "-- Epoch 4\n",
      "-- Epoch 4\n",
      "Norm: 0.03, NNZs: 924, Bias: -2.142164, T: 207692, Avg. loss: 0.722318Norm: 27.00, NNZs: 0, Bias: -2.107064, T: 207692, Avg. loss: 0.770994Norm: 0.02, NNZs: 0, Bias: -7.624161, T: 207692, Avg. loss: 2.441465\n",
      "\n",
      "\n",
      "Total training time: 0.92 seconds.\n",
      "Total training time: 3.07 seconds.\n",
      "Total training time: 2.73 seconds.\n",
      "-- Epoch 5\n",
      "-- Epoch 5\n",
      "-- Epoch 5\n",
      "Norm: 0.03, NNZs: 924, Bias: -2.156768, T: 259615, Avg. loss: 0.725267Norm: 27.00, NNZs: 0, Bias: -2.122921, T: 259615, Avg. loss: 0.774390Norm: 0.02, NNZs: 0, Bias: -7.620375, T: 259615, Avg. loss: 2.439084\n",
      "\n",
      "\n",
      "Total training time: 1.15 seconds.\n",
      "Total training time: 3.69 seconds.\n",
      "Total training time: 3.51 seconds.\n",
      "-- Epoch 1-- Epoch 1-- Epoch 1\n",
      "\n",
      "\n",
      "Norm: 0.02, NNZs: 0, Bias: -2.130533, T: 51923, Avg. loss: 0.776945Norm: 0.02, NNZs: 924, Bias: -2.530947, T: 51923, Avg. loss: 0.826249Norm: 27.19, NNZs: 0, Bias: -1.999705, T: 51923, Avg. loss: 0.748171\n",
      "\n",
      "\n",
      "Total training time: 0.89 seconds.\n",
      "Total training time: 0.33 seconds.\n",
      "Total training time: 0.62 seconds.\n",
      "-- Epoch 2\n",
      "-- Epoch 2\n",
      "-- Epoch 2\n",
      "Norm: 0.01, NNZs: 0, Bias: -2.178006, T: 103846, Avg. loss: 0.786902Norm: 0.02, NNZs: 924, Bias: -2.562547, T: 103846, Avg. loss: 0.831636Norm: 27.19, NNZs: 0, Bias: -2.053069, T: 103846, Avg. loss: 0.759198\n",
      "\n",
      "\n",
      "Total training time: 1.48 seconds.\n",
      "Total training time: 0.65 seconds.\n",
      "Total training time: 1.18 seconds.\n",
      "-- Epoch 3\n",
      "-- Epoch 3\n",
      "-- Epoch 3\n",
      "Norm: 0.01, NNZs: 0, Bias: -2.204863, T: 155769, Avg. loss: 0.792782Norm: 0.02, NNZs: 924, Bias: -2.580591, T: 155769, Avg. loss: 0.835028Norm: 27.19, NNZs: 0, Bias: -2.083151, T: 155769, Avg. loss: 0.765586\n",
      "\n",
      "\n",
      "Total training time: 2.14 seconds.\n",
      "Total training time: 0.93 seconds.\n",
      "Total training time: 1.78 seconds.\n",
      "-- Epoch 4\n",
      "-- Epoch 4\n",
      "-- Epoch 4\n",
      "Norm: 0.01, NNZs: 0, Bias: -2.223520, T: 207692, Avg. loss: 0.796941Norm: 0.02, NNZs: 924, Bias: -2.593199, T: 207692, Avg. loss: 0.837823Norm: 27.19, NNZs: 0, Bias: -2.104003, T: 207692, Avg. loss: 0.770073\n",
      "\n",
      "\n",
      "Total training time: 2.71 seconds.\n",
      "Total training time: 1.15 seconds.\n",
      "Total training time: 2.32 seconds.\n",
      "-- Epoch 5\n",
      "-- Epoch 5\n",
      "-- Epoch 5\n",
      "Norm: 0.01, NNZs: 0, Bias: -2.237768, T: 259615, Avg. loss: 0.800153Norm: 0.02, NNZs: 924, Bias: -2.602872, T: 259615, Avg. loss: 0.839957Norm: 27.19, NNZs: 0, Bias: -2.119905, T: 259615, Avg. loss: 0.773525\n",
      "\n",
      "\n",
      "Total training time: 3.24 seconds.\n",
      "Total training time: 1.33 seconds.\n",
      "Total training time: 2.88 seconds.\n",
      "-- Epoch 1-- Epoch 1\n",
      "\n",
      "Norm: 0.02, NNZs: 924, Bias: -2.233864, T: 51922, Avg. loss: 0.753396Norm: 0.02, NNZs: 0, Bias: -2.047519, T: 51923, Avg. loss: 0.760213\n",
      "\n",
      "Total training time: 0.28 seconds.\n",
      "Total training time: 0.82 seconds.\n",
      "-- Epoch 2\n",
      "-- Epoch 2\n",
      "Norm: 0.02, NNZs: 924, Bias: -2.275690, T: 103844, Avg. loss: 0.761568Norm: 0.01, NNZs: 0, Bias: -2.098714, T: 103846, Avg. loss: 0.770024\n",
      "\n",
      "Total training time: 0.57 seconds.\n",
      "Total training time: 1.69 seconds.\n",
      "-- Epoch 3\n",
      "-- Epoch 3\n",
      "Norm: 0.02, NNZs: 924, Bias: -2.299417, T: 155766, Avg. loss: 0.766524Norm: 0.01, NNZs: 0, Bias: -2.127571, T: 155769, Avg. loss: 0.775927\n",
      "\n",
      "Total training time: 0.85 seconds.\n",
      "Total training time: 2.52 seconds.\n",
      "-- Epoch 4\n",
      "-- Epoch 4\n",
      "Norm: 0.02, NNZs: 924, Bias: -2.315924, T: 207688, Avg. loss: 0.770195Norm: 0.01, NNZs: 0, Bias: -2.147594, T: 207692, Avg. loss: 0.780147\n",
      "\n",
      "Total training time: 1.12 seconds.\n",
      "Total training time: 2.97 seconds.\n",
      "-- Epoch 5\n",
      "-- Epoch 5\n",
      "Norm: 0.02, NNZs: 924, Bias: -2.328554, T: 259610, Avg. loss: 0.773063Norm: 0.01, NNZs: 0, Bias: -2.162871, T: 259615, Avg. loss: 0.783423\n",
      "\n",
      "Total training time: 1.42 seconds.\n",
      "Total training time: 3.38 seconds.\n",
      "-- Epoch 1\n",
      "Norm: 0.01, NNZs: 0, Bias: -2.457460, T: 51922, Avg. loss: 0.854996\n",
      "Total training time: 0.81 seconds.\n",
      "-- Epoch 2\n",
      "Norm: 0.01, NNZs: 0, Bias: -2.492615, T: 103844, Avg. loss: 0.862535\n",
      "Total training time: 1.43 seconds.\n",
      "-- Epoch 3\n",
      "Norm: 0.01, NNZs: 0, Bias: -2.512614, T: 155766, Avg. loss: 0.867140\n",
      "Total training time: 2.19 seconds.\n",
      "-- Epoch 4\n",
      "Norm: 0.01, NNZs: 0, Bias: -2.526580, T: 207688, Avg. loss: 0.870459\n",
      "Total training time: 2.92 seconds.\n",
      "-- Epoch 5\n",
      "Norm: 0.01, NNZs: 0, Bias: -2.537286, T: 259610, Avg. loss: 0.873048\n",
      "Total training time: 3.73 seconds.\n",
      "\n",
      "Total training time: 0.63 seconds.\n",
      "-- Epoch 4\n",
      "Norm: 15.05, NNZs: 924, Bias: -362.237067, T: 311536, Avg. loss: 70.340152\n",
      "Total training time: 0.85 seconds.\n",
      "-- Epoch 5\n",
      "Norm: 15.08, NNZs: 924, Bias: -361.822406, T: 389420, Avg. loss: 70.151756\n",
      "Total training time: 1.06 seconds.\n",
      "Loading testing data...\n"
     ]
    }
   ],
   "source": [
    "for trainf, testf in filesplitter:\n",
    "    \n",
    "    print 'Loading training data...'\n",
    "    X_train, Y_train = load_batch([_files[_] for _ in trainf],\n",
    "                                 n_pos=N_POS,\n",
    "                                 n_neg=N_NEG)\n",
    "    \n",
    "    _model = sklearn.grid_search.GridSearchCV(sklearn.linear_model.SGDClassifier(loss='log',\n",
    "                                                                                 verbose=1,\n",
    "                                                                                 class_weight=class_weights),\n",
    "                                             {'alpha': np.logspace(-3, 1, num=4, endpoint=False),\n",
    "                                             'penalty': ['l1', 'l2', 'elasticnet']},\n",
    "                                             n_jobs=3, verbose=1)\n",
    "    \n",
    "    #_model = sklearn.grid_search.GridSearchCV(sklearn.ensemble.RandomForestClassifier(),\n",
    "    #                                         {'max_depth': np.arange(2, 11)},\n",
    "    #                                         n_jobs=3, verbose=1)\n",
    "    \n",
    "    feature = sklearn.preprocessing.StandardScaler()\n",
    "    model = sklearn.pipeline.Pipeline([('scaler', feature), ('predictor', _model)])\n",
    "    \n",
    "    model.fit(X_train, Y_train)\n",
    "    \n",
    "    print 'Loading testing data...'\n",
    "    X_test, Y_test = load_batch([_files[_] for _ in testf],\n",
    "                                n_pos=None,\n",
    "                                n_neg=None)"
   ]
  },
  {
   "cell_type": "code",
   "execution_count": 29,
   "metadata": {
    "collapsed": false
   },
   "outputs": [],
   "source": [
    "M = model.steps[1][1]"
   ]
  },
  {
   "cell_type": "code",
   "execution_count": 30,
   "metadata": {
    "collapsed": false
   },
   "outputs": [
    {
     "data": {
      "text/plain": [
       "{'alpha': 0.001, 'penalty': 'l2'}"
      ]
     },
     "execution_count": 30,
     "metadata": {},
     "output_type": "execute_result"
    }
   ],
   "source": [
    "M.best_params_"
   ]
  },
  {
   "cell_type": "code",
   "execution_count": 31,
   "metadata": {
    "collapsed": false
   },
   "outputs": [
    {
     "data": {
      "text/plain": [
       "<matplotlib.colorbar.Colorbar instance at 0x7fc673562950>"
      ]
     },
     "execution_count": 31,
     "metadata": {},
     "output_type": "execute_result"
    },
    {
     "data": {
      "image/png": "[encoded data removed]",
      "text/plain": [
       "<matplotlib.figure.Figure at 0x7fc67356a550>"
      ]
     },
     "metadata": {},
     "output_type": "display_data"
    }
   ],
   "source": [
    "w = model.steps[1][1].best_estimator_.coef_[0]\n",
    "w = w.reshape((-1, 84))\n",
    "plt.imshow(w.T, aspect='auto', interpolation='none', cmap='coolwarm', origin='lower')\n",
    "plt.ylabel('CQT bin')\n",
    "plt.xlabel('Context position')\n",
    "plt.title('$w$')\n",
    "plt.xticks(np.arange(5), np.arange(-2, 3))\n",
    "plt.colorbar()"
   ]
  },
  {
   "cell_type": "code",
   "execution_count": 32,
   "metadata": {
    "collapsed": false
   },
   "outputs": [
    {
     "name": "stdout",
     "output_type": "stream",
     "text": [
      "             precision    recall  f1-score   support\n",
      "\n",
      "          0       0.68      1.00      0.81     53064\n",
      "          1       0.91      0.00      0.01     24820\n",
      "\n",
      "avg / total       0.76      0.68      0.56     77884\n",
      "\n"
     ]
    }
   ],
   "source": [
    "print sklearn.metrics.classification_report(Y_train, model.predict(X_train))"
   ]
  },
  {
   "cell_type": "code",
   "execution_count": 33,
   "metadata": {
    "collapsed": false
   },
   "outputs": [
    {
     "data": {
      "text/plain": [
       "0.68255354116378208"
      ]
     },
     "execution_count": 33,
     "metadata": {},
     "output_type": "execute_result"
    }
   ],
   "source": [
    "sklearn.metrics.accuracy_score(Y_train, model.predict(X_train))"
   ]
  },
  {
   "cell_type": "code",
   "execution_count": 34,
   "metadata": {
    "collapsed": false
   },
   "outputs": [],
   "source": [
    "Y_pred = [model.predict(xt) for xt in X_test]"
   ]
  },
  {
   "cell_type": "code",
   "execution_count": 35,
   "metadata": {
    "collapsed": false
   },
   "outputs": [],
   "source": [
    "Y_pred_proba = np.concatenate([model.predict_proba(xt) for xt in X_test], axis=0)"
   ]
  },
  {
   "cell_type": "code",
   "execution_count": 36,
   "metadata": {
    "collapsed": false
   },
   "outputs": [],
   "source": [
    "Y_pred = np.concatenate(Y_pred, axis=0)"
   ]
  },
  {
   "cell_type": "code",
   "execution_count": 37,
   "metadata": {
    "collapsed": false
   },
   "outputs": [
    {
     "name": "stdout",
     "output_type": "stream",
     "text": [
      "             precision    recall  f1-score   support\n",
      "\n",
      "          0       0.65      1.00      0.78    215617\n",
      "          1       0.92      0.00      0.01    118655\n",
      "\n",
      "avg / total       0.74      0.65      0.51    334272\n",
      "\n"
     ]
    }
   ],
   "source": [
    "print sklearn.metrics.classification_report(Y_test, Y_pred)"
   ]
  },
  {
   "cell_type": "code",
   "execution_count": 38,
   "metadata": {
    "collapsed": false
   },
   "outputs": [
    {
     "data": {
      "text/plain": [
       "0.64586324909056103"
      ]
     },
     "execution_count": 38,
     "metadata": {},
     "output_type": "execute_result"
    }
   ],
   "source": [
    "sklearn.metrics.accuracy_score(Y_test, Y_pred)"
   ]
  },
  {
   "cell_type": "markdown",
   "metadata": {},
   "source": [
    "---"
   ]
  },
  {
   "cell_type": "code",
   "execution_count": 39,
   "metadata": {
    "collapsed": true
   },
   "outputs": [],
   "source": [
    "import cPickle as pickle"
   ]
  },
  {
   "cell_type": "code",
   "execution_count": 40,
   "metadata": {
    "collapsed": false
   },
   "outputs": [],
   "source": [
    "pickle.dump({'model': model, 'dataset': 'salami_beat'},\n",
    "            open('../data/similarity_model_salami_beat_bias_est.pickle', 'w'))\n",
    "#pickle.dump({'model': model, 'dataset': 'isophonics_beat'},\n",
    "            #open('../data/similarity_model_isophonics_beat_bias_est.pickle', 'w'))"
   ]
  },
  {
   "cell_type": "markdown",
   "metadata": {},
   "source": [
    "---"
   ]
  },
  {
   "cell_type": "code",
   "execution_count": 98,
   "metadata": {
    "collapsed": true
   },
   "outputs": [],
   "source": [
    "Xtrains2 = np.mean(X_train**2, axis=1, keepdims=True)"
   ]
  },
  {
   "cell_type": "code",
   "execution_count": 99,
   "metadata": {
    "collapsed": true
   },
   "outputs": [],
   "source": [
    "Xtests2 = np.mean(X_test**2, axis=1, keepdims=True)"
   ]
  },
  {
   "cell_type": "code",
   "execution_count": 100,
   "metadata": {
    "collapsed": true
   },
   "outputs": [],
   "source": [
    "seaborn.set_style('darkgrid')"
   ]
  },
  {
   "cell_type": "code",
   "execution_count": 101,
   "metadata": {
    "collapsed": true
   },
   "outputs": [],
   "source": [
    "import sklearn.neighbors"
   ]
  },
  {
   "cell_type": "code",
   "execution_count": 102,
   "metadata": {
    "collapsed": false
   },
   "outputs": [
    {
     "name": "stdout",
     "output_type": "stream",
     "text": [
      "Fitting 5 folds for each of 5 candidates, totalling 25 fits\n"
     ]
    },
    {
     "name": "stderr",
     "output_type": "stream",
     "text": [
      "[Parallel(n_jobs=3)]: Done   1 jobs       | elapsed:   11.5s\n",
      "[Parallel(n_jobs=3)]: Done  21 out of  25 | elapsed:  1.5min remaining:   17.3s\n",
      "[Parallel(n_jobs=3)]: Done  25 out of  25 | elapsed:  1.7min finished\n"
     ]
    },
    {
     "data": {
      "text/plain": [
       "GridSearchCV(cv=5, error_score='raise',\n",
       "       estimator=KernelDensity(algorithm='auto', atol=0, bandwidth=1.0, breadth_first=True,\n",
       "       kernel='gaussian', leaf_size=40, metric='euclidean',\n",
       "       metric_params=None, rtol=0),\n",
       "       fit_params={}, iid=True, loss_func=None, n_jobs=3,\n",
       "       param_grid={'bandwidth': array([ 0.1  ,  0.325,  0.55 ,  0.775,  1.   ])},\n",
       "       pre_dispatch='2*n_jobs', refit=True, score_func=None, scoring=None,\n",
       "       verbose=1)"
      ]
     },
     "execution_count": 102,
     "metadata": {},
     "output_type": "execute_result"
    }
   ],
   "source": [
    "KDE_pos = sklearn.grid_search.GridSearchCV(sklearn.neighbors.KernelDensity(),\n",
    "                                           {'bandwidth': np.linspace(0.1, 1.0, 5)},\n",
    "                                           verbose=1,\n",
    "                                           n_jobs=3,\n",
    "                                           cv=5)\n",
    "KDE_pos.fit(Xtrains2[Y_train > 0])"
   ]
  },
  {
   "cell_type": "code",
   "execution_count": 103,
   "metadata": {
    "collapsed": false
   },
   "outputs": [
    {
     "name": "stdout",
     "output_type": "stream",
     "text": [
      "Fitting 5 folds for each of 3 candidates, totalling 15 fits\n"
     ]
    },
    {
     "name": "stderr",
     "output_type": "stream",
     "text": [
      "[Parallel(n_jobs=3)]: Done   1 jobs       | elapsed:   14.5s\n",
      "[Parallel(n_jobs=3)]: Done  11 out of  15 | elapsed:  1.2min remaining:   25.4s\n",
      "[Parallel(n_jobs=3)]: Done  15 out of  15 | elapsed:  1.4min finished\n"
     ]
    },
    {
     "data": {
      "text/plain": [
       "GridSearchCV(cv=5, error_score='raise',\n",
       "       estimator=KernelDensity(algorithm='auto', atol=0, bandwidth=1.0, breadth_first=True,\n",
       "       kernel='gaussian', leaf_size=40, metric='euclidean',\n",
       "       metric_params=None, rtol=0),\n",
       "       fit_params={}, iid=True, loss_func=None, n_jobs=3,\n",
       "       param_grid={'bandwidth': array([ 0.1 ,  0.55,  1.  ])},\n",
       "       pre_dispatch='2*n_jobs', refit=True, score_func=None, scoring=None,\n",
       "       verbose=1)"
      ]
     },
     "execution_count": 103,
     "metadata": {},
     "output_type": "execute_result"
    }
   ],
   "source": [
    "KDE_neg = sklearn.grid_search.GridSearchCV(sklearn.neighbors.KernelDensity(),\n",
    "                                           {'bandwidth': np.linspace(0.1, 1.0, 3)},\n",
    "                                           verbose=1,\n",
    "                                           n_jobs=3,\n",
    "                                           cv=5)\n",
    "KDE_neg.fit(Xtrains2[Y_train < 1])"
   ]
  },
  {
   "cell_type": "code",
   "execution_count": 104,
   "metadata": {
    "collapsed": false
   },
   "outputs": [],
   "source": [
    "Y_pred_kde = (KDE_pos.best_estimator_.score_samples(Xtests2) >\n",
    "              KDE_neg.best_estimator_.score_samples(Xtests2))"
   ]
  },
  {
   "cell_type": "code",
   "execution_count": 105,
   "metadata": {
    "collapsed": false
   },
   "outputs": [
    {
     "name": "stdout",
     "output_type": "stream",
     "text": [
      "             precision    recall  f1-score   support\n",
      "\n",
      "          0       0.66      0.68      0.67    143276\n",
      "          1       0.58      0.56      0.57    114243\n",
      "\n",
      "avg / total       0.62      0.62      0.62    257519\n",
      "\n"
     ]
    }
   ],
   "source": [
    "print sklearn.metrics.classification_report(Y_test[:len(Y_pred_kde)], Y_pred_kde)"
   ]
  },
  {
   "cell_type": "code",
   "execution_count": 106,
   "metadata": {
    "collapsed": false
   },
   "outputs": [
    {
     "ename": "ValueError",
     "evalue": "need more than 1 value to unpack",
     "output_type": "error",
     "traceback": [
      "\u001b[1;31m---------------------------------------------------------------------------\u001b[0m",
      "\u001b[1;31mValueError\u001b[0m                                Traceback (most recent call last)",
      "\u001b[1;32m<ipython-input-106-d8507f42514d>\u001b[0m in \u001b[0;36m<module>\u001b[1;34m()\u001b[0m\n\u001b[1;32m----> 1\u001b[1;33m \u001b[0mseaborn\u001b[0m\u001b[1;33m.\u001b[0m\u001b[0mkdeplot\u001b[0m\u001b[1;33m(\u001b[0m\u001b[0mnp\u001b[0m\u001b[1;33m.\u001b[0m\u001b[0mlog\u001b[0m\u001b[1;33m(\u001b[0m\u001b[0mXtrains2\u001b[0m\u001b[1;33m[\u001b[0m\u001b[0mY_train\u001b[0m \u001b[1;33m>\u001b[0m \u001b[1;36m0\u001b[0m\u001b[1;33m]\u001b[0m\u001b[1;33m)\u001b[0m\u001b[1;33m,\u001b[0m \u001b[0mshade\u001b[0m\u001b[1;33m=\u001b[0m\u001b[0mTrue\u001b[0m\u001b[1;33m,\u001b[0m \u001b[0mlabel\u001b[0m\u001b[1;33m=\u001b[0m\u001b[1;34m'Positive'\u001b[0m\u001b[1;33m)\u001b[0m\u001b[1;33m\u001b[0m\u001b[0m\n\u001b[0m\u001b[0;32m      2\u001b[0m \u001b[0mseaborn\u001b[0m\u001b[1;33m.\u001b[0m\u001b[0mkdeplot\u001b[0m\u001b[1;33m(\u001b[0m\u001b[0mnp\u001b[0m\u001b[1;33m.\u001b[0m\u001b[0mlog\u001b[0m\u001b[1;33m(\u001b[0m\u001b[0mXtrains2\u001b[0m\u001b[1;33m[\u001b[0m\u001b[0mY_train\u001b[0m \u001b[1;33m<\u001b[0m \u001b[1;36m1\u001b[0m\u001b[1;33m]\u001b[0m\u001b[1;33m)\u001b[0m\u001b[1;33m,\u001b[0m \u001b[0mshade\u001b[0m\u001b[1;33m=\u001b[0m\u001b[0mTrue\u001b[0m\u001b[1;33m,\u001b[0m \u001b[0mlabel\u001b[0m\u001b[1;33m=\u001b[0m\u001b[1;34m'Negative'\u001b[0m\u001b[1;33m)\u001b[0m\u001b[1;33m\u001b[0m\u001b[0m\n\u001b[0;32m      3\u001b[0m \u001b[0mplt\u001b[0m\u001b[1;33m.\u001b[0m\u001b[0mlegend\u001b[0m\u001b[1;33m(\u001b[0m\u001b[0mloc\u001b[0m\u001b[1;33m=\u001b[0m\u001b[1;34m'best'\u001b[0m\u001b[1;33m)\u001b[0m\u001b[1;33m\u001b[0m\u001b[0m\n",
      "\u001b[1;32m/usr/local/lib/python2.7/dist-packages/seaborn/distributions.pyc\u001b[0m in \u001b[0;36mkdeplot\u001b[1;34m(data, data2, shade, vertical, kernel, bw, gridsize, cut, clip, legend, ax, cumulative, **kwargs)\u001b[0m\n\u001b[0;32m    845\u001b[0m     \u001b[1;32mif\u001b[0m \u001b[0misinstance\u001b[0m\u001b[1;33m(\u001b[0m\u001b[0mdata\u001b[0m\u001b[1;33m,\u001b[0m \u001b[0mnp\u001b[0m\u001b[1;33m.\u001b[0m\u001b[0mndarray\u001b[0m\u001b[1;33m)\u001b[0m \u001b[1;32mand\u001b[0m \u001b[0mnp\u001b[0m\u001b[1;33m.\u001b[0m\u001b[0mndim\u001b[0m\u001b[1;33m(\u001b[0m\u001b[0mdata\u001b[0m\u001b[1;33m)\u001b[0m \u001b[1;33m>\u001b[0m \u001b[1;36m1\u001b[0m\u001b[1;33m:\u001b[0m\u001b[1;33m\u001b[0m\u001b[0m\n\u001b[0;32m    846\u001b[0m         \u001b[0mbivariate\u001b[0m \u001b[1;33m=\u001b[0m \u001b[0mTrue\u001b[0m\u001b[1;33m\u001b[0m\u001b[0m\n\u001b[1;32m--> 847\u001b[1;33m         \u001b[0mx\u001b[0m\u001b[1;33m,\u001b[0m \u001b[0my\u001b[0m \u001b[1;33m=\u001b[0m \u001b[0mdata\u001b[0m\u001b[1;33m.\u001b[0m\u001b[0mT\u001b[0m\u001b[1;33m\u001b[0m\u001b[0m\n\u001b[0m\u001b[0;32m    848\u001b[0m     \u001b[1;32melif\u001b[0m \u001b[0misinstance\u001b[0m\u001b[1;33m(\u001b[0m\u001b[0mdata\u001b[0m\u001b[1;33m,\u001b[0m \u001b[0mpd\u001b[0m\u001b[1;33m.\u001b[0m\u001b[0mDataFrame\u001b[0m\u001b[1;33m)\u001b[0m \u001b[1;32mand\u001b[0m \u001b[0mnp\u001b[0m\u001b[1;33m.\u001b[0m\u001b[0mndim\u001b[0m\u001b[1;33m(\u001b[0m\u001b[0mdata\u001b[0m\u001b[1;33m)\u001b[0m \u001b[1;33m>\u001b[0m \u001b[1;36m1\u001b[0m\u001b[1;33m:\u001b[0m\u001b[1;33m\u001b[0m\u001b[0m\n\u001b[0;32m    849\u001b[0m         \u001b[0mbivariate\u001b[0m \u001b[1;33m=\u001b[0m \u001b[0mTrue\u001b[0m\u001b[1;33m\u001b[0m\u001b[0m\n",
      "\u001b[1;31mValueError\u001b[0m: need more than 1 value to unpack"
     ]
    },
    {
     "data": {
      "image/png": "[encoded data removed]",
      "text/plain": [
       "<matplotlib.figure.Figure at 0x7f4338b12fd0>"
      ]
     },
     "metadata": {},
     "output_type": "display_data"
    }
   ],
   "source": [
    "seaborn.kdeplot(np.log(Xtrains2[Y_train > 0]), shade=True, label='Positive')\n",
    "seaborn.kdeplot(np.log(Xtrains2[Y_train < 1]), shade=True, label='Negative')\n",
    "plt.legend(loc='best')"
   ]
  }
 ],
 "metadata": {
  "kernelspec": {
   "display_name": "Python 2",
   "language": "python",
   "name": "python2"
  },
  "language_info": {
   "codemirror_mode": {
    "name": "ipython",
    "version": 2
   },
   "file_extension": ".py",
   "mimetype": "text/x-python",
   "name": "python",
   "nbconvert_exporter": "python",
   "pygments_lexer": "ipython2",
   "version": "2.7.8"
  }
 },
 "nbformat": 4,
 "nbformat_minor": 0
}
