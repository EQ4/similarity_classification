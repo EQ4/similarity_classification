{
 "cells": [
  {
   "cell_type": "code",
   "execution_count": 1,
   "metadata": {
    "collapsed": true
   },
   "outputs": [],
   "source": [
    "import numpy as np\n",
    "import matplotlib.pyplot as plt\n",
    "import seaborn\n",
    "seaborn.set()\n",
    "seaborn.set_style('dark')\n",
    "np.set_printoptions(precision=3)\n",
    "\n",
    "%matplotlib inline"
   ]
  },
  {
   "cell_type": "code",
   "execution_count": 2,
   "metadata": {
    "collapsed": true
   },
   "outputs": [],
   "source": [
    "import sklearn\n",
    "import sklearn.metrics\n",
    "import sklearn.grid_search\n",
    "import sklearn.linear_model\n",
    "import sklearn.cross_validation\n",
    "import sklearn.preprocessing\n",
    "import sklearn.pipeline\n",
    "import pescador"
   ]
  },
  {
   "cell_type": "code",
   "execution_count": 3,
   "metadata": {
    "collapsed": true
   },
   "outputs": [],
   "source": [
    "import glob"
   ]
  },
  {
   "cell_type": "code",
   "execution_count": 4,
   "metadata": {
    "collapsed": true
   },
   "outputs": [],
   "source": [
    "def load_file(filename, n_pos=32, n_neg=32):\n",
    "    \n",
    "    data = np.load(filename)\n",
    "    \n",
    "    d = data['X'].shape[1]\n",
    "    \n",
    "    if n_pos is None:\n",
    "        return data['X'], data['Y']\n",
    "    \n",
    "    \n",
    "    positives = np.flatnonzero(data['Y'])\n",
    "    negatives = np.flatnonzero(1-data['Y'])\n",
    "    n_pos = min(n_pos, len(positives))\n",
    "    n_neg = min(n_neg, len(negatives))\n",
    "    \n",
    "    X = np.empty((n_pos + n_neg, d), dtype=np.float32)\n",
    "    Y = np.zeros((n_pos + n_neg), dtype=np.int32)\n",
    "    \n",
    "    if n_pos > 0:\n",
    "        idx_pos = np.random.choice(positives, size=n_pos, replace=True)\n",
    "    \n",
    "        X[:n_pos] = np.take(data['X'], idx_pos, axis=0)\n",
    "        Y[:n_pos] = 1\n",
    "    \n",
    "    if n_neg > 0:\n",
    "        idx_neg = np.random.choice(negatives, size=n_neg, replace=True)\n",
    "        X[n_pos:] = np.take(data['X'], idx_neg, axis=0)\n",
    "    \n",
    "    return X, Y"
   ]
  },
  {
   "cell_type": "code",
   "execution_count": 5,
   "metadata": {
    "collapsed": true
   },
   "outputs": [],
   "source": [
    "def load_batch(files, n_pos=32, n_neg=32):\n",
    "    \n",
    "    X = []\n",
    "    Y = []\n",
    "    \n",
    "    for fn in files:\n",
    "        _x, _y = load_file(fn, n_pos=n_pos, n_neg=n_neg)\n",
    "        if _x.shape[0] == 0:\n",
    "            continue\n",
    "        X.append(_x)\n",
    "        Y.append(_y)\n",
    "        \n",
    "    X = np.concatenate(X, axis=0)\n",
    "    Y = np.concatenate(Y, axis=0)\n",
    "    \n",
    "    return X, Y"
   ]
  },
  {
   "cell_type": "code",
   "execution_count": 33,
   "metadata": {
    "collapsed": true
   },
   "outputs": [],
   "source": [
    "P_REP = 0.007 / 2\n",
    "N_POS = 50\n",
    "N_NEG = 50\n",
    "\n",
    "class_weights = {1: 1./P_REP, 0: 1./(1 - P_REP)}"
   ]
  },
  {
   "cell_type": "code",
   "execution_count": 34,
   "metadata": {
    "collapsed": false
   },
   "outputs": [
    {
     "data": {
      "text/plain": [
       "{0: 1.0035122930255895, 1: 285.7142857142857}"
      ]
     },
     "execution_count": 34,
     "metadata": {},
     "output_type": "execute_result"
    }
   ],
   "source": [
    "class_weights"
   ]
  },
  {
   "cell_type": "code",
   "execution_count": 35,
   "metadata": {
    "collapsed": false
   },
   "outputs": [],
   "source": [
    "#files = sorted(glob.glob('../data/labeled_features/SALAMI_*_beats.npz'))\n",
    "files = sorted(glob.glob('../data/labeled_features/Isophonics_*_beats.npz'))"
   ]
  },
  {
   "cell_type": "code",
   "execution_count": 36,
   "metadata": {
    "collapsed": true
   },
   "outputs": [],
   "source": [
    "filesplitter = sklearn.cross_validation.ShuffleSplit(len(files), n_iter=1, test_size=0.10, random_state=23)\n",
    "_files = np.asarray(files)"
   ]
  },
  {
   "cell_type": "code",
   "execution_count": 37,
   "metadata": {
    "collapsed": true
   },
   "outputs": [],
   "source": [
    "import sklearn.ensemble"
   ]
  },
  {
   "cell_type": "code",
   "execution_count": 38,
   "metadata": {
    "collapsed": false
   },
   "outputs": [
    {
     "name": "stdout",
     "output_type": "stream",
     "text": [
      "Loading training data...\n",
      "Fitting 3 folds for each of 18 candidates, totalling 54 fits\n"
     ]
    },
    {
     "name": "stderr",
     "output_type": "stream",
     "text": [
      "[Parallel(n_jobs=3)]: Done   1 jobs       | elapsed:    1.7s\n",
      "[Parallel(n_jobs=3)]: Done  50 out of  54 | elapsed:   32.5s remaining:    2.6s\n",
      "[Parallel(n_jobs=3)]: Done  54 out of  54 | elapsed:   35.4s finished\n"
     ]
    },
    {
     "name": "stdout",
     "output_type": "stream",
     "text": [
      "-- Epoch 1\n",
      "Norm: 6608.04, NNZs: 899, Bias: 2296.681760, T: 26510, Avg. loss: 1902.211397-- Epoch 1\n",
      "-- Epoch 1\n",
      "-- Epoch 1\n",
      "Norm: 84956.53, NNZs: 922, Bias: 82820.266170, T: 17672, Avg. loss: 42911.529730Norm: 97794.46, NNZs: 922, Bias: 88768.626346, T: 17674, Avg. loss: 50672.819986Norm: 80054.29, NNZs: 923, Bias: 77721.475114, T: 17674, Avg. loss: 38796.937929\n",
      "\n",
      "\n",
      "Total training time: 0.13 seconds.\n",
      "Total training time: 0.15 seconds.\n",
      "Total training time: 0.10 seconds.\n",
      "-- Epoch 2\n",
      "-- Epoch 2\n",
      "-- Epoch 2\n",
      "Norm: 81950.21, NNZs: 924, Bias: 84821.807755, T: 35344, Avg. loss: 43516.071690Norm: 94332.35, NNZs: 922, Bias: 91205.556145, T: 35348, Avg. loss: 49770.632382Norm: 77600.81, NNZs: 921, Bias: 79452.510811, T: 35348, Avg. loss: 39345.765726\n",
      "\n",
      "\n",
      "Total training time: 0.27 seconds.\n",
      "Total training time: 0.32 seconds.\n",
      "Total training time: 0.25 seconds.\n",
      "-- Epoch 3\n",
      "-- Epoch 3\n",
      "-- Epoch 3\n",
      "Norm: 80649.39, NNZs: 920, Bias: 85587.954232, T: 53016, Avg. loss: 43987.281403Norm: 92774.22, NNZs: 924, Bias: 92230.672504, T: 53022, Avg. loss: 49366.713439Norm: 76614.74, NNZs: 921, Bias: 80051.926913, T: 53022, Avg. loss: 39528.113104\n",
      "\n",
      "\n",
      "Total training time: 0.41 seconds.\n",
      "Total training time: 0.47 seconds.\n",
      "Total training time: 0.41 seconds.\n",
      "-- Epoch 4\n",
      "-- Epoch 4\n",
      "-- Epoch 4\n",
      "Norm: 79879.61, NNZs: 920, Bias: 86004.546150, T: 70688, Avg. loss: 44156.071242Norm: 91856.26, NNZs: 922, Bias: 92782.203450, T: 70696, Avg. loss: 49210.026953Norm: 76033.97, NNZs: 922, Bias: 80375.033570, T: 70696, Avg. loss: 39609.403935\n",
      "\n",
      "\n",
      "Total training time: 0.56 seconds.\n",
      "Total training time: 0.61 seconds.\n",
      "Total training time: 0.55 seconds.\n",
      "-- Epoch 5\n",
      "-- Epoch 5\n",
      "-- Epoch 5\n",
      "Norm: 79349.82, NNZs: 921, Bias: 86276.485085, T: 88360, Avg. loss: 44326.882606Norm: 91225.13, NNZs: 921, Bias: 93144.571501, T: 88370, Avg. loss: 49107.046309Norm: 75667.64, NNZs: 924, Bias: 80551.874987, T: 88370, Avg. loss: 39652.586621\n",
      "\n",
      "\n",
      "Total training time: 0.73 seconds.\n",
      "Total training time: 0.75 seconds.\n",
      "Total training time: 0.66 seconds.\n",
      "-- Epoch 1-- Epoch 1-- Epoch 1\n",
      "\n",
      "\n",
      "Norm: 3063.62, NNZs: 924, Bias: 48586.846152, T: 17672, Avg. loss: 26984.354637\n",
      "Norm: 2993.08, NNZs: 924, Bias: 41072.545816, T: 17674, Avg. loss: 22502.761935\n",
      "Norm: 3072.72, NNZs: 924, Bias: 45666.964044, T: 17674, Avg. loss: 24454.633330\n",
      "Total training time: 0.04 seconds.\n",
      "Total training time: 0.05 seconds.\n",
      "Total training time: 0.05 seconds.\n",
      "-- Epoch 2\n",
      "-- Epoch 2\n",
      "-- Epoch 2\n",
      "Norm: 1639.65, NNZs: 924, Bias: 48269.970179, T: 35344, Avg. loss: 24951.280780\n",
      "Norm: 1601.93, NNZs: 924, Bias: 40769.773003, T: 35348, Avg. loss: 21248.438893\n",
      "Norm: 1598.52, NNZs: 924, Bias: 45350.213017, T: 35348, Avg. loss: 23161.842676\n",
      "Total training time: 0.09 seconds.\n",
      "Total training time: 0.08 seconds.\n",
      "Total training time: 0.10 seconds.\n",
      "-- Epoch 3\n",
      "-- Epoch 3\n",
      "-- Epoch 3\n",
      "Norm: 1351.02, NNZs: 924, Bias: 48080.987839, T: 53016, Avg. loss: 23890.954705\n",
      "Norm: 1199.49, NNZs: 924, Bias: 40577.865418, T: 53022, Avg. loss: 20648.011375\n",
      "Norm: 1288.76, NNZs: 924, Bias: 45159.822318, T: 53022, Avg. loss: 22408.504536\n",
      "Total training time: 0.14 seconds.\n",
      "Total training time: 0.13 seconds.\n",
      "Total training time: 0.15 seconds.\n",
      "-- Epoch 4\n",
      "-- Epoch 4\n",
      "-- Epoch 4\n",
      "Norm: 1134.03, NNZs: 924, Bias: 47951.540659, T: 70688, Avg. loss: 23348.315619Norm: 1083.57, NNZs: 924, Bias: 40442.869660, T: 70696, Avg. loss: 20180.380488\n",
      "Norm: 1133.31, NNZs: 924, Bias: 45026.477386, T: 70696, Avg. loss: 21870.373193\n",
      "Total training time: 0.16 seconds.\n",
      "\n",
      "Total training time: 0.20 seconds.\n",
      "-- Epoch 5\n",
      "Total training time: 0.21 seconds.\n",
      "-- Epoch 5\n",
      "Norm: 1019.02, NNZs: 924, Bias: 40339.063675, T: 88370, Avg. loss: 19828.891382\n",
      "-- Epoch 5\n",
      "Norm: 1119.59, NNZs: 924, Bias: 47848.105809, T: 88360, Avg. loss: 22955.117007Total training time: 0.20 seconds.\n",
      "Norm: 1068.91, NNZs: 924, Bias: 44922.351015, T: 88370, Avg. loss: 21571.136150\n",
      "\n",
      "-- Epoch 1Total training time: 0.26 seconds.\n",
      "Total training time: 0.26 seconds.\n",
      "\n",
      "-- Epoch 1-- Epoch 1Norm: 4487.50, NNZs: 923, Bias: 55055.106810, T: 17674, Avg. loss: 30052.125000\n",
      "\n",
      "\n",
      "Norm: 4721.17, NNZs: 920, Bias: 52906.078720, T: 17674, Avg. loss: 29395.060866Norm: 4873.87, NNZs: 922, Bias: 57120.383001, T: 17672, Avg. loss: 29995.972347Total training time: 0.13 seconds.\n",
      "\n",
      "\n",
      "-- Epoch 2\n",
      "Total training time: 0.20 seconds.\n",
      "Total training time: 0.13 seconds.\n",
      "Norm: 2655.67, NNZs: 917, Bias: 54731.320739, T: 35348, Avg. loss: 28303.171005-- Epoch 2\n",
      "-- Epoch 2\n",
      "\n",
      "Norm: 2798.15, NNZs: 921, Bias: 52581.274594, T: 35348, Avg. loss: 26856.602218Norm: 2792.60, NNZs: 919, Bias: 56793.471482, T: 35344, Avg. loss: 28538.516353Total training time: 0.29 seconds.\n",
      "\n",
      "\n",
      "-- Epoch 3\n",
      "Total training time: 0.43 seconds.\n",
      "Total training time: 0.25 seconds.\n",
      "Norm: 1940.07, NNZs: 915, Bias: 54549.187727, T: 53022, Avg. loss: 27314.733759-- Epoch 3\n",
      "-- Epoch 3\n",
      "\n",
      "Norm: 2070.87, NNZs: 914, Bias: 52398.415741, T: 53022, Avg. loss: 25875.381834Norm: 2092.88, NNZs: 912, Bias: 56610.773273, T: 53016, Avg. loss: 27624.566129Total training time: 0.45 seconds.\n",
      "\n",
      "\n",
      "-- Epoch 4\n",
      "Total training time: 0.65 seconds.\n",
      "Total training time: 0.38 seconds.\n",
      "Norm: 1636.84, NNZs: 914, Bias: 54413.593118, T: 70696, Avg. loss: 26803.480851-- Epoch 4\n",
      "-- Epoch 4\n",
      "\n",
      "Norm: 1760.43, NNZs: 912, Bias: 52263.439421, T: 70696, Avg. loss: 25358.903988Norm: 1703.52, NNZs: 913, Bias: 56480.494989, T: 70688, Avg. loss: 27139.027251Total training time: 0.72 seconds.\n",
      "\n",
      "\n",
      "-- Epoch 5\n",
      "Total training time: 0.80 seconds.\n",
      "Total training time: 0.51 seconds.\n",
      "Norm: 1464.66, NNZs: 908, Bias: 54309.247228, T: 88370, Avg. loss: 26390.274140-- Epoch 5\n",
      "-- Epoch 5\n",
      "\n",
      "Norm: 1582.40, NNZs: 917, Bias: 52160.039606, T: 88370, Avg. loss: 24976.786689Norm: 1561.00, NNZs: 915, Bias: 56376.465365, T: 88360, Avg. loss: 26761.034660Total training time: 0.97 seconds.\n",
      "\n",
      "\n",
      "-- Epoch 1Total training time: 0.99 seconds.\n",
      "Total training time: 0.65 seconds.\n",
      "\n",
      "-- Epoch 1-- Epoch 1Norm: 26394.31, NNZs: 917, Bias: 16699.141884, T: 17674, Avg. loss: 10910.798951\n",
      "\n",
      "\n",
      "Norm: 23238.38, NNZs: 918, Bias: 14691.322329, T: 17674, Avg. loss: 9671.674539Norm: 19638.17, NNZs: 914, Bias: 15206.911867, T: 17672, Avg. loss: 8892.447906Total training time: 0.16 seconds.\n",
      "\n",
      "\n",
      "-- Epoch 2\n",
      "Total training time: 0.14 seconds.\n",
      "Total training time: 0.23 seconds.\n",
      "Norm: 25566.21, NNZs: 921, Bias: 17452.589573, T: 35348, Avg. loss: 10529.981314-- Epoch 2\n",
      "-- Epoch 2\n",
      "\n",
      "Norm: 22438.13, NNZs: 921, Bias: 15418.552825, T: 35348, Avg. loss: 9186.266968Norm: 18913.56, NNZs: 914, Bias: 15799.580305, T: 35344, Avg. loss: 8680.167877Total training time: 0.30 seconds.\n",
      "\n",
      "\n",
      "-- Epoch 3\n",
      "Total training time: 0.23 seconds.\n",
      "Total training time: 0.43 seconds.\n",
      "Norm: 25133.91, NNZs: 920, Bias: 17837.789463, T: 53022, Avg. loss: 10412.432750-- Epoch 3\n",
      "-- Epoch 3\n",
      "\n",
      "Norm: 22032.58, NNZs: 920, Bias: 15776.747242, T: 53022, Avg. loss: 9030.026204Norm: 18568.09, NNZs: 914, Bias: 16073.866622, T: 53016, Avg. loss: 8645.693759Total training time: 0.39 seconds.\n",
      "\n",
      "\n",
      "-- Epoch 4\n",
      "Total training time: 0.33 seconds.\n",
      "Total training time: 0.59 seconds.\n",
      "Norm: 24843.04, NNZs: 920, Bias: 18095.526794, T: 70696, Avg. loss: 10355.111797-- Epoch 4\n",
      "-- Epoch 4\n",
      "\n",
      "Norm: 21773.19, NNZs: 917, Bias: 15999.464133, T: 70696, Avg. loss: 8947.355571Norm: 18352.46, NNZs: 918, Bias: 16238.840829, T: 70688, Avg. loss: 8645.522092Total training time: 0.53 seconds.\n",
      "\n",
      "\n",
      "-- Epoch 5\n",
      "Total training time: 0.42 seconds.\n",
      "Total training time: 0.75 seconds.\n",
      "Norm: 24632.28, NNZs: 918, Bias: 18279.577146, T: 88370, Avg. loss: 10320.832600-- Epoch 5\n",
      "-- Epoch 5\n",
      "\n",
      "Norm: 21584.54, NNZs: 922, Bias: 16158.111909, T: 88370, Avg. loss: 8909.971497Norm: 18197.41, NNZs: 917, Bias: 16356.531522, T: 88360, Avg. loss: 8643.057127Total training time: 0.68 seconds.\n",
      "\n",
      "\n",
      "-- Epoch 1Total training time: 0.56 seconds.\n",
      "Total training time: 0.94 seconds.\n",
      "\n",
      "-- Epoch 1-- Epoch 1Norm: 249.34, NNZs: 924, Bias: 9784.366695, T: 17674, Avg. loss: 5040.171465\n",
      "\n",
      "\n",
      "Total training time: 0.04 seconds.\n",
      "Norm: 265.45, NNZs: 924, Bias: 11183.147615, T: 17674, Avg. loss: 5919.158661\n",
      "Norm: 269.24, NNZs: 924, Bias: 9613.502931, T: 17672, Avg. loss: 4956.958924\n",
      "-- Epoch 2\n",
      "Total training time: 0.04 seconds.\n",
      "Total training time: 0.05 seconds.\n",
      "Norm: 171.64, NNZs: 924, Bias: 9750.236571, T: 35348, Avg. loss: 4850.206980\n",
      "-- Epoch 2\n",
      "-- Epoch 2\n",
      "Total training time: 0.08 seconds.\n",
      "Norm: 208.62, NNZs: 924, Bias: 11149.603867, T: 35348, Avg. loss: 5554.159375\n",
      "Norm: 192.23, NNZs: 924, Bias: 9581.025005, T: 35344, Avg. loss: 4674.670400\n",
      "\n",
      "Total training time: 0.13 seconds.\n",
      "-- Epoch 2\n",
      "Norm: 6487.03, NNZs: 907, Bias: 2442.181709, T: 53020, Avg. loss: 1838.764828-- Epoch 3\n",
      "Total training time: 0.07 seconds.\n",
      "Total training time: 0.09 seconds.\n",
      "Norm: 172.01, NNZs: 924, Bias: 9730.514472, T: 53022, Avg. loss: 4724.880673\n",
      "-- Epoch 3\n",
      "-- Epoch 3\n",
      "Total training time: 0.12 seconds.\n",
      "Norm: 166.54, NNZs: 924, Bias: 11130.654658, T: 53022, Avg. loss: 5381.711468\n",
      "Norm: 174.63, NNZs: 924, Bias: 9562.125604, T: 53016, Avg. loss: 4553.566252-- Epoch 4\n",
      "Total training time: 0.11 seconds.\n",
      "\n",
      "Norm: 154.43, NNZs: 924, Bias: 9717.038229, T: 70696, Avg. loss: 4661.886429\n",
      "-- Epoch 4\n",
      "Total training time: 0.15 seconds.\n",
      "Total training time: 0.17 seconds.\n",
      "Norm: 174.38, NNZs: 924, Bias: 11116.736037, T: 70696, Avg. loss: 5303.871618\n",
      "-- Epoch 4\n",
      "-- Epoch 5\n",
      "Total training time: 0.15 seconds.\n",
      "Norm: 139.61, NNZs: 924, Bias: 9549.172656, T: 70688, Avg. loss: 4480.794367\n",
      "Norm: 159.10, NNZs: 924, Bias: 9706.249584, T: 88370, Avg. loss: 4615.958135\n",
      "-- Epoch 5\n",
      "Total training time: 0.20 seconds.\n",
      "Total training time: 0.21 seconds.\n",
      "Norm: 177.69, NNZs: 924, Bias: 11105.988631, T: 88370, Avg. loss: 5249.463556\n",
      "-- Epoch 5\n",
      "-- Epoch 1Total training time: 0.19 seconds.\n",
      "Norm: 134.15, NNZs: 924, Bias: 9538.716373, T: 88360, Avg. loss: 4438.804208\n",
      "-- Epoch 1\n",
      "Norm: 438.64, NNZs: 891, Bias: 6153.258915, T: 17674, Avg. loss: 3293.320805\n",
      "Total training time: 0.26 seconds.\n",
      "\n",
      "Norm: 480.19, NNZs: 881, Bias: 6302.632420, T: 17674, Avg. loss: 3322.062114-- Epoch 1Total training time: 0.16 seconds.\n",
      "\n",
      "\n",
      "-- Epoch 2\n",
      "Total training time: 0.14 seconds.\n",
      "Norm: 486.27, NNZs: 884, Bias: 8499.624508, T: 17672, Avg. loss: 4500.643829Norm: 260.81, NNZs: 864, Bias: 6120.823048, T: 35348, Avg. loss: 3088.169353-- Epoch 2\n",
      "\n",
      "\n",
      "Norm: 275.62, NNZs: 861, Bias: 6270.927321, T: 35348, Avg. loss: 3140.093168Total training time: 0.17 seconds.\n",
      "Total training time: 0.33 seconds.\n",
      "\n",
      "-- Epoch 2\n",
      "-- Epoch 3\n",
      "Total training time: 0.31 seconds.\n",
      "Norm: 303.90, NNZs: 861, Bias: 8467.488650, T: 35344, Avg. loss: 4159.349334Norm: 202.71, NNZs: 837, Bias: 6101.888277, T: 53022, Avg. loss: 3003.477477-- Epoch 3\n",
      "\n",
      "\n",
      "Norm: 220.08, NNZs: 823, Bias: 6251.264826, T: 53022, Avg. loss: 3052.884744Total training time: 0.37 seconds.\n",
      "Total training time: 0.51 seconds.\n",
      "\n",
      "-- Epoch 3\n",
      "-- Epoch 4\n",
      "Total training time: 0.49 seconds.\n",
      "Norm: 236.73, NNZs: 847, Bias: 8448.671760, T: 53016, Avg. loss: 4035.381003Norm: 170.72, NNZs: 817, Bias: 6088.491737, T: 70696, Avg. loss: 2949.170160-- Epoch 4\n",
      "\n",
      "\n",
      "Norm: 187.42, NNZs: 822, Bias: 6237.892992, T: 70696, Avg. loss: 2996.456070Total training time: 0.59 seconds.\n",
      "Total training time: 0.71 seconds.\n",
      "\n",
      "-- Epoch 4\n",
      "-- Epoch 5\n",
      "Total training time: 0.67 seconds.\n",
      "Norm: 206.10, NNZs: 836, Bias: 8435.341750, T: 70688, Avg. loss: 3967.472159Norm: 153.11, NNZs: 807, Bias: 6078.085303, T: 88370, Avg. loss: 2912.378143-- Epoch 5\n",
      "\n",
      "\n",
      "Norm: 167.53, NNZs: 809, Bias: 6227.524767, T: 88370, Avg. loss: 2959.428154Total training time: 0.73 seconds.\n",
      "Total training time: 0.87 seconds.\n",
      "\n",
      "-- Epoch 5\n",
      "-- Epoch 1Total training time: 0.87 seconds.\n",
      "Norm: 188.57, NNZs: 829, Bias: 8425.003700, T: 88360, Avg. loss: 3926.391224\n",
      "-- Epoch 1\n",
      "Norm: 9757.24, NNZs: 905, Bias: 2616.918059, T: 17674, Avg. loss: 3836.921068\n",
      "Total training time: 0.88 seconds.\n",
      "\n",
      "Norm: 8051.82, NNZs: 901, Bias: 2128.560549, T: 17674, Avg. loss: 2551.487549-- Epoch 1Total training time: 0.11 seconds.\n",
      "\n",
      "\n",
      "-- Epoch 2\n",
      "Total training time: 0.17 seconds.\n",
      "Norm: 9076.37, NNZs: 911, Bias: 2340.101711, T: 17672, Avg. loss: 3491.189539Norm: 9601.18, NNZs: 899, Bias: 2781.846163, T: 35348, Avg. loss: 3490.266970-- Epoch 2\n",
      "\n",
      "\n",
      "Norm: 7915.11, NNZs: 896, Bias: 2289.650496, T: 35348, Avg. loss: 2420.936459Total training time: 0.14 seconds.\n",
      "Total training time: 0.24 seconds.\n",
      "\n",
      "-- Epoch 2\n",
      "-- Epoch 3\n",
      "Total training time: 0.35 seconds.\n",
      "Norm: 8910.37, NNZs: 905, Bias: 2517.001147, T: 35344, Avg. loss: 3210.998596Norm: 9513.03, NNZs: 892, Bias: 2876.934790, T: 53022, Avg. loss: 3343.113346-- Epoch 3\n",
      "\n",
      "\n",
      "Norm: 7837.90, NNZs: 889, Bias: 2381.997212, T: 53022, Avg. loss: 2364.900462Total training time: 0.36 seconds.\n",
      "Total training time: 0.38 seconds.\n",
      "\n",
      "-- Epoch 3\n",
      "-- Epoch 4\n",
      "Total training time: 0.51 seconds.\n",
      "Norm: 8817.58, NNZs: 904, Bias: 2620.132868, T: 53016, Avg. loss: 3078.641119Norm: 9452.89, NNZs: 892, Bias: 2941.738044, T: 70696, Avg. loss: 3254.603395-- Epoch 4\n",
      "\n",
      "\n",
      "Norm: 7785.00, NNZs: 891, Bias: 2444.609055, T: 70696, Avg. loss: 2331.831150Total training time: 0.58 seconds.\n",
      "Total training time: 0.52 seconds.\n",
      "\n",
      "-- Epoch 4\n",
      "-- Epoch 5\n",
      "Total training time: 0.66 seconds.\n",
      "Norm: 8754.03, NNZs: 901, Bias: 2691.761628, T: 70688, Avg. loss: 2996.731507Norm: 9406.94, NNZs: 895, Bias: 2991.750978, T: 88370, Avg. loss: 3196.172106-- Epoch 5\n",
      "\n",
      "\n",
      "Norm: 7744.20, NNZs: 894, Bias: 2493.106130, T: 88370, Avg. loss: 2308.947826Total training time: 0.72 seconds.\n",
      "Total training time: 0.66 seconds.\n",
      "\n",
      "-- Epoch 5\n",
      "-- Epoch 1Total training time: 0.88 seconds.\n",
      "Norm: 8705.56, NNZs: 900, Bias: 2747.410936, T: 88360, Avg. loss: 2940.915052\n",
      "-- Epoch 1\n",
      "Norm: 25.47, NNZs: 924, Bias: 1096.962990, T: 17674, Avg. loss: 568.969430\n",
      "\n",
      "Total training time: 0.86 seconds.\n",
      "Total training time: 0.05 seconds.\n",
      "Norm: 30.13, NNZs: 924, Bias: 1610.895262, T: 17674, Avg. loss: 785.443048\n",
      "-- Epoch 1-- Epoch 2\n",
      "Total training time: 0.04 seconds.\n",
      "\n",
      "Norm: 16.15, NNZs: 924, Bias: 1093.689891, T: 35348, Avg. loss: 544.188206\n",
      "-- Epoch 2\n",
      "Norm: 32.40, NNZs: 924, Bias: 1267.144234, T: 17672, Avg. loss: 642.479894\n",
      "Total training time: 0.10 seconds.\n",
      "Norm: 23.90, NNZs: 924, Bias: 1607.544276, T: 35348, Avg. loss: 763.996581\n",
      "Total training time: 0.06 seconds.\n",
      "-- Epoch 3\n",
      "Total training time: 0.10 seconds.\n",
      "-- Epoch 2\n",
      "Norm: 16.95, NNZs: 924, Bias: 1091.709662, T: 53022, Avg. loss: 531.927698-- Epoch 3\n",
      "Norm: 21.36, NNZs: 924, Bias: 1263.881990, T: 35344, Avg. loss: 613.357062\n",
      "\n",
      "Norm: 22.02, NNZs: 924, Bias: 1605.578619, T: 53022, Avg. loss: 752.573647\n",
      "Total training time: 0.11 seconds.\n",
      "Total training time: 0.16 seconds.\n",
      "Total training time: 0.14 seconds.\n",
      "-- Epoch 3\n",
      "-- Epoch 4\n",
      "-- Epoch 4\n",
      "Norm: 18.60, NNZs: 924, Bias: 1261.973082, T: 53016, Avg. loss: 599.905549Norm: 17.36, NNZs: 924, Bias: 1090.314789, T: 70696, Avg. loss: 524.488309\n",
      "Norm: 24.03, NNZs: 924, Bias: 1604.143040, T: 70696, Avg. loss: 746.654414\n",
      "\n",
      "Total training time: 0.21 seconds.\n",
      "Total training time: 0.17 seconds.\n",
      "Total training time: 0.22 seconds.\n",
      "-- Epoch 5\n",
      "-- Epoch 5\n",
      "-- Epoch 4\n",
      "Norm: 17.57, NNZs: 924, Bias: 1089.236745, T: 88370, Avg. loss: 519.143595Norm: 23.28, NNZs: 924, Bias: 1603.067920, T: 88370, Avg. loss: 743.143703\n",
      "Norm: 19.21, NNZs: 924, Bias: 1260.582198, T: 70688, Avg. loss: 591.057660\n",
      "Total training time: 0.21 seconds.\n",
      "\n",
      "Total training time: 0.27 seconds.\n",
      "-- Epoch 1Total training time: 0.28 seconds.\n",
      "-- Epoch 1\n",
      "-- Epoch 5\n",
      "\n",
      "Norm: 39.48, NNZs: 689, Bias: 1018.367559, T: 17674, Avg. loss: 519.176606Norm: 17.96, NNZs: 924, Bias: 1259.538073, T: 88360, Avg. loss: 586.201109Norm: 42.73, NNZs: 700, Bias: 1126.402868, T: 17674, Avg. loss: 583.668512\n",
      "\n",
      "\n",
      "Total training time: 0.21 seconds.\n",
      "Total training time: 0.35 seconds.\n",
      "Total training time: 0.18 seconds.\n",
      "-- Epoch 2\n",
      "-- Epoch 1-- Epoch 2\n",
      "Norm: 28.31, NNZs: 545, Bias: 1014.869312, T: 35348, Avg. loss: 495.640291\n",
      "Norm: 28.29, NNZs: 590, Bias: 1122.997700, T: 35348, Avg. loss: 554.182995\n",
      "Norm: 45.38, NNZs: 628, Bias: 1905.007712, T: 17672, Avg. loss: 984.693375\n",
      "Total training time: 0.44 seconds.\n",
      "\n",
      "Total training time: 0.37 seconds.\n",
      "-- Epoch 3\n",
      "Total training time: 0.16 seconds.\n",
      "-- Epoch 3\n",
      "Norm: 24.33, NNZs: 503, Bias: 1012.909495, T: 53022, Avg. loss: 485.112440-- Epoch 2\n",
      "Norm: 25.81, NNZs: 495, Bias: 1120.953807, T: 53022, Avg. loss: 542.194817\n",
      "Norm: 36.60, NNZs: 540, Bias: 1901.520024, T: 35344, Avg. loss: 927.627357\n",
      "Total training time: 0.61 seconds.\n",
      "\n",
      "Total training time: 0.55 seconds.\n",
      "-- Epoch 4\n",
      "Total training time: 0.32 seconds.\n",
      "-- Epoch 4\n",
      "Norm: 22.51, NNZs: 494, Bias: 1011.510957, T: 70696, Avg. loss: 479.345266-- Epoch 3\n",
      "Norm: 23.37, NNZs: 489, Bias: 1119.551614, T: 70696, Avg. loss: 535.850052\n",
      "Norm: 34.53, NNZs: 562, Bias: 1899.480869, T: 53016, Avg. loss: 906.595905\n",
      "Total training time: 0.78 seconds.\n",
      "\n",
      "Total training time: 0.73 seconds.\n",
      "\n",
      "Total training time: 0.26 seconds.\n",
      "-- Epoch 3\n",
      "Norm: 6419.79, NNZs: 905, Bias: 2522.583468, T: 79530, Avg. loss: 1812.999680-- Epoch 5\n",
      "Total training time: 0.45 seconds.\n",
      "-- Epoch 5\n",
      "Norm: 22.62, NNZs: 493, Bias: 1010.393013, T: 88370, Avg. loss: 475.561183-- Epoch 4\n",
      "Norm: 23.26, NNZs: 482, Bias: 1118.428665, T: 88370, Avg. loss: 531.898908\n",
      "Norm: 33.73, NNZs: 590, Bias: 1898.036325, T: 70688, Avg. loss: 895.475050\n",
      "Total training time: 0.98 seconds.\n",
      "\n",
      "Total training time: 0.95 seconds.\n",
      "-- Epoch 1Total training time: 0.57 seconds.\n",
      "-- Epoch 1\n",
      "-- Epoch 5\n",
      "\n",
      "Norm: 1131.26, NNZs: 713, Bias: 323.473756, T: 17674, Avg. loss: 305.620872Norm: 33.30, NNZs: 625, Bias: 1896.916907, T: 88360, Avg. loss: 888.330434Norm: 1373.79, NNZs: 762, Bias: 308.756023, T: 17674, Avg. loss: 363.696254\n",
      "\n",
      "\n",
      "Total training time: 0.23 seconds.\n",
      "Total training time: 0.79 seconds.\n",
      "Total training time: 0.15 seconds.\n",
      "-- Epoch 2\n",
      "-- Epoch 1-- Epoch 2\n",
      "Norm: 1119.48, NNZs: 694, Bias: 339.187056, T: 35348, Avg. loss: 291.081979\n",
      "Norm: 1361.75, NNZs: 759, Bias: 325.388825, T: 35348, Avg. loss: 340.304821\n",
      "Norm: 887.11, NNZs: 667, Bias: 296.049236, T: 17672, Avg. loss: 218.799945\n",
      "Total training time: 0.54 seconds.\n",
      "\n",
      "Total training time: 0.36 seconds.\n",
      "-- Epoch 3\n",
      "Total training time: 0.18 seconds.\n",
      "-- Epoch 3\n",
      "Norm: 1113.02, NNZs: 682, Bias: 348.004124, T: 53022, Avg. loss: 283.936202-- Epoch 2\n",
      "Norm: 1354.97, NNZs: 753, Bias: 335.013118, T: 53022, Avg. loss: 330.497323\n",
      "Norm: 879.02, NNZs: 645, Bias: 308.185694, T: 35344, Avg. loss: 208.532577\n",
      "Total training time: 0.71 seconds.\n",
      "\n",
      "Total training time: 0.57 seconds.\n",
      "-- Epoch 4\n",
      "Total training time: 0.45 seconds.\n",
      "-- Epoch 4\n",
      "Norm: 1108.55, NNZs: 673, Bias: 354.162752, T: 70696, Avg. loss: 279.594974-- Epoch 3\n",
      "Norm: 1350.36, NNZs: 748, Bias: 341.626390, T: 70696, Avg. loss: 324.605210\n",
      "Norm: 874.78, NNZs: 628, Bias: 314.710844, T: 53016, Avg. loss: 204.297605\n",
      "Total training time: 0.99 seconds.\n",
      "\n",
      "Total training time: 0.79 seconds.\n",
      "-- Epoch 5\n",
      "Total training time: 0.66 seconds.\n",
      "-- Epoch 5\n",
      "Norm: 1105.23, NNZs: 667, Bias: 358.780382, T: 88370, Avg. loss: 276.320037-- Epoch 4\n",
      "Norm: 1346.87, NNZs: 744, Bias: 346.668288, T: 88370, Avg. loss: 320.620640\n",
      "Norm: 871.97, NNZs: 623, Bias: 319.045832, T: 70688, Avg. loss: 201.688484\n",
      "Total training time: 1.22 seconds.\n",
      "\n",
      "Total training time: 1.03 seconds.\n",
      "-- Epoch 1Total training time: 0.90 seconds.\n",
      "-- Epoch 1\n",
      "-- Epoch 5\n",
      "\n",
      "Norm: 3.97, NNZs: 291, Bias: 267.870963, T: 17672, Avg. loss: 137.162364Norm: 869.90, NNZs: 613, Bias: 322.269269, T: 88360, Avg. loss: 199.996774Norm: 3.16, NNZs: 924, Bias: 235.091212, T: 17674, Avg. loss: 109.419093\n",
      "\n",
      "\n",
      "Total training time: 0.05 seconds.\n",
      "Total training time: 0.17 seconds.\n",
      "Total training time: 1.15 seconds.\n",
      "-- Epoch 2\n",
      "-- Epoch 2\n",
      "-- Epoch 1Norm: 3.12, NNZs: 924, Bias: 234.744055, T: 35348, Avg. loss: 108.669768Norm: 2.56, NNZs: 263, Bias: 267.517541, T: 35344, Avg. loss: 135.249042\n",
      "\n",
      "\n",
      "Norm: 3.17, NNZs: 924, Bias: 261.552199, T: 17672, Avg. loss: 125.151046\n",
      "Total training time: 0.11 seconds.\n",
      "Total training time: 0.39 seconds.\n",
      "Total training time: 0.05 seconds.\n",
      "-- Epoch 3\n",
      "-- Epoch 3\n",
      "-- Epoch 2\n",
      "Norm: 3.10, NNZs: 924, Bias: 234.540669, T: 53022, Avg. loss: 108.337774Norm: 2.00, NNZs: 253, Bias: 267.311453, T: 53016, Avg. loss: 134.854322Norm: 3.43, NNZs: 924, Bias: 261.202019, T: 35344, Avg. loss: 121.970889\n",
      "\n",
      "\n",
      "Total training time: 0.16 seconds.\n",
      "Total training time: 0.62 seconds.\n",
      "Total training time: 0.11 seconds.\n",
      "-- Epoch 4\n",
      "-- Epoch 4\n",
      "-- Epoch 3\n",
      "Norm: 3.10, NNZs: 924, Bias: 234.396270, T: 70696, Avg. loss: 108.164953Norm: 1.69, NNZs: 227, Bias: 267.165441, T: 70688, Avg. loss: 134.736674Norm: 3.48, NNZs: 924, Bias: 260.998927, T: 53016, Avg. loss: 120.568108\n",
      "\n",
      "\n",
      "Total training time: 0.22 seconds.\n",
      "Total training time: 0.83 seconds.\n",
      "Total training time: 0.18 seconds.\n",
      "-- Epoch 5\n",
      "-- Epoch 5\n",
      "-- Epoch 4\n",
      "Norm: 3.10, NNZs: 924, Bias: 234.284348, T: 88370, Avg. loss: 108.048660Norm: 1.48, NNZs: 209, Bias: 267.052149, T: 88360, Avg. loss: 134.690744Norm: 3.45, NNZs: 924, Bias: 260.856100, T: 70688, Avg. loss: 119.865071\n",
      "\n",
      "\n",
      "Total training time: 0.30 seconds.\n",
      "Total training time: 1.10 seconds.\n",
      "Total training time: 0.26 seconds.\n",
      "-- Epoch 1-- Epoch 1-- Epoch 5\n",
      "\n",
      "\n",
      "Norm: 3.48, NNZs: 924, Bias: 260.744577, T: 88360, Avg. loss: 119.394895Norm: 4.92, NNZs: 313, Bias: 247.511798, T: 17674, Avg. loss: 128.291105Norm: 1372.35, NNZs: 758, Bias: 106.268490, T: 17672, Avg. loss: 1195.968002\n",
      "\n",
      "\n",
      "Total training time: 0.38 seconds.\n",
      "Total training time: 0.18 seconds.\n",
      "Total training time: 0.20 seconds.\n",
      "-- Epoch 1-- Epoch 2\n",
      "-- Epoch 2\n",
      "\n",
      "Norm: 3.00, NNZs: 223, Bias: 247.160243, T: 35348, Avg. loss: 125.731882Norm: 1366.59, NNZs: 749, Bias: 107.711922, T: 35344, Avg. loss: 1144.074450Norm: 2.73, NNZs: 924, Bias: 232.116984, T: 17674, Avg. loss: 113.080070\n",
      "\n",
      "\n",
      "Total training time: 0.42 seconds.\n",
      "Total training time: 0.37 seconds.\n",
      "Total training time: 0.08 seconds.\n",
      "-- Epoch 3\n",
      "-- Epoch 3\n",
      "-- Epoch 2\n",
      "Norm: 2.25, NNZs: 165, Bias: 246.954006, T: 53022, Avg. loss: 125.181903Norm: 1363.36, NNZs: 744, Bias: 108.558356, T: 53016, Avg. loss: 1113.990509Norm: 3.01, NNZs: 924, Bias: 231.767442, T: 35348, Avg. loss: 110.118820\n",
      "\n",
      "\n",
      "Total training time: 0.13 seconds.\n",
      "Total training time: 0.68 seconds.\n",
      "Total training time: 0.53 seconds.\n",
      "-- Epoch 3\n",
      "-- Epoch 4\n",
      "-- Epoch 4\n",
      "Norm: 3.11, NNZs: 924, Bias: 231.563613, T: 53022, Avg. loss: 108.650243\n",
      "Norm: 1.82, NNZs: 131, Bias: 246.808020, T: 70696, Avg. loss: 124.990464Norm: 1361.14, NNZs: 742, Bias: 109.154261, T: 70688, Avg. loss: 1092.835750Total training time: 0.18 seconds.\n",
      "\n",
      "\n",
      "-- Epoch 4\n",
      "Total training time: 0.95 seconds.\n",
      "Total training time: 0.69 seconds.\n",
      "Norm: 3.15, NNZs: 924, Bias: 231.419475, T: 70696, Avg. loss: 107.834790\n",
      "-- Epoch 5\n",
      "-- Epoch 5\n",
      "Total training time: 0.23 seconds.\n",
      "Norm: 1.55, NNZs: 110, Bias: 246.694688, T: 88370, Avg. loss: 124.901429Norm: 1359.43, NNZs: 739, Bias: 109.616743, T: 88360, Avg. loss: 1076.501035-- Epoch 5\n",
      "\n",
      "\n",
      "Norm: 3.14, NNZs: 924, Bias: 231.308254, T: 88370, Avg. loss: 107.326063\n",
      "Total training time: 1.32 seconds.\n",
      "Total training time: 0.84 seconds.\n",
      "Total training time: 0.28 seconds.\n",
      "-- Epoch 1-- Epoch 1-- Epoch 1\n",
      "\n",
      "\n",
      "Norm: 76.39, NNZs: 0, Bias: 4.859728, T: 17674, Avg. loss: 2.433636Norm: 0.43, NNZs: 924, Bias: 38.153833, T: 17672, Avg. loss: 17.968939Norm: 5.28, NNZs: 290, Bias: 132.788335, T: 17674, Avg. loss: 67.929823\n",
      "\n",
      "\n",
      "Total training time: 0.24 seconds.\n",
      "Total training time: 0.08 seconds.\n",
      "Total training time: 0.28 seconds.\n",
      "-- Epoch 2\n",
      "-- Epoch 2\n",
      "-- Epoch 2\n",
      "Norm: 76.39, NNZs: 0, Bias: 4.898712, T: 35348, Avg. loss: 2.455712Norm: 0.41, NNZs: 924, Bias: 38.118794, T: 35344, Avg. loss: 17.772959Norm: 3.23, NNZs: 235, Bias: 132.436761, T: 35348, Avg. loss: 66.372099\n",
      "\n",
      "\n",
      "Total training time: 0.43 seconds.\n",
      "Total training time: 0.17 seconds.\n",
      "Total training time: 0.60 seconds.\n",
      "-- Epoch 3\n",
      "-- Epoch 3\n",
      "-- Epoch 3\n",
      "Norm: 76.39, NNZs: 0, Bias: 4.920246, T: 53022, Avg. loss: 2.467826Norm: 0.41, NNZs: 924, Bias: 38.098262, T: 53016, Avg. loss: 17.699353Norm: 2.44, NNZs: 199, Bias: 132.230915, T: 53022, Avg. loss: 66.153278\n",
      "\n",
      "\n",
      "Total training time: 0.66 seconds.\n",
      "Total training time: 0.26 seconds.\n",
      "Total training time: 0.91 seconds.\n",
      "-- Epoch 4\n",
      "-- Epoch 4\n",
      "-- Epoch 4\n",
      "Norm: 76.39, NNZs: 0, Bias: 4.934936, T: 70696, Avg. loss: 2.476054Norm: 0.41, NNZs: 924, Bias: 38.083728, T: 70688, Avg. loss: 17.662159Norm: 2.00, NNZs: 176, Bias: 132.084858, T: 70696, Avg. loss: 66.138574\n",
      "\n",
      "\n",
      "Total training time: 0.93 seconds.\n",
      "Total training time: 0.41 seconds.\n",
      "Total training time: 1.16 seconds.\n",
      "-- Epoch 5\n",
      "-- Epoch 5\n",
      "-- Epoch 5\n",
      "Norm: 76.39, NNZs: 0, Bias: 4.946054, T: 88370, Avg. loss: 2.482271Norm: 0.41, NNZs: 924, Bias: 38.072446, T: 88360, Avg. loss: 17.636998\n",
      "Total training time: 0.39 seconds.\n",
      "-- Epoch 4\n",
      "Norm: 6373.71, NNZs: 902, Bias: 2577.547152, T: 106040, Avg. loss: 1797.870383Norm: 1.71, NNZs: 156, Bias: 131.971506, T: 88370, Avg. loss: 66.166075\n",
      "\n",
      "\n",
      "Total training time: 1.25 seconds.\n",
      "Total training time: 0.56 seconds.\n",
      "Total training time: 1.40 seconds.\n",
      "-- Epoch 1-- Epoch 1-- Epoch 1\n",
      "\n",
      "\n",
      "Norm: 0.37, NNZs: 924, Bias: 114.922963, T: 17674, Avg. loss: 60.931585Norm: 0.39, NNZs: 924, Bias: 117.516644, T: 17674, Avg. loss: 60.470985Norm: 1483.23, NNZs: 684, Bias: 159.570976, T: 17674, Avg. loss: 365.783425\n",
      "\n",
      "\n",
      "Total training time: 0.10 seconds.\n",
      "Total training time: 0.14 seconds.\n",
      "Total training time: 0.22 seconds.\n",
      "-- Epoch 2\n",
      "-- Epoch 2\n",
      "-- Epoch 2\n",
      "Norm: 0.36, NNZs: 924, Bias: 114.887854, T: 35348, Avg. loss: 58.878692Norm: 0.39, NNZs: 924, Bias: 117.481474, T: 35348, Avg. loss: 59.210775Norm: 1481.83, NNZs: 674, Bias: 161.743532, T: 35348, Avg. loss: 355.389870\n",
      "\n",
      "\n",
      "Total training time: 0.16 seconds.\n",
      "Total training time: 0.24 seconds.\n",
      "Total training time: 0.54 seconds.\n",
      "-- Epoch 3\n",
      "-- Epoch 3\n",
      "-- Epoch 3\n",
      "Norm: 0.36, NNZs: 924, Bias: 114.867233, T: 53022, Avg. loss: 58.190176Norm: 0.39, NNZs: 924, Bias: 117.460888, T: 53022, Avg. loss: 58.784991Norm: 1481.02, NNZs: 668, Bias: 163.001073, T: 53022, Avg. loss: 350.116779\n",
      "\n",
      "\n",
      "Total training time: 0.23 seconds.\n",
      "Total training time: 0.34 seconds.\n",
      "Total training time: 0.85 seconds.\n",
      "-- Epoch 4\n",
      "-- Epoch 4\n",
      "-- Epoch 4\n",
      "Norm: 0.36, NNZs: 924, Bias: 114.852615, T: 70696, Avg. loss: 57.843388Norm: 0.39, NNZs: 924, Bias: 117.446258, T: 70696, Avg. loss: 58.568678Norm: 1480.46, NNZs: 658, Bias: 163.882264, T: 70696, Avg. loss: 346.664478\n",
      "\n",
      "\n",
      "Total training time: 0.32 seconds.\n",
      "Total training time: 0.49 seconds.\n",
      "Total training time: 1.14 seconds.\n",
      "-- Epoch 5\n",
      "-- Epoch 5\n",
      "-- Epoch 5\n",
      "Norm: 0.36, NNZs: 924, Bias: 114.841282, T: 88370, Avg. loss: 57.632839Norm: 0.39, NNZs: 924, Bias: 117.434924, T: 88370, Avg. loss: 58.437385Norm: 1480.03, NNZs: 653, Bias: 164.561839, T: 88370, Avg. loss: 344.103659\n",
      "\n",
      "\n",
      "Total training time: 0.45 seconds.\n",
      "Total training time: 0.60 seconds.\n",
      "Total training time: 1.38 seconds.\n",
      "-- Epoch 1-- Epoch 1-- Epoch 1\n",
      "\n",
      "\n",
      "Norm: 0.44, NNZs: 0, Bias: 98.635196, T: 17674, Avg. loss: 50.769852Norm: 0.45, NNZs: 0, Bias: 17.162036, T: 17674, Avg. loss: 8.798606Norm: 0.45, NNZs: 0, Bias: 13.773077, T: 17672, Avg. loss: 7.104167\n",
      "\n",
      "\n",
      "Total training time: 0.29 seconds.\n",
      "Total training time: 0.32 seconds.\n",
      "Total training time: 0.32 seconds.\n",
      "-- Epoch 2\n",
      "-- Epoch 2\n",
      "-- Epoch 2\n",
      "Norm: 0.24, NNZs: 0, Bias: 98.600097, T: 35348, Avg. loss: 50.334561Norm: 0.25, NNZs: 0, Bias: 17.126910, T: 35348, Avg. loss: 8.736325Norm: 0.25, NNZs: 0, Bias: 13.737894, T: 35344, Avg. loss: 7.031699\n",
      "\n",
      "\n",
      "Total training time: 0.55 seconds.\n",
      "Total training time: 0.61 seconds.\n",
      "Total training time: 0.73 seconds.\n",
      "-- Epoch 3\n",
      "-- Epoch 3\n",
      "-- Epoch 3\n",
      "Norm: 0.17, NNZs: 0, Bias: 98.579488, T: 53022, Avg. loss: 50.184987Norm: 0.18, NNZs: 0, Bias: 17.106323, T: 53022, Avg. loss: 8.711088Norm: 0.18, NNZs: 0, Bias: 13.717336, T: 53016, Avg. loss: 7.003066\n",
      "\n",
      "\n",
      "Total training time: 0.86 seconds.\n",
      "Total training time: 0.91 seconds.\n",
      "Total training time: 1.07 seconds.\n",
      "-- Epoch 4\n",
      "-- Epoch 4\n",
      "-- Epoch 4\n",
      "Norm: 0.14, NNZs: 0, Bias: 98.564874, T: 70696, Avg. loss: 50.108016Norm: 0.14, NNZs: 0, Bias: 17.091717, T: 70696, Avg. loss: 8.696287Norm: 0.14, NNZs: 0, Bias: 13.702729, T: 70688, Avg. loss: 6.986568\n",
      "\n",
      "\n",
      "Total training time: 1.26 seconds.\n",
      "Total training time: 1.20 seconds.\n",
      "Total training time: 1.37 seconds.\n",
      "-- Epoch 5\n",
      "-- Epoch 5\n",
      "-- Epoch 5\n",
      "Norm: 0.11, NNZs: 0, Bias: 98.553547, T: 88370, Avg. loss: 50.060534Norm: 0.11, NNZs: 0, Bias: 17.080381, T: 88370, Avg. loss: 8.686108Norm: 0.11, NNZs: 0, Bias: 13.691400, T: 88360, Avg. loss: 6.975372\n",
      "\n",
      "\n",
      "Total training time: 1.55 seconds.\n",
      "Total training time: 1.48 seconds.\n",
      "Total training time: 1.74 seconds.\n",
      "-- Epoch 1-- Epoch 1-- Epoch 1\n",
      "\n",
      "\n",
      "Norm: 29.07, NNZs: 0, Bias: 2.757565, T: 17674, Avg. loss: 1.418541Norm: 29.02, NNZs: 0, Bias: 2.661214, T: 17674, Avg. loss: 1.372145Norm: 17.33, NNZs: 0, Bias: 2.347014, T: 17672, Avg. loss: 1.223858\n",
      "\n",
      "\n",
      "Total training time: 0.28 seconds.\n",
      "Total training time: 0.32 seconds.\n",
      "Total training time: 0.29 seconds.\n",
      "-- Epoch 2\n",
      "-- Epoch 2\n",
      "-- Epoch 2\n",
      "Norm: 29.07, NNZs: 0, Bias: 2.811297, T: 35348, Avg. loss: 1.444533Norm: 29.02, NNZs: 0, Bias: 2.720154, T: 35348, Avg. loss: 1.400506Norm: 17.33, NNZs: 0, Bias: 2.426100, T: 35344, Avg. loss: 1.260744\n",
      "\n",
      "\n",
      "Total training time: 0.56 seconds.\n",
      "Total training time: 0.60 seconds.\n",
      "Total training time: 0.69 seconds.\n",
      "-- Epoch 3\n",
      "-- Epoch 3\n",
      "-- Epoch 3\n",
      "Norm: 29.07, NNZs: 0, Bias: 2.841390, T: 53022, Avg. loss: 1.459102Norm: 29.02, NNZs: 0, Bias: 2.753099, T: 53022, Avg. loss: 1.416393Norm: 17.33, NNZs: 0, Bias: 2.469787, T: 53016, Avg. loss: 1.281287\n",
      "\n",
      "\n",
      "Total training time: 0.89 seconds.\n",
      "Total training time: 0.84 seconds.\n",
      "Total training time: 0.97 seconds.\n",
      "-- Epoch 4\n",
      "-- Epoch 4\n",
      "-- Epoch 4\n",
      "Norm: 29.07, NNZs: 0, Bias: 2.862181, T: 70696, Avg. loss: 1.469176Norm: 29.02, NNZs: 0, Bias: 2.775791, T: 70696, Avg. loss: 1.427336Norm: 17.33, NNZs: 0, Bias: 2.499675, T: 70688, Avg. loss: 1.295380\n",
      "\n",
      "\n",
      "Total training time: 1.22 seconds.\n",
      "Total training time: 1.11 seconds.\n",
      "Total training time: 1.29 seconds.\n",
      "-- Epoch 5\n",
      "-- Epoch 5\n",
      "-- Epoch 5\n",
      "Norm: 29.07, NNZs: 0, Bias: 2.877997, T: 88370, Avg. loss: 1.476842Norm: 29.02, NNZs: 0, Bias: 2.793023, T: 88370, Avg. loss: 1.435649Norm: 17.33, NNZs: 0, Bias: 2.522287, T: 88360, Avg. loss: 1.306075\n",
      "\n",
      "\n",
      "Total training time: 1.50 seconds.\n",
      "Total training time: 1.37 seconds.\n",
      "Total training time: 1.73 seconds.\n",
      "-- Epoch 1-- Epoch 1-- Epoch 1\n",
      "\n",
      "\n",
      "Norm: 0.09, NNZs: 924, Bias: 2.160787, T: 17674, Avg. loss: 1.059074Norm: 0.05, NNZs: 0, Bias: 2.383906, T: 17672, Avg. loss: 1.240780Norm: 0.09, NNZs: 924, Bias: 1.980524, T: 17672, Avg. loss: 0.940053\n",
      "\n",
      "\n",
      "Total training time: 0.06 seconds.\n",
      "Total training time: 0.18 seconds.\n",
      "Total training time: 0.08 seconds.\n",
      "-- Epoch 2\n",
      "-- Epoch 2\n",
      "-- Epoch 2\n",
      "Norm: 0.08, NNZs: 924, Bias: 2.229258, T: 35348, Avg. loss: 1.065202Norm: 0.03, NNZs: 0, Bias: 2.460186, T: 35344, Avg. loss: 1.276576Norm: 0.08, NNZs: 924, Bias: 2.062928, T: 35344, Avg. loss: 0.960390\n",
      "\n",
      "\n",
      "Total training time: 0.12 seconds.\n",
      "Total training time: 0.42 seconds.\n",
      "Total training time: 0.14 seconds.\n",
      "-- Epoch 3\n",
      "-- Epoch 3\n",
      "-- Epoch 3\n",
      "Norm: 0.08, NNZs: 924, Bias: 2.267333, T: 53022, Avg. loss: 1.074337Norm: 0.02, NNZs: 0, Bias: 2.502469, T: 53016, Avg. loss: 1.296578Norm: 0.08, NNZs: 924, Bias: 2.108537, T: 53016, Avg. loss: 0.974967\n",
      "\n",
      "\n",
      "Total training time: 0.18 seconds.\n",
      "Total training time: 0.69 seconds.\n",
      "Total training time: 0.23 seconds.\n",
      "-- Epoch 4\n",
      "-- Epoch 4\n",
      "-- Epoch 4\n",
      "Norm: 0.08, NNZs: 924, Bias: 2.293769, T: 70696, Avg. loss: 1.082169Norm: 0.02, NNZs: 0, Bias: 2.531422, T: 70688, Avg. loss: 1.310298Norm: 0.08, NNZs: 924, Bias: 2.139780, T: 70688, Avg. loss: 0.985707\n",
      "\n",
      "\n",
      "Total training time: 0.26 seconds.\n",
      "Total training time: 1.00 seconds.\n",
      "Total training time: 0.34 seconds.\n",
      "-- Epoch 5\n",
      "-- Epoch 5\n",
      "-- Epoch 5\n",
      "Norm: 0.08, NNZs: 924, Bias: 2.313813, T: 88370, Avg. loss: 1.088679Norm: 0.02, NNZs: 0, Bias: 2.553360, T: 88360, Avg. loss: 1.320727Norm: 0.08, NNZs: 924, Bias: 2.163544, T: 88360, Avg. loss: 0.994630\n",
      "\n",
      "\n",
      "\n",
      "Total training time: 0.52 seconds.\n",
      "-- Epoch 5\n",
      "Norm: 6338.73, NNZs: 901, Bias: 2619.111518, T: 132550, Avg. loss: 1789.042035Total training time: 0.35 seconds.\n",
      "Total training time: 1.22 seconds.\n",
      "Total training time: 0.44 seconds.\n",
      "-- Epoch 1-- Epoch 1\n",
      "\n",
      "Norm: 0.04, NNZs: 0, Bias: 2.458423, T: 17674, Avg. loss: 1.275245Norm: 0.09, NNZs: 924, Bias: 2.074903, T: 17674, Avg. loss: 0.987472\n",
      "\n",
      "Total training time: 0.27 seconds.\n",
      "Total training time: 0.06 seconds.\n",
      "-- Epoch 2\n",
      "-- Epoch 2\n",
      "Norm: 0.03, NNZs: 0, Bias: 2.529654, T: 35348, Avg. loss: 1.309172Norm: 0.08, NNZs: 924, Bias: 2.146593, T: 35348, Avg. loss: 1.002634\n",
      "\n",
      "Total training time: 0.54 seconds.\n",
      "Total training time: 0.12 seconds.\n",
      "-- Epoch 3\n",
      "-- Epoch 3\n",
      "Norm: 0.02, NNZs: 0, Bias: 2.569217, T: 53022, Avg. loss: 1.328075Norm: 0.09, NNZs: 924, Bias: 2.186874, T: 53022, Avg. loss: 1.014326\n",
      "\n",
      "Total training time: 0.81 seconds.\n",
      "Total training time: 0.17 seconds.\n",
      "-- Epoch 4\n",
      "-- Epoch 4\n",
      "Norm: 0.02, NNZs: 0, Bias: 2.596392, T: 70696, Avg. loss: 1.341074Norm: 0.08, NNZs: 924, Bias: 2.214463, T: 70696, Avg. loss: 1.022987\n",
      "\n",
      "Total training time: 1.04 seconds.\n",
      "Total training time: 0.25 seconds.\n",
      "-- Epoch 5\n",
      "-- Epoch 5\n",
      "Norm: 0.01, NNZs: 0, Bias: 2.616971, T: 88370, Avg. loss: 1.350923Norm: 0.08, NNZs: 924, Bias: 2.235496, T: 88370, Avg. loss: 1.030753\n",
      "\n",
      "Total training time: 1.27 seconds.\n",
      "Total training time: 0.34 seconds.\n",
      "-- Epoch 1\n",
      "Norm: 0.04, NNZs: 0, Bias: 2.413273, T: 17674, Avg. loss: 1.255133\n",
      "Total training time: 0.26 seconds.\n",
      "-- Epoch 2\n",
      "Norm: 0.03, NNZs: 0, Bias: 2.487690, T: 35348, Avg. loss: 1.289900\n",
      "Total training time: 0.49 seconds.\n",
      "-- Epoch 3\n",
      "Norm: 0.02, NNZs: 0, Bias: 2.528777, T: 53022, Avg. loss: 1.309232\n",
      "Total training time: 0.71 seconds.\n",
      "-- Epoch 4\n",
      "Norm: 0.02, NNZs: 0, Bias: 2.557007, T: 70696, Avg. loss: 1.322590\n",
      "Total training time: 0.87 seconds.\n",
      "-- Epoch 5\n",
      "Norm: 0.02, NNZs: 0, Bias: 2.578393, T: 88370, Avg. loss: 1.332742\n",
      "Total training time: 1.02 seconds.\n",
      "\n",
      "Total training time: 0.64 seconds.\n",
      "Loading testing data...\n"
     ]
    }
   ],
   "source": [
    "for trainf, testf in filesplitter:\n",
    "    \n",
    "    print 'Loading training data...'\n",
    "    X_train, Y_train = load_batch([_files[_] for _ in trainf],\n",
    "                                 n_pos=N_POS,\n",
    "                                 n_neg=N_NEG)\n",
    "    \n",
    "    _model = sklearn.grid_search.GridSearchCV(sklearn.linear_model.SGDClassifier(loss='log',\n",
    "                                                                                 verbose=1,\n",
    "                                                                                 class_weight=class_weights),\n",
    "                                             {'alpha': np.logspace(-3, 3, num=6, endpoint=False),\n",
    "                                             'penalty': ['l1', 'l2', 'elasticnet']},\n",
    "                                             n_jobs=3, verbose=1)\n",
    "    \n",
    "    #_model = sklearn.grid_search.GridSearchCV(sklearn.ensemble.RandomForestClassifier(),\n",
    "    #                                         {'max_depth': np.arange(2, 11)},\n",
    "    #                                         n_jobs=3, verbose=1)\n",
    "    \n",
    "    feature = sklearn.preprocessing.StandardScaler()\n",
    "    model = sklearn.pipeline.Pipeline([('scaler', feature), ('predictor', _model)])\n",
    "    \n",
    "    model.fit(X_train, Y_train, )\n",
    "    \n",
    "    print 'Loading testing data...'\n",
    "    X_test, Y_test = load_batch([_files[_] for _ in testf],\n",
    "                                n_pos=None,\n",
    "                                n_neg=None)"
   ]
  },
  {
   "cell_type": "code",
   "execution_count": 39,
   "metadata": {
    "collapsed": false
   },
   "outputs": [],
   "source": [
    "M = model.steps[1][1]"
   ]
  },
  {
   "cell_type": "code",
   "execution_count": 40,
   "metadata": {
    "collapsed": false
   },
   "outputs": [
    {
     "data": {
      "text/plain": [
       "{'alpha': 0.10000000000000001, 'penalty': 'l1'}"
      ]
     },
     "execution_count": 40,
     "metadata": {},
     "output_type": "execute_result"
    }
   ],
   "source": [
    "M.best_params_"
   ]
  },
  {
   "cell_type": "code",
   "execution_count": 41,
   "metadata": {
    "collapsed": false
   },
   "outputs": [
    {
     "data": {
      "text/plain": [
       "<matplotlib.colorbar.Colorbar instance at 0x7f6395323fc8>"
      ]
     },
     "execution_count": 41,
     "metadata": {},
     "output_type": "execute_result"
    },
    {
     "data": {
      "image/png": "[encoded data removed]",
      "text/plain": [
       "<matplotlib.figure.Figure at 0x7f638e342e50>"
      ]
     },
     "metadata": {},
     "output_type": "display_data"
    }
   ],
   "source": [
    "w = model.steps[1][1].best_estimator_.coef_[0]\n",
    "w = w.reshape((-1, 84))\n",
    "plt.imshow(w.T, aspect='auto', interpolation='none', cmap='coolwarm', origin='lower')\n",
    "plt.ylabel('CQT bin')\n",
    "plt.xlabel('Context position')\n",
    "plt.title('$w$')\n",
    "plt.xticks(np.arange(5), np.arange(-2, 3))\n",
    "plt.colorbar()"
   ]
  },
  {
   "cell_type": "code",
   "execution_count": 42,
   "metadata": {
    "collapsed": false
   },
   "outputs": [
    {
     "name": "stdout",
     "output_type": "stream",
     "text": [
      "             precision    recall  f1-score   support\n",
      "\n",
      "          0       0.73      0.34      0.46     13414\n",
      "          1       0.56      0.87      0.68     13096\n",
      "\n",
      "avg / total       0.64      0.60      0.57     26510\n",
      "\n"
     ]
    }
   ],
   "source": [
    "print sklearn.metrics.classification_report(Y_train, model.predict(X_train))"
   ]
  },
  {
   "cell_type": "code",
   "execution_count": 43,
   "metadata": {
    "collapsed": false
   },
   "outputs": [
    {
     "data": {
      "text/plain": [
       "0.6004526593738212"
      ]
     },
     "execution_count": 43,
     "metadata": {},
     "output_type": "execute_result"
    }
   ],
   "source": [
    "sklearn.metrics.accuracy_score(Y_train, model.predict(X_train))"
   ]
  },
  {
   "cell_type": "code",
   "execution_count": 44,
   "metadata": {
    "collapsed": false
   },
   "outputs": [],
   "source": [
    "Y_pred = [model.predict(xt) for xt in X_test]"
   ]
  },
  {
   "cell_type": "code",
   "execution_count": 45,
   "metadata": {
    "collapsed": false
   },
   "outputs": [],
   "source": [
    "Y_pred_proba = np.concatenate([model.predict_proba(xt) for xt in X_test], axis=0)"
   ]
  },
  {
   "cell_type": "code",
   "execution_count": 46,
   "metadata": {
    "collapsed": false
   },
   "outputs": [],
   "source": [
    "Y_pred = np.concatenate(Y_pred, axis=0)"
   ]
  },
  {
   "cell_type": "code",
   "execution_count": 47,
   "metadata": {
    "collapsed": false
   },
   "outputs": [
    {
     "name": "stdout",
     "output_type": "stream",
     "text": [
      "             precision    recall  f1-score   support\n",
      "\n",
      "          0       0.82      0.28      0.42     26902\n",
      "          1       0.34      0.86      0.49     11818\n",
      "\n",
      "avg / total       0.67      0.46      0.44     38720\n",
      "\n"
     ]
    }
   ],
   "source": [
    "print sklearn.metrics.classification_report(Y_test, Y_pred)"
   ]
  },
  {
   "cell_type": "code",
   "execution_count": 48,
   "metadata": {
    "collapsed": false
   },
   "outputs": [
    {
     "data": {
      "text/plain": [
       "0.45599173553719008"
      ]
     },
     "execution_count": 48,
     "metadata": {},
     "output_type": "execute_result"
    }
   ],
   "source": [
    "sklearn.metrics.accuracy_score(Y_test, Y_pred)"
   ]
  },
  {
   "cell_type": "markdown",
   "metadata": {},
   "source": [
    "---"
   ]
  },
  {
   "cell_type": "code",
   "execution_count": 22,
   "metadata": {
    "collapsed": true
   },
   "outputs": [],
   "source": [
    "import cPickle as pickle"
   ]
  },
  {
   "cell_type": "code",
   "execution_count": 92,
   "metadata": {
    "collapsed": false
   },
   "outputs": [],
   "source": [
    "pickle.dump({'model': model, 'dataset': 'salami_beat'},\n",
    "            open('../data/similarity_model_salami_beat_bias_est_brawndo.pickle', 'w'))\n",
    "#pickle.dump({'model': model, 'dataset': 'isophonics_beat'},\n",
    "            #open('../data/similarity_model_isophonics_beat_bias_est_brawndo.pickle', 'w'))"
   ]
  },
  {
   "cell_type": "markdown",
   "metadata": {},
   "source": [
    "---"
   ]
  },
  {
   "cell_type": "code",
   "execution_count": 98,
   "metadata": {
    "collapsed": true
   },
   "outputs": [],
   "source": [
    "Xtrains2 = np.mean(X_train**2, axis=1, keepdims=True)"
   ]
  },
  {
   "cell_type": "code",
   "execution_count": 99,
   "metadata": {
    "collapsed": true
   },
   "outputs": [],
   "source": [
    "Xtests2 = np.mean(X_test**2, axis=1, keepdims=True)"
   ]
  },
  {
   "cell_type": "code",
   "execution_count": 100,
   "metadata": {
    "collapsed": true
   },
   "outputs": [],
   "source": [
    "seaborn.set_style('darkgrid')"
   ]
  },
  {
   "cell_type": "code",
   "execution_count": 101,
   "metadata": {
    "collapsed": true
   },
   "outputs": [],
   "source": [
    "import sklearn.neighbors"
   ]
  },
  {
   "cell_type": "code",
   "execution_count": 102,
   "metadata": {
    "collapsed": false
   },
   "outputs": [
    {
     "name": "stdout",
     "output_type": "stream",
     "text": [
      "Fitting 5 folds for each of 5 candidates, totalling 25 fits\n"
     ]
    },
    {
     "name": "stderr",
     "output_type": "stream",
     "text": [
      "[Parallel(n_jobs=3)]: Done   1 jobs       | elapsed:   11.5s\n",
      "[Parallel(n_jobs=3)]: Done  21 out of  25 | elapsed:  1.5min remaining:   17.3s\n",
      "[Parallel(n_jobs=3)]: Done  25 out of  25 | elapsed:  1.7min finished\n"
     ]
    },
    {
     "data": {
      "text/plain": [
       "GridSearchCV(cv=5, error_score='raise',\n",
       "       estimator=KernelDensity(algorithm='auto', atol=0, bandwidth=1.0, breadth_first=True,\n",
       "       kernel='gaussian', leaf_size=40, metric='euclidean',\n",
       "       metric_params=None, rtol=0),\n",
       "       fit_params={}, iid=True, loss_func=None, n_jobs=3,\n",
       "       param_grid={'bandwidth': array([ 0.1  ,  0.325,  0.55 ,  0.775,  1.   ])},\n",
       "       pre_dispatch='2*n_jobs', refit=True, score_func=None, scoring=None,\n",
       "       verbose=1)"
      ]
     },
     "execution_count": 102,
     "metadata": {},
     "output_type": "execute_result"
    }
   ],
   "source": [
    "KDE_pos = sklearn.grid_search.GridSearchCV(sklearn.neighbors.KernelDensity(),\n",
    "                                           {'bandwidth': np.linspace(0.1, 1.0, 5)},\n",
    "                                           verbose=1,\n",
    "                                           n_jobs=3,\n",
    "                                           cv=5)\n",
    "KDE_pos.fit(Xtrains2[Y_train > 0])"
   ]
  },
  {
   "cell_type": "code",
   "execution_count": 103,
   "metadata": {
    "collapsed": false
   },
   "outputs": [
    {
     "name": "stdout",
     "output_type": "stream",
     "text": [
      "Fitting 5 folds for each of 3 candidates, totalling 15 fits\n"
     ]
    },
    {
     "name": "stderr",
     "output_type": "stream",
     "text": [
      "[Parallel(n_jobs=3)]: Done   1 jobs       | elapsed:   14.5s\n",
      "[Parallel(n_jobs=3)]: Done  11 out of  15 | elapsed:  1.2min remaining:   25.4s\n",
      "[Parallel(n_jobs=3)]: Done  15 out of  15 | elapsed:  1.4min finished\n"
     ]
    },
    {
     "data": {
      "text/plain": [
       "GridSearchCV(cv=5, error_score='raise',\n",
       "       estimator=KernelDensity(algorithm='auto', atol=0, bandwidth=1.0, breadth_first=True,\n",
       "       kernel='gaussian', leaf_size=40, metric='euclidean',\n",
       "       metric_params=None, rtol=0),\n",
       "       fit_params={}, iid=True, loss_func=None, n_jobs=3,\n",
       "       param_grid={'bandwidth': array([ 0.1 ,  0.55,  1.  ])},\n",
       "       pre_dispatch='2*n_jobs', refit=True, score_func=None, scoring=None,\n",
       "       verbose=1)"
      ]
     },
     "execution_count": 103,
     "metadata": {},
     "output_type": "execute_result"
    }
   ],
   "source": [
    "KDE_neg = sklearn.grid_search.GridSearchCV(sklearn.neighbors.KernelDensity(),\n",
    "                                           {'bandwidth': np.linspace(0.1, 1.0, 3)},\n",
    "                                           verbose=1,\n",
    "                                           n_jobs=3,\n",
    "                                           cv=5)\n",
    "KDE_neg.fit(Xtrains2[Y_train < 1])"
   ]
  },
  {
   "cell_type": "code",
   "execution_count": 104,
   "metadata": {
    "collapsed": false
   },
   "outputs": [],
   "source": [
    "Y_pred_kde = (KDE_pos.best_estimator_.score_samples(Xtests2) >\n",
    "              KDE_neg.best_estimator_.score_samples(Xtests2))"
   ]
  },
  {
   "cell_type": "code",
   "execution_count": 105,
   "metadata": {
    "collapsed": false
   },
   "outputs": [
    {
     "name": "stdout",
     "output_type": "stream",
     "text": [
      "             precision    recall  f1-score   support\n",
      "\n",
      "          0       0.66      0.68      0.67    143276\n",
      "          1       0.58      0.56      0.57    114243\n",
      "\n",
      "avg / total       0.62      0.62      0.62    257519\n",
      "\n"
     ]
    }
   ],
   "source": [
    "print sklearn.metrics.classification_report(Y_test[:len(Y_pred_kde)], Y_pred_kde)"
   ]
  },
  {
   "cell_type": "code",
   "execution_count": 106,
   "metadata": {
    "collapsed": false
   },
   "outputs": [
    {
     "ename": "ValueError",
     "evalue": "need more than 1 value to unpack",
     "output_type": "error",
     "traceback": [
      "\u001b[1;31m---------------------------------------------------------------------------\u001b[0m",
      "\u001b[1;31mValueError\u001b[0m                                Traceback (most recent call last)",
      "\u001b[1;32m<ipython-input-106-d8507f42514d>\u001b[0m in \u001b[0;36m<module>\u001b[1;34m()\u001b[0m\n\u001b[1;32m----> 1\u001b[1;33m \u001b[0mseaborn\u001b[0m\u001b[1;33m.\u001b[0m\u001b[0mkdeplot\u001b[0m\u001b[1;33m(\u001b[0m\u001b[0mnp\u001b[0m\u001b[1;33m.\u001b[0m\u001b[0mlog\u001b[0m\u001b[1;33m(\u001b[0m\u001b[0mXtrains2\u001b[0m\u001b[1;33m[\u001b[0m\u001b[0mY_train\u001b[0m \u001b[1;33m>\u001b[0m \u001b[1;36m0\u001b[0m\u001b[1;33m]\u001b[0m\u001b[1;33m)\u001b[0m\u001b[1;33m,\u001b[0m \u001b[0mshade\u001b[0m\u001b[1;33m=\u001b[0m\u001b[0mTrue\u001b[0m\u001b[1;33m,\u001b[0m \u001b[0mlabel\u001b[0m\u001b[1;33m=\u001b[0m\u001b[1;34m'Positive'\u001b[0m\u001b[1;33m)\u001b[0m\u001b[1;33m\u001b[0m\u001b[0m\n\u001b[0m\u001b[0;32m      2\u001b[0m \u001b[0mseaborn\u001b[0m\u001b[1;33m.\u001b[0m\u001b[0mkdeplot\u001b[0m\u001b[1;33m(\u001b[0m\u001b[0mnp\u001b[0m\u001b[1;33m.\u001b[0m\u001b[0mlog\u001b[0m\u001b[1;33m(\u001b[0m\u001b[0mXtrains2\u001b[0m\u001b[1;33m[\u001b[0m\u001b[0mY_train\u001b[0m \u001b[1;33m<\u001b[0m \u001b[1;36m1\u001b[0m\u001b[1;33m]\u001b[0m\u001b[1;33m)\u001b[0m\u001b[1;33m,\u001b[0m \u001b[0mshade\u001b[0m\u001b[1;33m=\u001b[0m\u001b[0mTrue\u001b[0m\u001b[1;33m,\u001b[0m \u001b[0mlabel\u001b[0m\u001b[1;33m=\u001b[0m\u001b[1;34m'Negative'\u001b[0m\u001b[1;33m)\u001b[0m\u001b[1;33m\u001b[0m\u001b[0m\n\u001b[0;32m      3\u001b[0m \u001b[0mplt\u001b[0m\u001b[1;33m.\u001b[0m\u001b[0mlegend\u001b[0m\u001b[1;33m(\u001b[0m\u001b[0mloc\u001b[0m\u001b[1;33m=\u001b[0m\u001b[1;34m'best'\u001b[0m\u001b[1;33m)\u001b[0m\u001b[1;33m\u001b[0m\u001b[0m\n",
      "\u001b[1;32m/usr/local/lib/python2.7/dist-packages/seaborn/distributions.pyc\u001b[0m in \u001b[0;36mkdeplot\u001b[1;34m(data, data2, shade, vertical, kernel, bw, gridsize, cut, clip, legend, ax, cumulative, **kwargs)\u001b[0m\n\u001b[0;32m    845\u001b[0m     \u001b[1;32mif\u001b[0m \u001b[0misinstance\u001b[0m\u001b[1;33m(\u001b[0m\u001b[0mdata\u001b[0m\u001b[1;33m,\u001b[0m \u001b[0mnp\u001b[0m\u001b[1;33m.\u001b[0m\u001b[0mndarray\u001b[0m\u001b[1;33m)\u001b[0m \u001b[1;32mand\u001b[0m \u001b[0mnp\u001b[0m\u001b[1;33m.\u001b[0m\u001b[0mndim\u001b[0m\u001b[1;33m(\u001b[0m\u001b[0mdata\u001b[0m\u001b[1;33m)\u001b[0m \u001b[1;33m>\u001b[0m \u001b[1;36m1\u001b[0m\u001b[1;33m:\u001b[0m\u001b[1;33m\u001b[0m\u001b[0m\n\u001b[0;32m    846\u001b[0m         \u001b[0mbivariate\u001b[0m \u001b[1;33m=\u001b[0m \u001b[0mTrue\u001b[0m\u001b[1;33m\u001b[0m\u001b[0m\n\u001b[1;32m--> 847\u001b[1;33m         \u001b[0mx\u001b[0m\u001b[1;33m,\u001b[0m \u001b[0my\u001b[0m \u001b[1;33m=\u001b[0m \u001b[0mdata\u001b[0m\u001b[1;33m.\u001b[0m\u001b[0mT\u001b[0m\u001b[1;33m\u001b[0m\u001b[0m\n\u001b[0m\u001b[0;32m    848\u001b[0m     \u001b[1;32melif\u001b[0m \u001b[0misinstance\u001b[0m\u001b[1;33m(\u001b[0m\u001b[0mdata\u001b[0m\u001b[1;33m,\u001b[0m \u001b[0mpd\u001b[0m\u001b[1;33m.\u001b[0m\u001b[0mDataFrame\u001b[0m\u001b[1;33m)\u001b[0m \u001b[1;32mand\u001b[0m \u001b[0mnp\u001b[0m\u001b[1;33m.\u001b[0m\u001b[0mndim\u001b[0m\u001b[1;33m(\u001b[0m\u001b[0mdata\u001b[0m\u001b[1;33m)\u001b[0m \u001b[1;33m>\u001b[0m \u001b[1;36m1\u001b[0m\u001b[1;33m:\u001b[0m\u001b[1;33m\u001b[0m\u001b[0m\n\u001b[0;32m    849\u001b[0m         \u001b[0mbivariate\u001b[0m \u001b[1;33m=\u001b[0m \u001b[0mTrue\u001b[0m\u001b[1;33m\u001b[0m\u001b[0m\n",
      "\u001b[1;31mValueError\u001b[0m: need more than 1 value to unpack"
     ]
    },
    {
     "data": {
      "image/png": "[encoded data removed]",
      "text/plain": [
       "<matplotlib.figure.Figure at 0x7f4338b12fd0>"
      ]
     },
     "metadata": {},
     "output_type": "display_data"
    }
   ],
   "source": [
    "seaborn.kdeplot(np.log(Xtrains2[Y_train > 0]), shade=True, label='Positive')\n",
    "seaborn.kdeplot(np.log(Xtrains2[Y_train < 1]), shade=True, label='Negative')\n",
    "plt.legend(loc='best')"
   ]
  }
 ],
 "metadata": {
  "kernelspec": {
   "display_name": "Python 2",
   "language": "python",
   "name": "python2"
  },
  "language_info": {
   "codemirror_mode": {
    "name": "ipython",
    "version": 2
   },
   "file_extension": ".py",
   "mimetype": "text/x-python",
   "name": "python",
   "nbconvert_exporter": "python",
   "pygments_lexer": "ipython2",
   "version": "2.7.8"
  }
 },
 "nbformat": 4,
 "nbformat_minor": 0
}
