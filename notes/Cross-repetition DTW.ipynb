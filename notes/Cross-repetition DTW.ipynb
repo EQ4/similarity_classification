{
 "cells": [
  {
   "cell_type": "markdown",
   "metadata": {},
   "source": [
    "# Cross-repetition dtw\n",
    "\n",
    "* Idea: we need strong positive examples for training repetition detection\n",
    "* Approach\n",
    "  * Get labeled segmentations\n",
    "  * For each track, and each pair of sections within a track, run dtw\n",
    "  * See if we can threshold the dtw cost to determine whether or not two sections are repetitions of one-another\n",
    "  * If so, take the path as a set of ground-truth positives\n",
    "  * Sample negatives iid at random\n",
    "  * win everything\n",
    "  \n",
    "* Extensions\n",
    "  * In the downstream classifier, use *windows* of beat-sync features\n",
    "  * That way we can get some smoothing and local context"
   ]
  },
  {
   "cell_type": "code",
   "execution_count": 2,
   "metadata": {
    "collapsed": true
   },
   "outputs": [],
   "source": [
    "import librosa\n",
    "import dtw\n",
    "import matplotlib.pyplot as plt\n",
    "import seaborn\n",
    "seaborn.set(style='dark')\n",
    "%matplotlib inline\n",
    "\n",
    "import numpy as np\n",
    "import scipy\n",
    "import mir_eval"
   ]
  },
  {
   "cell_type": "code",
   "execution_count": 3,
   "metadata": {
    "collapsed": true
   },
   "outputs": [],
   "source": [
    "def lab_to_aud(fname):\n",
    "    \n",
    "    fname = fname.replace('seglab_tut', 'audio')\n",
    "    fname = fname.replace('.lab', '.flac')\n",
    "    \n",
    "    return fname"
   ]
  },
  {
   "cell_type": "code",
   "execution_count": 94,
   "metadata": {
    "collapsed": true
   },
   "outputs": [],
   "source": [
    "def make_cost_matrix(lab_file):\n",
    "    \n",
    "    y, sr = librosa.load(lab_to_aud(lab_file))\n",
    "    \n",
    "    intervals, labels = mir_eval.io.load_labeled_intervals(lab_file)\n",
    "    \n",
    "    cqgram = librosa.cqt(y, sr=sr)\n",
    "    #cqgram = librosa.feature.chroma_cqt(y=y, sr=sr)\n",
    "    \n",
    "    # convert intervals to frames\n",
    "    intframes = librosa.time_to_frames(intervals)\n",
    "    \n",
    "    tempo, beats = librosa.beat.beat_track(y=y, sr=sr, trim=False)\n",
    "    \n",
    "    # Sub-divide\n",
    "    subseg = librosa.segment.subsegment(cqgram, beats)\n",
    "    subseg = librosa.util.fix_frames(subseg, x_min=0, x_max=cqgram.shape[1])\n",
    "    \n",
    "    # Synchronize\n",
    "    cqgram = librosa.feature.sync(cqgram, subseg, aggregate=np.median)\n",
    "    \n",
    "    # Match intervals to subseg points\n",
    "    intframes = librosa.util.match_events(intframes, subseg)\n",
    "\n",
    "    D = np.zeros((len(labels), len(labels)))\n",
    "    \n",
    "    for i in range(len(labels)):\n",
    "        x_slice = cqgram[:, intframes[i, 0]:intframes[i, 1]].T\n",
    "        for j in range(i+1, len(labels)):\n",
    "            y_slice = cqgram[:, intframes[j, 0]:intframes[j, 1]].T\n",
    "            try:\n",
    "                dtw_cost, distance, path = dtw.dtw(x_slice, y_slice)\n",
    "                #D[i, j] = dtw_cost\n",
    "                #D[i, j] /= max([np.diff(intframes[j]), np.diff(intframes[i])])\n",
    "                D[i, j] = np.mean(np.abs(path[1] - path[0]))\n",
    "            except:\n",
    "                D[i, j] = np.nan\n",
    "            \n",
    "            D[j, i] = D[i, j]\n",
    "            \n",
    "    return D, labels"
   ]
  },
  {
   "cell_type": "code",
   "execution_count": 5,
   "metadata": {
    "collapsed": true
   },
   "outputs": [],
   "source": [
    "lab_files = librosa.util.find_files('/home/bmcfee/data/beatles_iso/seglab_tut/', ext='lab')"
   ]
  },
  {
   "cell_type": "code",
   "execution_count": 97,
   "metadata": {
    "collapsed": false
   },
   "outputs": [
    {
     "data": {
      "text/plain": [
       "'/home/bmcfee/data/beatles_iso/seglab_tut/The Beatles/10CD1_-_The_Beatles/CD1_-_11_-_Black_Bird.lab'"
      ]
     },
     "execution_count": 97,
     "metadata": {},
     "output_type": "execute_result"
    }
   ],
   "source": [
    "k = 129\n",
    "lab_files[k]"
   ]
  },
  {
   "cell_type": "code",
   "execution_count": 98,
   "metadata": {
    "collapsed": false
   },
   "outputs": [],
   "source": [
    "D, labels = make_cost_matrix(lab_files[k])"
   ]
  },
  {
   "cell_type": "code",
   "execution_count": 100,
   "metadata": {
    "collapsed": false
   },
   "outputs": [
    {
     "data": {
      "image/png": "[encoded data removed]",
      "text/plain": [
       "<matplotlib.figure.Figure at 0x7f9dc3c8d190>"
      ]
     },
     "metadata": {},
     "output_type": "display_data"
    }
   ],
   "source": [
    "seaborn.heatmap(D, xticklabels=labels, yticklabels=labels)\n",
    "plt.tight_layout()"
   ]
  }
 ],
 "metadata": {
  "kernelspec": {
   "display_name": "Python 2",
   "language": "python",
   "name": "python2"
  },
  "language_info": {
   "codemirror_mode": {
    "name": "ipython",
    "version": 2
   },
   "file_extension": ".py",
   "mimetype": "text/x-python",
   "name": "python",
   "nbconvert_exporter": "python",
   "pygments_lexer": "ipython2",
   "version": "2.7.8"
  }
 },
 "nbformat": 4,
 "nbformat_minor": 0
}
