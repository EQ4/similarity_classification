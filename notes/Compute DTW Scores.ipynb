{
 "cells": [
  {
   "cell_type": "code",
   "execution_count": 13,
   "metadata": {
    "collapsed": true
   },
   "outputs": [],
   "source": [
    "import librosa\n",
    "import glob\n",
    "import os\n",
    "import dtw\n",
    "import matplotlib.pyplot as plt\n",
    "import seaborn\n",
    "seaborn.set(style='dark')\n",
    "%matplotlib inline\n",
    "\n",
    "import msaf # develop branch\n",
    "from msaf import jams2\n",
    "import numpy as np\n",
    "import scipy\n",
    "import mir_eval"
   ]
  },
  {
   "cell_type": "code",
   "execution_count": 14,
   "metadata": {
    "collapsed": true
   },
   "outputs": [],
   "source": [
    "ds_path = \"/Users/uriadmin/datasets/Segments/\""
   ]
  },
  {
   "cell_type": "code",
   "execution_count": null,
   "metadata": {
    "collapsed": false
   },
   "outputs": [],
   "source": [
    "%run 'Cross-repetition DTW.ipynb'"
   ]
  },
  {
   "cell_type": "code",
   "execution_count": 18,
   "metadata": {
    "collapsed": false
   },
   "outputs": [
    {
     "name": "stdout",
     "output_type": "stream",
     "text": [
      "769\n",
      "[[  0.00000000e+00   2.23000000e-01]\n",
      " [  2.23000000e-01   5.31620000e+01]\n",
      " [  5.31620000e+01   9.28200000e+01]\n",
      " [  9.28200000e+01   1.19208000e+02]\n",
      " [  1.19208000e+02   1.72036000e+02]\n",
      " [  1.72036000e+02   2.24811000e+02]\n",
      " [  2.24811000e+02   2.77775000e+02]\n",
      " [  2.77775000e+02   3.14269000e+02]] [u'silence', u'intro', u'verse', u'interlude', u'verse', u'bridge', u'verse', u'outro']\n"
     ]
    }
   ],
   "source": [
    "files = msaf.io.get_dataset_files(ds_path, ds_name=\"SALAMI\")\n",
    "print len(files)\n",
    "ref_inter, ref_labels = jams2.converters.load_jams_range(\n",
    "    files[0].ref_file, \"sections\", annotator=0, context=\"function\")\n",
    "print ref_inter, ref_labels\n",
    "D, labels = make_cost_matrix(files[0].audio_file, ref_inter, ref_labels)"
   ]
  },
  {
   "cell_type": "code",
   "execution_count": 22,
   "metadata": {
    "collapsed": false
   },
   "outputs": [
    {
     "name": "stdout",
     "output_type": "stream",
     "text": [
      "(8, 8)\n"
     ]
    }
   ],
   "source": [
    "print D.shape"
   ]
  },
  {
   "cell_type": "code",
   "execution_count": 19,
   "metadata": {
    "collapsed": false
   },
   "outputs": [
    {
     "name": "stderr",
     "output_type": "stream",
     "text": [
      ":0: FutureWarning: IPython widgets are experimental and may change in the future.\n"
     ]
    }
   ],
   "source": [
    "from IPython.html.widgets import interact"
   ]
  },
  {
   "cell_type": "code",
   "execution_count": 20,
   "metadata": {
    "collapsed": false
   },
   "outputs": [
    {
     "data": {
      "image/png": "[encoded data removed]",
      "text/plain": [
       "<matplotlib.figure.Figure at 0x11826c210>"
      ]
     },
     "metadata": {},
     "output_type": "display_data"
    }
   ],
   "source": [
    "@interact(threshold=(0, D.max(), D.max()//50))\n",
    "def _plot(threshold=0):\n",
    "    plt.figure(figsize=(5,4))\n",
    "    seaborn.heatmap((D<threshold), xticklabels=labels, yticklabels=labels)\n",
    "    plt.tight_layout()"
   ]
  },
  {
   "cell_type": "code",
   "execution_count": null,
   "metadata": {
    "collapsed": true
   },
   "outputs": [],
   "source": []
  }
 ],
 "metadata": {
  "kernelspec": {
   "display_name": "Python 2",
   "language": "python",
   "name": "python2"
  },
  "language_info": {
   "codemirror_mode": {
    "name": "ipython",
    "version": 2
   },
   "file_extension": ".py",
   "mimetype": "text/x-python",
   "name": "python",
   "nbconvert_exporter": "python",
   "pygments_lexer": "ipython2",
   "version": "2.7.8"
  }
 },
 "nbformat": 4,
 "nbformat_minor": 0
}
