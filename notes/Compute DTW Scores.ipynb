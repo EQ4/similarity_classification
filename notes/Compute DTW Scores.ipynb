{
 "cells": [
  {
   "cell_type": "code",
   "execution_count": 40,
   "metadata": {
    "collapsed": false
   },
   "outputs": [],
   "source": [
    "import librosa\n",
    "import glob\n",
    "import os\n",
    "import dtw\n",
    "import matplotlib.pyplot as plt\n",
    "import seaborn\n",
    "seaborn.set(style='dark')\n",
    "%matplotlib inline\n",
    "\n",
    "import msaf # develop branch\n",
    "from msaf import jams2\n",
    "import numpy as np\n",
    "import scipy\n",
    "import mir_eval\n",
    "import scipy.spatial.distance\n",
    "from joblib import Parallel, delayed\n",
    "import cPickle"
   ]
  },
  {
   "cell_type": "code",
   "execution_count": 60,
   "metadata": {
    "collapsed": true
   },
   "outputs": [],
   "source": [
    "ds_path = \"/Users/uri/datasets/Segments/\"\n",
    "ds_path = \"/home/uri/datasets/Segments/\""
   ]
  },
  {
   "cell_type": "code",
   "execution_count": 52,
   "metadata": {
    "collapsed": false
   },
   "outputs": [
    {
     "ename": "IndexError",
     "evalue": "list index out of range",
     "output_type": "error",
     "traceback": [
      "\u001b[1;31m---------------------------------------------------------------------------\u001b[0m",
      "\u001b[1;31mIndexError\u001b[0m                                Traceback (most recent call last)",
      "\u001b[1;32m<ipython-input-52-be5698bbcda8>\u001b[0m in \u001b[0;36m<module>\u001b[1;34m()\u001b[0m\n\u001b[0;32m      1\u001b[0m \u001b[0mk\u001b[0m \u001b[1;33m=\u001b[0m \u001b[1;36m39\u001b[0m\u001b[1;33m\u001b[0m\u001b[0m\n\u001b[1;32m----> 2\u001b[1;33m \u001b[0mlab_files\u001b[0m\u001b[1;33m[\u001b[0m\u001b[0mk\u001b[0m\u001b[1;33m]\u001b[0m\u001b[1;33m\u001b[0m\u001b[0m\n\u001b[0m",
      "\u001b[1;31mIndexError\u001b[0m: list index out of range"
     ]
    }
   ],
   "source": [
    "%run 'Cross-repetition DTW.ipynb'"
   ]
  },
  {
   "cell_type": "code",
   "execution_count": 53,
   "metadata": {
    "collapsed": true
   },
   "outputs": [],
   "source": [
    "%run 'Repetition detection threshold.ipynb'"
   ]
  },
  {
   "cell_type": "markdown",
   "metadata": {},
   "source": [
    "## Parameters to Explore ##\n",
    "\n",
    "Datasets (levels):\n",
    "\n",
    "* SALAMI (large_scale, small_scale)\n",
    "* Isophonics (function)\n",
    "\n",
    "Distances for the DTW scores:\n",
    "\n",
    "* L1\n",
    "* L2\n",
    "* correlation\n",
    "\n",
    "Normalization of the DTW scores to compute the threshold and the F-measures:\n",
    "\n",
    "* None\n",
    "* Minimum\n",
    "* Maximum\n",
    "* Harmonic Mean"
   ]
  },
  {
   "cell_type": "code",
   "execution_count": 58,
   "metadata": {
    "collapsed": false
   },
   "outputs": [],
   "source": [
    "datasets = [\"SALAMI\", \"Isophonics\"]\n",
    "dist_dict = {\n",
    "    \"L1\": lambda x, y: norm(x - y, ord=1), \n",
    "    \"L2\": scipy.spatial.distance.euclidean,\n",
    "    \"correlation\": scipy.spatial.distance.correlation\n",
    "}\n",
    "dataset_levels = {\n",
    "    \"Isophonics\": [\"function\"],\n",
    "    \"SALAMI\": [\"large_scale\", \"small_scale\"]\n",
    "}\n",
    "norms = [\"none\", \"min\", \"max\", \"hmean\"]"
   ]
  },
  {
   "cell_type": "code",
   "execution_count": 59,
   "metadata": {
    "collapsed": true
   },
   "outputs": [],
   "source": [
    "def compute_score(file_struct, level, dist_key):\n",
    "    try:\n",
    "        ref_inter, ref_labels = jams2.converters.load_jams_range(\n",
    "            file_struct.ref_file, \"sections\", annotator=0, context=level)\n",
    "        D, P = make_cost_matrix(file_struct.audio_file, ref_inter, ref_labels, dist=dist_dict[dist_key])\n",
    "        thresholds = {}\n",
    "        fmeasures = {}\n",
    "        for norm in norms:\n",
    "            thresholds[norm], fmeasures[norm] = plot_curve(file_name=file_struct.audio_file, \n",
    "                                                           intervals=ref_inter, labels=ref_labels,\n",
    "                                                           scores=D, norm=norm)\n",
    "    except:\n",
    "        print \"warning: no annotations for file\", file_struct.audio_file\n",
    "        ref_inter = None\n",
    "        ref_labels = None\n",
    "        scores = None\n",
    "        paths = None\n",
    "        thresholds = None\n",
    "        fmeasures = None\n",
    "    ret = {\n",
    "        \"intervals\": ref_inter,\n",
    "        \"labels\": ref_labels,\n",
    "        \"scores\": D,\n",
    "        \"paths\": P,\n",
    "        \"thresholds\": thresholds,\n",
    "        \"fmeasures\": fmeasures,\n",
    "        \"file_name\": os.path.basename(file_struct.audio_file)\n",
    "    }\n",
    "    return ret"
   ]
  },
  {
   "cell_type": "code",
   "execution_count": null,
   "metadata": {
    "collapsed": false
   },
   "outputs": [
    {
     "name": "stdout",
     "output_type": "stream",
     "text": [
      "Computing:  SALAMI large_scale correlation\n"
     ]
    }
   ],
   "source": [
    "n_jobs = 8\n",
    "\n",
    "for dataset in datasets:\n",
    "    files = msaf.io.get_dataset_files(ds_path, ds_name=dataset)\n",
    "    for level in dataset_levels[dataset]:\n",
    "        for dist_key in dist_dict.keys():\n",
    "            print \"Computing: \", dataset, level, dist_key\n",
    "            scores = Parallel(n_jobs=n_jobs)(delayed(compute_score)(\n",
    "                file_struct, level, dist_key)\n",
    "                for file_struct in files[:])\n",
    "            result = {\n",
    "                \"level\": level,\n",
    "                \"dist\": dist_key,\n",
    "                \"file_scores\": scores\n",
    "            }\n",
    "            out_file = \"scores_datasetE%s_levelE%s_distE%s.pk\" % (dataset, level, dist_key)\n",
    "            with open(out_file, \"w\") as f:\n",
    "                cPickle.dump(result, f)"
   ]
  },
  {
   "cell_type": "code",
   "execution_count": null,
   "metadata": {
    "collapsed": true
   },
   "outputs": [],
   "source": []
  }
 ],
 "metadata": {
  "kernelspec": {
   "display_name": "Python 2",
   "language": "python",
   "name": "python2"
  },
  "language_info": {
   "codemirror_mode": {
    "name": "ipython",
    "version": 2
   },
   "file_extension": ".py",
   "mimetype": "text/x-python",
   "name": "python",
   "nbconvert_exporter": "python",
   "pygments_lexer": "ipython2",
   "version": "2.7.6"
  }
 },
 "nbformat": 4,
 "nbformat_minor": 0
}
