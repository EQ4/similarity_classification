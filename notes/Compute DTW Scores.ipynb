{
 "cells": [
  {
   "cell_type": "code",
   "execution_count": 24,
   "metadata": {
    "collapsed": false
   },
   "outputs": [],
   "source": [
    "import librosa\n",
    "import glob\n",
    "import os\n",
    "import dtw\n",
    "import matplotlib.pyplot as plt\n",
    "import seaborn\n",
    "seaborn.set(style='dark')\n",
    "%matplotlib inline\n",
    "\n",
    "import msaf # develop branch\n",
    "from msaf import jams2\n",
    "import numpy as np\n",
    "import scipy\n",
    "import mir_eval\n",
    "import scipy.spatial.distance\n",
    "from joblib import Parallel, delayed\n",
    "import cPickle"
   ]
  },
  {
   "cell_type": "code",
   "execution_count": 25,
   "metadata": {
    "collapsed": true
   },
   "outputs": [],
   "source": [
    "ds_path = \"/Users/uri/datasets/Segments/\"\n",
    "ds_path = \"/home/uri/datasets/Segments/\""
   ]
  },
  {
   "cell_type": "code",
   "execution_count": 26,
   "metadata": {
    "collapsed": false
   },
   "outputs": [
    {
     "ename": "IndexError",
     "evalue": "list index out of range",
     "output_type": "error",
     "traceback": [
      "\u001b[0;31m---------------------------------------------------------------------------\u001b[0m",
      "\u001b[0;31mIndexError\u001b[0m                                Traceback (most recent call last)",
      "\u001b[0;32m<ipython-input-26-be5698bbcda8>\u001b[0m in \u001b[0;36m<module>\u001b[0;34m()\u001b[0m\n\u001b[1;32m      1\u001b[0m \u001b[0mk\u001b[0m \u001b[0;34m=\u001b[0m \u001b[0;36m39\u001b[0m\u001b[0;34m\u001b[0m\u001b[0m\n\u001b[0;32m----> 2\u001b[0;31m \u001b[0mlab_files\u001b[0m\u001b[0;34m[\u001b[0m\u001b[0mk\u001b[0m\u001b[0;34m]\u001b[0m\u001b[0;34m\u001b[0m\u001b[0m\n\u001b[0m",
      "\u001b[0;31mIndexError\u001b[0m: list index out of range"
     ]
    }
   ],
   "source": [
    "%run 'Cross-repetition DTW.ipynb'"
   ]
  },
  {
   "cell_type": "code",
   "execution_count": 27,
   "metadata": {
    "collapsed": true
   },
   "outputs": [],
   "source": [
    "%run 'Repetition detection threshold.ipynb'"
   ]
  },
  {
   "cell_type": "code",
   "execution_count": 19,
   "metadata": {
    "collapsed": false
   },
   "outputs": [
    {
     "name": "stdout",
     "output_type": "stream",
     "text": [
      "769\n",
      "/home/uri/datasets/Segments/references/SALAMI_396.jams\n",
      "[[   0.       0.196]\n",
      " [   0.196    7.663]\n",
      " [   7.663   15.232]\n",
      " [  15.232   22.686]\n",
      " [  22.686   29.93 ]\n",
      " [  29.93    37.314]\n",
      " [  37.314   44.606]\n",
      " [  44.606   51.897]\n",
      " [  51.897   59.211]\n",
      " [  59.211   66.641]\n",
      " [  66.641   74.025]\n",
      " [  74.025   81.316]\n",
      " [  81.316   88.677]\n",
      " [  88.677   96.038]\n",
      " [  96.038  103.375]\n",
      " [ 103.375  110.713]\n",
      " [ 110.713  118.027]\n",
      " [ 118.027  125.388]\n",
      " [ 125.388  132.679]\n",
      " [ 132.679  140.063]\n",
      " [ 140.063  147.493]\n",
      " [ 147.493  154.854]\n",
      " [ 154.854  162.261]\n",
      " [ 162.261  169.742]\n",
      " [ 169.742  176.662]\n",
      " [ 176.662  179.67 ]] [u'z', u'b', u'b', u'c', u'd', u'e', u'e', u'e', u'e', u'f', u'f', u'f', u'f', u'g', u'g', u'g', u'g', u'h', u'h', u'h', u'h', u'i', u'i', u'j', u'k', u\"z'\"]\n"
     ]
    }
   ],
   "source": [
    "files = msaf.io.get_dataset_files(ds_path, ds_name=\"SALAMI\")\n",
    "print len(files)\n",
    "ref_inter, ref_labels = jams2.converters.load_jams_range(\n",
    "    files[0].ref_file, \"sections\", annotator=0, context=\"small_scale\")\n",
    "print files[0].ref_file\n",
    "print ref_inter, ref_labels\n",
    "D, labels = make_cost_matrix(files[0].audio_file, ref_inter, ref_labels, dist=scipy.spatial.distance.correlation)"
   ]
  },
  {
   "cell_type": "code",
   "execution_count": 29,
   "metadata": {
    "collapsed": false
   },
   "outputs": [],
   "source": [
    "datasets = [\"SALAMI\", \"Isophonics\"]\n",
    "dist_dict = {\n",
    "    \"L1\": lambda x, y: norm(x - y, ord=1), \n",
    "    \"L2\": scipy.spatial.distance.euclidean,\n",
    "    \"correlation\": scipy.spatial.distance.correlation\n",
    "}\n",
    "dataset_levels = {\n",
    "    \"Isophonics\": [\"function\"],\n",
    "    \"SALAMI\": [\"large_scale\", \"small_scale\"]\n",
    "}"
   ]
  },
  {
   "cell_type": "code",
   "execution_count": 30,
   "metadata": {
    "collapsed": true
   },
   "outputs": [],
   "source": [
    "def compute_score(file_struct, level, dist_key):\n",
    "    try:\n",
    "        ref_inter, ref_labels = jams2.converters.load_jams_range(\n",
    "            file_struct.ref_file, \"sections\", annotator=0, context=level)\n",
    "        D, labels = make_cost_matrix(file_struct.audio_file, ref_inter, ref_labels, dist=dist_dict[dist_key])\n",
    "    except:\n",
    "        print \"warning: no annotations for file\", file_struct.audio_file\n",
    "        ref_inter = None\n",
    "        ref_labels = None\n",
    "        scores = None\n",
    "    ret = {\n",
    "        \"intervals\": ref_inter,\n",
    "        \"labels\": ref_labels,\n",
    "        \"scores\": D,\n",
    "        \"file\": os.path.basename(file_struct.audio_file)\n",
    "    }\n",
    "    return ret"
   ]
  },
  {
   "cell_type": "code",
   "execution_count": null,
   "metadata": {
    "collapsed": false
   },
   "outputs": [
    {
     "name": "stdout",
     "output_type": "stream",
     "text": [
      "Computing:  SALAMI large_scale correlation\n"
     ]
    }
   ],
   "source": [
    "n_jobs = 8\n",
    "\n",
    "for dataset in datasets:\n",
    "    for level in dataset_levels[dataset]:\n",
    "        for dist_key in dist_dict.keys():\n",
    "            print \"Computing: \", dataset, level, dist_key\n",
    "            scores = Parallel(n_jobs=n_jobs)(delayed(compute_score)(\n",
    "                file_struct, level, dist_key)\n",
    "                for file_struct in files[:])\n",
    "            result = {\n",
    "                \"level\": level,\n",
    "                \"dist\": dist_key,\n",
    "                \"file_scores\": scores\n",
    "            }\n",
    "            out_file = \"scores_datasetE%s_levelE%s_distE%s.pk\" % (dataset, level, dist_key)\n",
    "            with open(out_file, \"w\") as f:\n",
    "                cPickle.dump(result, f)"
   ]
  },
  {
   "cell_type": "code",
   "execution_count": null,
   "metadata": {
    "collapsed": true
   },
   "outputs": [],
   "source": []
  }
 ],
 "metadata": {
  "kernelspec": {
   "display_name": "Python 2",
   "language": "python",
   "name": "python2"
  },
  "language_info": {
   "codemirror_mode": {
    "name": "ipython",
    "version": 2
   },
   "file_extension": ".py",
   "mimetype": "text/x-python",
   "name": "python",
   "nbconvert_exporter": "python",
   "pygments_lexer": "ipython2",
   "version": "2.7.8"
  }
 },
 "nbformat": 4,
 "nbformat_minor": 0
}
