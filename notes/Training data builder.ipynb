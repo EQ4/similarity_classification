{
 "cells": [
  {
   "cell_type": "markdown",
   "metadata": {},
   "source": [
    "# Notes\n",
    "\n",
    "* `d2['file_scores'][k]['paths']` is a matrix of all-pairs segment-to-segment alignments\n",
    "  * indices are relative to the segment in question\n",
    "  * same..`['scores']` is the alignment scores: \n",
    "  * use `< thresholds['none']` to find the good segment pairs\n",
    "* generate data from\n",
    "  * isophonics functions\n",
    "  * salami functions\n",
    "  * l2 norm\n",
    "* samples:\n",
    "  * features = patches of cqt +- 5 frames on either side\n",
    "  * positives = drawn from pairs of segments below threshold\n",
    "  * negatives = \"\" above the threshold\n",
    "* model evaluation\n",
    "  * serra method or laplacian"
   ]
  },
  {
   "cell_type": "code",
   "execution_count": 1,
   "metadata": {
    "collapsed": true
   },
   "outputs": [],
   "source": [
    "import numpy as np\n",
    "import librosa\n",
    "import cPickle as pickle\n",
    "import numba\n",
    "import os\n",
    "from joblib import Parallel, delayed"
   ]
  },
  {
   "cell_type": "code",
   "execution_count": 2,
   "metadata": {
    "collapsed": true
   },
   "outputs": [],
   "source": [
    "%matplotlib inline\n",
    "import matplotlib.pyplot as plt"
   ]
  },
  {
   "cell_type": "code",
   "execution_count": 3,
   "metadata": {
    "collapsed": true
   },
   "outputs": [],
   "source": [
    "def symstack(X, n_steps=3, delay=1, **kwargs):\n",
    "    '''Symmetric history stacking.\n",
    "    \n",
    "    like librosa.feature.stack_memory, but IN THE FUTURE!!!\n",
    "    '''\n",
    "    rpad = n_steps * delay\n",
    "    Xpad = np.pad(X,\n",
    "                  [(0, 0), (0, rpad)],\n",
    "                  **kwargs)\n",
    "    \n",
    "    Xstack = librosa.feature.stack_memory(Xpad,\n",
    "                                          n_steps=2 * n_steps + 1,\n",
    "                                          delay=delay,\n",
    "                                          **kwargs)\n",
    "    \n",
    "    return Xstack[:, rpad:]"
   ]
  },
  {
   "cell_type": "code",
   "execution_count": 49,
   "metadata": {
    "collapsed": true
   },
   "outputs": [],
   "source": [
    "def load_feature_data(file_name, n_steps=5):\n",
    "    \n",
    "    fname = '../data/features/{}.pk'.format(file_name)\n",
    "    \n",
    "    data = pickle.load(open(fname, 'r'))\n",
    "    \n",
    "    return symstack(data['cqgram'].astype(np.float32),\n",
    "                    n_steps=n_steps,\n",
    "                    mode='edge'), data['intframes']"
   ]
  },
  {
   "cell_type": "code",
   "execution_count": 50,
   "metadata": {
    "collapsed": true
   },
   "outputs": [],
   "source": [
    "@numba.jit\n",
    "def similarity_paths(X_raw, t_i, t_j, n_samples, max_samples, only_one=True):\n",
    "    \n",
    "    X = np.empty((len(t_i), X_raw.shape[0]), dtype=X_raw.dtype)\n",
    "    \n",
    "    S = np.zeros((X_raw.shape[1], X_raw.shape[1]))\n",
    "    \n",
    "    k = 0\n",
    "    used_once = np.zeros(X_raw.shape[1], dtype=bool)\n",
    "    \n",
    "    for i, j in zip(t_i, t_j):\n",
    "        if n_samples[i] >= max_samples:\n",
    "            continue\n",
    "        \n",
    "        if only_one and (used_once[i] or used_once[j]):\n",
    "            continue\n",
    "            \n",
    "        S[i, j] = 1\n",
    "        n_samples[i] += 1\n",
    "        n_samples[j] += 1\n",
    "        used_once[i] = True\n",
    "        used_once[j] = True\n",
    "        \n",
    "        #X[k] = np.abs(X_raw[:, i] - X_raw[:, j])\n",
    "        #k = k + 1\n",
    "    \n",
    "    return S"
   ]
  },
  {
   "cell_type": "code",
   "execution_count": 51,
   "metadata": {
    "collapsed": true
   },
   "outputs": [],
   "source": [
    "import scipy.spatial"
   ]
  },
  {
   "cell_type": "code",
   "execution_count": 116,
   "metadata": {
    "collapsed": true
   },
   "outputs": [],
   "source": [
    "def plot_selfsim(max_samples=4,\n",
    "                       paths=None,\n",
    "                       file_name=None,\n",
    "                       thresholds=None,\n",
    "                       labels=None,\n",
    "                       intervals=None,\n",
    "                       fmeasures=None,\n",
    "                       scores=None):\n",
    "    \n",
    "    # intframes gives the section->cqt frame alignments\n",
    "    X_raw, intframes = load_feature_data(file_name)\n",
    "    \n",
    "    thresh = thresholds['none']\n",
    "    \n",
    "    n_segments = len(paths)\n",
    "    \n",
    "    n_samples = np.zeros((2, X_raw.shape[1]))\n",
    "    \n",
    "    ex_x, ex_y = [], []\n",
    "    \n",
    "    S = np.zeros((X_raw.shape[1], X_raw.shape[1]))\n",
    "    \n",
    "    for seg_i in range(n_segments):\n",
    "        off_i = intframes[seg_i, 0]\n",
    "        \n",
    "        for seg_j in range(seg_i + 1, len(paths[seg_i])):\n",
    "            off_j = intframes[seg_j, 0]\n",
    "            \n",
    "            if not isinstance(paths[seg_i][seg_j], list):\n",
    "                continue\n",
    "                \n",
    "            if scores[seg_i, seg_j] < thresh:\n",
    "                y = 1\n",
    "            else:\n",
    "                y = -1\n",
    "            \n",
    "            \n",
    "            # Pull out features from the path\n",
    "            t_i, t_j = paths[seg_i][seg_j]\n",
    "            t_i = t_i + off_i\n",
    "            t_j = t_j + off_j\n",
    "            S += y * similarity_paths(X_raw, t_i, t_j, n_samples[y], max_samples, only_one=(y>0))\n",
    "            \n",
    "    return S + S.T, scipy.spatial.distance.cdist(X_raw.T, X_raw.T, metric='cityblock')"
   ]
  },
  {
   "cell_type": "code",
   "execution_count": 117,
   "metadata": {
    "collapsed": true
   },
   "outputs": [],
   "source": [
    "@numba.jit\n",
    "def get_feature_paths(X_raw, t_i, t_j, n_samples, max_samples, only_one=True):\n",
    "    \n",
    "    X = np.empty((len(t_i), X_raw.shape[0]), dtype=X_raw.dtype)\n",
    "    \n",
    "    k = 0\n",
    "    used_once = np.zeros(X_raw.shape[1], dtype=bool)\n",
    "    \n",
    "    for i, j in zip(t_i, t_j):\n",
    "        if n_samples[i] >= max_samples:\n",
    "            continue\n",
    "            \n",
    "        if only_one and (used_once[i] or used_once[j]):\n",
    "            continue\n",
    "            \n",
    "        n_samples[i] += 1\n",
    "        n_samples[j] += 1\n",
    "        \n",
    "        used_once[i] = True\n",
    "        used_once[j] = True\n",
    "        \n",
    "        X[k] = np.abs(X_raw[:, i] - X_raw[:, j])\n",
    "        k = k + 1\n",
    "    \n",
    "    return X[:k]"
   ]
  },
  {
   "cell_type": "code",
   "execution_count": 118,
   "metadata": {
    "collapsed": false
   },
   "outputs": [],
   "source": [
    "def make_training_data(max_samples=4,\n",
    "                       paths=None,\n",
    "                       file_name=None,\n",
    "                       thresholds=None,\n",
    "                       labels=None,\n",
    "                       intervals=None,\n",
    "                       fmeasures=None,\n",
    "                       scores=None):\n",
    "    \n",
    "    # intframes gives the section->cqt frame alignments\n",
    "    X_raw, intframes = load_feature_data(file_name)\n",
    "    \n",
    "    thresh = thresholds['none']\n",
    "    \n",
    "    n_segments = len(paths)\n",
    "    \n",
    "    n_samples = np.zeros((2, X_raw.shape[1]))\n",
    "    \n",
    "    ex_x, ex_y = [], []\n",
    "    \n",
    "    for seg_i in range(n_segments):\n",
    "        off_i = intframes[seg_i, 0]\n",
    "        \n",
    "        for seg_j in range(seg_i + 1, len(paths[seg_i])):\n",
    "            off_j = intframes[seg_j, 0]\n",
    "            \n",
    "            if not isinstance(paths[seg_i][seg_j], list):\n",
    "                continue\n",
    "                \n",
    "            if scores[seg_i, seg_j] < thresh:\n",
    "                y = 1\n",
    "            else:\n",
    "                y = 0\n",
    "                \n",
    "            # Pull out features from the path\n",
    "            t_i, t_j = paths[seg_i][seg_j]\n",
    "            t_i = t_i + off_i\n",
    "            t_j = t_j + off_j\n",
    "            \n",
    "            X = get_feature_paths(X_raw, t_i, t_j, n_samples[y], max_samples, only_one=y)\n",
    "            ex_x.append(X)\n",
    "            ex_y.append(y * np.ones(len(X), dtype=np.int32))\n",
    "    \n",
    "    ex_x = np.concatenate(ex_x)\n",
    "    ex_y = np.concatenate(ex_y)\n",
    "\n",
    "    return ex_x, ex_y"
   ]
  },
  {
   "cell_type": "code",
   "execution_count": 55,
   "metadata": {
    "collapsed": true
   },
   "outputs": [],
   "source": [
    "import os\n",
    "def process_file(file_scores, max_samples=8):\n",
    "    \n",
    "    if file_scores['paths']:\n",
    "        X, Y = make_training_data(max_samples=max_samples,\n",
    "                                  **file_scores)\n",
    "        outfile = '../data/labeled_features/{}_beats.npz'.format(os.path.basename(file_scores['file_name']))\n",
    "        np.savez(outfile, X=X, Y=Y)"
   ]
  },
  {
   "cell_type": "code",
   "execution_count": 69,
   "metadata": {
    "collapsed": true
   },
   "outputs": [],
   "source": [
    "#all_data = pickle.load(open('../data/scores_datasetESALAMI_levelEfunction_distEL2.pk'))\n",
    "#all_data = pickle.load(open('../data/scores_datasetEIsophonics_levelEfunction_distEL2.pk'))\n",
    "all_data = pickle.load(open('../data/scores_datasetEIsophonics_levelEfunction_distEL2_beats.pk'))\n",
    "#all_data = pickle.load(open('../data/scores_datasetESALAMI_levelEfunction_distEL2_beats.pk'))"
   ]
  },
  {
   "cell_type": "code",
   "execution_count": 70,
   "metadata": {
    "collapsed": false
   },
   "outputs": [
    {
     "data": {
      "text/plain": [
       "[(0, 'Isophonics_15 Friends Will Be Friends.mp3'),\n",
       " (1, 'Isophonics_10_-_Things_We_Said_Today.mp3'),\n",
       " (2, 'Isophonics_1-06 Ben (Single Version).mp3'),\n",
       " (3, 'Isophonics_04 I Want It All.mp3'),\n",
       " (4, 'Isophonics_1-18 Human Nature.mp3'),\n",
       " (5, 'Isophonics_06_-_Let_It_Be.mp3'),\n",
       " (6, \"Isophonics_13_-_I'll_Be_Back.mp3\"),\n",
       " (7, 'Isophonics_06_-_Ask_Me_Why.mp3'),\n",
       " (8, 'Isophonics_CD1_-_13_-_Rocky_Raccoon.mp3'),\n",
       " (9, \"Isophonics_03_-_Baby's_In_Black.mp3\"),\n",
       " (10, 'Isophonics_CD1_-_09_-_Martha_My_Dear.mp3'),\n",
       " (11, 'Isophonics_11_-_In_My_Life.mp3'),\n",
       " (12, 'Isophonics_1-16 Beat It.mp3'),\n",
       " (13, 'Isophonics_CD2_-_01_-_Birthday.mp3'),\n",
       " (14, 'Isophonics_07_-_Kansas_City-_Hey,_Hey,_Hey,_Hey.mp3'),\n",
       " (15, 'Isophonics_18_-_Zuhause.mp3'),\n",
       " (16, 'Isophonics_15 No-One But You.mp3'),\n",
       " (17, 'Isophonics_15 Seven Seas Of Rhye.mp3'),\n",
       " (18, 'Isophonics_01_-_Taxman.mp3'),\n",
       " (19, 'Isophonics_08_-_Love_Me_Do.mp3'),\n",
       " (20, 'Isophonics_13_-_Not_A_Second_Time.mp3'),\n",
       " (21, 'Isophonics_17_-_Her_Majesty.mp3'),\n",
       " (22, 'Isophonics_02_-_Rawhide.mp3'),\n",
       " (23, 'Isophonics_08_-_Roll_Over_Beethoven.mp3'),\n",
       " (24, 'Isophonics_1-21 Thriller (Single Version).mp3'),\n",
       " (25, 'Isophonics_06_-_Yellow_Submarine.mp3'),\n",
       " (26, \"Isophonics_12_-_I've_Just_Seen_a_Face.mp3\"),\n",
       " (27, 'Isophonics_12_-_Get_Back.mp3'),\n",
       " (28, 'Isophonics_2-15 Earth Song (Radio Edit).mp3'),\n",
       " (29, 'Isophonics_1-15 Billie Jean.mp3'),\n",
       " (30, 'Isophonics_10_-_For_No_One.mp3'),\n",
       " (31, 'Isophonics_13_-_A_Day_In_The_Life.mp3'),\n",
       " (32, 'Isophonics_1-03 The Love You Save.mp3'),\n",
       " (33, 'Isophonics_1-01 I Want You Back.mp3'),\n",
       " (34, \"Isophonics_03_-_You_Won't_See_Me.mp3\"),\n",
       " (35, 'Isophonics_07_-_Akne.mp3'),\n",
       " (36, 'Isophonics_02 Under Pressure.mp3'),\n",
       " (37, 'Isophonics_07_-_Here_Comes_The_Sun.mp3'),\n",
       " (38, \"Isophonics_06_-_She's_Leaving_Home.mp3\"),\n",
       " (39, \"Isophonics_12_-_Sgt._Pepper's_Lonely_Hearts_Club_Band_(Reprise).mp3\"),\n",
       " (40, \"Isophonics_1-09 Don't Stop 'Til You Get Enough (2003 Edit).mp3\"),\n",
       " (41, 'Isophonics_07_-_Please_Mister_Postman.mp3'),\n",
       " (42, 'Isophonics_10 Living On My Own.mp3'),\n",
       " (43, 'Isophonics_15_-_Carry_That_Weight.mp3'),\n",
       " (44, 'Isophonics_1-13 Can You Feel It (Single Version).mp3'),\n",
       " (45, 'Isophonics_08_-_Within_You_Without_You.mp3'),\n",
       " (46, 'Isophonics_16_-_Zu_Leise_F\\xc3\\xbcr_Mich.mp3'),\n",
       " (47, 'Isophonics_03_-_All_My_Loving.mp3'),\n",
       " (48, 'Isophonics_08 Las Palabras De Amor.mp3'),\n",
       " (49, 'Isophonics_CD1_-_04_-_Ob-La-Di,_Ob-La-Da.mp3'),\n",
       " (50, 'Isophonics_05 I Want To Break Free.mp3'),\n",
       " (51, 'Isophonics_11_-_Mean_Mr_Mustard.mp3'),\n",
       " (52, \"Isophonics_07 Don't Stop Me Now.mp3\"),\n",
       " (53, 'Isophonics_05_-_Think_For_Yourself.mp3'),\n",
       " (54, 'Isophonics_07_-_Being_For_The_Benefit_Of_Mr._Kite!.mp3'),\n",
       " (55, 'Isophonics_05_-_Little_Child.mp3'),\n",
       " (56, \"Isophonics_2-16 They Don't Care About Us.mp3\"),\n",
       " (57, 'Isophonics_11_-_Good_Morning_Good_Morning.mp3'),\n",
       " (58, \"Isophonics_03_-_Maxwell's_Silver_Hammer.mp3\"),\n",
       " (59, 'Isophonics_03 Killer Queen.mp3'),\n",
       " (60, 'Isophonics_05_-_Boys.mp3'),\n",
       " (61, 'Isophonics_17_-_Duell.mp3'),\n",
       " (62, 'Isophonics_09_-_Hold_Me_Tight.mp3'),\n",
       " (63, 'Isophonics_11_-_Tell_Me_What_You_See.mp3'),\n",
       " (64, \"Isophonics_04_-_Don't_Bother_Me.mp3\"),\n",
       " (65, 'Isophonics_08_-_Eight_Days_a_Week.mp3'),\n",
       " (66, \"Isophonics_07_-_Can't_Buy_Me_Love.mp3\"),\n",
       " (67, 'Isophonics_13 Princes Of The Universe.mp3'),\n",
       " (68, 'Isophonics_05 Bicycle Race.mp3'),\n",
       " (69, 'Isophonics_15_-_Es_Wird_Alles_Wieder_Gut,_Herr_Professor.mp3'),\n",
       " (70, 'Isophonics_14 Hammer To Fall.mp3'),\n",
       " (71, 'Isophonics_09_-_Words_of_Love.mp3'),\n",
       " (72, \"Isophonics_02_-_I'm_a_Loser.mp3\"),\n",
       " (73, \"Isophonics_1-20 I Just Can't Stop Loving You.mp3\"),\n",
       " (74, 'Isophonics_08 Breakthru.mp3'),\n",
       " (75, 'Isophonics_04 Fat Bottomed Girls.mp3'),\n",
       " (76, 'Isophonics_06 Innuendo.mp3'),\n",
       " (77, 'Isophonics_10_-_Sun_King.mp3'),\n",
       " (78, 'Isophonics_2-03 Man In The Mirror.mp3'),\n",
       " (79, 'Isophonics_04_-_I_Need_You.mp3'),\n",
       " (80, 'Isophonics_04_-_Love_You_To.mp3'),\n",
       " (81, 'Isophonics_1-10 Off The Wall (Single Version).mp3'),\n",
       " (82, \"Isophonics_CD1_-_15_-_Why_Don't_We_Do_It_In_The_Road.mp3\"),\n",
       " (83, 'Isophonics_CD2_-_13_-_Good_Night.mp3'),\n",
       " (84, 'Isophonics_CD2_-_07_-_Long_Long_Long.mp3'),\n",
       " (85, 'Isophonics_10_-_Lovely_Rita.mp3'),\n",
       " (86, 'Isophonics_17 One Vision.mp3'),\n",
       " (87, 'Isophonics_04_-_Rock_and_Roll_Music.mp3'),\n",
       " (88, 'Isophonics_07_-_Maggie_Mae.mp3'),\n",
       " (89, 'Isophonics_CD1_-_01_-_Back_in_the_USSR.mp3'),\n",
       " (90, 'Isophonics_10_-_You_Really_Got_A_Hold_On_Me.mp3'),\n",
       " (91, 'Isophonics_04_-_Nowhere_Man.mp3'),\n",
       " (92, 'Isophonics_10_-_You_Like_Me_Too_Much.mp3'),\n",
       " (93, 'Isophonics_03_-_If_I_Fell.mp3'),\n",
       " (94, 'Isophonics_11_-_I_Wanna_Be_Your_Man.mp3'),\n",
       " (95, \"Isophonics_06 You're My Best Friend.mp3\"),\n",
       " (96, \"Isophonics_07 It's A Hard Life.mp3\"),\n",
       " (97, 'Isophonics_CD1_-_16_-_I_Will.mp3'),\n",
       " (98, 'Isophonics_09_-_Penny_Lane.mp3'),\n",
       " (99, \"Isophonics_10_-_Honey_Don't.mp3\"),\n",
       " (100, 'Isophonics_01_-_Two_of_Us.mp3'),\n",
       " (101, 'Isophonics_01_-_Come_Together.mp3'),\n",
       " (102, \"Isophonics_1-17 Wanna Be Startin' Somethin' (Single Version).mp3\"),\n",
       " (103, 'Isophonics_14 Flash.mp3'),\n",
       " (104, 'Isophonics_09 Crazy Little Thing Called Love.mp3'),\n",
       " (105, 'Isophonics_01_-_Magical_Mystery_Tour.mp3'),\n",
       " (106, 'Isophonics_04_-_Oh!_Darling.mp3'),\n",
       " (107, 'Isophonics_06_-_I_Want_You.mp3'),\n",
       " (108, 'Isophonics_2-01 Bad.mp3'),\n",
       " (109, \"Isophonics_03 It's Too Late.mp3\"),\n",
       " (110, 'Isophonics_06_-_Tell_Me_Why.mp3'),\n",
       " (111, 'Isophonics_06_-_Tigerfest.mp3'),\n",
       " (112, 'Isophonics_16 We Will Rock You.mp3'),\n",
       " (113, 'Isophonics_14_-_Tomorrow_Never_Knows.mp3'),\n",
       " (114, 'Isophonics_11 The Miracle.mp3'),\n",
       " (115,\n",
       "  \"Isophonics_CD2_-_04_-_Everybody's_Got_Something_To_Hide_Except_Me_and_My_Monkey.mp3\"),\n",
       " (116, 'Isophonics_CD2_-_08_-_Revolution_1.mp3'),\n",
       " (117, 'Isophonics_CD1_-_17_-_Julia.mp3'),\n",
       " (118, 'Isophonics_12_-_Jakob_Und_Marie.mp3'),\n",
       " (119, 'Isophonics_10_-_The_Long_and_Winding_Road.mp3'),\n",
       " (120, 'Isophonics_13 Out In The Cold.mp3'),\n",
       " (121, \"Isophonics_09_-_I'll_Cry_Instead.mp3\"),\n",
       " (122, 'Isophonics_01_-_Drive_My_Car.mp3'),\n",
       " (123, 'Isophonics_10 Somebody To Love.mp3'),\n",
       " (124, \"Isophonics_05_-_I'll_Follow_the_Sun.mp3\"),\n",
       " (125, 'Isophonics_1-07 Blame It On The Boogie.mp3'),\n",
       " (126, 'Isophonics_03 Barcelona.mp3'),\n",
       " (127, 'Isophonics_05_-_Dig_It.mp3'),\n",
       " (128, 'Isophonics_02_-_Something.mp3'),\n",
       " (129, 'Isophonics_04_-_Erbauliche_Gedanken_Eines_Tobackrauchers.mp3'),\n",
       " (130, 'Isophonics_09_-_And_Your_Bird_Can_Sing.mp3'),\n",
       " (131, 'Isophonics_06 Way Over Yonder.mp3'),\n",
       " (132, 'Isophonics_11_-_Every_Little_Thing.mp3'),\n",
       " (133, 'Isophonics_04_-_Chains.mp3'),\n",
       " (134, 'Isophonics_14 Another One Bites The Dust.mp3'),\n",
       " (135, 'Isophonics_11 Let Me Live.mp3'),\n",
       " (136, 'Isophonics_02_-_Norwegian_Wood_(This_Bird_Has_Flown).mp3'),\n",
       " (137, 'Isophonics_03_-_Anna_(Go_To_Him).mp3'),\n",
       " (138, 'Isophonics_01_-_I_Saw_Her_Standing_There.mp3'),\n",
       " (139, 'Isophonics_02_-_Misery.mp3'),\n",
       " (140, 'Isophonics_11_-_For_You_Blue.mp3'),\n",
       " (141, 'Isophonics_09_-_Girl.mp3'),\n",
       " (142, 'Isophonics_13_-_Paparazzi.mp3'),\n",
       " (143, 'Isophonics_02 Another One Bites The Dust.mp3'),\n",
       " (144, 'Isophonics_1-02 ABC.mp3'),\n",
       " (145, \"Isophonics_01_-_Sgt._Pepper's_Lonely_Hearts_Club_Band.mp3\"),\n",
       " (146, 'Isophonics_03 Radio Ga Ga.mp3'),\n",
       " (147, 'Isophonics_08 Where You Lead.mp3'),\n",
       " (148, 'Isophonics_01 I Feel The Earth Move.mp3'),\n",
       " (149, 'Isophonics_02_-_Dig_a_Pony.mp3'),\n",
       " (150, \"Isophonics_07 You've Got A Friend.mp3\"),\n",
       " (151, 'Isophonics_2-09 Remember The Time.mp3'),\n",
       " (152, 'Isophonics_04 Home Again.mp3'),\n",
       " (153, 'Isophonics_2-14 You Are Not Alone (Single Version).mp3'),\n",
       " (154, \"Isophonics_13_-_There's_A_Place.mp3\"),\n",
       " (155, 'Isophonics_07_-_Please_Please_Me.mp3'),\n",
       " (156, 'Isophonics_03_-_She.mp3'),\n",
       " (157, 'Isophonics_CD1_-_02_-_Dear_Prudence.mp3'),\n",
       " (158, 'Isophonics_01 The Show Must Go On.mp3'),\n",
       " (159, 'Isophonics_CD1_-_05_-_Wild_Honey_Pie.mp3'),\n",
       " (160, 'Isophonics_02_-_With_A_Little_Help_From_My_Friends.mp3'),\n",
       " (161, \"Isophonics_01_-_It_Won't_Be_Long.mp3\"),\n",
       " (162, 'Isophonics_13 The Invisible Man.mp3'),\n",
       " (163, 'Isophonics_04_-_I_Me_Mine.mp3'),\n",
       " (164, 'Isophonics_2-06 Smooth Criminal.mp3'),\n",
       " (165, 'Isophonics_CD2_-_06_-_Helter_Skelter.mp3'),\n",
       " (166, 'Isophonics_10 Smackwater Jack.mp3'),\n",
       " (167, 'Isophonics_12_-_Devil_In_Her_Heart.mp3'),\n",
       " (168, 'Isophonics_16 These Are The Days Of Our Lives.mp3'),\n",
       " (169, 'Isophonics_05_-_Your_Mother_Should_Know.mp3'),\n",
       " (170, 'Isophonics_11_-_When_I_Get_Home.mp3'),\n",
       " (171, 'Isophonics_08_-_Because.mp3'),\n",
       " (172, 'Isophonics_2-05 Another Part Of Me (Single Version).mp3'),\n",
       " (173, 'Isophonics_11_-_All_You_Need_Is_Love.mp3'),\n",
       " (174, 'Isophonics_CD1_-_11_-_Black_Bird.mp3'),\n",
       " (175, 'Isophonics_14_-_Twist_And_Shout.mp3'),\n",
       " (176, 'Isophonics_01 A Kind Of Magic.mp3'),\n",
       " (177, 'Isophonics_03_-_Flying.mp3'),\n",
       " (178, 'Isophonics_02 So Far Away.mp3'),\n",
       " (179, 'Isophonics_05_-_Fixing_A_Hole.mp3'),\n",
       " (180, 'Isophonics_14_-_Santa_Donna_Lucia_Mobile.mp3'),\n",
       " (181, 'Isophonics_13_-_If_I_Needed_Someone.mp3'),\n",
       " (182, 'Isophonics_09 Will You Love Me Tomorrow.mp3'),\n",
       " (183, \"Isophonics_12_-_I_Don't_Want_to_Spoil_the_Party.mp3\"),\n",
       " (184, 'Isophonics_2-04 Dirty Diana.mp3'),\n",
       " (185, 'Isophonics_CD1_-_07_-_While_My_Guitar_Gently_Weeps.mp3'),\n",
       " (186, 'Isophonics_14 Smackwater Jack [Live].mp3'),\n",
       " (187, 'Isophonics_13_-_She_Came_In_Through_The_Bathroom_Window.mp3'),\n",
       " (188, 'Isophonics_11_-_Do_You_Want_To_Know_A_Secret.mp3'),\n",
       " (189, 'Isophonics_02_-_Eleanor_Rigby.mp3'),\n",
       " (190, \"Isophonics_03_-_You've_Got_To_Hide_Your_Love_Away.mp3\"),\n",
       " (191, \"Isophonics_1-05 Rockin' Robin.mp3\"),\n",
       " (192, 'Isophonics_16_-_The_End.mp3'),\n",
       " (193, 'Isophonics_14_-_Money.mp3'),\n",
       " (194, 'Isophonics_06_-_The_Word.mp3'),\n",
       " (195, 'Isophonics_05 Beautiful.mp3'),\n",
       " (196, 'Isophonics_12 Feel Like A Natural Woman.mp3'),\n",
       " (197, 'Isophonics_04 Too Much Love Will Kill You.mp3'),\n",
       " (198, 'Isophonics_03_-_Across_the_Universe.mp3'),\n",
       " (199, 'Isophonics_12 Good Old-Fashioned Lover Boy.mp3'),\n",
       " (200, \"Isophonics_12_-_You_Can't_Do_That.mp3\"),\n",
       " (201, 'Isophonics_09_-_You_Never_Give_Me_Your_Money.mp3'),\n",
       " (202, 'Isophonics_03_-_Lucy_In_The_Sky_With_Diamonds.mp3'),\n",
       " (203, 'Isophonics_08_-_Act_Naturally.mp3'),\n",
       " (204, 'Isophonics_2-10 In The Closet (Single Version).mp3'),\n",
       " (205, 'Isophonics_1-11 Rock With You (Single Version).mp3'),\n",
       " (206, 'Isophonics_13_-_Yesterday.mp3'),\n",
       " (207, \"Isophonics_03_-_I'm_Only_Sleeping.mp3\"),\n",
       " (208, 'Isophonics_10 Headlong.mp3'),\n",
       " (209, \"Isophonics_10_-_I'm_Looking_Through_You.mp3\"),\n",
       " (210, 'Isophonics_05 Somebody To Love.mp3'),\n",
       " (211, 'Isophonics_09_-_P._S._I_Love_You.mp3'),\n",
       " (212, 'Isophonics_08_-_Good_Day_Sunshine.mp3'),\n",
       " (213, \"Isophonics_05_-_Octopus's_Garden.mp3\"),\n",
       " (214, 'Isophonics_09_-_Mr_Morgan.mp3'),\n",
       " (215, \"Isophonics_09_-_When_I'm_Sixty-Four.mp3\"),\n",
       " (216, 'Isophonics_07_-_Hello_Goodbye.mp3'),\n",
       " (217, 'Isophonics_16 The Show Must Go On.mp3'),\n",
       " (218, 'Isophonics_01_-_No_Reply.mp3'),\n",
       " (219, 'Isophonics_13_-_Got_To_Get_You_Into_My_Life.mp3'),\n",
       " (220, 'Isophonics_09 Driven By You.mp3'),\n",
       " (221, 'Isophonics_2-11 Who Is It (7_ Edit).mp3'),\n",
       " (222, \"Isophonics_CD1_-_10_-_I'm_So_Tired.mp3\"),\n",
       " (223, 'Isophonics_11 Tapestry.mp3'),\n",
       " (224, \"Isophonics_01_-_A_Hard_Day's_Night.mp3\"),\n",
       " (225, \"Isophonics_11 Now I'm Here.mp3\"),\n",
       " (226, \"Isophonics_14_-_Everybody's_Trying_to_Be_My_Baby.mp3\"),\n",
       " (227, 'Isophonics_10_-_Liebesleid.mp3'),\n",
       " (228, \"Isophonics_13_-_What_You're_Doing.mp3\"),\n",
       " (229, 'Isophonics_12_-_Polythene_Pam.mp3'),\n",
       " (230, 'Isophonics_CD1_-_03_-_Glass_Onion.mp3'),\n",
       " (231,\n",
       "  'Isophonics_1-08 Shake Your Body (Down To The Ground) (Single Edit).mp3'),\n",
       " (232, 'Isophonics_01 Bohemian Rhapsody.mp3'),\n",
       " (233, 'Isophonics_CD2_-_11_-_Cry_Baby_Cry.mp3'),\n",
       " (234, 'Isophonics_2-07 Leave Me Alone.mp3'),\n",
       " (235, 'Isophonics_06_-_Till_There_Was_You.mp3'),\n",
       " (236, 'Isophonics_01_-_Spiel_Mir_Eine_Alte_Melodie.mp3'),\n",
       " (237, 'Isophonics_04_-_Getting_Better.mp3'),\n",
       " (238, 'Isophonics_05_-_Andersrum.mp3'),\n",
       " (239, 'Isophonics_CD1_-_08_-_Happiness_is_a_Warm_Gun.mp3'),\n",
       " (240, 'Isophonics_17 We Are The Champions.mp3'),\n",
       " (241, 'Isophonics_12_-_Wait.mp3'),\n",
       " (242, 'Isophonics_09 Who Wants To Live Forever.mp3'),\n",
       " (243, \"Isophonics_10_-_Baby_It's_You.mp3\"),\n",
       " (244, 'Isophonics_05_-_Another_Girl.mp3'),\n",
       " (245, 'Isophonics_CD1_-_12_-_Piggies.mp3'),\n",
       " (246, \"Isophonics_06_-_You're_Going_To_Lose_That_Girl.mp3\"),\n",
       " (247, 'Isophonics_08_-_What_Goes_On.mp3'),\n",
       " (248, 'Isophonics_06_-_Mr._Moonlight.mp3'),\n",
       " (249, 'Isophonics_1-04 Got To Be There (Single Version).mp3'),\n",
       " (250, 'Isophonics_12_-_A_Taste_Of_Honey.mp3'),\n",
       " (251, 'Isophonics_07_-_Ticket_To_Ride.mp3'),\n",
       " (252, 'Isophonics_CD2_-_09_-_Honey_Pie.mp3'),\n",
       " (253, 'Isophonics_02_-_The_Night_Before.mp3'),\n",
       " (254, 'Isophonics_07_-_Michelle.mp3'),\n",
       " (255, 'Isophonics_CD2_-_10_-_Savoy_Truffle.mp3'),\n",
       " (256, \"Isophonics_1-12 She's Out Of My Life (Single Version).mp3\"),\n",
       " (257, 'Isophonics_08_-_Any_Time_At_All.mp3'),\n",
       " (258, \"Isophonics_12 I'm Going Slightly Mad.mp3\"),\n",
       " (259, 'Isophonics_09_-_One_After_909.mp3'),\n",
       " (260, 'Isophonics_13 Play The Game.mp3'),\n",
       " (261, 'Isophonics_07_-_She_Said_She_Said.mp3'),\n",
       " (262, \"Isophonics_17 Thank God It's Christmas.mp3\"),\n",
       " (263, 'Isophonics_01_-_Help!.mp3'),\n",
       " (264, 'Isophonics_1-19 P.Y.T. (Pretty Young Thing).mp3'),\n",
       " (265, \"Isophonics_CD2_-_03_-_Mother_Nature's_Son.mp3\"),\n",
       " (266, 'Isophonics_14_-_Run_For_Your_Life.mp3'),\n",
       " (267, 'Isophonics_14_-_Golden_Slumbers.mp3'),\n",
       " (268, \"Isophonics_10_-_Baby_You're_A_Rich_Man.mp3\"),\n",
       " (269, 'Isophonics_11_-_Ich_Kann_Heute_Nicht.mp3'),\n",
       " (270, 'Isophonics_12 The Great Pretender.mp3'),\n",
       " (271, 'Isophonics_02_-_The_Fool_On_The_Hill.mp3'),\n",
       " (272, 'Isophonics_14_-_Dizzy_Miss_Lizzy.mp3'),\n",
       " (273, 'Isophonics_02_-_I_Should_Have_Known_Better.mp3'),\n",
       " (274, \"Isophonics_04_-_I'm_Happy_Just_To_Dance_With_You.mp3\"),\n",
       " (275, 'Isophonics_2-17 You Rock My World.mp3'),\n",
       " (276, \"Isophonics_CD1_-_14_-_Don't_Pass_Me_By.mp3\"),\n",
       " (277, 'Isophonics_11_-_Doctor_Robert.mp3'),\n",
       " (278, 'Isophonics_1-14 The Girl Is Mine.mp3'),\n",
       " (279, 'Isophonics_2-08 Black Or White (Single Version).mp3'),\n",
       " (280, 'Isophonics_CD1_-_06_-_The_Continuing_Story_of_Bungalow_Bill.mp3'),\n",
       " (281, 'Isophonics_06_-_I_Am_The_Walrus.mp3'),\n",
       " (282, 'Isophonics_05_-_And_I_Love_Her.mp3'),\n",
       " (283, 'Isophonics_CD2_-_05_-_Sexy_Sadie.mp3'),\n",
       " (284, 'Isophonics_04_-_Blue_Jay_Way.mp3'),\n",
       " (285, \"Isophonics_02_-_All_I've_Got_To_Do.mp3\"),\n",
       " (286, 'Isophonics_07 Heaven For Everyone.mp3'),\n",
       " (287, \"Isophonics_08_-_I've_Got_A_Feeling.mp3\"),\n",
       " (288, 'Isophonics_08_-_Strawberry_Fields_Forever.mp3'),\n",
       " (289, 'Isophonics_12_-_I_Want_To_Tell_You.mp3'),\n",
       " (290, 'Isophonics_05_-_Here,_There_And_Everywhere.mp3'),\n",
       " (291, \"Isophonics_09_-_It's_Only_Love.mp3\"),\n",
       " (292, 'Isophonics_2-12 Heal The World.mp3'),\n",
       " (293, 'Isophonics_2-02 The Way You Make Me Feel (Single Version).mp3'),\n",
       " (294, \"Isophonics_06 You Don't Fool Me.mp3\"),\n",
       " (295, 'Isophonics_2-13 Will You Be There (Single Version).mp3'),\n",
       " (296, 'Isophonics_CD2_-_02_-_Yer_Blues.mp3'),\n",
       " (297, 'Isophonics_08_-_Blass.mp3'),\n",
       " (298, 'Isophonics_08 Save Me.mp3')]"
      ]
     },
     "execution_count": 70,
     "metadata": {},
     "output_type": "execute_result"
    }
   ],
   "source": [
    "[(x, y['file_name']) for (x,y) in enumerate(all_data['file_scores'])]"
   ]
  },
  {
   "cell_type": "code",
   "execution_count": 125,
   "metadata": {
    "collapsed": false
   },
   "outputs": [],
   "source": [
    "S_p, S = plot_selfsim(max_samples=1000, **all_data['file_scores'][139])"
   ]
  },
  {
   "cell_type": "code",
   "execution_count": 132,
   "metadata": {
    "collapsed": false
   },
   "outputs": [
    {
     "data": {
      "text/plain": [
       "{'hmean': 2.0563259892187067,\n",
       " 'max': 2.0476706358011163,\n",
       " 'min': 2.0649813426362971,\n",
       " 'none': 29.556078}"
      ]
     },
     "execution_count": 132,
     "metadata": {},
     "output_type": "execute_result"
    }
   ],
   "source": [
    "all_data['file_scores'][139]['thresholds']"
   ]
  },
  {
   "cell_type": "code",
   "execution_count": 135,
   "metadata": {
    "collapsed": true
   },
   "outputs": [],
   "source": [
    "np.set_printoptions(precision=0)"
   ]
  },
  {
   "cell_type": "code",
   "execution_count": 136,
   "metadata": {
    "collapsed": false
   },
   "outputs": [
    {
     "data": {
      "text/plain": [
       "array([[  0.,  nan,  nan,  nan,  nan,  nan,  nan,  nan,  nan,  nan],\n",
       "       [ nan,   0.,  51.,  52.,  53.,  nan,  nan,  nan,  nan,  nan],\n",
       "       [ nan,  51.,   0.,  26.,  35.,  nan,  nan,  nan,  nan,  nan],\n",
       "       [ nan,  52.,  26.,   0.,  30.,  nan,  nan,  nan,  nan,  nan],\n",
       "       [ nan,  53.,  35.,  30.,   0.,  nan,  nan,  nan,  nan,  nan],\n",
       "       [ nan,  nan,  nan,  nan,  nan,   0.,  nan,  nan,  nan,  nan],\n",
       "       [ nan,  nan,  nan,  nan,  nan,  nan,   0.,  nan,  nan,  nan],\n",
       "       [ nan,  nan,  nan,  nan,  nan,  nan,  nan,   0.,  nan,  nan],\n",
       "       [ nan,  nan,  nan,  nan,  nan,  nan,  nan,  nan,   0.,  nan],\n",
       "       [ nan,  nan,  nan,  nan,  nan,  nan,  nan,  nan,  nan,   0.]], dtype=float32)"
      ]
     },
     "execution_count": 136,
     "metadata": {},
     "output_type": "execute_result"
    }
   ],
   "source": [
    "all_data['file_scores'][139]['scores']"
   ]
  },
  {
   "cell_type": "code",
   "execution_count": 126,
   "metadata": {
    "collapsed": false
   },
   "outputs": [
    {
     "data": {
      "text/plain": [
       "<matplotlib.image.AxesImage at 0x7ff50fe614d0>"
      ]
     },
     "execution_count": 126,
     "metadata": {},
     "output_type": "execute_result"
    },
    {
     "data": {
      "image/png": "[encoded data removed]",
      "text/plain": [
       "<matplotlib.figure.Figure at 0x7ff50ff8f610>"
      ]
     },
     "metadata": {},
     "output_type": "display_data"
    }
   ],
   "source": [
    "plt.figure(figsize=(12,8))\n",
    "plt.subplot(1,2,1)\n",
    "librosa.display.specshow(S, aspect='equal')\n",
    "plt.subplot(1,2,2)\n",
    "librosa.display.specshow(S_p, vmin=-1, vmax=1.0, cmap='coolwarm', aspect='equal')"
   ]
  },
  {
   "cell_type": "code",
   "execution_count": 71,
   "metadata": {
    "collapsed": false
   },
   "outputs": [
    {
     "name": "stderr",
     "output_type": "stream",
     "text": [
      "[Parallel(n_jobs=4)]: Done   1 out of 299 | elapsed:    0.8s remaining:  3.8min\n",
      "[Parallel(n_jobs=4)]: Done  16 out of 299 | elapsed:    1.0s remaining:   17.2s\n",
      "[Parallel(n_jobs=4)]: Done  31 out of 299 | elapsed:    1.3s remaining:   11.0s\n",
      "[Parallel(n_jobs=4)]: Done  46 out of 299 | elapsed:    1.6s remaining:    8.9s\n",
      "[Parallel(n_jobs=4)]: Done  61 out of 299 | elapsed:    1.9s remaining:    7.3s\n",
      "[Parallel(n_jobs=4)]: Done  76 out of 299 | elapsed:    2.1s remaining:    6.2s\n",
      "[Parallel(n_jobs=4)]: Done  91 out of 299 | elapsed:    2.4s remaining:    5.6s\n",
      "[Parallel(n_jobs=4)]: Done 106 out of 299 | elapsed:    2.8s remaining:    5.1s\n",
      "[Parallel(n_jobs=4)]: Done 121 out of 299 | elapsed:    3.2s remaining:    4.7s\n",
      "[Parallel(n_jobs=4)]: Done 136 out of 299 | elapsed:    3.7s remaining:    4.4s\n",
      "[Parallel(n_jobs=4)]: Done 151 out of 299 | elapsed:    4.4s remaining:    4.3s\n",
      "[Parallel(n_jobs=4)]: Done 166 out of 299 | elapsed:    4.7s remaining:    3.8s\n",
      "[Parallel(n_jobs=4)]: Done 181 out of 299 | elapsed:    6.7s remaining:    4.4s\n",
      "[Parallel(n_jobs=4)]: Done 196 out of 299 | elapsed:    7.2s remaining:    3.8s\n",
      "[Parallel(n_jobs=4)]: Done 211 out of 299 | elapsed:    7.6s remaining:    3.2s\n",
      "[Parallel(n_jobs=4)]: Done 226 out of 299 | elapsed:    8.0s remaining:    2.6s\n",
      "[Parallel(n_jobs=4)]: Done 241 out of 299 | elapsed:    8.4s remaining:    2.0s\n",
      "[Parallel(n_jobs=4)]: Done 256 out of 299 | elapsed:    8.6s remaining:    1.4s\n",
      "[Parallel(n_jobs=4)]: Done 271 out of 299 | elapsed:    8.9s remaining:    0.9s\n",
      "[Parallel(n_jobs=4)]: Done 286 out of 299 | elapsed:    9.5s remaining:    0.4s\n",
      "[Parallel(n_jobs=4)]: Done 299 out of 299 | elapsed:    9.9s finished\n"
     ]
    }
   ],
   "source": [
    "Parallel(n_jobs=4, verbose=20)(delayed(process_file)(data) for data in all_data['file_scores']);"
   ]
  },
  {
   "cell_type": "code",
   "execution_count": null,
   "metadata": {
    "collapsed": true
   },
   "outputs": [],
   "source": []
  }
 ],
 "metadata": {
  "kernelspec": {
   "display_name": "Python 2",
   "language": "python",
   "name": "python2"
  },
  "language_info": {
   "codemirror_mode": {
    "name": "ipython",
    "version": 2
   },
   "file_extension": ".py",
   "mimetype": "text/x-python",
   "name": "python",
   "nbconvert_exporter": "python",
   "pygments_lexer": "ipython2",
   "version": "2.7.8"
  }
 },
 "nbformat": 4,
 "nbformat_minor": 0
}
