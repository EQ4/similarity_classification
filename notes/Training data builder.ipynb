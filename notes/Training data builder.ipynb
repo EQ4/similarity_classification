{
 "cells": [
  {
   "cell_type": "markdown",
   "metadata": {},
   "source": [
    "# Notes\n",
    "\n",
    "* `d2['file_scores'][k]['paths']` is a matrix of all-pairs segment-to-segment alignments\n",
    "  * indices are relative to the segment in question\n",
    "  * same..`['scores']` is the alignment scores: \n",
    "  * use `< thresholds['none']` to find the good segment pairs\n",
    "* generate data from\n",
    "  * isophonics functions\n",
    "  * salami functions\n",
    "  * l2 norm\n",
    "* samples:\n",
    "  * features = patches of cqt +- 5 frames on either side\n",
    "  * positives = drawn from pairs of segments below threshold\n",
    "  * negatives = \"\" above the threshold\n",
    "* model evaluation\n",
    "  * serra method or laplacian"
   ]
  },
  {
   "cell_type": "code",
   "execution_count": 1,
   "metadata": {
    "collapsed": true
   },
   "outputs": [],
   "source": [
    "import numpy as np\n",
    "import librosa\n",
    "import cPickle as pickle\n",
    "import numba\n",
    "import os\n",
    "from joblib import Parallel, delayed"
   ]
  },
  {
   "cell_type": "code",
   "execution_count": 2,
   "metadata": {
    "collapsed": true
   },
   "outputs": [],
   "source": [
    "def symstack(X, n_steps=3, delay=1, **kwargs):\n",
    "    '''Symmetric history stacking.\n",
    "    \n",
    "    like librosa.feature.stack_memory, but IN THE FUTURE!!!\n",
    "    '''\n",
    "    rpad = n_steps * delay\n",
    "    Xpad = np.pad(X,\n",
    "                  [(0, 0), (0, rpad)],\n",
    "                  **kwargs)\n",
    "    \n",
    "    Xstack = librosa.feature.stack_memory(Xpad,\n",
    "                                          n_steps=2 * n_steps + 1,\n",
    "                                          delay=delay,\n",
    "                                          **kwargs)\n",
    "    \n",
    "    return Xstack[:, rpad:]"
   ]
  },
  {
   "cell_type": "code",
   "execution_count": 20,
   "metadata": {
    "collapsed": true
   },
   "outputs": [],
   "source": [
    "def load_feature_data(file_name, n_steps=5):\n",
    "    \n",
    "    fname = '../data/features/{}.pk'.format(file_name)\n",
    "    \n",
    "    data = pickle.load(open(fname, 'r'))\n",
    "    \n",
    "    return symstack(data['cqgram'].astype(np.float32),\n",
    "                    n_steps=n_steps,\n",
    "                    mode='edge'), data['intframes']"
   ]
  },
  {
   "cell_type": "code",
   "execution_count": 21,
   "metadata": {
    "collapsed": true
   },
   "outputs": [],
   "source": [
    "@numba.jit\n",
    "def get_feature_paths(X_raw, t_i, t_j, n_samples, max_samples):\n",
    "    \n",
    "    X = np.empty((len(t_i), X_raw.shape[0]), dtype=X_raw.dtype)\n",
    "    \n",
    "    k = 0\n",
    "    for i, j in zip(t_i, t_j):\n",
    "        if n_samples[i] >= max_samples:\n",
    "            continue\n",
    "        n_samples[i] += 1\n",
    "        n_samples[j] += 1\n",
    "        \n",
    "        X[k] = np.abs(X_raw[:, i] - X_raw[:, j])\n",
    "        k = k + 1\n",
    "    \n",
    "    return X[:k]"
   ]
  },
  {
   "cell_type": "code",
   "execution_count": 22,
   "metadata": {
    "collapsed": false
   },
   "outputs": [],
   "source": [
    "def make_training_data(max_samples=2,\n",
    "                       paths=None,\n",
    "                       file_name=None,\n",
    "                       thresholds=None,\n",
    "                       labels=None,\n",
    "                       intervals=None,\n",
    "                       fmeasures=None,\n",
    "                       scores=None):\n",
    "    \n",
    "    # intframes gives the section->cqt frame alignments\n",
    "    X_raw, intframes = load_feature_data(file_name)\n",
    "    \n",
    "    thresh = thresholds['none']\n",
    "    \n",
    "    n_segments = len(paths)\n",
    "    \n",
    "    n_samples = np.zeros((2, X_raw.shape[1]))\n",
    "    \n",
    "    ex_x, ex_y = [], []\n",
    "    \n",
    "    for seg_i in range(n_segments):\n",
    "        off_i = intframes[seg_i, 0]\n",
    "        \n",
    "        for seg_j in range(seg_i + 1, len(paths[seg_i])):\n",
    "            off_j = intframes[seg_j, 0]\n",
    "            \n",
    "            if not isinstance(paths[seg_i][seg_j], list):\n",
    "                continue\n",
    "                \n",
    "            if scores[seg_i, seg_j] <= thresh:\n",
    "                y = 1\n",
    "            else:\n",
    "                y = 0\n",
    "                \n",
    "            # Pull out features from the path\n",
    "            t_i, t_j = paths[seg_i][seg_j]\n",
    "            t_i += off_i\n",
    "            t_j += off_j\n",
    "            \n",
    "            X = get_feature_paths(X_raw, t_i, t_j, n_samples[y], max_samples)\n",
    "            ex_x.append(X)\n",
    "            ex_y.append(y * np.ones(len(X), dtype=np.int32))\n",
    "    \n",
    "    ex_x = np.concatenate(ex_x)\n",
    "    ex_y = np.concatenate(ex_y)\n",
    "\n",
    "    return ex_x, ex_y"
   ]
  },
  {
   "cell_type": "code",
   "execution_count": 28,
   "metadata": {
    "collapsed": true
   },
   "outputs": [],
   "source": [
    "import os\n",
    "def process_file(file_scores, max_samples=4):\n",
    "    \n",
    "    if file_scores['paths']:\n",
    "        X, Y = make_training_data(max_samples=max_samples,\n",
    "                                  **file_scores)\n",
    "        outfile = '../data/labeled_features/{}_beats.npz'.format(os.path.basename(file_scores['file_name']))\n",
    "        np.savez(outfile, X=X, Y=Y)"
   ]
  },
  {
   "cell_type": "code",
   "execution_count": 31,
   "metadata": {
    "collapsed": true
   },
   "outputs": [],
   "source": [
    "#all_data = pickle.load(open('../data/scores_datasetESALAMI_levelEfunction_distEL2.pk'))\n",
    "#all_data = pickle.load(open('../data/scores_datasetEIsophonics_levelEfunction_distEL2.pk'))\n",
    "#all_data = pickle.load(open('../data/scores_datasetEIsophonics_levelEfunction_distEL2_beats.pk'))\n",
    "all_data = pickle.load(open('../data/scores_datasetESALAMI_levelEfunction_distEL2_beats.pk'))"
   ]
  },
  {
   "cell_type": "code",
   "execution_count": 32,
   "metadata": {
    "collapsed": false
   },
   "outputs": [
    {
     "name": "stderr",
     "output_type": "stream",
     "text": [
      "[Parallel(n_jobs=4)]: Done   1 out of 769 | elapsed:    0.5s remaining:  5.8min\n",
      "[Parallel(n_jobs=4)]: Done  30 out of 769 | elapsed:    1.3s remaining:   31.2s\n",
      "[Parallel(n_jobs=4)]: Done  69 out of 769 | elapsed:    2.2s remaining:   22.5s\n",
      "[Parallel(n_jobs=4)]: Done 108 out of 769 | elapsed:    3.6s remaining:   21.9s\n",
      "[Parallel(n_jobs=4)]: Done 147 out of 769 | elapsed:    5.2s remaining:   22.2s\n",
      "[Parallel(n_jobs=4)]: Done 186 out of 769 | elapsed:    7.5s remaining:   23.4s\n",
      "[Parallel(n_jobs=4)]: Done 225 out of 769 | elapsed:    8.4s remaining:   20.4s\n",
      "[Parallel(n_jobs=4)]: Done 264 out of 769 | elapsed:   11.0s remaining:   21.0s\n",
      "[Parallel(n_jobs=4)]: Done 303 out of 769 | elapsed:   12.4s remaining:   19.1s\n",
      "[Parallel(n_jobs=4)]: Done 342 out of 769 | elapsed:   14.9s remaining:   18.6s\n",
      "[Parallel(n_jobs=4)]: Done 381 out of 769 | elapsed:   17.6s remaining:   17.9s\n",
      "[Parallel(n_jobs=4)]: Done 420 out of 769 | elapsed:   19.7s remaining:   16.3s\n",
      "[Parallel(n_jobs=4)]: Done 459 out of 769 | elapsed:   21.0s remaining:   14.2s\n",
      "[Parallel(n_jobs=4)]: Done 498 out of 769 | elapsed:   22.1s remaining:   12.0s\n",
      "[Parallel(n_jobs=4)]: Done 537 out of 769 | elapsed:   23.8s remaining:   10.3s\n",
      "[Parallel(n_jobs=4)]: Done 576 out of 769 | elapsed:   25.4s remaining:    8.5s\n",
      "[Parallel(n_jobs=4)]: Done 615 out of 769 | elapsed:   27.2s remaining:    6.8s\n",
      "[Parallel(n_jobs=4)]: Done 654 out of 769 | elapsed:   28.8s remaining:    5.1s\n",
      "[Parallel(n_jobs=4)]: Done 693 out of 769 | elapsed:   30.7s remaining:    3.4s\n",
      "[Parallel(n_jobs=4)]: Done 732 out of 769 | elapsed:   31.9s remaining:    1.6s\n",
      "[Parallel(n_jobs=4)]: Done 769 out of 769 | elapsed:   34.1s finished\n"
     ]
    }
   ],
   "source": [
    "Parallel(n_jobs=4, verbose=20)(delayed(process_file)(data) for data in all_data['file_scores']);"
   ]
  },
  {
   "cell_type": "code",
   "execution_count": null,
   "metadata": {
    "collapsed": true
   },
   "outputs": [],
   "source": []
  }
 ],
 "metadata": {
  "kernelspec": {
   "display_name": "Python 2",
   "language": "python",
   "name": "python2"
  },
  "language_info": {
   "codemirror_mode": {
    "name": "ipython",
    "version": 2
   },
   "file_extension": ".py",
   "mimetype": "text/x-python",
   "name": "python",
   "nbconvert_exporter": "python",
   "pygments_lexer": "ipython2",
   "version": "2.7.8"
  }
 },
 "nbformat": 4,
 "nbformat_minor": 0
}
