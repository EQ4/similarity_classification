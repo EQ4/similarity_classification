{
 "cells": [
  {
   "cell_type": "markdown",
   "metadata": {},
   "source": [
    "# Notes\n",
    "\n",
    "* `d2['file_scores'][k]['paths']` is a matrix of all-pairs segment-to-segment alignments\n",
    "  * indices are relative to the segment in question\n",
    "  * same..`['scores']` is the alignment scores: \n",
    "  * use `< thresholds['none']` to find the good segment pairs\n",
    "* generate data from\n",
    "  * isophonics functions\n",
    "  * salami functions\n",
    "  * l2 norm\n",
    "* samples:\n",
    "  * features = patches of cqt +- 5 frames on either side\n",
    "  * positives = drawn from pairs of segments below threshold\n",
    "  * negatives = \"\" above the threshold\n",
    "* model evaluation\n",
    "  * serra method or laplacian"
   ]
  },
  {
   "cell_type": "code",
   "execution_count": 1,
   "metadata": {
    "collapsed": true
   },
   "outputs": [],
   "source": [
    "import numpy as np\n",
    "import librosa\n",
    "import cPickle as pickle\n",
    "import numba\n",
    "import os\n",
    "from joblib import Parallel, delayed"
   ]
  },
  {
   "cell_type": "code",
   "execution_count": 2,
   "metadata": {
    "collapsed": true
   },
   "outputs": [],
   "source": [
    "def symstack(X, n_steps=5, delay=1, **kwargs):\n",
    "    '''Symmetric history stacking.\n",
    "    \n",
    "    like librosa.feature.stack_memory, but IN THE FUTURE!!!\n",
    "    '''\n",
    "    rpad = n_steps * delay\n",
    "    Xpad = np.pad(X,\n",
    "                  [(0, 0), (0, rpad)],\n",
    "                  **kwargs)\n",
    "    \n",
    "    Xstack = librosa.feature.stack_memory(Xpad,\n",
    "                                          n_steps=2 * n_steps + 1,\n",
    "                                          delay=delay,\n",
    "                                          **kwargs)\n",
    "    \n",
    "    return Xstack[:, rpad:]"
   ]
  },
  {
   "cell_type": "code",
   "execution_count": 3,
   "metadata": {
    "collapsed": true
   },
   "outputs": [],
   "source": [
    "def load_feature_data(file_name, n_steps=5):\n",
    "    \n",
    "    fname = '../data/features/{}.pk'.format(file_name)\n",
    "    \n",
    "    data = pickle.load(open(fname, 'r'))\n",
    "    \n",
    "    return symstack(data['cqgram'].astype(np.float32),\n",
    "                    n_steps=n_steps,\n",
    "                    mode='edge'), data['intframes']"
   ]
  },
  {
   "cell_type": "code",
   "execution_count": 4,
   "metadata": {
    "collapsed": true
   },
   "outputs": [],
   "source": [
    "@numba.jit\n",
    "def get_feature_paths(X_raw, t_i, t_j):\n",
    "    \n",
    "    X = np.empty((len(t_i), X_raw.shape[0]), dtype=X_raw.dtype)\n",
    "    \n",
    "    for k, (i, j) in enumerate(zip(t_i, t_j)):\n",
    "        X[k] = np.abs(X_raw[:, i] - X_raw[:, j])\n",
    "        \n",
    "    return X"
   ]
  },
  {
   "cell_type": "code",
   "execution_count": 5,
   "metadata": {
    "collapsed": false
   },
   "outputs": [],
   "source": [
    "def make_training_data(paths=None,\n",
    "                       file_name=None,\n",
    "                       thresholds=None,\n",
    "                       labels=None,\n",
    "                       intervals=None,\n",
    "                       fmeasures=None,\n",
    "                       scores=None):\n",
    "    \n",
    "    # intframes gives the section->cqt frame alignments\n",
    "    X_raw, intframes = load_feature_data(file_name)\n",
    "    \n",
    "    thresh = thresholds['none']\n",
    "    \n",
    "    n_segments = len(paths)\n",
    "    \n",
    "    ex_x, ex_y = [], []\n",
    "    \n",
    "    for seg_i in range(n_segments):\n",
    "        off_i = intframes[seg_i, 0]\n",
    "        \n",
    "        for seg_j in range(seg_i + 1, len(paths[seg_i])):\n",
    "            off_j = intframes[seg_j, 0]\n",
    "            \n",
    "            if not isinstance(paths[seg_i][seg_j], list):\n",
    "                continue\n",
    "                \n",
    "            if scores[seg_i, seg_j] < thresh:\n",
    "                y = 1\n",
    "            else:\n",
    "                y = 0\n",
    "                \n",
    "            # Pull out features from the path\n",
    "            t_i, t_j = paths[seg_i][seg_j]\n",
    "            \n",
    "            X = get_feature_paths(X_raw, t_i + off_i, t_j + off_j)\n",
    "            ex_x.append(X)\n",
    "            ex_y.append(y * np.ones(len(X)))\n",
    "    \n",
    "    ex_x = np.concatenate(ex_x)\n",
    "    ex_y = np.concatenate(ex_y)\n",
    "    return ex_x, ex_y"
   ]
  },
  {
   "cell_type": "code",
   "execution_count": 6,
   "metadata": {
    "collapsed": true
   },
   "outputs": [],
   "source": [
    "import os\n",
    "def process_file(file_scores):\n",
    "    \n",
    "    if file_scores['paths']:\n",
    "        X, Y = make_training_data(**file_scores)\n",
    "        outfile = '../data/labeled_features/{}.npz'.format(os.path.basename(file_scores['file_name']))\n",
    "        np.savez(outfile, X=X, Y=Y)"
   ]
  },
  {
   "cell_type": "code",
   "execution_count": 7,
   "metadata": {
    "collapsed": true
   },
   "outputs": [],
   "source": [
    "all_data = pickle.load(open('../data/scores_datasetESALAMI_levelEfunction_distEL2.pk'))\n",
    "#all_data = pickle.load(open('../data/scores_datasetEIsophonics_levelEfunction_distEL2.pk'))"
   ]
  },
  {
   "cell_type": "code",
   "execution_count": null,
   "metadata": {
    "collapsed": false
   },
   "outputs": [],
   "source": [
    "Parallel(n_jobs=4, verbose=20)(delayed(process_file)(data) for data in all_data['file_scores']);"
   ]
  }
 ],
 "metadata": {
  "kernelspec": {
   "display_name": "Python 2",
   "language": "python",
   "name": "python2"
  },
  "language_info": {
   "codemirror_mode": {
    "name": "ipython",
    "version": 2
   },
   "file_extension": ".py",
   "mimetype": "text/x-python",
   "name": "python",
   "nbconvert_exporter": "python",
   "pygments_lexer": "ipython2",
   "version": "2.7.8"
  }
 },
 "nbformat": 4,
 "nbformat_minor": 0
}
