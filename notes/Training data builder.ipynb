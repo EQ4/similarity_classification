{
 "cells": [
  {
   "cell_type": "markdown",
   "metadata": {},
   "source": [
    "# Notes\n",
    "\n",
    "* `d2['file_scores'][k]['paths']` is a matrix of all-pairs segment-to-segment alignments\n",
    "  * indices are relative to the segment in question\n",
    "  * same..`['scores']` is the alignment scores: \n",
    "  * use `< thresholds['none']` to find the good segment pairs\n",
    "* generate data from\n",
    "  * isophonics functions\n",
    "  * salami functions\n",
    "  * l2 norm\n",
    "* samples:\n",
    "  * features = patches of cqt +- 5 frames on either side\n",
    "  * positives = drawn from pairs of segments below threshold\n",
    "  * negatives = \"\" above the threshold\n",
    "* model evaluation\n",
    "  * serra method or laplacian"
   ]
  },
  {
   "cell_type": "code",
   "execution_count": 1,
   "metadata": {
    "collapsed": true
   },
   "outputs": [],
   "source": [
    "import numpy as np\n",
    "import librosa\n",
    "import cPickle as pickle\n",
    "import numba\n",
    "import os\n",
    "from joblib import Parallel, delayed"
   ]
  },
  {
   "cell_type": "code",
   "execution_count": 22,
   "metadata": {
    "collapsed": true
   },
   "outputs": [],
   "source": [
    "def symstack(X, n_steps=5, delay=1, **kwargs):\n",
    "    '''Symmetric history stacking.\n",
    "    \n",
    "    like librosa.feature.stack_memory, but IN THE FUTURE!!!\n",
    "    '''\n",
    "    rpad = n_steps * delay\n",
    "    Xpad = np.pad(X,\n",
    "                  [(0, 0), (0, rpad)],\n",
    "                  **kwargs)\n",
    "    \n",
    "    Xstack = librosa.feature.stack_memory(Xpad,\n",
    "                                          n_steps=2 * n_steps + 1,\n",
    "                                          delay=delay,\n",
    "                                          **kwargs)\n",
    "    \n",
    "    return Xstack[:, rpad:]"
   ]
  },
  {
   "cell_type": "code",
   "execution_count": 15,
   "metadata": {
    "collapsed": true
   },
   "outputs": [],
   "source": [
    "def load_feature_data(file_name, n_steps=5):\n",
    "    \n",
    "    fname = '../data/features/{}.pk'.format(file_name)\n",
    "    \n",
    "    data = pickle.load(open(fname, 'r'))\n",
    "    \n",
    "    return symstack(data['cqgram'].astype(np.float32),\n",
    "                    n_steps=n_steps,\n",
    "                    mode='edge'), data['intframes']"
   ]
  },
  {
   "cell_type": "code",
   "execution_count": 33,
   "metadata": {
    "collapsed": true
   },
   "outputs": [],
   "source": [
    "@numba.jit\n",
    "def get_feature_paths(X_raw, t_i, t_j, n_samples, max_samples):\n",
    "    \n",
    "    X = np.empty((len(t_i), X_raw.shape[0]), dtype=X_raw.dtype)\n",
    "    \n",
    "    k = 0\n",
    "    for i, j in zip(t_i, t_j):\n",
    "        if n_samples[i] >= max_samples:\n",
    "            continue\n",
    "        n_samples[i] += 1\n",
    "        n_samples[j] += 1\n",
    "        \n",
    "        X[k] = np.abs(X_raw[:, i] - X_raw[:, j])\n",
    "        k = k + 1\n",
    "    \n",
    "    return X[:k]"
   ]
  },
  {
   "cell_type": "code",
   "execution_count": 37,
   "metadata": {
    "collapsed": false
   },
   "outputs": [],
   "source": [
    "def make_training_data(max_samples=2,\n",
    "                       paths=None,\n",
    "                       file_name=None,\n",
    "                       thresholds=None,\n",
    "                       labels=None,\n",
    "                       intervals=None,\n",
    "                       fmeasures=None,\n",
    "                       scores=None):\n",
    "    \n",
    "    # intframes gives the section->cqt frame alignments\n",
    "    X_raw, intframes = load_feature_data(file_name)\n",
    "    \n",
    "    thresh = thresholds['none']\n",
    "    \n",
    "    n_segments = len(paths)\n",
    "    \n",
    "    n_samples = np.zeros((2, X_raw.shape[1]))\n",
    "    \n",
    "    ex_x, ex_y = [], []\n",
    "    \n",
    "    for seg_i in range(n_segments):\n",
    "        off_i = intframes[seg_i, 0]\n",
    "        \n",
    "        for seg_j in range(seg_i + 1, len(paths[seg_i])):\n",
    "            off_j = intframes[seg_j, 0]\n",
    "            \n",
    "            if not isinstance(paths[seg_i][seg_j], list):\n",
    "                continue\n",
    "                \n",
    "            if scores[seg_i, seg_j] <= thresh:\n",
    "                y = 1\n",
    "            else:\n",
    "                y = 0\n",
    "                \n",
    "            # Pull out features from the path\n",
    "            t_i, t_j = paths[seg_i][seg_j]\n",
    "            t_i += off_i\n",
    "            t_j += off_j\n",
    "            \n",
    "            X = get_feature_paths(X_raw, t_i, t_j, n_samples[y], max_samples)\n",
    "            ex_x.append(X)\n",
    "            ex_y.append(y * np.ones(len(X), dtype=np.int32))\n",
    "    \n",
    "    ex_x = np.concatenate(ex_x)\n",
    "    ex_y = np.concatenate(ex_y)\n",
    "\n",
    "    return ex_x, ex_y"
   ]
  },
  {
   "cell_type": "code",
   "execution_count": 38,
   "metadata": {
    "collapsed": true
   },
   "outputs": [],
   "source": [
    "import os\n",
    "def process_file(file_scores, max_samples=2):\n",
    "    \n",
    "    if file_scores['paths']:\n",
    "        X, Y = make_training_data(max_samples=max_samples,\n",
    "                                  **file_scores)\n",
    "        outfile = '../data/labeled_features/{}.npz'.format(os.path.basename(file_scores['file_name']))\n",
    "        np.savez(outfile, X=X, Y=Y)"
   ]
  },
  {
   "cell_type": "code",
   "execution_count": 42,
   "metadata": {
    "collapsed": true
   },
   "outputs": [],
   "source": [
    "#all_data = pickle.load(open('../data/scores_datasetESALAMI_levelEfunction_distEL2.pk'))\n",
    "all_data = pickle.load(open('../data/scores_datasetEIsophonics_levelEfunction_distEL2.pk'))"
   ]
  },
  {
   "cell_type": "code",
   "execution_count": 44,
   "metadata": {
    "collapsed": false
   },
   "outputs": [
    {
     "name": "stderr",
     "output_type": "stream",
     "text": [
      "[Parallel(n_jobs=4)]: Done   1 out of 299 | elapsed:    0.8s remaining:  4.2min\n",
      "[Parallel(n_jobs=4)]: Done  16 out of 299 | elapsed:    1.8s remaining:   31.8s\n",
      "[Parallel(n_jobs=4)]: Done  31 out of 299 | elapsed:    2.9s remaining:   25.2s\n",
      "[Parallel(n_jobs=4)]: Done  46 out of 299 | elapsed:    4.6s remaining:   25.1s\n",
      "[Parallel(n_jobs=4)]: Done  61 out of 299 | elapsed:    8.7s remaining:   34.0s\n",
      "[Parallel(n_jobs=4)]: Done  76 out of 299 | elapsed:    9.8s remaining:   28.9s\n",
      "[Parallel(n_jobs=4)]: Done  91 out of 299 | elapsed:   11.7s remaining:   26.7s\n",
      "[Parallel(n_jobs=4)]: Done 106 out of 299 | elapsed:   14.1s remaining:   25.6s\n",
      "[Parallel(n_jobs=4)]: Done 121 out of 299 | elapsed:   17.1s remaining:   25.1s\n",
      "[Parallel(n_jobs=4)]: Done 136 out of 299 | elapsed:   19.6s remaining:   23.5s\n",
      "[Parallel(n_jobs=4)]: Done 151 out of 299 | elapsed:   22.4s remaining:   22.0s\n",
      "[Parallel(n_jobs=4)]: Done 166 out of 299 | elapsed:   24.8s remaining:   19.9s\n",
      "[Parallel(n_jobs=4)]: Done 181 out of 299 | elapsed:   26.4s remaining:   17.2s\n",
      "[Parallel(n_jobs=4)]: Done 196 out of 299 | elapsed:   29.5s remaining:   15.5s\n",
      "[Parallel(n_jobs=4)]: Done 211 out of 299 | elapsed:   32.3s remaining:   13.5s\n",
      "[Parallel(n_jobs=4)]: Done 226 out of 299 | elapsed:   34.3s remaining:   11.1s\n",
      "[Parallel(n_jobs=4)]: Done 241 out of 299 | elapsed:   36.3s remaining:    8.7s\n",
      "[Parallel(n_jobs=4)]: Done 256 out of 299 | elapsed:   39.0s remaining:    6.5s\n",
      "[Parallel(n_jobs=4)]: Done 271 out of 299 | elapsed:   42.2s remaining:    4.4s\n",
      "[Parallel(n_jobs=4)]: Done 286 out of 299 | elapsed:   43.9s remaining:    2.0s\n",
      "[Parallel(n_jobs=4)]: Done 299 out of 299 | elapsed:   47.1s finished\n"
     ]
    }
   ],
   "source": [
    "Parallel(n_jobs=4, verbose=20)(delayed(process_file)(data) for data in all_data['file_scores']);"
   ]
  }
 ],
 "metadata": {
  "kernelspec": {
   "display_name": "Python 2",
   "language": "python",
   "name": "python2"
  },
  "language_info": {
   "codemirror_mode": {
    "name": "ipython",
    "version": 2
   },
   "file_extension": ".py",
   "mimetype": "text/x-python",
   "name": "python",
   "nbconvert_exporter": "python",
   "pygments_lexer": "ipython2",
   "version": "2.7.8"
  }
 },
 "nbformat": 4,
 "nbformat_minor": 0
}
